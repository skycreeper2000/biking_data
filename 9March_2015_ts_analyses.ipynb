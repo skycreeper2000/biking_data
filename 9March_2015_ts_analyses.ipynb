{
 "cells": [
  {
   "cell_type": "code",
   "execution_count": 2,
   "metadata": {
    "collapsed": false
   },
   "outputs": [
    {
     "name": "stdout",
     "output_type": "stream",
     "text": [
      "Installed watermark.py. To use it, type:\n",
      "  %load_ext watermark\n"
     ]
    }
   ],
   "source": [
    "%install_ext https://raw.githubusercontent.com/szeitlin/watermark/master/watermark.py"
   ]
  },
  {
   "cell_type": "code",
   "execution_count": 3,
   "metadata": {
    "collapsed": true
   },
   "outputs": [],
   "source": [
    "%load_ext watermark"
   ]
  },
  {
   "cell_type": "code",
   "execution_count": 5,
   "metadata": {
    "collapsed": false
   },
   "outputs": [
    {
     "name": "stdout",
     "output_type": "stream",
     "text": [
      "Samantha Zeitlin \n",
      "Last updated: 04/14/2015 \n",
      "\n",
      "ipython 3.1.0\n",
      "pandas 0.15.2\n",
      "seaborn 0.5.1\n",
      "pytz 2014.9\n",
      "matplotlib 1.4.3\n"
     ]
    }
   ],
   "source": [
    "%watermark -a \"Samantha Zeitlin\" -d -u -p ipython,pandas,seaborn,pytz,matplotlib"
   ]
  },
  {
   "cell_type": "code",
   "execution_count": 36,
   "metadata": {
    "collapsed": false
   },
   "outputs": [],
   "source": [
    "import pandas\n",
    "import matplotlib.pyplot as plt\n",
    "import matplotlib\n",
    "from matplotlib.dates import AutoDateFormatter as dateformatter\n",
    "import seaborn as sns\n",
    "import numpy as np\n",
    "import datetime\n",
    "\n",
    "%matplotlib inline"
   ]
  },
  {
   "cell_type": "code",
   "execution_count": 7,
   "metadata": {
    "collapsed": true
   },
   "outputs": [],
   "source": [
    "df = pandas.read_csv(\"2014_ts.csv\",index_col=0)"
   ]
  },
  {
   "cell_type": "code",
   "execution_count": 8,
   "metadata": {
    "collapsed": false
   },
   "outputs": [
    {
     "data": {
      "text/html": [
       "<div style=\"max-height:1000px;max-width:1500px;overflow:auto;\">\n",
       "<table border=\"1\" class=\"dataframe\">\n",
       "  <thead>\n",
       "    <tr style=\"text-align: right;\">\n",
       "      <th></th>\n",
       "      <th>posTime</th>\n",
       "      <th>Lat</th>\n",
       "      <th>Long</th>\n",
       "      <th>altTime</th>\n",
       "      <th>Altitude</th>\n",
       "      <th>DistanceMeters</th>\n",
       "      <th>weekday</th>\n",
       "    </tr>\n",
       "  </thead>\n",
       "  <tbody>\n",
       "    <tr>\n",
       "      <th>0</th>\n",
       "      <td> 2014-10-16 07:48:11-07:00</td>\n",
       "      <td> 37.3943</td>\n",
       "      <td>-122.0769</td>\n",
       "      <td> 2014-10-16 07:48:11-07:00</td>\n",
       "      <td> 19.3638</td>\n",
       "      <td> 4780.8071</td>\n",
       "      <td> 3</td>\n",
       "    </tr>\n",
       "    <tr>\n",
       "      <th>1</th>\n",
       "      <td> 2014-10-16 07:48:12-07:00</td>\n",
       "      <td> 37.3943</td>\n",
       "      <td>-122.0771</td>\n",
       "      <td> 2014-10-16 07:48:12-07:00</td>\n",
       "      <td> 19.3638</td>\n",
       "      <td> 4791.6362</td>\n",
       "      <td> 3</td>\n",
       "    </tr>\n",
       "    <tr>\n",
       "      <th>2</th>\n",
       "      <td> 2014-10-16 07:48:17-07:00</td>\n",
       "      <td> 37.3944</td>\n",
       "      <td>-122.0774</td>\n",
       "      <td> 2014-10-16 07:48:17-07:00</td>\n",
       "      <td> 19.8444</td>\n",
       "      <td> 4826.5288</td>\n",
       "      <td> 3</td>\n",
       "    </tr>\n",
       "    <tr>\n",
       "      <th>3</th>\n",
       "      <td> 2014-10-16 07:48:26-07:00</td>\n",
       "      <td> 37.3947</td>\n",
       "      <td>-122.0781</td>\n",
       "      <td> 2014-10-16 07:48:26-07:00</td>\n",
       "      <td> 19.8444</td>\n",
       "      <td> 4895.5474</td>\n",
       "      <td> 3</td>\n",
       "    </tr>\n",
       "    <tr>\n",
       "      <th>4</th>\n",
       "      <td> 2014-10-16 07:48:29-07:00</td>\n",
       "      <td> 37.3948</td>\n",
       "      <td>-122.0782</td>\n",
       "      <td> 2014-10-16 07:48:29-07:00</td>\n",
       "      <td> 19.8444</td>\n",
       "      <td> 4916.4795</td>\n",
       "      <td> 3</td>\n",
       "    </tr>\n",
       "  </tbody>\n",
       "</table>\n",
       "</div>"
      ],
      "text/plain": [
       "                     posTime      Lat      Long                    altTime  \\\n",
       "0  2014-10-16 07:48:11-07:00  37.3943 -122.0769  2014-10-16 07:48:11-07:00   \n",
       "1  2014-10-16 07:48:12-07:00  37.3943 -122.0771  2014-10-16 07:48:12-07:00   \n",
       "2  2014-10-16 07:48:17-07:00  37.3944 -122.0774  2014-10-16 07:48:17-07:00   \n",
       "3  2014-10-16 07:48:26-07:00  37.3947 -122.0781  2014-10-16 07:48:26-07:00   \n",
       "4  2014-10-16 07:48:29-07:00  37.3948 -122.0782  2014-10-16 07:48:29-07:00   \n",
       "\n",
       "   Altitude  DistanceMeters  weekday  \n",
       "0   19.3638       4780.8071        3  \n",
       "1   19.3638       4791.6362        3  \n",
       "2   19.8444       4826.5288        3  \n",
       "3   19.8444       4895.5474        3  \n",
       "4   19.8444       4916.4795        3  "
      ]
     },
     "execution_count": 8,
     "metadata": {},
     "output_type": "execute_result"
    }
   ],
   "source": [
    "df.head()"
   ]
  },
  {
   "cell_type": "code",
   "execution_count": 23,
   "metadata": {
    "collapsed": false
   },
   "outputs": [
    {
     "data": {
      "text/plain": [
       "(12287, 7)"
      ]
     },
     "execution_count": 23,
     "metadata": {},
     "output_type": "execute_result"
    }
   ],
   "source": [
    "df.shape"
   ]
  },
  {
   "cell_type": "code",
   "execution_count": 9,
   "metadata": {
    "collapsed": false
   },
   "outputs": [],
   "source": [
    "sorted_by_date = df.sort_index(by='posTime')\n",
    "sorted_by_date['posTime'] = sorted_by_date['posTime'].apply(pandas.to_datetime)"
   ]
  },
  {
   "cell_type": "code",
   "execution_count": 10,
   "metadata": {
    "collapsed": true
   },
   "outputs": [],
   "source": [
    "positioned = sorted_by_date.set_index('posTime')"
   ]
  },
  {
   "cell_type": "code",
   "execution_count": 53,
   "metadata": {
    "collapsed": false
   },
   "outputs": [],
   "source": [
    "type(positioned.index)\n",
    "positioned.index = positioned.index.to_pydatetime()"
   ]
  },
  {
   "cell_type": "code",
   "execution_count": 28,
   "metadata": {
    "collapsed": false
   },
   "outputs": [],
   "source": [
    "#to use googlemaps RoadsAPI and ElevationAPI, will want a list of snappedPoints, where each point has a location (tuple of lat and long)"
   ]
  },
  {
   "cell_type": "code",
   "execution_count": 11,
   "metadata": {
    "collapsed": false
   },
   "outputs": [
    {
     "data": {
      "text/html": [
       "<div style=\"max-height:1000px;max-width:1500px;overflow:auto;\">\n",
       "<table border=\"1\" class=\"dataframe\">\n",
       "  <thead>\n",
       "    <tr style=\"text-align: right;\">\n",
       "      <th></th>\n",
       "      <th>Lat</th>\n",
       "      <th>Long</th>\n",
       "      <th>altTime</th>\n",
       "      <th>Altitude</th>\n",
       "      <th>DistanceMeters</th>\n",
       "      <th>weekday</th>\n",
       "    </tr>\n",
       "    <tr>\n",
       "      <th>posTime</th>\n",
       "      <th></th>\n",
       "      <th></th>\n",
       "      <th></th>\n",
       "      <th></th>\n",
       "      <th></th>\n",
       "      <th></th>\n",
       "    </tr>\n",
       "  </thead>\n",
       "  <tbody>\n",
       "    <tr>\n",
       "      <th>2014-06-18 13:38:14</th>\n",
       "      <td> 37.7643</td>\n",
       "      <td>-122.4334</td>\n",
       "      <td> 2014-06-18 06:38:14-07:00</td>\n",
       "      <td> 40.5128</td>\n",
       "      <td>    0.0000</td>\n",
       "      <td> 2</td>\n",
       "    </tr>\n",
       "    <tr>\n",
       "      <th>2014-06-18 13:38:14</th>\n",
       "      <td> 37.7643</td>\n",
       "      <td>-122.4334</td>\n",
       "      <td> 2014-06-18 06:38:14-07:00</td>\n",
       "      <td> 40.5128</td>\n",
       "      <td>    0.0000</td>\n",
       "      <td> 2</td>\n",
       "    </tr>\n",
       "    <tr>\n",
       "      <th>2014-06-18 13:38:15</th>\n",
       "      <td> 37.7643</td>\n",
       "      <td>-122.4334</td>\n",
       "      <td> 2014-06-18 06:38:15-07:00</td>\n",
       "      <td> 39.5513</td>\n",
       "      <td>    0.0000</td>\n",
       "      <td> 2</td>\n",
       "    </tr>\n",
       "    <tr>\n",
       "      <th>2014-06-18 13:38:15</th>\n",
       "      <td> 37.7643</td>\n",
       "      <td>-122.4334</td>\n",
       "      <td> 2014-06-18 06:38:15-07:00</td>\n",
       "      <td> 39.5513</td>\n",
       "      <td>    0.0000</td>\n",
       "      <td> 2</td>\n",
       "    </tr>\n",
       "    <tr>\n",
       "      <th>2014-06-18 14:46:29</th>\n",
       "      <td> 37.3943</td>\n",
       "      <td>-122.0771</td>\n",
       "      <td> 2014-06-18 07:46:29-07:00</td>\n",
       "      <td> 21.7670</td>\n",
       "      <td> 4744.3589</td>\n",
       "      <td> 2</td>\n",
       "    </tr>\n",
       "  </tbody>\n",
       "</table>\n",
       "</div>"
      ],
      "text/plain": [
       "                         Lat      Long                    altTime  Altitude  \\\n",
       "posTime                                                                       \n",
       "2014-06-18 13:38:14  37.7643 -122.4334  2014-06-18 06:38:14-07:00   40.5128   \n",
       "2014-06-18 13:38:14  37.7643 -122.4334  2014-06-18 06:38:14-07:00   40.5128   \n",
       "2014-06-18 13:38:15  37.7643 -122.4334  2014-06-18 06:38:15-07:00   39.5513   \n",
       "2014-06-18 13:38:15  37.7643 -122.4334  2014-06-18 06:38:15-07:00   39.5513   \n",
       "2014-06-18 14:46:29  37.3943 -122.0771  2014-06-18 07:46:29-07:00   21.7670   \n",
       "\n",
       "                     DistanceMeters  weekday  \n",
       "posTime                                       \n",
       "2014-06-18 13:38:14          0.0000        2  \n",
       "2014-06-18 13:38:14          0.0000        2  \n",
       "2014-06-18 13:38:15          0.0000        2  \n",
       "2014-06-18 13:38:15          0.0000        2  \n",
       "2014-06-18 14:46:29       4744.3589        2  "
      ]
     },
     "execution_count": 11,
     "metadata": {},
     "output_type": "execute_result"
    }
   ],
   "source": [
    "positioned.head()"
   ]
  },
  {
   "cell_type": "code",
   "execution_count": 96,
   "metadata": {
    "collapsed": false
   },
   "outputs": [
    {
     "name": "stderr",
     "output_type": "stream",
     "text": [
      "/Users/szeitlin/anaconda/envs/DanekBike/lib/python3.4/site-packages/IPython/kernel/__main__.py:2: SettingWithCopyWarning: \n",
      "A value is trying to be set on a copy of a slice from a DataFrame.\n",
      "Try using .loc[row_indexer,col_indexer] = value instead\n",
      "\n",
      "See the the caveats in the documentation: http://pandas.pydata.org/pandas-docs/stable/indexing.html#indexing-view-versus-copy\n",
      "  from IPython.kernel.zmq import kernelapp as app\n",
      "/Users/szeitlin/anaconda/envs/DanekBike/lib/python3.4/site-packages/IPython/kernel/__main__.py:4: SettingWithCopyWarning: \n",
      "A value is trying to be set on a copy of a slice from a DataFrame.\n",
      "Try using .loc[row_indexer,col_indexer] = value instead\n",
      "\n",
      "See the the caveats in the documentation: http://pandas.pydata.org/pandas-docs/stable/indexing.html#indexing-view-versus-copy\n"
     ]
    }
   ],
   "source": [
    "altplot = positioned[['altTime', 'Altitude','DistanceMeters']]\n",
    "altplot['datetimes']=pandas.to_datetime(altplot.altTime)\n",
    "type(altplot.datetimes[0])\n",
    "altplot['dated']=altplot.datetimes.map(lambda t: t.strftime('%d-%m'))"
   ]
  },
  {
   "cell_type": "code",
   "execution_count": 75,
   "metadata": {
    "collapsed": false
   },
   "outputs": [
    {
     "data": {
      "text/plain": [
       "'18-06'"
      ]
     },
     "execution_count": 75,
     "metadata": {},
     "output_type": "execute_result"
    }
   ],
   "source": [
    "altplot.dated[0]"
   ]
  },
  {
   "cell_type": "code",
   "execution_count": 97,
   "metadata": {
    "collapsed": false
   },
   "outputs": [
    {
     "data": {
      "text/plain": [
       "[<matplotlib.lines.Line2D at 0x10c3787b8>]"
      ]
     },
     "execution_count": 97,
     "metadata": {},
     "output_type": "execute_result"
    },
    {
     "data": {
      "image/png": "[encoded data removed]",
      "text/plain": [
       "<matplotlib.figure.Figure at 0x10c6d0f98>"
      ]
     },
     "metadata": {},
     "output_type": "display_data"
    }
   ],
   "source": [
    "#probably want to split up dataframe into days and possibly legs\n",
    "#ax = sns.tsplot(altplot['Altitude'])\n",
    "\n",
    "#ticker = np.array(altplot['datetimes'])\n",
    "#altplot.index = ticker\n",
    "#sns.tsplot(altplot, \"dated\", \"Altitude\") #this still doesn't work \n",
    "\n",
    "#I think the axes have to be np.arrays for matplotlib to use them\n",
    "#test this theory with irrelevant ints\n",
    "#test_ticks = range(len(altplot['dated']))\n",
    "#ticker = np.array(test_ticks)\n",
    "\n",
    "ticker = np.array(altplot['datetimes'])\n",
    "plt.plot(ticker,altplot['Altitude'])\n",
    "\n",
    "\n"
   ]
  },
  {
   "cell_type": "code",
   "execution_count": 98,
   "metadata": {
    "collapsed": false
   },
   "outputs": [
    {
     "data": {
      "text/plain": [
       "[<matplotlib.lines.Line2D at 0x10ae98978>]"
      ]
     },
     "execution_count": 98,
     "metadata": {},
     "output_type": "execute_result"
    },
    {
     "data": {
      "image/png": "[encoded data removed]",
      "text/plain": [
       "<matplotlib.figure.Figure at 0x10c69e7b8>"
      ]
     },
     "metadata": {},
     "output_type": "display_data"
    }
   ],
   "source": [
    "plt.plot(ticker,altplot['DistanceMeters'])"
   ]
  },
  {
   "cell_type": "code",
   "execution_count": 115,
   "metadata": {
    "collapsed": false
   },
   "outputs": [],
   "source": [
    "df = df.sort_index(by='posTime')\n",
    "df['datetimes']=pandas.to_datetime(df.altTime)\n",
    "ticker = np.array(df['datetimes'])\n",
    "weekday_0 = df[df['weekday']==0]\n",
    "weekday_1 = df[df['weekday']==1]\n",
    "weekday_2 = df[df['weekday']==2]\n",
    "weekday_3 = df[df['weekday']==3]\n",
    "weekday_4 = df[df['weekday']==4]"
   ]
  },
  {
   "cell_type": "code",
   "execution_count": 116,
   "metadata": {
    "collapsed": false
   },
   "outputs": [
    {
     "data": {
      "text/plain": [
       "[<matplotlib.lines.Line2D at 0x10cdb55f8>]"
      ]
     },
     "execution_count": 116,
     "metadata": {},
     "output_type": "execute_result"
    },
    {
     "data": {
      "image/png": "[encoded data removed]",
      "text/plain": [
       "<matplotlib.figure.Figure at 0x10cc175f8>"
      ]
     },
     "metadata": {},
     "output_type": "display_data"
    }
   ],
   "source": [
    "plt.plot(weekday_0['datetimes'],weekday_0['Altitude'])"
   ]
  },
  {
   "cell_type": "code",
   "execution_count": 128,
   "metadata": {
    "collapsed": false
   },
   "outputs": [
    {
     "data": {
      "text/plain": [
       "(0, 18000)"
      ]
     },
     "execution_count": 128,
     "metadata": {},
     "output_type": "execute_result"
    },
    {
     "data": {
      "image/png": "[encoded data removed]",
      "text/plain": [
       "<matplotlib.figure.Figure at 0x10d8c6828>"
      ]
     },
     "metadata": {},
     "output_type": "display_data"
    }
   ],
   "source": [
    "plt.plot(weekday_1['datetimes'],weekday_1['DistanceMeters'])\n",
    "plt.ylim(0,18000)"
   ]
  },
  {
   "cell_type": "code",
   "execution_count": 129,
   "metadata": {
    "collapsed": false
   },
   "outputs": [
    {
     "data": {
      "text/plain": [
       "(0, 18000)"
      ]
     },
     "execution_count": 129,
     "metadata": {},
     "output_type": "execute_result"
    },
    {
     "data": {
      "image/png": "[encoded data removed]",
      "text/plain": [
       "<matplotlib.figure.Figure at 0x10d277dd8>"
      ]
     },
     "metadata": {},
     "output_type": "display_data"
    }
   ],
   "source": [
    "plt.plot(weekday_2['datetimes'],weekday_2['DistanceMeters'])\n",
    "plt.ylim(0,18000)"
   ]
  },
  {
   "cell_type": "code",
   "execution_count": 130,
   "metadata": {
    "collapsed": true
   },
   "outputs": [],
   "source": [
    "#looks like distances are more consistent than altitudes (don't know why altitudes are so noisy??)"
   ]
  },
  {
   "cell_type": "code",
   "execution_count": null,
   "metadata": {
    "collapsed": true
   },
   "outputs": [],
   "source": []
  }
 ],
 "metadata": {
  "kernelspec": {
   "display_name": "Python 3",
   "language": "python",
   "name": "python3"
  },
  "language_info": {
   "codemirror_mode": {
    "name": "ipython",
    "version": 3
   },
   "file_extension": ".py",
   "mimetype": "text/x-python",
   "name": "python",
   "nbconvert_exporter": "python",
   "pygments_lexer": "ipython3",
   "version": "3.4.3"
  }
 },
 "nbformat": 4,
 "nbformat_minor": 0
}
