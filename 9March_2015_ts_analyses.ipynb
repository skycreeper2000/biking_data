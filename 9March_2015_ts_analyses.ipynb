{
 "cells": [
  {
   "cell_type": "code",
   "execution_count": 1,
   "metadata": {
    "collapsed": false
   },
   "outputs": [
    {
     "name": "stdout",
     "output_type": "stream",
     "text": [
      "Installed watermark.py. To use it, type:\n",
      "  %load_ext watermark\n"
     ]
    }
   ],
   "source": [
    "%install_ext https://raw.githubusercontent.com/szeitlin/watermark/master/watermark.py"
   ]
  },
  {
   "cell_type": "code",
   "execution_count": 2,
   "metadata": {
    "collapsed": true
   },
   "outputs": [],
   "source": [
    "%load_ext watermark"
   ]
  },
  {
   "cell_type": "code",
   "execution_count": 3,
   "metadata": {
    "collapsed": false
   },
   "outputs": [
    {
     "name": "stdout",
     "output_type": "stream",
     "text": [
      "Samantha Zeitlin \n",
      "Last updated: 03/09/2015 \n",
      "\n",
      "ipython 3.0.0\n",
      "python 2.7.9\n",
      "pandas 0.15.2\n",
      "seaborn 0.5.1\n",
      "pytz 2014.9\n",
      "matplotlib 1.4.0\n"
     ]
    }
   ],
   "source": [
    "%watermark -a \"Samantha Zeitlin\" -d -u -p ipython,python,pandas,seaborn,pytz,matplotlib"
   ]
  },
  {
   "cell_type": "code",
   "execution_count": 4,
   "metadata": {
    "collapsed": true
   },
   "outputs": [],
   "source": [
    "import pandas\n",
    "import matplotlib.pyplot as plt\n",
    "import matplotlib\n",
    "import seaborn as sns\n",
    "import numpy as np\n",
    "\n",
    "%matplotlib inline"
   ]
  },
  {
   "cell_type": "code",
   "execution_count": 12,
   "metadata": {
    "collapsed": true
   },
   "outputs": [],
   "source": [
    "df = pandas.read_csv(\"2014_ts.csv\",index_col=0)"
   ]
  },
  {
   "cell_type": "code",
   "execution_count": 13,
   "metadata": {
    "collapsed": false
   },
   "outputs": [
    {
     "data": {
      "text/html": [
       "<div style=\"max-height:1000px;max-width:1500px;overflow:auto;\">\n",
       "<table border=\"1\" class=\"dataframe\">\n",
       "  <thead>\n",
       "    <tr style=\"text-align: right;\">\n",
       "      <th></th>\n",
       "      <th>posTime</th>\n",
       "      <th>Lat</th>\n",
       "      <th>Long</th>\n",
       "      <th>altTime</th>\n",
       "      <th>Altitude</th>\n",
       "      <th>DistanceMeters</th>\n",
       "      <th>weekday</th>\n",
       "    </tr>\n",
       "  </thead>\n",
       "  <tbody>\n",
       "    <tr>\n",
       "      <th>0</th>\n",
       "      <td> 2014-10-16 07:48:11-07:00</td>\n",
       "      <td> 37.3943</td>\n",
       "      <td>-122.0769</td>\n",
       "      <td> 2014-10-16 07:48:11-07:00</td>\n",
       "      <td> 19.3638</td>\n",
       "      <td> 4780.8071</td>\n",
       "      <td> 3</td>\n",
       "    </tr>\n",
       "    <tr>\n",
       "      <th>1</th>\n",
       "      <td> 2014-10-16 07:48:12-07:00</td>\n",
       "      <td> 37.3943</td>\n",
       "      <td>-122.0771</td>\n",
       "      <td> 2014-10-16 07:48:12-07:00</td>\n",
       "      <td> 19.3638</td>\n",
       "      <td> 4791.6362</td>\n",
       "      <td> 3</td>\n",
       "    </tr>\n",
       "    <tr>\n",
       "      <th>2</th>\n",
       "      <td> 2014-10-16 07:48:17-07:00</td>\n",
       "      <td> 37.3944</td>\n",
       "      <td>-122.0774</td>\n",
       "      <td> 2014-10-16 07:48:17-07:00</td>\n",
       "      <td> 19.8444</td>\n",
       "      <td> 4826.5288</td>\n",
       "      <td> 3</td>\n",
       "    </tr>\n",
       "    <tr>\n",
       "      <th>3</th>\n",
       "      <td> 2014-10-16 07:48:26-07:00</td>\n",
       "      <td> 37.3947</td>\n",
       "      <td>-122.0781</td>\n",
       "      <td> 2014-10-16 07:48:26-07:00</td>\n",
       "      <td> 19.8444</td>\n",
       "      <td> 4895.5474</td>\n",
       "      <td> 3</td>\n",
       "    </tr>\n",
       "    <tr>\n",
       "      <th>4</th>\n",
       "      <td> 2014-10-16 07:48:29-07:00</td>\n",
       "      <td> 37.3948</td>\n",
       "      <td>-122.0782</td>\n",
       "      <td> 2014-10-16 07:48:29-07:00</td>\n",
       "      <td> 19.8444</td>\n",
       "      <td> 4916.4795</td>\n",
       "      <td> 3</td>\n",
       "    </tr>\n",
       "  </tbody>\n",
       "</table>\n",
       "</div>"
      ],
      "text/plain": [
       "                     posTime      Lat      Long                    altTime  \\\n",
       "0  2014-10-16 07:48:11-07:00  37.3943 -122.0769  2014-10-16 07:48:11-07:00   \n",
       "1  2014-10-16 07:48:12-07:00  37.3943 -122.0771  2014-10-16 07:48:12-07:00   \n",
       "2  2014-10-16 07:48:17-07:00  37.3944 -122.0774  2014-10-16 07:48:17-07:00   \n",
       "3  2014-10-16 07:48:26-07:00  37.3947 -122.0781  2014-10-16 07:48:26-07:00   \n",
       "4  2014-10-16 07:48:29-07:00  37.3948 -122.0782  2014-10-16 07:48:29-07:00   \n",
       "\n",
       "   Altitude  DistanceMeters  weekday  \n",
       "0   19.3638       4780.8071        3  \n",
       "1   19.3638       4791.6362        3  \n",
       "2   19.8444       4826.5288        3  \n",
       "3   19.8444       4895.5474        3  \n",
       "4   19.8444       4916.4795        3  "
      ]
     },
     "execution_count": 13,
     "metadata": {},
     "output_type": "execute_result"
    }
   ],
   "source": [
    "df.head()"
   ]
  },
  {
   "cell_type": "code",
   "execution_count": 23,
   "metadata": {
    "collapsed": false
   },
   "outputs": [
    {
     "data": {
      "text/plain": [
       "(12287, 7)"
      ]
     },
     "execution_count": 23,
     "metadata": {},
     "output_type": "execute_result"
    }
   ],
   "source": [
    "df.shape"
   ]
  },
  {
   "cell_type": "code",
   "execution_count": 14,
   "metadata": {
    "collapsed": false
   },
   "outputs": [],
   "source": [
    "sorted_by_date = df.sort_index(by='posTime')\n",
    "sorted_by_date['posTime'] = sorted_by_date['posTime'].apply(pandas.to_datetime)"
   ]
  },
  {
   "cell_type": "code",
   "execution_count": 19,
   "metadata": {
    "collapsed": true
   },
   "outputs": [],
   "source": [
    "positioned = sorted_by_date.set_index('posTime')"
   ]
  },
  {
   "cell_type": "code",
   "execution_count": 28,
   "metadata": {
    "collapsed": false
   },
   "outputs": [],
   "source": [
    "#to use googlemaps RoadsAPI and ElevationAPI, will want a list of snappedPoints, where each point has a location (tuple of lat and long)"
   ]
  },
  {
   "cell_type": "code",
   "execution_count": 30,
   "metadata": {
    "collapsed": false
   },
   "outputs": [
    {
     "data": {
      "text/html": [
       "<div style=\"max-height:1000px;max-width:1500px;overflow:auto;\">\n",
       "<table border=\"1\" class=\"dataframe\">\n",
       "  <thead>\n",
       "    <tr style=\"text-align: right;\">\n",
       "      <th></th>\n",
       "      <th>Lat</th>\n",
       "      <th>Long</th>\n",
       "      <th>altTime</th>\n",
       "      <th>Altitude</th>\n",
       "      <th>DistanceMeters</th>\n",
       "      <th>weekday</th>\n",
       "    </tr>\n",
       "    <tr>\n",
       "      <th>posTime</th>\n",
       "      <th></th>\n",
       "      <th></th>\n",
       "      <th></th>\n",
       "      <th></th>\n",
       "      <th></th>\n",
       "      <th></th>\n",
       "    </tr>\n",
       "  </thead>\n",
       "  <tbody>\n",
       "    <tr>\n",
       "      <th>2014-06-18 13:38:14</th>\n",
       "      <td> 37.7643</td>\n",
       "      <td>-122.4334</td>\n",
       "      <td> 2014-06-18 06:38:14-07:00</td>\n",
       "      <td> 40.5128</td>\n",
       "      <td>    0.0000</td>\n",
       "      <td> 2</td>\n",
       "    </tr>\n",
       "    <tr>\n",
       "      <th>2014-06-18 13:38:14</th>\n",
       "      <td> 37.7643</td>\n",
       "      <td>-122.4334</td>\n",
       "      <td> 2014-06-18 06:38:14-07:00</td>\n",
       "      <td> 40.5128</td>\n",
       "      <td>    0.0000</td>\n",
       "      <td> 2</td>\n",
       "    </tr>\n",
       "    <tr>\n",
       "      <th>2014-06-18 13:38:15</th>\n",
       "      <td> 37.7643</td>\n",
       "      <td>-122.4334</td>\n",
       "      <td> 2014-06-18 06:38:15-07:00</td>\n",
       "      <td> 39.5513</td>\n",
       "      <td>    0.0000</td>\n",
       "      <td> 2</td>\n",
       "    </tr>\n",
       "    <tr>\n",
       "      <th>2014-06-18 13:38:15</th>\n",
       "      <td> 37.7643</td>\n",
       "      <td>-122.4334</td>\n",
       "      <td> 2014-06-18 06:38:15-07:00</td>\n",
       "      <td> 39.5513</td>\n",
       "      <td>    0.0000</td>\n",
       "      <td> 2</td>\n",
       "    </tr>\n",
       "    <tr>\n",
       "      <th>2014-06-18 14:46:29</th>\n",
       "      <td> 37.3943</td>\n",
       "      <td>-122.0771</td>\n",
       "      <td> 2014-06-18 07:46:29-07:00</td>\n",
       "      <td> 21.7670</td>\n",
       "      <td> 4744.3589</td>\n",
       "      <td> 2</td>\n",
       "    </tr>\n",
       "  </tbody>\n",
       "</table>\n",
       "</div>"
      ],
      "text/plain": [
       "                         Lat      Long                    altTime  Altitude  \\\n",
       "posTime                                                                       \n",
       "2014-06-18 13:38:14  37.7643 -122.4334  2014-06-18 06:38:14-07:00   40.5128   \n",
       "2014-06-18 13:38:14  37.7643 -122.4334  2014-06-18 06:38:14-07:00   40.5128   \n",
       "2014-06-18 13:38:15  37.7643 -122.4334  2014-06-18 06:38:15-07:00   39.5513   \n",
       "2014-06-18 13:38:15  37.7643 -122.4334  2014-06-18 06:38:15-07:00   39.5513   \n",
       "2014-06-18 14:46:29  37.3943 -122.0771  2014-06-18 07:46:29-07:00   21.7670   \n",
       "\n",
       "                     DistanceMeters  weekday  \n",
       "posTime                                       \n",
       "2014-06-18 13:38:14          0.0000        2  \n",
       "2014-06-18 13:38:14          0.0000        2  \n",
       "2014-06-18 13:38:15          0.0000        2  \n",
       "2014-06-18 13:38:15          0.0000        2  \n",
       "2014-06-18 14:46:29       4744.3589        2  "
      ]
     },
     "execution_count": 30,
     "metadata": {},
     "output_type": "execute_result"
    }
   ],
   "source": [
    "positioned.head()"
   ]
  },
  {
   "cell_type": "code",
   "execution_count": null,
   "metadata": {
    "collapsed": true
   },
   "outputs": [],
   "source": [
    "#probably want to split up dataframe into days and possibly legs\n"
   ]
  }
 ],
 "metadata": {
  "kernelspec": {
   "display_name": "Python 2",
   "language": "python",
   "name": "python2"
  },
  "language_info": {
   "codemirror_mode": {
    "name": "ipython",
    "version": 2
   },
   "file_extension": ".py",
   "mimetype": "text/x-python",
   "name": "python",
   "nbconvert_exporter": "python",
   "pygments_lexer": "ipython2",
   "version": "2.7.9"
  }
 },
 "nbformat": 4,
 "nbformat_minor": 0
}
