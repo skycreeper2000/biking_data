{
 "cells": [
  {
   "cell_type": "code",
   "execution_count": 3,
   "metadata": {
    "collapsed": false
   },
   "outputs": [],
   "source": [
    "import pandas\n",
    "import matplotlib.pyplot as plt\n",
    "import matplotlib\n",
    "import seaborn as sns\n",
    "import numpy as np\n",
    "#import pandasql\n",
    "sns.set_palette(\"deep\", desat=0.6)\n",
    "sns.set_context(rc={\"figure.figsize\": (8,4)})\n",
    "\n",
    "%matplotlib inline"
   ]
  },
  {
   "cell_type": "code",
   "execution_count": 4,
   "metadata": {
    "collapsed": false
   },
   "outputs": [],
   "source": [
    "days = pandas.read_csv(\"days_only.csv\", index_col=0)"
   ]
  },
  {
   "cell_type": "code",
   "execution_count": 5,
   "metadata": {
    "collapsed": false
   },
   "outputs": [
    {
     "data": {
      "text/html": [
       "<div style=\"max-height:1000px;max-width:1500px;overflow:auto;\">\n",
       "<table border=\"1\" class=\"dataframe\">\n",
       "  <thead>\n",
       "    <tr style=\"text-align: right;\">\n",
       "      <th></th>\n",
       "      <th>TotalTimeSeconds</th>\n",
       "      <th>DistanceMeters</th>\n",
       "      <th>MaximumSpeed</th>\n",
       "      <th>Calories</th>\n",
       "      <th>AverageSpeed</th>\n",
       "    </tr>\n",
       "  </thead>\n",
       "  <tbody>\n",
       "    <tr>\n",
       "      <th>2013-01-02</th>\n",
       "      <td> 1690.760</td>\n",
       "      <td> 14632.39</td>\n",
       "      <td> 12.050</td>\n",
       "      <td> 572.0</td>\n",
       "      <td> 8.650</td>\n",
       "    </tr>\n",
       "    <tr>\n",
       "      <th>2013-01-03</th>\n",
       "      <td> 1928.390</td>\n",
       "      <td> 15305.22</td>\n",
       "      <td> 12.340</td>\n",
       "      <td> 702.0</td>\n",
       "      <td> 7.940</td>\n",
       "    </tr>\n",
       "    <tr>\n",
       "      <th>2013-01-04</th>\n",
       "      <td> 1821.275</td>\n",
       "      <td> 14944.48</td>\n",
       "      <td> 11.855</td>\n",
       "      <td> 631.5</td>\n",
       "      <td> 8.245</td>\n",
       "    </tr>\n",
       "    <tr>\n",
       "      <th>2013-01-07</th>\n",
       "      <td> 1657.510</td>\n",
       "      <td> 14625.53</td>\n",
       "      <td> 12.020</td>\n",
       "      <td> 609.0</td>\n",
       "      <td> 8.820</td>\n",
       "    </tr>\n",
       "    <tr>\n",
       "      <th>2013-01-08</th>\n",
       "      <td> 1794.495</td>\n",
       "      <td> 14882.82</td>\n",
       "      <td> 12.120</td>\n",
       "      <td> 662.0</td>\n",
       "      <td> 8.295</td>\n",
       "    </tr>\n",
       "  </tbody>\n",
       "</table>\n",
       "</div>"
      ],
      "text/plain": [
       "            TotalTimeSeconds  DistanceMeters  MaximumSpeed  Calories  \\\n",
       "2013-01-02          1690.760        14632.39        12.050     572.0   \n",
       "2013-01-03          1928.390        15305.22        12.340     702.0   \n",
       "2013-01-04          1821.275        14944.48        11.855     631.5   \n",
       "2013-01-07          1657.510        14625.53        12.020     609.0   \n",
       "2013-01-08          1794.495        14882.82        12.120     662.0   \n",
       "\n",
       "            AverageSpeed  \n",
       "2013-01-02         8.650  \n",
       "2013-01-03         7.940  \n",
       "2013-01-04         8.245  \n",
       "2013-01-07         8.820  \n",
       "2013-01-08         8.295  "
      ]
     },
     "execution_count": 5,
     "metadata": {},
     "output_type": "execute_result"
    }
   ],
   "source": [
    "days.head()"
   ]
  },
  {
   "cell_type": "code",
   "execution_count": 6,
   "metadata": {
    "collapsed": false
   },
   "outputs": [],
   "source": [
    "#total per business day (some days had multiple trips)\n",
    "cleaner = days.dropna() #this drops a lot of rows since it's using 'any' NA by default \n",
    "somedays = cleaner.astype('int')\n",
    "#somedays = days.astype('int') #can't just do this straightaway, because NA can't be 'int'"
   ]
  },
  {
   "cell_type": "code",
   "execution_count": 17,
   "metadata": {
    "collapsed": false
   },
   "outputs": [
    {
     "data": {
      "text/html": [
       "<div style=\"max-height:1000px;max-width:1500px;overflow:auto;\">\n",
       "<table border=\"1\" class=\"dataframe\">\n",
       "  <thead>\n",
       "    <tr style=\"text-align: right;\">\n",
       "      <th></th>\n",
       "      <th>TotalTimeSeconds</th>\n",
       "      <th>DistanceMeters</th>\n",
       "      <th>MaximumSpeed</th>\n",
       "      <th>Calories</th>\n",
       "      <th>AverageSpeed</th>\n",
       "    </tr>\n",
       "  </thead>\n",
       "  <tbody>\n",
       "    <tr>\n",
       "      <th>count</th>\n",
       "      <td>  169.000000</td>\n",
       "      <td>   169.000000</td>\n",
       "      <td> 169.000000</td>\n",
       "      <td>  169.000000</td>\n",
       "      <td> 169.000000</td>\n",
       "    </tr>\n",
       "    <tr>\n",
       "      <th>mean</th>\n",
       "      <td> 1517.260355</td>\n",
       "      <td> 11569.023669</td>\n",
       "      <td>  11.325444</td>\n",
       "      <td>  482.473373</td>\n",
       "      <td>   7.053254</td>\n",
       "    </tr>\n",
       "    <tr>\n",
       "      <th>std</th>\n",
       "      <td>  759.822201</td>\n",
       "      <td>  4356.646169</td>\n",
       "      <td>   1.645883</td>\n",
       "      <td>  166.538429</td>\n",
       "      <td>   1.315025</td>\n",
       "    </tr>\n",
       "    <tr>\n",
       "      <th>min</th>\n",
       "      <td>  283.000000</td>\n",
       "      <td>  1114.000000</td>\n",
       "      <td>   4.000000</td>\n",
       "      <td>   84.000000</td>\n",
       "      <td>   1.000000</td>\n",
       "    </tr>\n",
       "    <tr>\n",
       "      <th>25%</th>\n",
       "      <td> 1186.000000</td>\n",
       "      <td>  9483.000000</td>\n",
       "      <td>  11.000000</td>\n",
       "      <td>  387.000000</td>\n",
       "      <td>   7.000000</td>\n",
       "    </tr>\n",
       "    <tr>\n",
       "      <th>50%</th>\n",
       "      <td> 1334.000000</td>\n",
       "      <td> 11142.000000</td>\n",
       "      <td>  11.000000</td>\n",
       "      <td>  452.000000</td>\n",
       "      <td>   7.000000</td>\n",
       "    </tr>\n",
       "    <tr>\n",
       "      <th>75%</th>\n",
       "      <td> 1785.000000</td>\n",
       "      <td> 14919.000000</td>\n",
       "      <td>  12.000000</td>\n",
       "      <td>  620.000000</td>\n",
       "      <td>   8.000000</td>\n",
       "    </tr>\n",
       "    <tr>\n",
       "      <th>max</th>\n",
       "      <td> 6862.000000</td>\n",
       "      <td> 29403.000000</td>\n",
       "      <td>  18.000000</td>\n",
       "      <td> 1061.000000</td>\n",
       "      <td>   9.000000</td>\n",
       "    </tr>\n",
       "  </tbody>\n",
       "</table>\n",
       "</div>"
      ],
      "text/plain": [
       "       TotalTimeSeconds  DistanceMeters  MaximumSpeed     Calories  \\\n",
       "count        169.000000      169.000000    169.000000   169.000000   \n",
       "mean        1517.260355    11569.023669     11.325444   482.473373   \n",
       "std          759.822201     4356.646169      1.645883   166.538429   \n",
       "min          283.000000     1114.000000      4.000000    84.000000   \n",
       "25%         1186.000000     9483.000000     11.000000   387.000000   \n",
       "50%         1334.000000    11142.000000     11.000000   452.000000   \n",
       "75%         1785.000000    14919.000000     12.000000   620.000000   \n",
       "max         6862.000000    29403.000000     18.000000  1061.000000   \n",
       "\n",
       "       AverageSpeed  \n",
       "count    169.000000  \n",
       "mean       7.053254  \n",
       "std        1.315025  \n",
       "min        1.000000  \n",
       "25%        7.000000  \n",
       "50%        7.000000  \n",
       "75%        8.000000  \n",
       "max        9.000000  "
      ]
     },
     "execution_count": 17,
     "metadata": {},
     "output_type": "execute_result"
    }
   ],
   "source": [
    "somedays.describe()"
   ]
  },
  {
   "cell_type": "code",
   "execution_count": 18,
   "metadata": {
    "collapsed": false
   },
   "outputs": [
    {
     "data": {
      "text/plain": [
       "81538"
      ]
     },
     "execution_count": 18,
     "metadata": {},
     "output_type": "execute_result"
    }
   ],
   "source": [
    "somedays.Calories.sum()"
   ]
  },
  {
   "cell_type": "code",
   "execution_count": 14,
   "metadata": {
    "collapsed": true
   },
   "outputs": [],
   "source": [
    "font = {'family': 'arial',\n",
    "        'weight': 'regular',\n",
    "        'size' : 22}\n",
    "matplotlib.rc('font', **font)"
   ]
  },
  {
   "cell_type": "code",
   "execution_count": 20,
   "metadata": {
    "collapsed": false
   },
   "outputs": [
    {
     "data": {
      "text/plain": [
       "(0, 1000)"
      ]
     },
     "execution_count": 20,
     "metadata": {},
     "output_type": "execute_result"
    },
    {
     "data": {
      "image/png": "[encoded data removed]",
      "text/plain": [
       "<matplotlib.figure.Figure at 0x109763390>"
      ]
     },
     "metadata": {},
     "output_type": "display_data"
    }
   ],
   "source": [
    "days['Calories'].hist() #pandas hist function seems happier than matplotlib's in this case (was giving an attribute error)\n",
    "plt.xlabel('Calories burned per day (binned)', fontsize = 30)\n",
    "plt.ylabel('Frequency', fontsize = 30)\n",
    "plt.xlim(0,1000)\n",
    "#matplotlib.rc('xtick', labelsize=20)\n",
    "#matplotlib.rc('ytick', labelsize=20)"
   ]
  },
  {
   "cell_type": "code",
   "execution_count": 14,
   "metadata": {
    "collapsed": false
   },
   "outputs": [
    {
     "data": {
      "image/png": "[encoded data removed]",
      "text/plain": [
       "<matplotlib.figure.Figure at 0x10b668810>"
      ]
     },
     "metadata": {},
     "output_type": "display_data"
    }
   ],
   "source": [
    "#still a little crowded, but ok for now\n",
    "plt.figure()\n",
    "\n",
    "    plt.rcParams['figure.figsize'] = 20, 8\n",
    "    somedays['Calories'].plot(kind='bar')\n",
    "    plt.xlabel('day')\n",
    "    plt.ylabel('Calories that day')"
   ]
  },
  {
   "cell_type": "code",
   "execution_count": 30,
   "metadata": {
    "collapsed": false
   },
   "outputs": [],
   "source": [
    "days2 = somedays.reset_index()\n",
    "\n",
    "q=\"\"\"SELECT *\n",
    "FROM days2\n",
    "ORDER BY RANDOM()\n",
    "LIMIT 100\"\"\"\n",
    "\n",
    "subset = pandasql.sqldf(q, locals())"
   ]
  },
  {
   "cell_type": "code",
   "execution_count": 31,
   "metadata": {
    "collapsed": false
   },
   "outputs": [
    {
     "data": {
      "text/html": [
       "<div style=\"max-height:1000px;max-width:1500px;overflow:auto;\">\n",
       "<table border=\"1\" class=\"dataframe\">\n",
       "  <thead>\n",
       "    <tr style=\"text-align: right;\">\n",
       "      <th></th>\n",
       "      <th>index</th>\n",
       "      <th>TotalTimeSeconds</th>\n",
       "      <th>DistanceMeters</th>\n",
       "      <th>MaximumSpeed</th>\n",
       "      <th>Calories</th>\n",
       "      <th>AverageSpeed</th>\n",
       "    </tr>\n",
       "  </thead>\n",
       "  <tbody>\n",
       "    <tr>\n",
       "      <th>0</th>\n",
       "      <td> 2013-07-25</td>\n",
       "      <td> 1304</td>\n",
       "      <td> 11167</td>\n",
       "      <td> 12</td>\n",
       "      <td> 482</td>\n",
       "      <td> 8</td>\n",
       "    </tr>\n",
       "    <tr>\n",
       "      <th>1</th>\n",
       "      <td> 2013-03-13</td>\n",
       "      <td> 1904</td>\n",
       "      <td> 15269</td>\n",
       "      <td> 12</td>\n",
       "      <td> 738</td>\n",
       "      <td> 8</td>\n",
       "    </tr>\n",
       "    <tr>\n",
       "      <th>2</th>\n",
       "      <td> 2013-11-26</td>\n",
       "      <td> 1132</td>\n",
       "      <td>  9691</td>\n",
       "      <td> 13</td>\n",
       "      <td> 467</td>\n",
       "      <td> 8</td>\n",
       "    </tr>\n",
       "    <tr>\n",
       "      <th>3</th>\n",
       "      <td> 2013-12-18</td>\n",
       "      <td> 1007</td>\n",
       "      <td>  8059</td>\n",
       "      <td> 12</td>\n",
       "      <td> 328</td>\n",
       "      <td> 7</td>\n",
       "    </tr>\n",
       "    <tr>\n",
       "      <th>4</th>\n",
       "      <td> 2013-04-03</td>\n",
       "      <td> 1741</td>\n",
       "      <td> 14917</td>\n",
       "      <td> 18</td>\n",
       "      <td> 645</td>\n",
       "      <td> 8</td>\n",
       "    </tr>\n",
       "  </tbody>\n",
       "</table>\n",
       "</div>"
      ],
      "text/plain": [
       "        index  TotalTimeSeconds  DistanceMeters  MaximumSpeed  Calories  \\\n",
       "0  2013-07-25              1304           11167            12       482   \n",
       "1  2013-03-13              1904           15269            12       738   \n",
       "2  2013-11-26              1132            9691            13       467   \n",
       "3  2013-12-18              1007            8059            12       328   \n",
       "4  2013-04-03              1741           14917            18       645   \n",
       "\n",
       "   AverageSpeed  \n",
       "0             8  \n",
       "1             8  \n",
       "2             8  \n",
       "3             7  \n",
       "4             8  "
      ]
     },
     "execution_count": 31,
     "metadata": {},
     "output_type": "execute_result"
    }
   ],
   "source": [
    "subset.head() #omg it loses the index if you don't make it back into a column again "
   ]
  },
  {
   "cell_type": "code",
   "execution_count": 32,
   "metadata": {
    "collapsed": false
   },
   "outputs": [
    {
     "data": {
      "text/html": [
       "<div style=\"max-height:1000px;max-width:1500px;overflow:auto;\">\n",
       "<table border=\"1\" class=\"dataframe\">\n",
       "  <thead>\n",
       "    <tr style=\"text-align: right;\">\n",
       "      <th></th>\n",
       "      <th>TotalTimeSeconds</th>\n",
       "      <th>DistanceMeters</th>\n",
       "      <th>MaximumSpeed</th>\n",
       "      <th>Calories</th>\n",
       "      <th>AverageSpeed</th>\n",
       "    </tr>\n",
       "    <tr>\n",
       "      <th>index</th>\n",
       "      <th></th>\n",
       "      <th></th>\n",
       "      <th></th>\n",
       "      <th></th>\n",
       "      <th></th>\n",
       "    </tr>\n",
       "  </thead>\n",
       "  <tbody>\n",
       "    <tr>\n",
       "      <th>2013-07-25</th>\n",
       "      <td> 1304</td>\n",
       "      <td> 11167</td>\n",
       "      <td> 12</td>\n",
       "      <td> 482</td>\n",
       "      <td> 8</td>\n",
       "    </tr>\n",
       "    <tr>\n",
       "      <th>2013-03-13</th>\n",
       "      <td> 1904</td>\n",
       "      <td> 15269</td>\n",
       "      <td> 12</td>\n",
       "      <td> 738</td>\n",
       "      <td> 8</td>\n",
       "    </tr>\n",
       "    <tr>\n",
       "      <th>2013-11-26</th>\n",
       "      <td> 1132</td>\n",
       "      <td>  9691</td>\n",
       "      <td> 13</td>\n",
       "      <td> 467</td>\n",
       "      <td> 8</td>\n",
       "    </tr>\n",
       "    <tr>\n",
       "      <th>2013-12-18</th>\n",
       "      <td> 1007</td>\n",
       "      <td>  8059</td>\n",
       "      <td> 12</td>\n",
       "      <td> 328</td>\n",
       "      <td> 7</td>\n",
       "    </tr>\n",
       "    <tr>\n",
       "      <th>2013-04-03</th>\n",
       "      <td> 1741</td>\n",
       "      <td> 14917</td>\n",
       "      <td> 18</td>\n",
       "      <td> 645</td>\n",
       "      <td> 8</td>\n",
       "    </tr>\n",
       "  </tbody>\n",
       "</table>\n",
       "</div>"
      ],
      "text/plain": [
       "            TotalTimeSeconds  DistanceMeters  MaximumSpeed  Calories  \\\n",
       "index                                                                  \n",
       "2013-07-25              1304           11167            12       482   \n",
       "2013-03-13              1904           15269            12       738   \n",
       "2013-11-26              1132            9691            13       467   \n",
       "2013-12-18              1007            8059            12       328   \n",
       "2013-04-03              1741           14917            18       645   \n",
       "\n",
       "            AverageSpeed  \n",
       "index                     \n",
       "2013-07-25             8  \n",
       "2013-03-13             8  \n",
       "2013-11-26             8  \n",
       "2013-12-18             7  \n",
       "2013-04-03             8  "
      ]
     },
     "execution_count": 32,
     "metadata": {},
     "output_type": "execute_result"
    }
   ],
   "source": [
    "#need to reset the date as the index\n",
    "date_subset = subset.set_index(['index'])\n",
    "date_subset.head()"
   ]
  },
  {
   "cell_type": "code",
   "execution_count": 36,
   "metadata": {
    "collapsed": false
   },
   "outputs": [
    {
     "data": {
      "text/plain": [
       "<matplotlib.text.Text at 0x10f7c7290>"
      ]
     },
     "execution_count": 36,
     "metadata": {},
     "output_type": "execute_result"
    },
    {
     "data": {
      "image/png": "[encoded data removed]",
      "text/plain": [
       "<matplotlib.figure.Figure at 0x10f81f110>"
      ]
     },
     "metadata": {},
     "output_type": "display_data"
    }
   ],
   "source": [
    "plt.figure()\n",
    "plt.rcParams['figure.figsize'] = 18, 8\n",
    "date_subset['Calories'].plot(kind='bar')\n",
    "plt.xlabel('day')\n",
    "plt.ylabel('Calories that day')"
   ]
  },
  {
   "cell_type": "code",
   "execution_count": null,
   "metadata": {
    "collapsed": false
   },
   "outputs": [],
   "source": []
  }
 ],
 "metadata": {
  "kernelspec": {
   "display_name": "Python 2",
   "language": "python",
   "name": "python2"
  },
  "language_info": {
   "codemirror_mode": {
    "name": "ipython",
    "version": 2
   },
   "file_extension": ".py",
   "mimetype": "text/x-python",
   "name": "python",
   "nbconvert_exporter": "python",
   "pygments_lexer": "ipython2",
   "version": "2.7.9"
  }
 },
 "nbformat": 4,
 "nbformat_minor": 0
}
