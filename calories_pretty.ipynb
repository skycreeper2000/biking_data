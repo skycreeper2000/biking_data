{
 "metadata": {
  "name": "",
  "signature": "sha256:299bc5e5233103a1827537990bbdd57c3f7b17272c49e0e74b8ece64ffa97283"
 },
 "nbformat": 3,
 "nbformat_minor": 0,
 "worksheets": [
  {
   "cells": [
    {
     "cell_type": "code",
     "collapsed": false,
     "input": [
      "import pandas\n",
      "import matplotlib.pyplot as plt\n",
      "import matplotlib\n",
      "import seaborn as sns\n",
      "import numpy as np\n",
      "import pandasql\n",
      "sns.set_palette(\"deep\", desat=0.6)\n",
      "sns.set_context(rc={\"figure.figsize\": (8,4)})\n",
      "\n",
      "%matplotlib inline"
     ],
     "language": "python",
     "metadata": {},
     "outputs": [],
     "prompt_number": 18
    },
    {
     "cell_type": "code",
     "collapsed": false,
     "input": [
      "days = pandas.read_csv(\"days_only.csv\", index_col=0)"
     ],
     "language": "python",
     "metadata": {},
     "outputs": [],
     "prompt_number": 2
    },
    {
     "cell_type": "code",
     "collapsed": false,
     "input": [
      "days.head()"
     ],
     "language": "python",
     "metadata": {},
     "outputs": [
      {
       "html": [
        "<div style=\"max-height:1000px;max-width:1500px;overflow:auto;\">\n",
        "<table border=\"1\" class=\"dataframe\">\n",
        "  <thead>\n",
        "    <tr style=\"text-align: right;\">\n",
        "      <th></th>\n",
        "      <th>TotalTimeSeconds</th>\n",
        "      <th>DistanceMeters</th>\n",
        "      <th>MaximumSpeed</th>\n",
        "      <th>Calories</th>\n",
        "      <th>AverageSpeed</th>\n",
        "    </tr>\n",
        "  </thead>\n",
        "  <tbody>\n",
        "    <tr>\n",
        "      <th>2013-01-02</th>\n",
        "      <td> 1690.760</td>\n",
        "      <td> 14632.39</td>\n",
        "      <td> 12.050</td>\n",
        "      <td> 572.0</td>\n",
        "      <td> 8.650</td>\n",
        "    </tr>\n",
        "    <tr>\n",
        "      <th>2013-01-03</th>\n",
        "      <td> 1928.390</td>\n",
        "      <td> 15305.22</td>\n",
        "      <td> 12.340</td>\n",
        "      <td> 702.0</td>\n",
        "      <td> 7.940</td>\n",
        "    </tr>\n",
        "    <tr>\n",
        "      <th>2013-01-04</th>\n",
        "      <td> 1821.275</td>\n",
        "      <td> 14944.48</td>\n",
        "      <td> 11.855</td>\n",
        "      <td> 631.5</td>\n",
        "      <td> 8.245</td>\n",
        "    </tr>\n",
        "    <tr>\n",
        "      <th>2013-01-07</th>\n",
        "      <td> 1657.510</td>\n",
        "      <td> 14625.53</td>\n",
        "      <td> 12.020</td>\n",
        "      <td> 609.0</td>\n",
        "      <td> 8.820</td>\n",
        "    </tr>\n",
        "    <tr>\n",
        "      <th>2013-01-08</th>\n",
        "      <td> 1794.495</td>\n",
        "      <td> 14882.82</td>\n",
        "      <td> 12.120</td>\n",
        "      <td> 662.0</td>\n",
        "      <td> 8.295</td>\n",
        "    </tr>\n",
        "  </tbody>\n",
        "</table>\n",
        "</div>"
       ],
       "metadata": {},
       "output_type": "pyout",
       "prompt_number": 3,
       "text": [
        "            TotalTimeSeconds  DistanceMeters  MaximumSpeed  Calories  \\\n",
        "2013-01-02          1690.760        14632.39        12.050     572.0   \n",
        "2013-01-03          1928.390        15305.22        12.340     702.0   \n",
        "2013-01-04          1821.275        14944.48        11.855     631.5   \n",
        "2013-01-07          1657.510        14625.53        12.020     609.0   \n",
        "2013-01-08          1794.495        14882.82        12.120     662.0   \n",
        "\n",
        "            AverageSpeed  \n",
        "2013-01-02         8.650  \n",
        "2013-01-03         7.940  \n",
        "2013-01-04         8.245  \n",
        "2013-01-07         8.820  \n",
        "2013-01-08         8.295  "
       ]
      }
     ],
     "prompt_number": 3
    },
    {
     "cell_type": "code",
     "collapsed": false,
     "input": [
      "#total per business day (some days had multiple trips)\n",
      "cleaner = days.dropna() #this drops a lot of rows since it's using 'any' NA by default \n",
      "somedays = cleaner.astype('int')\n",
      "#somedays = days.astype('int') #can't just do this straightaway, because NA can't be 'int'"
     ],
     "language": "python",
     "metadata": {},
     "outputs": [],
     "prompt_number": 8
    },
    {
     "cell_type": "code",
     "collapsed": false,
     "input": [
      "days['Calories'].hist() #pandas hist function seems happier than matplotlib's in this case (was giving an attribute error)\n",
      "plt.xlabel('Calories burned per day (binned)')\n",
      "plt.ylabel('Frequency')"
     ],
     "language": "python",
     "metadata": {},
     "outputs": [
      {
       "metadata": {},
       "output_type": "pyout",
       "prompt_number": 10,
       "text": [
        "<matplotlib.text.Text at 0x109dcd750>"
       ]
      },
      {
       "metadata": {},
       "output_type": "display_data",
       "png": "[encoded data removed]",
       "text": [
        "<matplotlib.figure.Figure at 0x109e222d0>"
       ]
      }
     ],
     "prompt_number": 10
    },
    {
     "cell_type": "code",
     "collapsed": false,
     "input": [
      "#still a little crowded, but ok for now\n",
      "plt.figure()\n",
      "\n",
      "    plt.rcParams['figure.figsize'] = 20, 8\n",
      "    somedays['Calories'].plot(kind='bar')\n",
      "    plt.xlabel('day')\n",
      "    plt.ylabel('Calories that day')"
     ],
     "language": "python",
     "metadata": {},
     "outputs": [
      {
       "metadata": {},
       "output_type": "display_data",
       "png": "[encoded data removed]",
       "text": [
        "<matplotlib.figure.Figure at 0x10b668810>"
       ]
      }
     ],
     "prompt_number": 14
    },
    {
     "cell_type": "code",
     "collapsed": false,
     "input": [
      "days2 = somedays.reset_index()\n",
      "\n",
      "q=\"\"\"SELECT *\n",
      "FROM days2\n",
      "ORDER BY RANDOM()\n",
      "LIMIT 100\"\"\"\n",
      "\n",
      "subset = pandasql.sqldf(q, locals())"
     ],
     "language": "python",
     "metadata": {},
     "outputs": [],
     "prompt_number": 30
    },
    {
     "cell_type": "code",
     "collapsed": false,
     "input": [
      "subset.head() #omg it loses the index if you don't make it back into a column again "
     ],
     "language": "python",
     "metadata": {},
     "outputs": [
      {
       "html": [
        "<div style=\"max-height:1000px;max-width:1500px;overflow:auto;\">\n",
        "<table border=\"1\" class=\"dataframe\">\n",
        "  <thead>\n",
        "    <tr style=\"text-align: right;\">\n",
        "      <th></th>\n",
        "      <th>index</th>\n",
        "      <th>TotalTimeSeconds</th>\n",
        "      <th>DistanceMeters</th>\n",
        "      <th>MaximumSpeed</th>\n",
        "      <th>Calories</th>\n",
        "      <th>AverageSpeed</th>\n",
        "    </tr>\n",
        "  </thead>\n",
        "  <tbody>\n",
        "    <tr>\n",
        "      <th>0</th>\n",
        "      <td> 2013-07-25</td>\n",
        "      <td> 1304</td>\n",
        "      <td> 11167</td>\n",
        "      <td> 12</td>\n",
        "      <td> 482</td>\n",
        "      <td> 8</td>\n",
        "    </tr>\n",
        "    <tr>\n",
        "      <th>1</th>\n",
        "      <td> 2013-03-13</td>\n",
        "      <td> 1904</td>\n",
        "      <td> 15269</td>\n",
        "      <td> 12</td>\n",
        "      <td> 738</td>\n",
        "      <td> 8</td>\n",
        "    </tr>\n",
        "    <tr>\n",
        "      <th>2</th>\n",
        "      <td> 2013-11-26</td>\n",
        "      <td> 1132</td>\n",
        "      <td>  9691</td>\n",
        "      <td> 13</td>\n",
        "      <td> 467</td>\n",
        "      <td> 8</td>\n",
        "    </tr>\n",
        "    <tr>\n",
        "      <th>3</th>\n",
        "      <td> 2013-12-18</td>\n",
        "      <td> 1007</td>\n",
        "      <td>  8059</td>\n",
        "      <td> 12</td>\n",
        "      <td> 328</td>\n",
        "      <td> 7</td>\n",
        "    </tr>\n",
        "    <tr>\n",
        "      <th>4</th>\n",
        "      <td> 2013-04-03</td>\n",
        "      <td> 1741</td>\n",
        "      <td> 14917</td>\n",
        "      <td> 18</td>\n",
        "      <td> 645</td>\n",
        "      <td> 8</td>\n",
        "    </tr>\n",
        "  </tbody>\n",
        "</table>\n",
        "</div>"
       ],
       "metadata": {},
       "output_type": "pyout",
       "prompt_number": 31,
       "text": [
        "        index  TotalTimeSeconds  DistanceMeters  MaximumSpeed  Calories  \\\n",
        "0  2013-07-25              1304           11167            12       482   \n",
        "1  2013-03-13              1904           15269            12       738   \n",
        "2  2013-11-26              1132            9691            13       467   \n",
        "3  2013-12-18              1007            8059            12       328   \n",
        "4  2013-04-03              1741           14917            18       645   \n",
        "\n",
        "   AverageSpeed  \n",
        "0             8  \n",
        "1             8  \n",
        "2             8  \n",
        "3             7  \n",
        "4             8  "
       ]
      }
     ],
     "prompt_number": 31
    },
    {
     "cell_type": "code",
     "collapsed": false,
     "input": [
      "#need to reset the date as the index\n",
      "date_subset = subset.set_index(['index'])\n",
      "date_subset.head()"
     ],
     "language": "python",
     "metadata": {},
     "outputs": [
      {
       "html": [
        "<div style=\"max-height:1000px;max-width:1500px;overflow:auto;\">\n",
        "<table border=\"1\" class=\"dataframe\">\n",
        "  <thead>\n",
        "    <tr style=\"text-align: right;\">\n",
        "      <th></th>\n",
        "      <th>TotalTimeSeconds</th>\n",
        "      <th>DistanceMeters</th>\n",
        "      <th>MaximumSpeed</th>\n",
        "      <th>Calories</th>\n",
        "      <th>AverageSpeed</th>\n",
        "    </tr>\n",
        "    <tr>\n",
        "      <th>index</th>\n",
        "      <th></th>\n",
        "      <th></th>\n",
        "      <th></th>\n",
        "      <th></th>\n",
        "      <th></th>\n",
        "    </tr>\n",
        "  </thead>\n",
        "  <tbody>\n",
        "    <tr>\n",
        "      <th>2013-07-25</th>\n",
        "      <td> 1304</td>\n",
        "      <td> 11167</td>\n",
        "      <td> 12</td>\n",
        "      <td> 482</td>\n",
        "      <td> 8</td>\n",
        "    </tr>\n",
        "    <tr>\n",
        "      <th>2013-03-13</th>\n",
        "      <td> 1904</td>\n",
        "      <td> 15269</td>\n",
        "      <td> 12</td>\n",
        "      <td> 738</td>\n",
        "      <td> 8</td>\n",
        "    </tr>\n",
        "    <tr>\n",
        "      <th>2013-11-26</th>\n",
        "      <td> 1132</td>\n",
        "      <td>  9691</td>\n",
        "      <td> 13</td>\n",
        "      <td> 467</td>\n",
        "      <td> 8</td>\n",
        "    </tr>\n",
        "    <tr>\n",
        "      <th>2013-12-18</th>\n",
        "      <td> 1007</td>\n",
        "      <td>  8059</td>\n",
        "      <td> 12</td>\n",
        "      <td> 328</td>\n",
        "      <td> 7</td>\n",
        "    </tr>\n",
        "    <tr>\n",
        "      <th>2013-04-03</th>\n",
        "      <td> 1741</td>\n",
        "      <td> 14917</td>\n",
        "      <td> 18</td>\n",
        "      <td> 645</td>\n",
        "      <td> 8</td>\n",
        "    </tr>\n",
        "  </tbody>\n",
        "</table>\n",
        "</div>"
       ],
       "metadata": {},
       "output_type": "pyout",
       "prompt_number": 32,
       "text": [
        "            TotalTimeSeconds  DistanceMeters  MaximumSpeed  Calories  \\\n",
        "index                                                                  \n",
        "2013-07-25              1304           11167            12       482   \n",
        "2013-03-13              1904           15269            12       738   \n",
        "2013-11-26              1132            9691            13       467   \n",
        "2013-12-18              1007            8059            12       328   \n",
        "2013-04-03              1741           14917            18       645   \n",
        "\n",
        "            AverageSpeed  \n",
        "index                     \n",
        "2013-07-25             8  \n",
        "2013-03-13             8  \n",
        "2013-11-26             8  \n",
        "2013-12-18             7  \n",
        "2013-04-03             8  "
       ]
      }
     ],
     "prompt_number": 32
    },
    {
     "cell_type": "code",
     "collapsed": false,
     "input": [
      "plt.figure()\n",
      "plt.rcParams['figure.figsize'] = 18, 8\n",
      "date_subset['Calories'].plot(kind='bar')\n",
      "plt.xlabel('day')\n",
      "plt.ylabel('Calories that day')"
     ],
     "language": "python",
     "metadata": {},
     "outputs": [
      {
       "metadata": {},
       "output_type": "pyout",
       "prompt_number": 36,
       "text": [
        "<matplotlib.text.Text at 0x10f7c7290>"
       ]
      },
      {
       "metadata": {},
       "output_type": "display_data",
       "png": "[encoded data removed]",
       "text": [
        "<matplotlib.figure.Figure at 0x10f81f110>"
       ]
      }
     ],
     "prompt_number": 36
    },
    {
     "cell_type": "code",
     "collapsed": false,
     "input": [],
     "language": "python",
     "metadata": {},
     "outputs": []
    }
   ],
   "metadata": {}
  }
 ]
}