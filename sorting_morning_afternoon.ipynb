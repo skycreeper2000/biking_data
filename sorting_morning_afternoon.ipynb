{
 "metadata": {
  "name": "",
  "signature": "sha256:1b80286881a5d042bd5ee9df000907ac0188081842297611be7d918c30d9f63b"
 },
 "nbformat": 3,
 "nbformat_minor": 0,
 "worksheets": [
  {
   "cells": [
    {
     "cell_type": "code",
     "collapsed": false,
     "input": [
      "import numpy as np\n",
      "import pandas\n",
      "from datetime import datetime, date, time\n",
      "from dateutil.parser import parse\n",
      "import pytz\n",
      "from delta_range import delta_range\n",
      "from hour_lookup import centering, dict_grower, hour_lookup"
     ],
     "language": "python",
     "metadata": {},
     "outputs": [],
     "prompt_number": 44
    },
    {
     "cell_type": "code",
     "collapsed": false,
     "input": [
      "df = pandas.read_csv(\"sorted_by_date.csv\", index_col=0)"
     ],
     "language": "python",
     "metadata": {},
     "outputs": [],
     "prompt_number": 27
    },
    {
     "cell_type": "code",
     "collapsed": false,
     "input": [
      "df.head()"
     ],
     "language": "python",
     "metadata": {},
     "outputs": [
      {
       "html": [
        "<div style=\"max-height:1000px;max-width:1500px;overflow:auto;\">\n",
        "<table border=\"1\" class=\"dataframe\">\n",
        "  <thead>\n",
        "    <tr style=\"text-align: right;\">\n",
        "      <th></th>\n",
        "      <th>StartTime</th>\n",
        "      <th>TotalTimeSeconds</th>\n",
        "      <th>DistanceMeters</th>\n",
        "      <th>MaximumSpeed</th>\n",
        "      <th>Calories</th>\n",
        "      <th>AverageSpeed</th>\n",
        "    </tr>\n",
        "  </thead>\n",
        "  <tbody>\n",
        "    <tr>\n",
        "      <th>161</th>\n",
        "      <td> 2013-01-02T15:51:51Z</td>\n",
        "      <td> 1690.76</td>\n",
        "      <td> 14632.39</td>\n",
        "      <td> 12.05</td>\n",
        "      <td> 572</td>\n",
        "      <td> 8.65</td>\n",
        "    </tr>\n",
        "    <tr>\n",
        "      <th>51 </th>\n",
        "      <td> 2013-01-03T00:20:26Z</td>\n",
        "      <td> 1928.39</td>\n",
        "      <td> 15305.22</td>\n",
        "      <td> 12.34</td>\n",
        "      <td> 702</td>\n",
        "      <td> 7.94</td>\n",
        "    </tr>\n",
        "    <tr>\n",
        "      <th>375</th>\n",
        "      <td> 2013-01-04T15:46:52Z</td>\n",
        "      <td> 1680.40</td>\n",
        "      <td> 14651.60</td>\n",
        "      <td> 12.28</td>\n",
        "      <td> 572</td>\n",
        "      <td> 8.72</td>\n",
        "    </tr>\n",
        "    <tr>\n",
        "      <th>330</th>\n",
        "      <td> 2013-01-04T23:59:27Z</td>\n",
        "      <td> 1962.15</td>\n",
        "      <td> 15237.36</td>\n",
        "      <td> 11.43</td>\n",
        "      <td> 691</td>\n",
        "      <td> 7.77</td>\n",
        "    </tr>\n",
        "    <tr>\n",
        "      <th>191</th>\n",
        "      <td> 2013-01-07T15:56:14Z</td>\n",
        "      <td> 1657.51</td>\n",
        "      <td> 14625.53</td>\n",
        "      <td> 12.02</td>\n",
        "      <td> 609</td>\n",
        "      <td> 8.82</td>\n",
        "    </tr>\n",
        "  </tbody>\n",
        "</table>\n",
        "</div>"
       ],
       "metadata": {},
       "output_type": "pyout",
       "prompt_number": 3,
       "text": [
        "                StartTime  TotalTimeSeconds  DistanceMeters  MaximumSpeed  \\\n",
        "161  2013-01-02T15:51:51Z           1690.76        14632.39         12.05   \n",
        "51   2013-01-03T00:20:26Z           1928.39        15305.22         12.34   \n",
        "375  2013-01-04T15:46:52Z           1680.40        14651.60         12.28   \n",
        "330  2013-01-04T23:59:27Z           1962.15        15237.36         11.43   \n",
        "191  2013-01-07T15:56:14Z           1657.51        14625.53         12.02   \n",
        "\n",
        "     Calories  AverageSpeed  \n",
        "161       572          8.65  \n",
        "51        702          7.94  \n",
        "375       572          8.72  \n",
        "330       691          7.77  \n",
        "191       609          8.82  "
       ]
      }
     ],
     "prompt_number": 3
    },
    {
     "cell_type": "code",
     "collapsed": false,
     "input": [
      "df.shape"
     ],
     "language": "python",
     "metadata": {},
     "outputs": [
      {
       "metadata": {},
       "output_type": "pyout",
       "prompt_number": 4,
       "text": [
        "(414, 6)"
       ]
      }
     ],
     "prompt_number": 4
    },
    {
     "cell_type": "code",
     "collapsed": false,
     "input": [
      "type(df['StartTime'][0])"
     ],
     "language": "python",
     "metadata": {},
     "outputs": [
      {
       "metadata": {},
       "output_type": "pyout",
       "prompt_number": 5,
       "text": [
        "str"
       ]
      }
     ],
     "prompt_number": 5
    },
    {
     "cell_type": "code",
     "collapsed": false,
     "input": [
      "#ideas: could just take times, ignore days (not sure how many will be identical, probably not many)\n",
      "#could convert times back & use a bag-of-words approach to count occurrences(for that could maybe do hours +/-1)\n",
      "df['parsed']=[parse(x) for x in df['StartTime']]"
     ],
     "language": "python",
     "metadata": {},
     "outputs": [],
     "prompt_number": 28
    },
    {
     "cell_type": "code",
     "collapsed": false,
     "input": [
      "df['parsed'].head()"
     ],
     "language": "python",
     "metadata": {},
     "outputs": [
      {
       "metadata": {},
       "output_type": "pyout",
       "prompt_number": 29,
       "text": [
        "161    2013-01-02 15:51:51+00:00\n",
        "51     2013-01-03 00:20:26+00:00\n",
        "375    2013-01-04 15:46:52+00:00\n",
        "330    2013-01-04 23:59:27+00:00\n",
        "191    2013-01-07 15:56:14+00:00\n",
        "Name: parsed, dtype: object"
       ]
      }
     ],
     "prompt_number": 29
    },
    {
     "cell_type": "code",
     "collapsed": false,
     "input": [
      "df['zoned'] = [x.astimezone(pytz.timezone('US/Pacific')) for x in df['parsed']]"
     ],
     "language": "python",
     "metadata": {},
     "outputs": [],
     "prompt_number": 30
    },
    {
     "cell_type": "code",
     "collapsed": false,
     "input": [
      "df['zoned'].head()"
     ],
     "language": "python",
     "metadata": {},
     "outputs": [
      {
       "metadata": {},
       "output_type": "pyout",
       "prompt_number": 31,
       "text": [
        "161    2013-01-02 07:51:51-08:00\n",
        "51     2013-01-02 16:20:26-08:00\n",
        "375    2013-01-04 07:46:52-08:00\n",
        "330    2013-01-04 15:59:27-08:00\n",
        "191    2013-01-07 07:56:14-08:00\n",
        "Name: zoned, dtype: object"
       ]
      }
     ],
     "prompt_number": 31
    },
    {
     "cell_type": "code",
     "collapsed": false,
     "input": [
      "df['hours']=[x.hour for x in df['zoned']]"
     ],
     "language": "python",
     "metadata": {},
     "outputs": [],
     "prompt_number": 32
    },
    {
     "cell_type": "code",
     "collapsed": false,
     "input": [
      "df['hours'].head()"
     ],
     "language": "python",
     "metadata": {},
     "outputs": [
      {
       "metadata": {},
       "output_type": "pyout",
       "prompt_number": 33,
       "text": [
        "161     7\n",
        "51     16\n",
        "375     7\n",
        "330    15\n",
        "191     7\n",
        "Name: hours, dtype: int64"
       ]
      }
     ],
     "prompt_number": 33
    },
    {
     "cell_type": "code",
     "collapsed": false,
     "input": [
      "#want to know the variation of hours to know how to set the delta_range for what to include, probably easiest to plot & look  \n",
      "df['hours'].std()"
     ],
     "language": "python",
     "metadata": {},
     "outputs": [
      {
       "metadata": {},
       "output_type": "pyout",
       "prompt_number": 34,
       "text": [
        "4.8422640150721108"
       ]
      }
     ],
     "prompt_number": 34
    },
    {
     "cell_type": "code",
     "collapsed": false,
     "input": [
      "import matplotlib.pyplot as plt\n",
      "import matplotlib\n",
      "import seaborn as sns\n",
      "import numpy as np\n",
      "\n",
      "sns.set_palette(\"deep\", desat=0.6)\n",
      "sns.set_context(rc={\"figure.figsize\": (8,4)})\n",
      "\n",
      "%matplotlib inline"
     ],
     "language": "python",
     "metadata": {},
     "outputs": [],
     "prompt_number": 35
    },
    {
     "cell_type": "code",
     "collapsed": false,
     "input": [
      "df['hours'].hist() #note that these are not normal distributions, so not well suited for machine learning \n",
      "plt.xlabel('hour of the day(correct timezone)')\n",
      "plt.ylabel('frequency')"
     ],
     "language": "python",
     "metadata": {},
     "outputs": [
      {
       "metadata": {},
       "output_type": "pyout",
       "prompt_number": 36,
       "text": [
        "<matplotlib.text.Text at 0x1098383d0>"
       ]
      },
      {
       "metadata": {},
       "output_type": "display_data",
       "png": "[encoded data removed]",
       "text": [
        "<matplotlib.figure.Figure at 0x109803090>"
       ]
      }
     ],
     "prompt_number": 36
    },
    {
     "cell_type": "code",
     "collapsed": false,
     "input": [
      "morning_range = delta_range(2)\n",
      "print morning_range"
     ],
     "language": "python",
     "metadata": {},
     "outputs": [
      {
       "output_type": "stream",
       "stream": "stdout",
       "text": [
        "[-1, 1]\n"
       ]
      }
     ],
     "prompt_number": 37
    },
    {
     "cell_type": "code",
     "collapsed": false,
     "input": [
      "afternoon_range = delta_range(6)\n",
      "print afternoon_range"
     ],
     "language": "python",
     "metadata": {},
     "outputs": [
      {
       "output_type": "stream",
       "stream": "stdout",
       "text": [
        "[-3, -2, -1, 1, 2, 3]\n"
       ]
      }
     ],
     "prompt_number": 38
    },
    {
     "cell_type": "code",
     "collapsed": false,
     "input": [
      "first = centering(morning_range, 7, 'morning')"
     ],
     "language": "python",
     "metadata": {},
     "outputs": [],
     "prompt_number": 39
    },
    {
     "cell_type": "code",
     "collapsed": false,
     "input": [
      "categories = {}\n",
      "second = centering(afternoon_range, 15, 'afternoon')"
     ],
     "language": "python",
     "metadata": {},
     "outputs": [],
     "prompt_number": 40
    },
    {
     "cell_type": "code",
     "collapsed": false,
     "input": [
      "dict_grower(first, categories)\n",
      "dict_grower(second, categories)"
     ],
     "language": "python",
     "metadata": {},
     "outputs": [
      {
       "metadata": {},
       "output_type": "pyout",
       "prompt_number": 41,
       "text": [
        "{'afternoon': [12, 13, 14, 16, 17, 18, 15], 'morning': [6, 8, 7]}"
       ]
      }
     ],
     "prompt_number": 41
    },
    {
     "cell_type": "code",
     "collapsed": false,
     "input": [
      "hours = df['hours'].tolist()"
     ],
     "language": "python",
     "metadata": {},
     "outputs": [],
     "prompt_number": 42
    },
    {
     "cell_type": "code",
     "collapsed": false,
     "input": [
      "daytimes = hour_lookup(hours, categories )\n",
      "print(daytimes),"
     ],
     "language": "python",
     "metadata": {},
     "outputs": [
      {
       "output_type": "stream",
       "stream": "stdout",
       "text": [
        "{'afternoon': [16, 15, 16, 16, 16, 15, 16, 16, 16, 16, 16, 16, 16, 16, 16, 16, 16, 16, 16, 15, 16, 16, 16, 16, 17, 16, 16, 16, 17, 16, 16, 16, 16, 16, 16, 16, 16, 16, 16, 16, 15, 16, 16, 16, 16, 15, 15, 17, 16, 16, 16, 15, 17, 16, 16, 15, 15, 16, 16, 15, 16, 17, 15, 17, 16, 17, 16, 16, 15, 16, 16, 17, 16, 17, 16, 15, 17, 15, 17, 16, 17, 16, 17, 16, 17, 16, 17, 16, 17, 16, 18, 16, 17, 15, 17, 16, 17, 16, 17, 16, 17, 16, 17, 16, 14, 16, 16, 17, 16, 17, 16, 17, 16, 17, 17, 18, 15, 17, 16, 17, 16, 17, 16, 17, 16, 17, 16, 17, 16, 17, 16, 17, 15, 16, 17, 16, 17, 16, 17, 16, 17, 16, 17, 16, 17, 16, 17, 16, 17, 16, 17, 16, 17, 16, 17, 15, 16, 16, 17, 16, 17, 16, 17, 16, 17, 16, 17, 16, 17, 15, 16, 17, 16, 17, 16, 17, 16, 17, 16, 17, 15, 16, 17, 16, 17, 16, 17, 16, 17, 16, 17, 16, 17, 16, 17, 16, 17, 15, 17, 16, 17, 16, 17, 14, 14, 15, 13], 'morning': [7, 7, 7, 7, 7, 7, 7, 7, 7, 7, 7, 8, 7, 7, 7, 7, 7, 7, 8, 8, 6, 8, 7, 7, 7, 8, 7, 6, 7, 7, 8, 8, 7, 7, 7, 6, 7, 7, 7, 7, 7, 6, 6, 6, 7, 6, 7, 7, 7, 6, 7, 6, 8, 6, 7, 6, 7, 6, 7, 7, 7, 6, 7, 6, 7, 6, 7, 6, 7, 6, 7, 6, 7, 7, 7, 6, 7, 6, 6, 7, 6, 7, 6, 6, 7, 6, 6, 7, 6, 7, 6, 7, 6, 7, 6, 7, 6, 7, 6, 7, 6, 7, 6, 7, 6, 7, 6, 7, 6, 7, 6, 6, 7, 6, 7, 6, 7, 6, 7, 6, 6, 6, 7, 6, 7, 6, 7, 6, 7, 6, 7, 6, 7, 6, 7, 6, 7, 6, 6, 6, 7, 6, 7, 6, 7, 6, 7, 6, 7, 6, 7, 6, 7, 6, 7, 6, 7, 6, 7, 6, 7, 6, 7, 6, 7, 6, 7, 6, 7, 6, 7, 6, 7, 6, 7, 6, 7, 6, 7, 6, 7, 6, 7, 6, 7, 6, 7, 6, 7, 6, 7, 6, 7, 6, 7, 6, 7, 6, 7, 6, 7, 6, 7, 6, 7, 6, 7]}\n"
       ]
      }
     ],
     "prompt_number": 47
    },
    {
     "cell_type": "code",
     "collapsed": false,
     "input": [
      "df.head()"
     ],
     "language": "python",
     "metadata": {},
     "outputs": [
      {
       "html": [
        "<div style=\"max-height:1000px;max-width:1500px;overflow:auto;\">\n",
        "<table border=\"1\" class=\"dataframe\">\n",
        "  <thead>\n",
        "    <tr style=\"text-align: right;\">\n",
        "      <th></th>\n",
        "      <th>StartTime</th>\n",
        "      <th>TotalTimeSeconds</th>\n",
        "      <th>DistanceMeters</th>\n",
        "      <th>MaximumSpeed</th>\n",
        "      <th>Calories</th>\n",
        "      <th>AverageSpeed</th>\n",
        "      <th>parsed</th>\n",
        "      <th>zoned</th>\n",
        "      <th>hours</th>\n",
        "    </tr>\n",
        "  </thead>\n",
        "  <tbody>\n",
        "    <tr>\n",
        "      <th>161</th>\n",
        "      <td> 2013-01-02T15:51:51Z</td>\n",
        "      <td> 1690.76</td>\n",
        "      <td> 14632.39</td>\n",
        "      <td> 12.05</td>\n",
        "      <td> 572</td>\n",
        "      <td> 8.65</td>\n",
        "      <td> 2013-01-02 15:51:51+00:00</td>\n",
        "      <td> 2013-01-02 07:51:51-08:00</td>\n",
        "      <td>  7</td>\n",
        "    </tr>\n",
        "    <tr>\n",
        "      <th>51 </th>\n",
        "      <td> 2013-01-03T00:20:26Z</td>\n",
        "      <td> 1928.39</td>\n",
        "      <td> 15305.22</td>\n",
        "      <td> 12.34</td>\n",
        "      <td> 702</td>\n",
        "      <td> 7.94</td>\n",
        "      <td> 2013-01-03 00:20:26+00:00</td>\n",
        "      <td> 2013-01-02 16:20:26-08:00</td>\n",
        "      <td> 16</td>\n",
        "    </tr>\n",
        "    <tr>\n",
        "      <th>375</th>\n",
        "      <td> 2013-01-04T15:46:52Z</td>\n",
        "      <td> 1680.40</td>\n",
        "      <td> 14651.60</td>\n",
        "      <td> 12.28</td>\n",
        "      <td> 572</td>\n",
        "      <td> 8.72</td>\n",
        "      <td> 2013-01-04 15:46:52+00:00</td>\n",
        "      <td> 2013-01-04 07:46:52-08:00</td>\n",
        "      <td>  7</td>\n",
        "    </tr>\n",
        "    <tr>\n",
        "      <th>330</th>\n",
        "      <td> 2013-01-04T23:59:27Z</td>\n",
        "      <td> 1962.15</td>\n",
        "      <td> 15237.36</td>\n",
        "      <td> 11.43</td>\n",
        "      <td> 691</td>\n",
        "      <td> 7.77</td>\n",
        "      <td> 2013-01-04 23:59:27+00:00</td>\n",
        "      <td> 2013-01-04 15:59:27-08:00</td>\n",
        "      <td> 15</td>\n",
        "    </tr>\n",
        "    <tr>\n",
        "      <th>191</th>\n",
        "      <td> 2013-01-07T15:56:14Z</td>\n",
        "      <td> 1657.51</td>\n",
        "      <td> 14625.53</td>\n",
        "      <td> 12.02</td>\n",
        "      <td> 609</td>\n",
        "      <td> 8.82</td>\n",
        "      <td> 2013-01-07 15:56:14+00:00</td>\n",
        "      <td> 2013-01-07 07:56:14-08:00</td>\n",
        "      <td>  7</td>\n",
        "    </tr>\n",
        "  </tbody>\n",
        "</table>\n",
        "</div>"
       ],
       "metadata": {},
       "output_type": "pyout",
       "prompt_number": 24,
       "text": [
        "                StartTime  TotalTimeSeconds  DistanceMeters  MaximumSpeed  \\\n",
        "161  2013-01-02T15:51:51Z           1690.76        14632.39         12.05   \n",
        "51   2013-01-03T00:20:26Z           1928.39        15305.22         12.34   \n",
        "375  2013-01-04T15:46:52Z           1680.40        14651.60         12.28   \n",
        "330  2013-01-04T23:59:27Z           1962.15        15237.36         11.43   \n",
        "191  2013-01-07T15:56:14Z           1657.51        14625.53         12.02   \n",
        "\n",
        "     Calories  AverageSpeed                     parsed  \\\n",
        "161       572          8.65  2013-01-02 15:51:51+00:00   \n",
        "51        702          7.94  2013-01-03 00:20:26+00:00   \n",
        "375       572          8.72  2013-01-04 15:46:52+00:00   \n",
        "330       691          7.77  2013-01-04 23:59:27+00:00   \n",
        "191       609          8.82  2013-01-07 15:56:14+00:00   \n",
        "\n",
        "                         zoned  hours  \n",
        "161  2013-01-02 07:51:51-08:00      7  \n",
        "51   2013-01-02 16:20:26-08:00     16  \n",
        "375  2013-01-04 07:46:52-08:00      7  \n",
        "330  2013-01-04 15:59:27-08:00     15  \n",
        "191  2013-01-07 07:56:14-08:00      7  "
       ]
      }
     ],
     "prompt_number": 24
    },
    {
     "cell_type": "code",
     "collapsed": false,
     "input": [
      "#actually just want to add a column with a flag for daytime category, and sort by that. Or, could sort by hours... \n",
      "sorted_by_hours= df.sort_index(by='hours')"
     ],
     "language": "python",
     "metadata": {},
     "outputs": [],
     "prompt_number": 17
    },
    {
     "cell_type": "code",
     "collapsed": false,
     "input": [
      "sorted_by_hours.head()"
     ],
     "language": "python",
     "metadata": {},
     "outputs": [
      {
       "html": [
        "<div style=\"max-height:1000px;max-width:1500px;overflow:auto;\">\n",
        "<table border=\"1\" class=\"dataframe\">\n",
        "  <thead>\n",
        "    <tr style=\"text-align: right;\">\n",
        "      <th></th>\n",
        "      <th>StartTime</th>\n",
        "      <th>TotalTimeSeconds</th>\n",
        "      <th>DistanceMeters</th>\n",
        "      <th>MaximumSpeed</th>\n",
        "      <th>Calories</th>\n",
        "      <th>AverageSpeed</th>\n",
        "      <th>parsed</th>\n",
        "      <th>zoned</th>\n",
        "      <th>hours</th>\n",
        "    </tr>\n",
        "  </thead>\n",
        "  <tbody>\n",
        "    <tr>\n",
        "      <th>406</th>\n",
        "      <td> 2013-07-30T13:37:41Z</td>\n",
        "      <td>  574.61</td>\n",
        "      <td>  4607.00</td>\n",
        "      <td> 12.69</td>\n",
        "      <td> 184</td>\n",
        "      <td> 8.02</td>\n",
        "      <td> 2013-07-30 13:37:41+00:00</td>\n",
        "      <td> 2013-07-30 06:37:41-07:00</td>\n",
        "      <td> 6</td>\n",
        "    </tr>\n",
        "    <tr>\n",
        "      <th>121</th>\n",
        "      <td> 2013-05-01T13:51:33Z</td>\n",
        "      <td> 1592.60</td>\n",
        "      <td> 14634.20</td>\n",
        "      <td> 13.48</td>\n",
        "      <td> 596</td>\n",
        "      <td> 9.19</td>\n",
        "      <td> 2013-05-01 13:51:33+00:00</td>\n",
        "      <td> 2013-05-01 06:51:33-07:00</td>\n",
        "      <td> 6</td>\n",
        "    </tr>\n",
        "    <tr>\n",
        "      <th>120</th>\n",
        "      <td> 2013-05-01T13:43:58Z</td>\n",
        "      <td>  433.59</td>\n",
        "      <td>  3190.36</td>\n",
        "      <td> 10.91</td>\n",
        "      <td> 171</td>\n",
        "      <td> 7.36</td>\n",
        "      <td> 2013-05-01 13:43:58+00:00</td>\n",
        "      <td> 2013-05-01 06:43:58-07:00</td>\n",
        "      <td> 6</td>\n",
        "    </tr>\n",
        "    <tr>\n",
        "      <th>147</th>\n",
        "      <td> 2013-10-21T13:41:57Z</td>\n",
        "      <td>  695.13</td>\n",
        "      <td>  4779.31</td>\n",
        "      <td> 12.56</td>\n",
        "      <td> 147</td>\n",
        "      <td> 6.88</td>\n",
        "      <td> 2013-10-21 13:41:57+00:00</td>\n",
        "      <td> 2013-10-21 06:41:57-07:00</td>\n",
        "      <td> 6</td>\n",
        "    </tr>\n",
        "    <tr>\n",
        "      <th>67 </th>\n",
        "      <td> 2013-10-23T13:38:01Z</td>\n",
        "      <td>  647.00</td>\n",
        "      <td>  4788.20</td>\n",
        "      <td> 12.30</td>\n",
        "      <td> 181</td>\n",
        "      <td> 7.40</td>\n",
        "      <td> 2013-10-23 13:38:01+00:00</td>\n",
        "      <td> 2013-10-23 06:38:01-07:00</td>\n",
        "      <td> 6</td>\n",
        "    </tr>\n",
        "  </tbody>\n",
        "</table>\n",
        "</div>"
       ],
       "metadata": {},
       "output_type": "pyout",
       "prompt_number": 18,
       "text": [
        "                StartTime  TotalTimeSeconds  DistanceMeters  MaximumSpeed  \\\n",
        "406  2013-07-30T13:37:41Z            574.61         4607.00         12.69   \n",
        "121  2013-05-01T13:51:33Z           1592.60        14634.20         13.48   \n",
        "120  2013-05-01T13:43:58Z            433.59         3190.36         10.91   \n",
        "147  2013-10-21T13:41:57Z            695.13         4779.31         12.56   \n",
        "67   2013-10-23T13:38:01Z            647.00         4788.20         12.30   \n",
        "\n",
        "     Calories  AverageSpeed                     parsed  \\\n",
        "406       184          8.02  2013-07-30 13:37:41+00:00   \n",
        "121       596          9.19  2013-05-01 13:51:33+00:00   \n",
        "120       171          7.36  2013-05-01 13:43:58+00:00   \n",
        "147       147          6.88  2013-10-21 13:41:57+00:00   \n",
        "67        181          7.40  2013-10-23 13:38:01+00:00   \n",
        "\n",
        "                         zoned  hours  \n",
        "406  2013-07-30 06:37:41-07:00      6  \n",
        "121  2013-05-01 06:51:33-07:00      6  \n",
        "120  2013-05-01 06:43:58-07:00      6  \n",
        "147  2013-10-21 06:41:57-07:00      6  \n",
        "67   2013-10-23 06:38:01-07:00      6  "
       ]
      }
     ],
     "prompt_number": 18
    },
    {
     "cell_type": "code",
     "collapsed": false,
     "input": [
      "sorted_by_time_and_date = df.sort_index(by = ['hours', 'zoned'])"
     ],
     "language": "python",
     "metadata": {},
     "outputs": [],
     "prompt_number": 22
    },
    {
     "cell_type": "code",
     "collapsed": false,
     "input": [
      "sorted_by_time_and_date.head()"
     ],
     "language": "python",
     "metadata": {},
     "outputs": [
      {
       "html": [
        "<div style=\"max-height:1000px;max-width:1500px;overflow:auto;\">\n",
        "<table border=\"1\" class=\"dataframe\">\n",
        "  <thead>\n",
        "    <tr style=\"text-align: right;\">\n",
        "      <th></th>\n",
        "      <th>StartTime</th>\n",
        "      <th>TotalTimeSeconds</th>\n",
        "      <th>DistanceMeters</th>\n",
        "      <th>MaximumSpeed</th>\n",
        "      <th>Calories</th>\n",
        "      <th>AverageSpeed</th>\n",
        "      <th>parsed</th>\n",
        "      <th>zoned</th>\n",
        "      <th>hours</th>\n",
        "    </tr>\n",
        "  </thead>\n",
        "  <tbody>\n",
        "    <tr>\n",
        "      <th>66 </th>\n",
        "      <td> 2013-02-27T14:47:54Z</td>\n",
        "      <td> 2084.49</td>\n",
        "      <td> 17797.09</td>\n",
        "      <td> 13.30</td>\n",
        "      <td>  720</td>\n",
        "      <td> 8.54</td>\n",
        "      <td> 2013-02-27 14:47:54+00:00</td>\n",
        "      <td> 2013-02-27 06:47:54-08:00</td>\n",
        "      <td> 6</td>\n",
        "    </tr>\n",
        "    <tr>\n",
        "      <th>74 </th>\n",
        "      <td> 2013-03-22T13:46:00Z</td>\n",
        "      <td> 2086.73</td>\n",
        "      <td> 17819.94</td>\n",
        "      <td> 12.26</td>\n",
        "      <td>  714</td>\n",
        "      <td> 8.54</td>\n",
        "      <td> 2013-03-22 13:46:00+00:00</td>\n",
        "      <td> 2013-03-22 06:46:00-07:00</td>\n",
        "      <td> 6</td>\n",
        "    </tr>\n",
        "    <tr>\n",
        "      <th>230</th>\n",
        "      <td> 2013-04-09T13:44:35Z</td>\n",
        "      <td> 3548.92</td>\n",
        "      <td> 29733.52</td>\n",
        "      <td> 13.88</td>\n",
        "      <td> 1195</td>\n",
        "      <td> 8.38</td>\n",
        "      <td> 2013-04-09 13:44:35+00:00</td>\n",
        "      <td> 2013-04-09 06:44:35-07:00</td>\n",
        "      <td> 6</td>\n",
        "    </tr>\n",
        "    <tr>\n",
        "      <th>120</th>\n",
        "      <td> 2013-05-01T13:43:58Z</td>\n",
        "      <td>  433.59</td>\n",
        "      <td>  3190.36</td>\n",
        "      <td> 10.91</td>\n",
        "      <td>  171</td>\n",
        "      <td> 7.36</td>\n",
        "      <td> 2013-05-01 13:43:58+00:00</td>\n",
        "      <td> 2013-05-01 06:43:58-07:00</td>\n",
        "      <td> 6</td>\n",
        "    </tr>\n",
        "    <tr>\n",
        "      <th>121</th>\n",
        "      <td> 2013-05-01T13:51:33Z</td>\n",
        "      <td> 1592.60</td>\n",
        "      <td> 14634.20</td>\n",
        "      <td> 13.48</td>\n",
        "      <td>  596</td>\n",
        "      <td> 9.19</td>\n",
        "      <td> 2013-05-01 13:51:33+00:00</td>\n",
        "      <td> 2013-05-01 06:51:33-07:00</td>\n",
        "      <td> 6</td>\n",
        "    </tr>\n",
        "  </tbody>\n",
        "</table>\n",
        "</div>"
       ],
       "metadata": {},
       "output_type": "pyout",
       "prompt_number": 23,
       "text": [
        "                StartTime  TotalTimeSeconds  DistanceMeters  MaximumSpeed  \\\n",
        "66   2013-02-27T14:47:54Z           2084.49        17797.09         13.30   \n",
        "74   2013-03-22T13:46:00Z           2086.73        17819.94         12.26   \n",
        "230  2013-04-09T13:44:35Z           3548.92        29733.52         13.88   \n",
        "120  2013-05-01T13:43:58Z            433.59         3190.36         10.91   \n",
        "121  2013-05-01T13:51:33Z           1592.60        14634.20         13.48   \n",
        "\n",
        "     Calories  AverageSpeed                     parsed  \\\n",
        "66        720          8.54  2013-02-27 14:47:54+00:00   \n",
        "74        714          8.54  2013-03-22 13:46:00+00:00   \n",
        "230      1195          8.38  2013-04-09 13:44:35+00:00   \n",
        "120       171          7.36  2013-05-01 13:43:58+00:00   \n",
        "121       596          9.19  2013-05-01 13:51:33+00:00   \n",
        "\n",
        "                         zoned  hours  \n",
        "66   2013-02-27 06:47:54-08:00      6  \n",
        "74   2013-03-22 06:46:00-07:00      6  \n",
        "230  2013-04-09 06:44:35-07:00      6  \n",
        "120  2013-05-01 06:43:58-07:00      6  \n",
        "121  2013-05-01 06:51:33-07:00      6  "
       ]
      }
     ],
     "prompt_number": 23
    },
    {
     "cell_type": "code",
     "collapsed": false,
     "input": [
      "#might be interesting to know the std of minutes within the same hour departure\n"
     ],
     "language": "python",
     "metadata": {},
     "outputs": []
    }
   ],
   "metadata": {}
  }
 ]
}