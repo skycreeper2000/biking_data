{
 "metadata": {
  "name": "",
  "signature": "sha256:af4825b7da085ef366e183fed1c31cd68bf59748f1a736bc7bdbaeda7d7dea88"
 },
 "nbformat": 3,
 "nbformat_minor": 0,
 "worksheets": [
  {
   "cells": [
    {
     "cell_type": "code",
     "collapsed": false,
     "input": [
      "import numpy as np\n",
      "import pandasql\n",
      "import pandas\n",
      "from datetime import datetime, date, time\n",
      "from dateutil.parser import parse\n",
      "import pytz\n",
      "from delta_range import delta_range\n",
      "from hour_lookup import centering, dict_grower, hour_lookup"
     ],
     "language": "python",
     "metadata": {},
     "outputs": [],
     "prompt_number": 1
    },
    {
     "cell_type": "code",
     "collapsed": false,
     "input": [
      "df = pandas.read_csv(\"sorted_by_date.csv\", index_col=0)"
     ],
     "language": "python",
     "metadata": {},
     "outputs": [],
     "prompt_number": 2
    },
    {
     "cell_type": "code",
     "collapsed": false,
     "input": [
      "df.head()"
     ],
     "language": "python",
     "metadata": {},
     "outputs": [
      {
       "html": [
        "<div style=\"max-height:1000px;max-width:1500px;overflow:auto;\">\n",
        "<table border=\"1\" class=\"dataframe\">\n",
        "  <thead>\n",
        "    <tr style=\"text-align: right;\">\n",
        "      <th></th>\n",
        "      <th>StartTime</th>\n",
        "      <th>TotalTimeSeconds</th>\n",
        "      <th>DistanceMeters</th>\n",
        "      <th>MaximumSpeed</th>\n",
        "      <th>Calories</th>\n",
        "      <th>AverageSpeed</th>\n",
        "    </tr>\n",
        "  </thead>\n",
        "  <tbody>\n",
        "    <tr>\n",
        "      <th>161</th>\n",
        "      <td> 2013-01-02T15:51:51Z</td>\n",
        "      <td> 1690.76</td>\n",
        "      <td> 14632.39</td>\n",
        "      <td> 12.05</td>\n",
        "      <td> 572</td>\n",
        "      <td> 8.65</td>\n",
        "    </tr>\n",
        "    <tr>\n",
        "      <th>51 </th>\n",
        "      <td> 2013-01-03T00:20:26Z</td>\n",
        "      <td> 1928.39</td>\n",
        "      <td> 15305.22</td>\n",
        "      <td> 12.34</td>\n",
        "      <td> 702</td>\n",
        "      <td> 7.94</td>\n",
        "    </tr>\n",
        "    <tr>\n",
        "      <th>375</th>\n",
        "      <td> 2013-01-04T15:46:52Z</td>\n",
        "      <td> 1680.40</td>\n",
        "      <td> 14651.60</td>\n",
        "      <td> 12.28</td>\n",
        "      <td> 572</td>\n",
        "      <td> 8.72</td>\n",
        "    </tr>\n",
        "    <tr>\n",
        "      <th>330</th>\n",
        "      <td> 2013-01-04T23:59:27Z</td>\n",
        "      <td> 1962.15</td>\n",
        "      <td> 15237.36</td>\n",
        "      <td> 11.43</td>\n",
        "      <td> 691</td>\n",
        "      <td> 7.77</td>\n",
        "    </tr>\n",
        "    <tr>\n",
        "      <th>191</th>\n",
        "      <td> 2013-01-07T15:56:14Z</td>\n",
        "      <td> 1657.51</td>\n",
        "      <td> 14625.53</td>\n",
        "      <td> 12.02</td>\n",
        "      <td> 609</td>\n",
        "      <td> 8.82</td>\n",
        "    </tr>\n",
        "  </tbody>\n",
        "</table>\n",
        "</div>"
       ],
       "metadata": {},
       "output_type": "pyout",
       "prompt_number": 3,
       "text": [
        "                StartTime  TotalTimeSeconds  DistanceMeters  MaximumSpeed  \\\n",
        "161  2013-01-02T15:51:51Z           1690.76        14632.39         12.05   \n",
        "51   2013-01-03T00:20:26Z           1928.39        15305.22         12.34   \n",
        "375  2013-01-04T15:46:52Z           1680.40        14651.60         12.28   \n",
        "330  2013-01-04T23:59:27Z           1962.15        15237.36         11.43   \n",
        "191  2013-01-07T15:56:14Z           1657.51        14625.53         12.02   \n",
        "\n",
        "     Calories  AverageSpeed  \n",
        "161       572          8.65  \n",
        "51        702          7.94  \n",
        "375       572          8.72  \n",
        "330       691          7.77  \n",
        "191       609          8.82  "
       ]
      }
     ],
     "prompt_number": 3
    },
    {
     "cell_type": "code",
     "collapsed": false,
     "input": [
      "df.shape"
     ],
     "language": "python",
     "metadata": {},
     "outputs": [
      {
       "metadata": {},
       "output_type": "pyout",
       "prompt_number": 4,
       "text": [
        "(414, 6)"
       ]
      }
     ],
     "prompt_number": 4
    },
    {
     "cell_type": "code",
     "collapsed": false,
     "input": [
      "type(df['StartTime'][0])"
     ],
     "language": "python",
     "metadata": {},
     "outputs": [
      {
       "metadata": {},
       "output_type": "pyout",
       "prompt_number": 5,
       "text": [
        "str"
       ]
      }
     ],
     "prompt_number": 5
    },
    {
     "cell_type": "code",
     "collapsed": false,
     "input": [
      "#ideas: could just take times, ignore days (not sure how many will be identical, probably not many)\n",
      "#could convert times back & use a bag-of-words approach to count occurrences(for that could maybe do hours +/-1)\n",
      "df['parsed']=[parse(x) for x in df['StartTime']]"
     ],
     "language": "python",
     "metadata": {},
     "outputs": [],
     "prompt_number": 6
    },
    {
     "cell_type": "code",
     "collapsed": false,
     "input": [
      "df['parsed'].head()"
     ],
     "language": "python",
     "metadata": {},
     "outputs": [
      {
       "metadata": {},
       "output_type": "pyout",
       "prompt_number": 7,
       "text": [
        "161    2013-01-02 15:51:51+00:00\n",
        "51     2013-01-03 00:20:26+00:00\n",
        "375    2013-01-04 15:46:52+00:00\n",
        "330    2013-01-04 23:59:27+00:00\n",
        "191    2013-01-07 15:56:14+00:00\n",
        "Name: parsed, dtype: object"
       ]
      }
     ],
     "prompt_number": 7
    },
    {
     "cell_type": "code",
     "collapsed": false,
     "input": [
      "df['zoned'] = [x.astimezone(pytz.timezone('US/Pacific')) for x in df['parsed']]"
     ],
     "language": "python",
     "metadata": {},
     "outputs": [],
     "prompt_number": 8
    },
    {
     "cell_type": "code",
     "collapsed": false,
     "input": [
      "df['zoned'].head()"
     ],
     "language": "python",
     "metadata": {},
     "outputs": [
      {
       "metadata": {},
       "output_type": "pyout",
       "prompt_number": 9,
       "text": [
        "161    2013-01-02 07:51:51-08:00\n",
        "51     2013-01-02 16:20:26-08:00\n",
        "375    2013-01-04 07:46:52-08:00\n",
        "330    2013-01-04 15:59:27-08:00\n",
        "191    2013-01-07 07:56:14-08:00\n",
        "Name: zoned, dtype: object"
       ]
      }
     ],
     "prompt_number": 9
    },
    {
     "cell_type": "code",
     "collapsed": false,
     "input": [
      "df['hour']=[x.hour for x in df['zoned']]"
     ],
     "language": "python",
     "metadata": {},
     "outputs": [],
     "prompt_number": 10
    },
    {
     "cell_type": "code",
     "collapsed": false,
     "input": [
      "df['hour'].head()"
     ],
     "language": "python",
     "metadata": {},
     "outputs": [
      {
       "metadata": {},
       "output_type": "pyout",
       "prompt_number": 11,
       "text": [
        "161     7\n",
        "51     16\n",
        "375     7\n",
        "330    15\n",
        "191     7\n",
        "Name: hour, dtype: int64"
       ]
      }
     ],
     "prompt_number": 11
    },
    {
     "cell_type": "code",
     "collapsed": false,
     "input": [
      "#want to know the variation of hours to know how to set the delta_range for what to include, probably easiest to plot & look  \n",
      "df['hour'].std()"
     ],
     "language": "python",
     "metadata": {},
     "outputs": [
      {
       "metadata": {},
       "output_type": "pyout",
       "prompt_number": 12,
       "text": [
        "4.8422640150721108"
       ]
      }
     ],
     "prompt_number": 12
    },
    {
     "cell_type": "code",
     "collapsed": false,
     "input": [
      "import matplotlib.pyplot as plt\n",
      "import matplotlib\n",
      "import seaborn as sns\n",
      "import numpy as np\n",
      "\n",
      "sns.set_palette(\"deep\", desat=0.6)\n",
      "sns.set_context(rc={\"figure.figsize\": (8,4)})\n",
      "\n",
      "%matplotlib inline"
     ],
     "language": "python",
     "metadata": {},
     "outputs": [],
     "prompt_number": 13
    },
    {
     "cell_type": "code",
     "collapsed": false,
     "input": [
      "df['hour'].hist() #note that these are not normal distributions, so not well suited for machine learning \n",
      "plt.xlabel('hour of the day(correct timezone)')\n",
      "plt.ylabel('frequency')"
     ],
     "language": "python",
     "metadata": {},
     "outputs": [
      {
       "metadata": {},
       "output_type": "pyout",
       "prompt_number": 14,
       "text": [
        "<matplotlib.text.Text at 0x10913c090>"
       ]
      },
      {
       "metadata": {},
       "output_type": "display_data",
       "png": "[encoded data removed]",
       "text": [
        "<matplotlib.figure.Figure at 0x106be61d0>"
       ]
      }
     ],
     "prompt_number": 14
    },
    {
     "cell_type": "code",
     "collapsed": false,
     "input": [
      "morning_range = delta_range(2)\n",
      "print morning_range"
     ],
     "language": "python",
     "metadata": {},
     "outputs": [
      {
       "output_type": "stream",
       "stream": "stdout",
       "text": [
        "[-1, 1]\n"
       ]
      }
     ],
     "prompt_number": 15
    },
    {
     "cell_type": "code",
     "collapsed": false,
     "input": [
      "afternoon_range = delta_range(6)\n",
      "print afternoon_range"
     ],
     "language": "python",
     "metadata": {},
     "outputs": [
      {
       "output_type": "stream",
       "stream": "stdout",
       "text": [
        "[-3, -2, -1, 1, 2, 3]\n"
       ]
      }
     ],
     "prompt_number": 16
    },
    {
     "cell_type": "code",
     "collapsed": false,
     "input": [
      "first = centering(morning_range, 7, 'morning')"
     ],
     "language": "python",
     "metadata": {},
     "outputs": [],
     "prompt_number": 17
    },
    {
     "cell_type": "code",
     "collapsed": false,
     "input": [
      "categories = {}\n",
      "second = centering(afternoon_range, 15, 'afternoon')"
     ],
     "language": "python",
     "metadata": {},
     "outputs": [],
     "prompt_number": 18
    },
    {
     "cell_type": "code",
     "collapsed": false,
     "input": [
      "dict_grower(first, categories)\n",
      "dict_grower(second, categories)"
     ],
     "language": "python",
     "metadata": {},
     "outputs": [
      {
       "metadata": {},
       "output_type": "pyout",
       "prompt_number": 19,
       "text": [
        "{'afternoon': [12, 13, 14, 16, 17, 18, 15], 'morning': [6, 8, 7]}"
       ]
      }
     ],
     "prompt_number": 19
    },
    {
     "cell_type": "code",
     "collapsed": false,
     "input": [
      "hour = df['hour'].tolist()"
     ],
     "language": "python",
     "metadata": {},
     "outputs": [],
     "prompt_number": 20
    },
    {
     "cell_type": "code",
     "collapsed": false,
     "input": [
      "daytimes = hour_lookup(hour, categories )\n",
      "print(daytimes),"
     ],
     "language": "python",
     "metadata": {},
     "outputs": [
      {
       "output_type": "stream",
       "stream": "stdout",
       "text": [
        "{'afternoon': [16, 15, 16, 16, 16, 15, 16, 16, 16, 16, 16, 16, 16, 16, 16, 16, 16, 16, 16, 15, 16, 16, 16, 16, 17, 16, 16, 16, 17, 16, 16, 16, 16, 16, 16, 16, 16, 16, 16, 16, 15, 16, 16, 16, 16, 15, 15, 17, 16, 16, 16, 15, 17, 16, 16, 15, 15, 16, 16, 15, 16, 17, 15, 17, 16, 17, 16, 16, 15, 16, 16, 17, 16, 17, 16, 15, 17, 15, 17, 16, 17, 16, 17, 16, 17, 16, 17, 16, 17, 16, 18, 16, 17, 15, 17, 16, 17, 16, 17, 16, 17, 16, 17, 16, 14, 16, 16, 17, 16, 17, 16, 17, 16, 17, 17, 18, 15, 17, 16, 17, 16, 17, 16, 17, 16, 17, 16, 17, 16, 17, 16, 17, 15, 16, 17, 16, 17, 16, 17, 16, 17, 16, 17, 16, 17, 16, 17, 16, 17, 16, 17, 16, 17, 16, 17, 15, 16, 16, 17, 16, 17, 16, 17, 16, 17, 16, 17, 16, 17, 15, 16, 17, 16, 17, 16, 17, 16, 17, 16, 17, 15, 16, 17, 16, 17, 16, 17, 16, 17, 16, 17, 16, 17, 16, 17, 16, 17, 15, 17, 16, 17, 16, 17, 14, 14, 15, 13], 'morning': [7, 7, 7, 7, 7, 7, 7, 7, 7, 7, 7, 8, 7, 7, 7, 7, 7, 7, 8, 8, 6, 8, 7, 7, 7, 8, 7, 6, 7, 7, 8, 8, 7, 7, 7, 6, 7, 7, 7, 7, 7, 6, 6, 6, 7, 6, 7, 7, 7, 6, 7, 6, 8, 6, 7, 6, 7, 6, 7, 7, 7, 6, 7, 6, 7, 6, 7, 6, 7, 6, 7, 6, 7, 7, 7, 6, 7, 6, 6, 7, 6, 7, 6, 6, 7, 6, 6, 7, 6, 7, 6, 7, 6, 7, 6, 7, 6, 7, 6, 7, 6, 7, 6, 7, 6, 7, 6, 7, 6, 7, 6, 6, 7, 6, 7, 6, 7, 6, 7, 6, 6, 6, 7, 6, 7, 6, 7, 6, 7, 6, 7, 6, 7, 6, 7, 6, 7, 6, 6, 6, 7, 6, 7, 6, 7, 6, 7, 6, 7, 6, 7, 6, 7, 6, 7, 6, 7, 6, 7, 6, 7, 6, 7, 6, 7, 6, 7, 6, 7, 6, 7, 6, 7, 6, 7, 6, 7, 6, 7, 6, 7, 6, 7, 6, 7, 6, 7, 6, 7, 6, 7, 6, 7, 6, 7, 6, 7, 6, 7, 6, 7, 6, 7, 6, 7, 6, 7]}\n"
       ]
      }
     ],
     "prompt_number": 21
    },
    {
     "cell_type": "code",
     "collapsed": false,
     "input": [
      "#convert distances to miles \n",
      "df['Miles'] = df['DistanceMeters']/1609.34\n",
      "\n",
      "#convert times to minutes (better for comparisons) and hours (better for speed calculations)\n",
      "df['Minutes'] = df['TotalTimeSeconds']/60\n",
      "df['Trip_hours'] = df['Minutes']/60\n",
      "\n",
      "#convert speeds to miles per hour\n",
      "df['average_mph'] = df['Miles']/df['Trip_hours']\n",
      "df['maximum_mph'] = df['MaximumSpeed']*3600/1609.34"
     ],
     "language": "python",
     "metadata": {},
     "outputs": [],
     "prompt_number": 22
    },
    {
     "cell_type": "code",
     "collapsed": false,
     "input": [
      "df.head()"
     ],
     "language": "python",
     "metadata": {},
     "outputs": [
      {
       "html": [
        "<div style=\"max-height:1000px;max-width:1500px;overflow:auto;\">\n",
        "<table border=\"1\" class=\"dataframe\">\n",
        "  <thead>\n",
        "    <tr style=\"text-align: right;\">\n",
        "      <th></th>\n",
        "      <th>StartTime</th>\n",
        "      <th>TotalTimeSeconds</th>\n",
        "      <th>DistanceMeters</th>\n",
        "      <th>MaximumSpeed</th>\n",
        "      <th>Calories</th>\n",
        "      <th>AverageSpeed</th>\n",
        "      <th>parsed</th>\n",
        "      <th>zoned</th>\n",
        "      <th>hour</th>\n",
        "      <th>Miles</th>\n",
        "      <th>Minutes</th>\n",
        "      <th>Trip_hours</th>\n",
        "      <th>average_mph</th>\n",
        "      <th>maximum_mph</th>\n",
        "    </tr>\n",
        "  </thead>\n",
        "  <tbody>\n",
        "    <tr>\n",
        "      <th>161</th>\n",
        "      <td> 2013-01-02T15:51:51Z</td>\n",
        "      <td> 1690.76</td>\n",
        "      <td> 14632.39</td>\n",
        "      <td> 12.05</td>\n",
        "      <td> 572</td>\n",
        "      <td> 8.65</td>\n",
        "      <td> 2013-01-02 15:51:51+00:00</td>\n",
        "      <td> 2013-01-02 07:51:51-08:00</td>\n",
        "      <td>  7</td>\n",
        "      <td> 9.092168</td>\n",
        "      <td> 28.179333</td>\n",
        "      <td> 0.469656</td>\n",
        "      <td> 19.359226</td>\n",
        "      <td> 26.955149</td>\n",
        "    </tr>\n",
        "    <tr>\n",
        "      <th>51 </th>\n",
        "      <td> 2013-01-03T00:20:26Z</td>\n",
        "      <td> 1928.39</td>\n",
        "      <td> 15305.22</td>\n",
        "      <td> 12.34</td>\n",
        "      <td> 702</td>\n",
        "      <td> 7.94</td>\n",
        "      <td> 2013-01-03 00:20:26+00:00</td>\n",
        "      <td> 2013-01-02 16:20:26-08:00</td>\n",
        "      <td> 16</td>\n",
        "      <td> 9.510246</td>\n",
        "      <td> 32.139833</td>\n",
        "      <td> 0.535664</td>\n",
        "      <td> 17.754130</td>\n",
        "      <td> 27.603862</td>\n",
        "    </tr>\n",
        "    <tr>\n",
        "      <th>375</th>\n",
        "      <td> 2013-01-04T15:46:52Z</td>\n",
        "      <td> 1680.40</td>\n",
        "      <td> 14651.60</td>\n",
        "      <td> 12.28</td>\n",
        "      <td> 572</td>\n",
        "      <td> 8.72</td>\n",
        "      <td> 2013-01-04 15:46:52+00:00</td>\n",
        "      <td> 2013-01-04 07:46:52-08:00</td>\n",
        "      <td>  7</td>\n",
        "      <td> 9.104105</td>\n",
        "      <td> 28.006667</td>\n",
        "      <td> 0.466778</td>\n",
        "      <td> 19.504152</td>\n",
        "      <td> 27.469646</td>\n",
        "    </tr>\n",
        "    <tr>\n",
        "      <th>330</th>\n",
        "      <td> 2013-01-04T23:59:27Z</td>\n",
        "      <td> 1962.15</td>\n",
        "      <td> 15237.36</td>\n",
        "      <td> 11.43</td>\n",
        "      <td> 691</td>\n",
        "      <td> 7.77</td>\n",
        "      <td> 2013-01-04 23:59:27+00:00</td>\n",
        "      <td> 2013-01-04 15:59:27-08:00</td>\n",
        "      <td> 15</td>\n",
        "      <td> 9.468080</td>\n",
        "      <td> 32.702500</td>\n",
        "      <td> 0.545042</td>\n",
        "      <td> 17.371296</td>\n",
        "      <td> 25.568245</td>\n",
        "    </tr>\n",
        "    <tr>\n",
        "      <th>191</th>\n",
        "      <td> 2013-01-07T15:56:14Z</td>\n",
        "      <td> 1657.51</td>\n",
        "      <td> 14625.53</td>\n",
        "      <td> 12.02</td>\n",
        "      <td> 609</td>\n",
        "      <td> 8.82</td>\n",
        "      <td> 2013-01-07 15:56:14+00:00</td>\n",
        "      <td> 2013-01-07 07:56:14-08:00</td>\n",
        "      <td>  7</td>\n",
        "      <td> 9.087906</td>\n",
        "      <td> 27.625167</td>\n",
        "      <td> 0.460419</td>\n",
        "      <td> 19.738318</td>\n",
        "      <td> 26.888041</td>\n",
        "    </tr>\n",
        "  </tbody>\n",
        "</table>\n",
        "</div>"
       ],
       "metadata": {},
       "output_type": "pyout",
       "prompt_number": 23,
       "text": [
        "                StartTime  TotalTimeSeconds  DistanceMeters  MaximumSpeed  \\\n",
        "161  2013-01-02T15:51:51Z           1690.76        14632.39         12.05   \n",
        "51   2013-01-03T00:20:26Z           1928.39        15305.22         12.34   \n",
        "375  2013-01-04T15:46:52Z           1680.40        14651.60         12.28   \n",
        "330  2013-01-04T23:59:27Z           1962.15        15237.36         11.43   \n",
        "191  2013-01-07T15:56:14Z           1657.51        14625.53         12.02   \n",
        "\n",
        "     Calories  AverageSpeed                     parsed  \\\n",
        "161       572          8.65  2013-01-02 15:51:51+00:00   \n",
        "51        702          7.94  2013-01-03 00:20:26+00:00   \n",
        "375       572          8.72  2013-01-04 15:46:52+00:00   \n",
        "330       691          7.77  2013-01-04 23:59:27+00:00   \n",
        "191       609          8.82  2013-01-07 15:56:14+00:00   \n",
        "\n",
        "                         zoned  hour     Miles    Minutes  Trip_hours  \\\n",
        "161  2013-01-02 07:51:51-08:00     7  9.092168  28.179333    0.469656   \n",
        "51   2013-01-02 16:20:26-08:00    16  9.510246  32.139833    0.535664   \n",
        "375  2013-01-04 07:46:52-08:00     7  9.104105  28.006667    0.466778   \n",
        "330  2013-01-04 15:59:27-08:00    15  9.468080  32.702500    0.545042   \n",
        "191  2013-01-07 07:56:14-08:00     7  9.087906  27.625167    0.460419   \n",
        "\n",
        "     average_mph  maximum_mph  \n",
        "161    19.359226    26.955149  \n",
        "51     17.754130    27.603862  \n",
        "375    19.504152    27.469646  \n",
        "330    17.371296    25.568245  \n",
        "191    19.738318    26.888041  "
       ]
      }
     ],
     "prompt_number": 23
    },
    {
     "cell_type": "code",
     "collapsed": false,
     "input": [
      "#actually just want to add a column with a flag for daytime category, and sort by that. Or, could sort by hours... \n",
      "sorted_by_hours= df.sort_index(by='hour')"
     ],
     "language": "python",
     "metadata": {},
     "outputs": [],
     "prompt_number": 25
    },
    {
     "cell_type": "code",
     "collapsed": false,
     "input": [
      "sorted_by_hours.head()"
     ],
     "language": "python",
     "metadata": {},
     "outputs": [
      {
       "html": [
        "<div style=\"max-height:1000px;max-width:1500px;overflow:auto;\">\n",
        "<table border=\"1\" class=\"dataframe\">\n",
        "  <thead>\n",
        "    <tr style=\"text-align: right;\">\n",
        "      <th></th>\n",
        "      <th>StartTime</th>\n",
        "      <th>TotalTimeSeconds</th>\n",
        "      <th>DistanceMeters</th>\n",
        "      <th>MaximumSpeed</th>\n",
        "      <th>Calories</th>\n",
        "      <th>AverageSpeed</th>\n",
        "      <th>parsed</th>\n",
        "      <th>zoned</th>\n",
        "      <th>hour</th>\n",
        "      <th>Miles</th>\n",
        "      <th>Minutes</th>\n",
        "      <th>Trip_hours</th>\n",
        "      <th>average_mph</th>\n",
        "      <th>maximum_mph</th>\n",
        "    </tr>\n",
        "  </thead>\n",
        "  <tbody>\n",
        "    <tr>\n",
        "      <th>406</th>\n",
        "      <td> 2013-07-30T13:37:41Z</td>\n",
        "      <td>  574.61</td>\n",
        "      <td>  4607.00</td>\n",
        "      <td> 12.69</td>\n",
        "      <td> 184</td>\n",
        "      <td> 8.02</td>\n",
        "      <td> 2013-07-30 13:37:41+00:00</td>\n",
        "      <td> 2013-07-30 06:37:41-07:00</td>\n",
        "      <td> 6</td>\n",
        "      <td> 2.862664</td>\n",
        "      <td>  9.576833</td>\n",
        "      <td> 0.159614</td>\n",
        "      <td> 17.934932</td>\n",
        "      <td> 28.386792</td>\n",
        "    </tr>\n",
        "    <tr>\n",
        "      <th>121</th>\n",
        "      <td> 2013-05-01T13:51:33Z</td>\n",
        "      <td> 1592.60</td>\n",
        "      <td> 14634.20</td>\n",
        "      <td> 13.48</td>\n",
        "      <td> 596</td>\n",
        "      <td> 9.19</td>\n",
        "      <td> 2013-05-01 13:51:33+00:00</td>\n",
        "      <td> 2013-05-01 06:51:33-07:00</td>\n",
        "      <td> 6</td>\n",
        "      <td> 9.093293</td>\n",
        "      <td> 26.543333</td>\n",
        "      <td> 0.442389</td>\n",
        "      <td> 20.554976</td>\n",
        "      <td> 30.153976</td>\n",
        "    </tr>\n",
        "    <tr>\n",
        "      <th>120</th>\n",
        "      <td> 2013-05-01T13:43:58Z</td>\n",
        "      <td>  433.59</td>\n",
        "      <td>  3190.36</td>\n",
        "      <td> 10.91</td>\n",
        "      <td> 171</td>\n",
        "      <td> 7.36</td>\n",
        "      <td> 2013-05-01 13:43:58+00:00</td>\n",
        "      <td> 2013-05-01 06:43:58-07:00</td>\n",
        "      <td> 6</td>\n",
        "      <td> 1.982403</td>\n",
        "      <td>  7.226500</td>\n",
        "      <td> 0.120442</td>\n",
        "      <td> 16.459443</td>\n",
        "      <td> 24.405036</td>\n",
        "    </tr>\n",
        "    <tr>\n",
        "      <th>147</th>\n",
        "      <td> 2013-10-21T13:41:57Z</td>\n",
        "      <td>  695.13</td>\n",
        "      <td>  4779.31</td>\n",
        "      <td> 12.56</td>\n",
        "      <td> 147</td>\n",
        "      <td> 6.88</td>\n",
        "      <td> 2013-10-21 13:41:57+00:00</td>\n",
        "      <td> 2013-10-21 06:41:57-07:00</td>\n",
        "      <td> 6</td>\n",
        "      <td> 2.969733</td>\n",
        "      <td> 11.585500</td>\n",
        "      <td> 0.193092</td>\n",
        "      <td> 15.379912</td>\n",
        "      <td> 28.095990</td>\n",
        "    </tr>\n",
        "    <tr>\n",
        "      <th>67 </th>\n",
        "      <td> 2013-10-23T13:38:01Z</td>\n",
        "      <td>  647.00</td>\n",
        "      <td>  4788.20</td>\n",
        "      <td> 12.30</td>\n",
        "      <td> 181</td>\n",
        "      <td> 7.40</td>\n",
        "      <td> 2013-10-23 13:38:01+00:00</td>\n",
        "      <td> 2013-10-23 06:38:01-07:00</td>\n",
        "      <td> 6</td>\n",
        "      <td> 2.975257</td>\n",
        "      <td> 10.783333</td>\n",
        "      <td> 0.179722</td>\n",
        "      <td> 16.554753</td>\n",
        "      <td> 27.514385</td>\n",
        "    </tr>\n",
        "  </tbody>\n",
        "</table>\n",
        "</div>"
       ],
       "metadata": {},
       "output_type": "pyout",
       "prompt_number": 26,
       "text": [
        "                StartTime  TotalTimeSeconds  DistanceMeters  MaximumSpeed  \\\n",
        "406  2013-07-30T13:37:41Z            574.61         4607.00         12.69   \n",
        "121  2013-05-01T13:51:33Z           1592.60        14634.20         13.48   \n",
        "120  2013-05-01T13:43:58Z            433.59         3190.36         10.91   \n",
        "147  2013-10-21T13:41:57Z            695.13         4779.31         12.56   \n",
        "67   2013-10-23T13:38:01Z            647.00         4788.20         12.30   \n",
        "\n",
        "     Calories  AverageSpeed                     parsed  \\\n",
        "406       184          8.02  2013-07-30 13:37:41+00:00   \n",
        "121       596          9.19  2013-05-01 13:51:33+00:00   \n",
        "120       171          7.36  2013-05-01 13:43:58+00:00   \n",
        "147       147          6.88  2013-10-21 13:41:57+00:00   \n",
        "67        181          7.40  2013-10-23 13:38:01+00:00   \n",
        "\n",
        "                         zoned  hour     Miles    Minutes  Trip_hours  \\\n",
        "406  2013-07-30 06:37:41-07:00     6  2.862664   9.576833    0.159614   \n",
        "121  2013-05-01 06:51:33-07:00     6  9.093293  26.543333    0.442389   \n",
        "120  2013-05-01 06:43:58-07:00     6  1.982403   7.226500    0.120442   \n",
        "147  2013-10-21 06:41:57-07:00     6  2.969733  11.585500    0.193092   \n",
        "67   2013-10-23 06:38:01-07:00     6  2.975257  10.783333    0.179722   \n",
        "\n",
        "     average_mph  maximum_mph  \n",
        "406    17.934932    28.386792  \n",
        "121    20.554976    30.153976  \n",
        "120    16.459443    24.405036  \n",
        "147    15.379912    28.095990  \n",
        "67     16.554753    27.514385  "
       ]
      }
     ],
     "prompt_number": 26
    },
    {
     "cell_type": "code",
     "collapsed": false,
     "input": [
      "sorted_by_time_and_date = df.sort_index(by = ['hour', 'zoned'])"
     ],
     "language": "python",
     "metadata": {},
     "outputs": [],
     "prompt_number": 27
    },
    {
     "cell_type": "code",
     "collapsed": false,
     "input": [
      "sorted_by_time_and_date.head()"
     ],
     "language": "python",
     "metadata": {},
     "outputs": [
      {
       "html": [
        "<div style=\"max-height:1000px;max-width:1500px;overflow:auto;\">\n",
        "<table border=\"1\" class=\"dataframe\">\n",
        "  <thead>\n",
        "    <tr style=\"text-align: right;\">\n",
        "      <th></th>\n",
        "      <th>StartTime</th>\n",
        "      <th>TotalTimeSeconds</th>\n",
        "      <th>DistanceMeters</th>\n",
        "      <th>MaximumSpeed</th>\n",
        "      <th>Calories</th>\n",
        "      <th>AverageSpeed</th>\n",
        "      <th>parsed</th>\n",
        "      <th>zoned</th>\n",
        "      <th>hour</th>\n",
        "      <th>Miles</th>\n",
        "      <th>Minutes</th>\n",
        "      <th>Trip_hours</th>\n",
        "      <th>average_mph</th>\n",
        "      <th>maximum_mph</th>\n",
        "    </tr>\n",
        "  </thead>\n",
        "  <tbody>\n",
        "    <tr>\n",
        "      <th>66 </th>\n",
        "      <td> 2013-02-27T14:47:54Z</td>\n",
        "      <td> 2084.49</td>\n",
        "      <td> 17797.09</td>\n",
        "      <td> 13.30</td>\n",
        "      <td>  720</td>\n",
        "      <td> 8.54</td>\n",
        "      <td> 2013-02-27 14:47:54+00:00</td>\n",
        "      <td> 2013-02-27 06:47:54-08:00</td>\n",
        "      <td> 6</td>\n",
        "      <td> 11.058627</td>\n",
        "      <td> 34.741500</td>\n",
        "      <td> 0.579025</td>\n",
        "      <td> 19.098703</td>\n",
        "      <td> 29.751327</td>\n",
        "    </tr>\n",
        "    <tr>\n",
        "      <th>74 </th>\n",
        "      <td> 2013-03-22T13:46:00Z</td>\n",
        "      <td> 2086.73</td>\n",
        "      <td> 17819.94</td>\n",
        "      <td> 12.26</td>\n",
        "      <td>  714</td>\n",
        "      <td> 8.54</td>\n",
        "      <td> 2013-03-22 13:46:00+00:00</td>\n",
        "      <td> 2013-03-22 06:46:00-07:00</td>\n",
        "      <td> 6</td>\n",
        "      <td> 11.072825</td>\n",
        "      <td> 34.778833</td>\n",
        "      <td> 0.579647</td>\n",
        "      <td> 19.102696</td>\n",
        "      <td> 27.424907</td>\n",
        "    </tr>\n",
        "    <tr>\n",
        "      <th>230</th>\n",
        "      <td> 2013-04-09T13:44:35Z</td>\n",
        "      <td> 3548.92</td>\n",
        "      <td> 29733.52</td>\n",
        "      <td> 13.88</td>\n",
        "      <td> 1195</td>\n",
        "      <td> 8.38</td>\n",
        "      <td> 2013-04-09 13:44:35+00:00</td>\n",
        "      <td> 2013-04-09 06:44:35-07:00</td>\n",
        "      <td> 6</td>\n",
        "      <td> 18.475599</td>\n",
        "      <td> 59.148667</td>\n",
        "      <td> 0.985811</td>\n",
        "      <td> 18.741520</td>\n",
        "      <td> 31.048753</td>\n",
        "    </tr>\n",
        "    <tr>\n",
        "      <th>120</th>\n",
        "      <td> 2013-05-01T13:43:58Z</td>\n",
        "      <td>  433.59</td>\n",
        "      <td>  3190.36</td>\n",
        "      <td> 10.91</td>\n",
        "      <td>  171</td>\n",
        "      <td> 7.36</td>\n",
        "      <td> 2013-05-01 13:43:58+00:00</td>\n",
        "      <td> 2013-05-01 06:43:58-07:00</td>\n",
        "      <td> 6</td>\n",
        "      <td>  1.982403</td>\n",
        "      <td>  7.226500</td>\n",
        "      <td> 0.120442</td>\n",
        "      <td> 16.459443</td>\n",
        "      <td> 24.405036</td>\n",
        "    </tr>\n",
        "    <tr>\n",
        "      <th>121</th>\n",
        "      <td> 2013-05-01T13:51:33Z</td>\n",
        "      <td> 1592.60</td>\n",
        "      <td> 14634.20</td>\n",
        "      <td> 13.48</td>\n",
        "      <td>  596</td>\n",
        "      <td> 9.19</td>\n",
        "      <td> 2013-05-01 13:51:33+00:00</td>\n",
        "      <td> 2013-05-01 06:51:33-07:00</td>\n",
        "      <td> 6</td>\n",
        "      <td>  9.093293</td>\n",
        "      <td> 26.543333</td>\n",
        "      <td> 0.442389</td>\n",
        "      <td> 20.554976</td>\n",
        "      <td> 30.153976</td>\n",
        "    </tr>\n",
        "  </tbody>\n",
        "</table>\n",
        "</div>"
       ],
       "metadata": {},
       "output_type": "pyout",
       "prompt_number": 28,
       "text": [
        "                StartTime  TotalTimeSeconds  DistanceMeters  MaximumSpeed  \\\n",
        "66   2013-02-27T14:47:54Z           2084.49        17797.09         13.30   \n",
        "74   2013-03-22T13:46:00Z           2086.73        17819.94         12.26   \n",
        "230  2013-04-09T13:44:35Z           3548.92        29733.52         13.88   \n",
        "120  2013-05-01T13:43:58Z            433.59         3190.36         10.91   \n",
        "121  2013-05-01T13:51:33Z           1592.60        14634.20         13.48   \n",
        "\n",
        "     Calories  AverageSpeed                     parsed  \\\n",
        "66        720          8.54  2013-02-27 14:47:54+00:00   \n",
        "74        714          8.54  2013-03-22 13:46:00+00:00   \n",
        "230      1195          8.38  2013-04-09 13:44:35+00:00   \n",
        "120       171          7.36  2013-05-01 13:43:58+00:00   \n",
        "121       596          9.19  2013-05-01 13:51:33+00:00   \n",
        "\n",
        "                         zoned  hour      Miles    Minutes  Trip_hours  \\\n",
        "66   2013-02-27 06:47:54-08:00     6  11.058627  34.741500    0.579025   \n",
        "74   2013-03-22 06:46:00-07:00     6  11.072825  34.778833    0.579647   \n",
        "230  2013-04-09 06:44:35-07:00     6  18.475599  59.148667    0.985811   \n",
        "120  2013-05-01 06:43:58-07:00     6   1.982403   7.226500    0.120442   \n",
        "121  2013-05-01 06:51:33-07:00     6   9.093293  26.543333    0.442389   \n",
        "\n",
        "     average_mph  maximum_mph  \n",
        "66     19.098703    29.751327  \n",
        "74     19.102696    27.424907  \n",
        "230    18.741520    31.048753  \n",
        "120    16.459443    24.405036  \n",
        "121    20.554976    30.153976  "
       ]
      }
     ],
     "prompt_number": 28
    },
    {
     "cell_type": "code",
     "collapsed": false,
     "input": [
      "#might be interesting to know the std of minutes within the same hour departure\n",
      "#also want to know average speed relative to time of day - could do this using GROUP BY "
     ],
     "language": "python",
     "metadata": {},
     "outputs": []
    },
    {
     "cell_type": "code",
     "collapsed": false,
     "input": [
      "q=\"\"\"SELECT *\n",
      "FROM sorted_by_time_and_date\n",
      "GROUP BY hour\"\"\"\n",
      "\n",
      "subset=pandasql.sqldf(q, locals())\n",
      "\n",
      "set_time = subset.set_index(['hour'])"
     ],
     "language": "python",
     "metadata": {},
     "outputs": [],
     "prompt_number": 40
    },
    {
     "cell_type": "code",
     "collapsed": false,
     "input": [
      "set_time.head()"
     ],
     "language": "python",
     "metadata": {},
     "outputs": [
      {
       "html": [
        "<div style=\"max-height:1000px;max-width:1500px;overflow:auto;\">\n",
        "<table border=\"1\" class=\"dataframe\">\n",
        "  <thead>\n",
        "    <tr style=\"text-align: right;\">\n",
        "      <th></th>\n",
        "      <th>StartTime</th>\n",
        "      <th>TotalTimeSeconds</th>\n",
        "      <th>DistanceMeters</th>\n",
        "      <th>MaximumSpeed</th>\n",
        "      <th>Calories</th>\n",
        "      <th>AverageSpeed</th>\n",
        "      <th>parsed</th>\n",
        "      <th>zoned</th>\n",
        "      <th>Miles</th>\n",
        "      <th>Minutes</th>\n",
        "      <th>Trip_hours</th>\n",
        "      <th>average_mph</th>\n",
        "      <th>maximum_mph</th>\n",
        "    </tr>\n",
        "    <tr>\n",
        "      <th>hour</th>\n",
        "      <th></th>\n",
        "      <th></th>\n",
        "      <th></th>\n",
        "      <th></th>\n",
        "      <th></th>\n",
        "      <th></th>\n",
        "      <th></th>\n",
        "      <th></th>\n",
        "      <th></th>\n",
        "      <th></th>\n",
        "      <th></th>\n",
        "      <th></th>\n",
        "      <th></th>\n",
        "    </tr>\n",
        "  </thead>\n",
        "  <tbody>\n",
        "    <tr>\n",
        "      <th>6 </th>\n",
        "      <td> 2013-12-20T14:43:14Z</td>\n",
        "      <td>  584.96</td>\n",
        "      <td>  4738.29</td>\n",
        "      <td> 12.76</td>\n",
        "      <td> 217</td>\n",
        "      <td> 8.10</td>\n",
        "      <td> 2013-12-20 14:43:14+00:00</td>\n",
        "      <td> 2013-12-20 06:43:14-08:00</td>\n",
        "      <td>  2.944244</td>\n",
        "      <td>  9.749333</td>\n",
        "      <td> 0.162489</td>\n",
        "      <td> 18.119665</td>\n",
        "      <td> 28.543378</td>\n",
        "    </tr>\n",
        "    <tr>\n",
        "      <th>7 </th>\n",
        "      <td> 2013-12-20T15:45:24Z</td>\n",
        "      <td> 1675.85</td>\n",
        "      <td> 14658.69</td>\n",
        "      <td> 11.75</td>\n",
        "      <td> 603</td>\n",
        "      <td> 8.75</td>\n",
        "      <td> 2013-12-20 15:45:24+00:00</td>\n",
        "      <td> 2013-12-20 07:45:24-08:00</td>\n",
        "      <td>  9.108510</td>\n",
        "      <td> 27.930833</td>\n",
        "      <td> 0.465514</td>\n",
        "      <td> 19.566570</td>\n",
        "      <td> 26.284067</td>\n",
        "    </tr>\n",
        "    <tr>\n",
        "      <th>8 </th>\n",
        "      <td> 2013-05-15T15:13:33Z</td>\n",
        "      <td> 1614.88</td>\n",
        "      <td> 14640.58</td>\n",
        "      <td> 13.17</td>\n",
        "      <td> 614</td>\n",
        "      <td> 9.07</td>\n",
        "      <td> 2013-05-15 15:13:33+00:00</td>\n",
        "      <td> 2013-05-15 08:13:33-07:00</td>\n",
        "      <td>  9.097257</td>\n",
        "      <td> 26.914667</td>\n",
        "      <td> 0.448578</td>\n",
        "      <td> 20.280223</td>\n",
        "      <td> 29.460524</td>\n",
        "    </tr>\n",
        "    <tr>\n",
        "      <th>13</th>\n",
        "      <td> 2013-12-28T21:52:17Z</td>\n",
        "      <td> 5516.75</td>\n",
        "      <td> 25004.50</td>\n",
        "      <td> 10.16</td>\n",
        "      <td> 889</td>\n",
        "      <td> 4.53</td>\n",
        "      <td> 2013-12-28 21:52:17+00:00</td>\n",
        "      <td> 2013-12-28 13:52:17-08:00</td>\n",
        "      <td> 15.537115</td>\n",
        "      <td> 91.945833</td>\n",
        "      <td> 1.532431</td>\n",
        "      <td> 10.138870</td>\n",
        "      <td> 22.727329</td>\n",
        "    </tr>\n",
        "    <tr>\n",
        "      <th>14</th>\n",
        "      <td> 2013-12-27T22:44:42Z</td>\n",
        "      <td> 1951.80</td>\n",
        "      <td> 10517.86</td>\n",
        "      <td> 10.72</td>\n",
        "      <td> 567</td>\n",
        "      <td> 5.39</td>\n",
        "      <td> 2013-12-27 22:44:42+00:00</td>\n",
        "      <td> 2013-12-27 14:44:42-08:00</td>\n",
        "      <td>  6.535511</td>\n",
        "      <td> 32.530000</td>\n",
        "      <td> 0.542167</td>\n",
        "      <td> 12.054432</td>\n",
        "      <td> 23.980017</td>\n",
        "    </tr>\n",
        "  </tbody>\n",
        "</table>\n",
        "</div>"
       ],
       "metadata": {},
       "output_type": "pyout",
       "prompt_number": 41,
       "text": [
        "                 StartTime  TotalTimeSeconds  DistanceMeters  MaximumSpeed  \\\n",
        "hour                                                                         \n",
        "6     2013-12-20T14:43:14Z            584.96         4738.29         12.76   \n",
        "7     2013-12-20T15:45:24Z           1675.85        14658.69         11.75   \n",
        "8     2013-05-15T15:13:33Z           1614.88        14640.58         13.17   \n",
        "13    2013-12-28T21:52:17Z           5516.75        25004.50         10.16   \n",
        "14    2013-12-27T22:44:42Z           1951.80        10517.86         10.72   \n",
        "\n",
        "      Calories  AverageSpeed                     parsed  \\\n",
        "hour                                                      \n",
        "6          217          8.10  2013-12-20 14:43:14+00:00   \n",
        "7          603          8.75  2013-12-20 15:45:24+00:00   \n",
        "8          614          9.07  2013-05-15 15:13:33+00:00   \n",
        "13         889          4.53  2013-12-28 21:52:17+00:00   \n",
        "14         567          5.39  2013-12-27 22:44:42+00:00   \n",
        "\n",
        "                          zoned      Miles    Minutes  Trip_hours  \\\n",
        "hour                                                                \n",
        "6     2013-12-20 06:43:14-08:00   2.944244   9.749333    0.162489   \n",
        "7     2013-12-20 07:45:24-08:00   9.108510  27.930833    0.465514   \n",
        "8     2013-05-15 08:13:33-07:00   9.097257  26.914667    0.448578   \n",
        "13    2013-12-28 13:52:17-08:00  15.537115  91.945833    1.532431   \n",
        "14    2013-12-27 14:44:42-08:00   6.535511  32.530000    0.542167   \n",
        "\n",
        "      average_mph  maximum_mph  \n",
        "hour                            \n",
        "6       18.119665    28.543378  \n",
        "7       19.566570    26.284067  \n",
        "8       20.280223    29.460524  \n",
        "13      10.138870    22.727329  \n",
        "14      12.054432    23.980017  "
       ]
      }
     ],
     "prompt_number": 41
    },
    {
     "cell_type": "code",
     "collapsed": false,
     "input": [
      "fig, axes=plt.subplots(nrows=2, ncols=3)\n",
      "\n",
      "set_time['Calories'].plot(kind='bar', ax=axes[0,0]); axes[0,0].set_title('Calories')\n",
      "set_time['maximum_mph'].plot(kind='bar', ax=axes[0,1]); axes[0,1].set_title('max speed(mph)')\n",
      "set_time['average_mph'].plot(kind='bar', ax=axes[0,2]); axes[0,2].set_title('avg speed(mph)')\n",
      "set_time['Miles'].plot(kind='bar', ax=axes[1,0]); axes[1,0].set_title('Miles')\n",
      "set_time['Minutes'].plot(kind='bar', ax=axes[1,1]); axes[1,1].set_title('Minutes')\n",
      "plt.tight_layout() #required to keep x-axis labels & titles from overlapping"
     ],
     "language": "python",
     "metadata": {},
     "outputs": [
      {
       "metadata": {},
       "output_type": "display_data",
       "png": "[encoded data removed]",
       "text": [
        "<matplotlib.figure.Figure at 0x109ae8e90>"
       ]
      }
     ],
     "prompt_number": 52
    },
    {
     "cell_type": "code",
     "collapsed": false,
     "input": [
      "#not sure what group by is doing here- is that the average, the max, some random number-? "
     ],
     "language": "python",
     "metadata": {},
     "outputs": []
    }
   ],
   "metadata": {}
  }
 ]
}