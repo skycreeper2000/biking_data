{
 "metadata": {
  "name": "",
  "signature": "sha256:a0c9c4c1107751657b15f0cb6c8a4e08a30b0aeaea59da92e47c29ee504d06b6"
 },
 "nbformat": 3,
 "nbformat_minor": 0,
 "worksheets": [
  {
   "cells": [
    {
     "cell_type": "code",
     "collapsed": false,
     "input": [
      "#try at least four ways to sort data: distance threshold, alternating rows, timestamp, machine learning\n",
      "#city is short(<5 miles), suburb is long(~10 miles), and there are some outliers that are 15 miles\n",
      "\n",
      "import pandas\n",
      "import matplotlib.pyplot as plt\n",
      "import matplotlib\n",
      "import seaborn as sns\n",
      "import numpy as np\n",
      "\n",
      "%matplotlib inline\n",
      "df = pandas.read_csv(\"updated_2013.csv\", index_col=0)\n"
     ],
     "language": "python",
     "metadata": {},
     "outputs": [],
     "prompt_number": 2
    },
    {
     "cell_type": "code",
     "collapsed": false,
     "input": [
      "sns.set_palette(\"deep\", desat=0.6)\n",
      "sns.set_context(rc={\"figure.figsize\": (8,4)})"
     ],
     "language": "python",
     "metadata": {},
     "outputs": [],
     "prompt_number": 3
    },
    {
     "cell_type": "code",
     "collapsed": false,
     "input": [
      "matplotlib.matplotlib_fname()"
     ],
     "language": "python",
     "metadata": {},
     "outputs": [
      {
       "metadata": {},
       "output_type": "pyout",
       "prompt_number": 44,
       "text": [
        "'/Users/szeitlin/anaconda/lib/python2.7/site-packages/matplotlib/mpl-data/matplotlibrc'"
       ]
      }
     ],
     "prompt_number": 44
    },
    {
     "cell_type": "code",
     "collapsed": false,
     "input": [
      "df.head()"
     ],
     "language": "python",
     "metadata": {},
     "outputs": [
      {
       "html": [
        "<div style=\"max-height:1000px;max-width:1500px;overflow:auto;\">\n",
        "<table border=\"1\" class=\"dataframe\">\n",
        "  <thead>\n",
        "    <tr style=\"text-align: right;\">\n",
        "      <th></th>\n",
        "      <th>TotalTimeSeconds</th>\n",
        "      <th>DistanceMeters</th>\n",
        "      <th>MaximumSpeed</th>\n",
        "      <th>Calories</th>\n",
        "      <th>AverageSpeed</th>\n",
        "      <th>Miles</th>\n",
        "      <th>Minutes</th>\n",
        "      <th>Hours</th>\n",
        "      <th>average_mph</th>\n",
        "      <th>maximum_mph</th>\n",
        "    </tr>\n",
        "  </thead>\n",
        "  <tbody>\n",
        "    <tr>\n",
        "      <th>2013-01-02 15:51:51</th>\n",
        "      <td> 1690.76</td>\n",
        "      <td> 14632.39</td>\n",
        "      <td> 12.05</td>\n",
        "      <td> 572</td>\n",
        "      <td> 8.65</td>\n",
        "      <td> 9.09</td>\n",
        "      <td> 28.18</td>\n",
        "      <td> 0.47</td>\n",
        "      <td> 19.36</td>\n",
        "      <td> 26.96</td>\n",
        "    </tr>\n",
        "    <tr>\n",
        "      <th>2013-01-03 00:20:26</th>\n",
        "      <td> 1928.39</td>\n",
        "      <td> 15305.22</td>\n",
        "      <td> 12.34</td>\n",
        "      <td> 702</td>\n",
        "      <td> 7.94</td>\n",
        "      <td> 9.51</td>\n",
        "      <td> 32.14</td>\n",
        "      <td> 0.54</td>\n",
        "      <td> 17.75</td>\n",
        "      <td> 27.60</td>\n",
        "    </tr>\n",
        "    <tr>\n",
        "      <th>2013-01-04 15:46:52</th>\n",
        "      <td> 1680.40</td>\n",
        "      <td> 14651.60</td>\n",
        "      <td> 12.28</td>\n",
        "      <td> 572</td>\n",
        "      <td> 8.72</td>\n",
        "      <td> 9.10</td>\n",
        "      <td> 28.01</td>\n",
        "      <td> 0.47</td>\n",
        "      <td> 19.50</td>\n",
        "      <td> 27.47</td>\n",
        "    </tr>\n",
        "    <tr>\n",
        "      <th>2013-01-04 23:59:27</th>\n",
        "      <td> 1962.15</td>\n",
        "      <td> 15237.36</td>\n",
        "      <td> 11.43</td>\n",
        "      <td> 691</td>\n",
        "      <td> 7.77</td>\n",
        "      <td> 9.47</td>\n",
        "      <td> 32.70</td>\n",
        "      <td> 0.55</td>\n",
        "      <td> 17.37</td>\n",
        "      <td> 25.57</td>\n",
        "    </tr>\n",
        "    <tr>\n",
        "      <th>2013-01-07 15:56:14</th>\n",
        "      <td> 1657.51</td>\n",
        "      <td> 14625.53</td>\n",
        "      <td> 12.02</td>\n",
        "      <td> 609</td>\n",
        "      <td> 8.82</td>\n",
        "      <td> 9.09</td>\n",
        "      <td> 27.63</td>\n",
        "      <td> 0.46</td>\n",
        "      <td> 19.74</td>\n",
        "      <td> 26.89</td>\n",
        "    </tr>\n",
        "  </tbody>\n",
        "</table>\n",
        "</div>"
       ],
       "metadata": {},
       "output_type": "pyout",
       "prompt_number": 19,
       "text": [
        "                     TotalTimeSeconds  DistanceMeters  MaximumSpeed  Calories  \\\n",
        "2013-01-02 15:51:51           1690.76        14632.39         12.05       572   \n",
        "2013-01-03 00:20:26           1928.39        15305.22         12.34       702   \n",
        "2013-01-04 15:46:52           1680.40        14651.60         12.28       572   \n",
        "2013-01-04 23:59:27           1962.15        15237.36         11.43       691   \n",
        "2013-01-07 15:56:14           1657.51        14625.53         12.02       609   \n",
        "\n",
        "                     AverageSpeed  Miles  Minutes  Hours  average_mph  \\\n",
        "2013-01-02 15:51:51          8.65   9.09    28.18   0.47        19.36   \n",
        "2013-01-03 00:20:26          7.94   9.51    32.14   0.54        17.75   \n",
        "2013-01-04 15:46:52          8.72   9.10    28.01   0.47        19.50   \n",
        "2013-01-04 23:59:27          7.77   9.47    32.70   0.55        17.37   \n",
        "2013-01-07 15:56:14          8.82   9.09    27.63   0.46        19.74   \n",
        "\n",
        "                     maximum_mph  \n",
        "2013-01-02 15:51:51        26.96  \n",
        "2013-01-03 00:20:26        27.60  \n",
        "2013-01-04 15:46:52        27.47  \n",
        "2013-01-04 23:59:27        25.57  \n",
        "2013-01-07 15:56:14        26.89  "
       ]
      }
     ],
     "prompt_number": 19
    },
    {
     "cell_type": "code",
     "collapsed": false,
     "input": [
      "#will have to clean up to analyze only pairs/sets of four on the same day (?) - although he says he didn't turn on the computer in the city \n",
      "#until after moving farther away"
     ],
     "language": "python",
     "metadata": {},
     "outputs": [],
     "prompt_number": 21
    },
    {
     "cell_type": "code",
     "collapsed": false,
     "input": [
      "type(df.index)"
     ],
     "language": "python",
     "metadata": {},
     "outputs": [
      {
       "metadata": {},
       "output_type": "pyout",
       "prompt_number": 23,
       "text": [
        "pandas.core.index.Index"
       ]
      }
     ],
     "prompt_number": 23
    },
    {
     "cell_type": "code",
     "collapsed": false,
     "input": [
      "df.index = [pandas.to_datetime(x) for x in df.index] "
     ],
     "language": "python",
     "metadata": {},
     "outputs": [],
     "prompt_number": 4
    },
    {
     "cell_type": "code",
     "collapsed": false,
     "input": [
      "df.to_csv(\"datetime_indexed.csv\")"
     ],
     "language": "python",
     "metadata": {},
     "outputs": [],
     "prompt_number": 5
    },
    {
     "cell_type": "code",
     "collapsed": false,
     "input": [
      "#may be useful to group by business day? \n",
      "daily = df.resample('B')\n",
      "daily.shape"
     ],
     "language": "python",
     "metadata": {},
     "outputs": [
      {
       "metadata": {},
       "output_type": "pyout",
       "prompt_number": 5,
       "text": [
        "(258, 10)"
       ]
      }
     ],
     "prompt_number": 5
    },
    {
     "cell_type": "code",
     "collapsed": false,
     "input": [
      "daily.head()"
     ],
     "language": "python",
     "metadata": {},
     "outputs": [
      {
       "html": [
        "<div style=\"max-height:1000px;max-width:1500px;overflow:auto;\">\n",
        "<table border=\"1\" class=\"dataframe\">\n",
        "  <thead>\n",
        "    <tr style=\"text-align: right;\">\n",
        "      <th></th>\n",
        "      <th>TotalTimeSeconds</th>\n",
        "      <th>DistanceMeters</th>\n",
        "      <th>MaximumSpeed</th>\n",
        "      <th>Calories</th>\n",
        "      <th>AverageSpeed</th>\n",
        "      <th>Miles</th>\n",
        "      <th>Minutes</th>\n",
        "      <th>Hours</th>\n",
        "      <th>average_mph</th>\n",
        "      <th>maximum_mph</th>\n",
        "    </tr>\n",
        "  </thead>\n",
        "  <tbody>\n",
        "    <tr>\n",
        "      <th>2013-01-02</th>\n",
        "      <td> 1690.760</td>\n",
        "      <td> 14632.39</td>\n",
        "      <td> 12.050</td>\n",
        "      <td> 572.0</td>\n",
        "      <td> 8.650</td>\n",
        "      <td> 9.090</td>\n",
        "      <td> 28.180</td>\n",
        "      <td> 0.47</td>\n",
        "      <td> 19.360</td>\n",
        "      <td> 26.96</td>\n",
        "    </tr>\n",
        "    <tr>\n",
        "      <th>2013-01-03</th>\n",
        "      <td> 1928.390</td>\n",
        "      <td> 15305.22</td>\n",
        "      <td> 12.340</td>\n",
        "      <td> 702.0</td>\n",
        "      <td> 7.940</td>\n",
        "      <td> 9.510</td>\n",
        "      <td> 32.140</td>\n",
        "      <td> 0.54</td>\n",
        "      <td> 17.750</td>\n",
        "      <td> 27.60</td>\n",
        "    </tr>\n",
        "    <tr>\n",
        "      <th>2013-01-04</th>\n",
        "      <td> 1821.275</td>\n",
        "      <td> 14944.48</td>\n",
        "      <td> 11.855</td>\n",
        "      <td> 631.5</td>\n",
        "      <td> 8.245</td>\n",
        "      <td> 9.285</td>\n",
        "      <td> 30.355</td>\n",
        "      <td> 0.51</td>\n",
        "      <td> 18.435</td>\n",
        "      <td> 26.52</td>\n",
        "    </tr>\n",
        "    <tr>\n",
        "      <th>2013-01-07</th>\n",
        "      <td> 1657.510</td>\n",
        "      <td> 14625.53</td>\n",
        "      <td> 12.020</td>\n",
        "      <td> 609.0</td>\n",
        "      <td> 8.820</td>\n",
        "      <td> 9.090</td>\n",
        "      <td> 27.630</td>\n",
        "      <td> 0.46</td>\n",
        "      <td> 19.740</td>\n",
        "      <td> 26.89</td>\n",
        "    </tr>\n",
        "    <tr>\n",
        "      <th>2013-01-08</th>\n",
        "      <td> 1794.495</td>\n",
        "      <td> 14882.82</td>\n",
        "      <td> 12.120</td>\n",
        "      <td> 662.0</td>\n",
        "      <td> 8.295</td>\n",
        "      <td> 9.245</td>\n",
        "      <td> 29.910</td>\n",
        "      <td> 0.50</td>\n",
        "      <td> 18.555</td>\n",
        "      <td> 27.11</td>\n",
        "    </tr>\n",
        "  </tbody>\n",
        "</table>\n",
        "</div>"
       ],
       "metadata": {},
       "output_type": "pyout",
       "prompt_number": 31,
       "text": [
        "            TotalTimeSeconds  DistanceMeters  MaximumSpeed  Calories  \\\n",
        "2013-01-02          1690.760        14632.39        12.050     572.0   \n",
        "2013-01-03          1928.390        15305.22        12.340     702.0   \n",
        "2013-01-04          1821.275        14944.48        11.855     631.5   \n",
        "2013-01-07          1657.510        14625.53        12.020     609.0   \n",
        "2013-01-08          1794.495        14882.82        12.120     662.0   \n",
        "\n",
        "            AverageSpeed  Miles  Minutes  Hours  average_mph  maximum_mph  \n",
        "2013-01-02         8.650  9.090   28.180   0.47       19.360        26.96  \n",
        "2013-01-03         7.940  9.510   32.140   0.54       17.750        27.60  \n",
        "2013-01-04         8.245  9.285   30.355   0.51       18.435        26.52  \n",
        "2013-01-07         8.820  9.090   27.630   0.46       19.740        26.89  \n",
        "2013-01-08         8.295  9.245   29.910   0.50       18.555        27.11  "
       ]
      }
     ],
     "prompt_number": 31
    },
    {
     "cell_type": "code",
     "collapsed": false,
     "input": [
      "#would like to round these off to integers since the decimal places are ugly on the x-axis\n",
      "cleaner = daily.dropna() #this drops a lot of rows since it's using 'any' NA by default \n",
      "somedays = cleaner.astype('int')\n",
      "somedays.shape\n"
     ],
     "language": "python",
     "metadata": {},
     "outputs": [
      {
       "metadata": {},
       "output_type": "pyout",
       "prompt_number": 6,
       "text": [
        "(169, 10)"
       ]
      }
     ],
     "prompt_number": 6
    },
    {
     "cell_type": "code",
     "collapsed": false,
     "input": [
      "somedays.head()"
     ],
     "language": "python",
     "metadata": {},
     "outputs": [
      {
       "html": [
        "<div style=\"max-height:1000px;max-width:1500px;overflow:auto;\">\n",
        "<table border=\"1\" class=\"dataframe\">\n",
        "  <thead>\n",
        "    <tr style=\"text-align: right;\">\n",
        "      <th></th>\n",
        "      <th>TotalTimeSeconds</th>\n",
        "      <th>DistanceMeters</th>\n",
        "      <th>MaximumSpeed</th>\n",
        "      <th>Calories</th>\n",
        "      <th>AverageSpeed</th>\n",
        "      <th>Miles</th>\n",
        "      <th>Minutes</th>\n",
        "      <th>Hours</th>\n",
        "      <th>average_mph</th>\n",
        "      <th>maximum_mph</th>\n",
        "    </tr>\n",
        "  </thead>\n",
        "  <tbody>\n",
        "    <tr>\n",
        "      <th>2013-01-02</th>\n",
        "      <td> 1690</td>\n",
        "      <td> 14632</td>\n",
        "      <td> 12</td>\n",
        "      <td> 572</td>\n",
        "      <td> 8</td>\n",
        "      <td> 9</td>\n",
        "      <td> 28</td>\n",
        "      <td> 0</td>\n",
        "      <td> 19</td>\n",
        "      <td> 26</td>\n",
        "    </tr>\n",
        "    <tr>\n",
        "      <th>2013-01-03</th>\n",
        "      <td> 1928</td>\n",
        "      <td> 15305</td>\n",
        "      <td> 12</td>\n",
        "      <td> 702</td>\n",
        "      <td> 7</td>\n",
        "      <td> 9</td>\n",
        "      <td> 32</td>\n",
        "      <td> 0</td>\n",
        "      <td> 17</td>\n",
        "      <td> 27</td>\n",
        "    </tr>\n",
        "    <tr>\n",
        "      <th>2013-01-04</th>\n",
        "      <td> 1821</td>\n",
        "      <td> 14944</td>\n",
        "      <td> 11</td>\n",
        "      <td> 631</td>\n",
        "      <td> 8</td>\n",
        "      <td> 9</td>\n",
        "      <td> 30</td>\n",
        "      <td> 0</td>\n",
        "      <td> 18</td>\n",
        "      <td> 26</td>\n",
        "    </tr>\n",
        "    <tr>\n",
        "      <th>2013-01-07</th>\n",
        "      <td> 1657</td>\n",
        "      <td> 14625</td>\n",
        "      <td> 12</td>\n",
        "      <td> 609</td>\n",
        "      <td> 8</td>\n",
        "      <td> 9</td>\n",
        "      <td> 27</td>\n",
        "      <td> 0</td>\n",
        "      <td> 19</td>\n",
        "      <td> 26</td>\n",
        "    </tr>\n",
        "    <tr>\n",
        "      <th>2013-01-08</th>\n",
        "      <td> 1794</td>\n",
        "      <td> 14882</td>\n",
        "      <td> 12</td>\n",
        "      <td> 662</td>\n",
        "      <td> 8</td>\n",
        "      <td> 9</td>\n",
        "      <td> 29</td>\n",
        "      <td> 0</td>\n",
        "      <td> 18</td>\n",
        "      <td> 27</td>\n",
        "    </tr>\n",
        "  </tbody>\n",
        "</table>\n",
        "</div>"
       ],
       "metadata": {},
       "output_type": "pyout",
       "prompt_number": 10,
       "text": [
        "            TotalTimeSeconds  DistanceMeters  MaximumSpeed  Calories  \\\n",
        "2013-01-02              1690           14632            12       572   \n",
        "2013-01-03              1928           15305            12       702   \n",
        "2013-01-04              1821           14944            11       631   \n",
        "2013-01-07              1657           14625            12       609   \n",
        "2013-01-08              1794           14882            12       662   \n",
        "\n",
        "            AverageSpeed  Miles  Minutes  Hours  average_mph  maximum_mph  \n",
        "2013-01-02             8      9       28      0           19           26  \n",
        "2013-01-03             7      9       32      0           17           27  \n",
        "2013-01-04             8      9       30      0           18           26  \n",
        "2013-01-07             8      9       27      0           19           26  \n",
        "2013-01-08             8      9       29      0           18           27  "
       ]
      }
     ],
     "prompt_number": 10
    },
    {
     "cell_type": "code",
     "collapsed": false,
     "input": [
      "import pandasql"
     ],
     "language": "python",
     "metadata": {},
     "outputs": [],
     "prompt_number": 7
    },
    {
     "cell_type": "code",
     "collapsed": false,
     "input": [
      "q=\"\"\"SELECT *\n",
      "FROM df\n",
      "WHERE Miles <6\"\"\""
     ],
     "language": "python",
     "metadata": {},
     "outputs": [],
     "prompt_number": 8
    },
    {
     "cell_type": "code",
     "collapsed": false,
     "input": [
      "city = pandasql.sqldf(q, locals())"
     ],
     "language": "python",
     "metadata": {},
     "outputs": [
      {
       "output_type": "stream",
       "stream": "stderr",
       "text": [
        "/Users/szeitlin/anaconda/lib/python2.7/site-packages/pandas/io/sql.py:1234: FutureWarning: write_frame is deprecated, use to_sql\n",
        "  warnings.warn(\"write_frame is deprecated, use to_sql\", FutureWarning)\n",
        "/Users/szeitlin/anaconda/lib/python2.7/site-packages/pandas/io/sql.py:1196: FutureWarning: frame_query is deprecated, use read_sql\n",
        "  warnings.warn(\"frame_query is deprecated, use read_sql\", FutureWarning)\n"
       ]
      }
     ],
     "prompt_number": 9
    },
    {
     "cell_type": "code",
     "collapsed": false,
     "input": [
      "city.head()"
     ],
     "language": "python",
     "metadata": {},
     "outputs": [
      {
       "html": [
        "<div style=\"max-height:1000px;max-width:1500px;overflow:auto;\">\n",
        "<table border=\"1\" class=\"dataframe\">\n",
        "  <thead>\n",
        "    <tr style=\"text-align: right;\">\n",
        "      <th></th>\n",
        "      <th>TotalTimeSeconds</th>\n",
        "      <th>DistanceMeters</th>\n",
        "      <th>MaximumSpeed</th>\n",
        "      <th>Calories</th>\n",
        "      <th>AverageSpeed</th>\n",
        "      <th>Miles</th>\n",
        "      <th>Minutes</th>\n",
        "      <th>Hours</th>\n",
        "      <th>average_mph</th>\n",
        "      <th>maximum_mph</th>\n",
        "    </tr>\n",
        "  </thead>\n",
        "  <tbody>\n",
        "    <tr>\n",
        "      <th>0</th>\n",
        "      <td> 771.73</td>\n",
        "      <td> 7129.59</td>\n",
        "      <td> 12.56</td>\n",
        "      <td> 293</td>\n",
        "      <td> 9.24</td>\n",
        "      <td> 4.43</td>\n",
        "      <td> 12.86</td>\n",
        "      <td> 0.21</td>\n",
        "      <td> 20.67</td>\n",
        "      <td> 28.10</td>\n",
        "    </tr>\n",
        "    <tr>\n",
        "      <th>1</th>\n",
        "      <td> 294.39</td>\n",
        "      <td> 1134.18</td>\n",
        "      <td>  9.08</td>\n",
        "      <td> 113</td>\n",
        "      <td> 3.85</td>\n",
        "      <td> 0.70</td>\n",
        "      <td>  4.91</td>\n",
        "      <td> 0.08</td>\n",
        "      <td>  8.62</td>\n",
        "      <td> 20.31</td>\n",
        "    </tr>\n",
        "    <tr>\n",
        "      <th>2</th>\n",
        "      <td> 433.59</td>\n",
        "      <td> 3190.36</td>\n",
        "      <td> 10.91</td>\n",
        "      <td> 171</td>\n",
        "      <td> 7.36</td>\n",
        "      <td> 1.98</td>\n",
        "      <td>  7.23</td>\n",
        "      <td> 0.12</td>\n",
        "      <td> 16.46</td>\n",
        "      <td> 24.41</td>\n",
        "    </tr>\n",
        "    <tr>\n",
        "      <th>3</th>\n",
        "      <td> 421.52</td>\n",
        "      <td> 3138.91</td>\n",
        "      <td> 11.48</td>\n",
        "      <td> 168</td>\n",
        "      <td> 7.45</td>\n",
        "      <td> 1.95</td>\n",
        "      <td>  7.03</td>\n",
        "      <td> 0.12</td>\n",
        "      <td> 16.66</td>\n",
        "      <td> 25.68</td>\n",
        "    </tr>\n",
        "    <tr>\n",
        "      <th>4</th>\n",
        "      <td> 531.08</td>\n",
        "      <td> 3085.59</td>\n",
        "      <td>  9.74</td>\n",
        "      <td> 140</td>\n",
        "      <td> 5.81</td>\n",
        "      <td> 1.92</td>\n",
        "      <td>  8.85</td>\n",
        "      <td> 0.15</td>\n",
        "      <td> 13.00</td>\n",
        "      <td> 21.79</td>\n",
        "    </tr>\n",
        "  </tbody>\n",
        "</table>\n",
        "</div>"
       ],
       "metadata": {},
       "output_type": "pyout",
       "prompt_number": 29,
       "text": [
        "   TotalTimeSeconds  DistanceMeters  MaximumSpeed  Calories  AverageSpeed  \\\n",
        "0            771.73         7129.59         12.56       293          9.24   \n",
        "1            294.39         1134.18          9.08       113          3.85   \n",
        "2            433.59         3190.36         10.91       171          7.36   \n",
        "3            421.52         3138.91         11.48       168          7.45   \n",
        "4            531.08         3085.59          9.74       140          5.81   \n",
        "\n",
        "   Miles  Minutes  Hours  average_mph  maximum_mph  \n",
        "0   4.43    12.86   0.21        20.67        28.10  \n",
        "1   0.70     4.91   0.08         8.62        20.31  \n",
        "2   1.98     7.23   0.12        16.46        24.41  \n",
        "3   1.95     7.03   0.12        16.66        25.68  \n",
        "4   1.92     8.85   0.15        13.00        21.79  "
       ]
      }
     ],
     "prompt_number": 29
    },
    {
     "cell_type": "code",
     "collapsed": false,
     "input": [
      "q=\"\"\"SELECT *\n",
      "FROM df\n",
      "WHERE Miles >5\"\"\"\n"
     ],
     "language": "python",
     "metadata": {},
     "outputs": [],
     "prompt_number": 10
    },
    {
     "cell_type": "code",
     "collapsed": false,
     "input": [
      "suburbs = pandasql.sqldf(q, locals())"
     ],
     "language": "python",
     "metadata": {},
     "outputs": [],
     "prompt_number": 11
    },
    {
     "cell_type": "code",
     "collapsed": false,
     "input": [
      "suburbs.head()"
     ],
     "language": "python",
     "metadata": {},
     "outputs": [
      {
       "html": [
        "<div style=\"max-height:1000px;max-width:1500px;overflow:auto;\">\n",
        "<table border=\"1\" class=\"dataframe\">\n",
        "  <thead>\n",
        "    <tr style=\"text-align: right;\">\n",
        "      <th></th>\n",
        "      <th>TotalTimeSeconds</th>\n",
        "      <th>DistanceMeters</th>\n",
        "      <th>MaximumSpeed</th>\n",
        "      <th>Calories</th>\n",
        "      <th>AverageSpeed</th>\n",
        "      <th>Miles</th>\n",
        "      <th>Minutes</th>\n",
        "      <th>Hours</th>\n",
        "      <th>average_mph</th>\n",
        "      <th>maximum_mph</th>\n",
        "    </tr>\n",
        "  </thead>\n",
        "  <tbody>\n",
        "    <tr>\n",
        "      <th>0</th>\n",
        "      <td> 1690.76</td>\n",
        "      <td> 14632.39</td>\n",
        "      <td> 12.05</td>\n",
        "      <td> 572</td>\n",
        "      <td> 8.65</td>\n",
        "      <td> 9.09</td>\n",
        "      <td> 28.18</td>\n",
        "      <td> 0.47</td>\n",
        "      <td> 19.36</td>\n",
        "      <td> 26.96</td>\n",
        "    </tr>\n",
        "    <tr>\n",
        "      <th>1</th>\n",
        "      <td> 1928.39</td>\n",
        "      <td> 15305.22</td>\n",
        "      <td> 12.34</td>\n",
        "      <td> 702</td>\n",
        "      <td> 7.94</td>\n",
        "      <td> 9.51</td>\n",
        "      <td> 32.14</td>\n",
        "      <td> 0.54</td>\n",
        "      <td> 17.75</td>\n",
        "      <td> 27.60</td>\n",
        "    </tr>\n",
        "    <tr>\n",
        "      <th>2</th>\n",
        "      <td> 1680.40</td>\n",
        "      <td> 14651.60</td>\n",
        "      <td> 12.28</td>\n",
        "      <td> 572</td>\n",
        "      <td> 8.72</td>\n",
        "      <td> 9.10</td>\n",
        "      <td> 28.01</td>\n",
        "      <td> 0.47</td>\n",
        "      <td> 19.50</td>\n",
        "      <td> 27.47</td>\n",
        "    </tr>\n",
        "    <tr>\n",
        "      <th>3</th>\n",
        "      <td> 1962.15</td>\n",
        "      <td> 15237.36</td>\n",
        "      <td> 11.43</td>\n",
        "      <td> 691</td>\n",
        "      <td> 7.77</td>\n",
        "      <td> 9.47</td>\n",
        "      <td> 32.70</td>\n",
        "      <td> 0.55</td>\n",
        "      <td> 17.37</td>\n",
        "      <td> 25.57</td>\n",
        "    </tr>\n",
        "    <tr>\n",
        "      <th>4</th>\n",
        "      <td> 1657.51</td>\n",
        "      <td> 14625.53</td>\n",
        "      <td> 12.02</td>\n",
        "      <td> 609</td>\n",
        "      <td> 8.82</td>\n",
        "      <td> 9.09</td>\n",
        "      <td> 27.63</td>\n",
        "      <td> 0.46</td>\n",
        "      <td> 19.74</td>\n",
        "      <td> 26.89</td>\n",
        "    </tr>\n",
        "  </tbody>\n",
        "</table>\n",
        "</div>"
       ],
       "metadata": {},
       "output_type": "pyout",
       "prompt_number": 34,
       "text": [
        "   TotalTimeSeconds  DistanceMeters  MaximumSpeed  Calories  AverageSpeed  \\\n",
        "0           1690.76        14632.39         12.05       572          8.65   \n",
        "1           1928.39        15305.22         12.34       702          7.94   \n",
        "2           1680.40        14651.60         12.28       572          8.72   \n",
        "3           1962.15        15237.36         11.43       691          7.77   \n",
        "4           1657.51        14625.53         12.02       609          8.82   \n",
        "\n",
        "   Miles  Minutes  Hours  average_mph  maximum_mph  \n",
        "0   9.09    28.18   0.47        19.36        26.96  \n",
        "1   9.51    32.14   0.54        17.75        27.60  \n",
        "2   9.10    28.01   0.47        19.50        27.47  \n",
        "3   9.47    32.70   0.55        17.37        25.57  \n",
        "4   9.09    27.63   0.46        19.74        26.89  "
       ]
      }
     ],
     "prompt_number": 34
    },
    {
     "cell_type": "code",
     "collapsed": false,
     "input": [
      "citymiles = city['Miles']\n",
      "plt.hist(citymiles)\n",
      "plt.xlabel(\"Miles\")\n",
      "plt.ylabel(\"Frequency\")"
     ],
     "language": "python",
     "metadata": {},
     "outputs": [
      {
       "metadata": {},
       "output_type": "pyout",
       "prompt_number": 12,
       "text": [
        "<matplotlib.text.Text at 0x1095f6110>"
       ]
      },
      {
       "metadata": {},
       "output_type": "display_data",
       "png": "[encoded data removed]",
       "text": [
        "<matplotlib.figure.Figure at 0x1095ac250>"
       ]
      }
     ],
     "prompt_number": 12
    },
    {
     "cell_type": "code",
     "collapsed": false,
     "input": [
      "suburbmiles = suburbs['Miles']\n",
      "plt.hist(suburbmiles)\n",
      "plt.xlabel(\"Miles\")\n",
      "plt.ylabel(\"Frequency\")"
     ],
     "language": "python",
     "metadata": {},
     "outputs": [
      {
       "metadata": {},
       "output_type": "pyout",
       "prompt_number": 36,
       "text": [
        "<matplotlib.text.Text at 0x107f92f50>"
       ]
      },
      {
       "metadata": {},
       "output_type": "display_data",
       "png": "[encoded data removed]",
       "text": [
        "<matplotlib.figure.Figure at 0x10834d310>"
       ]
      }
     ],
     "prompt_number": 36
    },
    {
     "cell_type": "code",
     "collapsed": false,
     "input": [
      "cityspeed = city['average_mph']\n",
      "plt.hist(cityspeed)\n",
      "plt.xlabel('Mph')\n",
      "plt.ylabel(\"Frequency\")"
     ],
     "language": "python",
     "metadata": {},
     "outputs": [
      {
       "metadata": {},
       "output_type": "pyout",
       "prompt_number": 13,
       "text": [
        "<matplotlib.text.Text at 0x1095b7ad0>"
       ]
      },
      {
       "metadata": {},
       "output_type": "display_data",
       "png": "[encoded data removed]",
       "text": [
        "<matplotlib.figure.Figure at 0x1097d7c50>"
       ]
      }
     ],
     "prompt_number": 13
    },
    {
     "cell_type": "code",
     "collapsed": false,
     "input": [
      "suburbspeed = suburbs['average_mph']\n",
      "plt.hist(suburbspeed)\n",
      "plt.xlabel('Mph')\n",
      "plt.ylabel('Frequency')"
     ],
     "language": "python",
     "metadata": {},
     "outputs": [
      {
       "metadata": {},
       "output_type": "pyout",
       "prompt_number": 15,
       "text": [
        "<matplotlib.text.Text at 0x10a1aeb50>"
       ]
      },
      {
       "metadata": {},
       "output_type": "display_data",
       "png": "[encoded data removed]",
       "text": [
        "<matplotlib.figure.Figure at 0x10445c1d0>"
       ]
      }
     ],
     "prompt_number": 15
    },
    {
     "cell_type": "code",
     "collapsed": false,
     "input": [
      "#combine these plots into one overlaid on the other, in two different colors \n",
      "plt.figure()\n",
      "max_data=np.r_[cityspeed, suburbspeed].max() #looks like r_ is used to concatenate these data sets (from seaborn tutorial)\n",
      "#http://stackoverflow.com/questions/18601001/numpy-r-is-not-a-function-what-is-it\n",
      "\n",
      "bins= np.linspace(0, max_data, max_data+1) #bin spacing (linspace == \"create an array of linearly spaced points\") \n",
      "plt.hist(cityspeed, bins, normed=True, color=\"#6495ED\", alpha=0.5, label=\"city\") #blue\n",
      "plt.hist(suburbspeed, bins, normed=True, color=\"#F08080\", alpha=.5, label=\"suburbs\") #coral \n",
      "plt.xlabel(\"Mph\")\n",
      "plt.ylabel(\"Frequency\")\n",
      "l = plt.legend(bbox_to_anchor=(1.05, 1), loc=2, borderaxespad=0.)"
     ],
     "language": "python",
     "metadata": {},
     "outputs": [
      {
       "metadata": {},
       "output_type": "display_data",
       "png": "[encoded data removed]",
       "text": [
        "<matplotlib.figure.Figure at 0x10a814990>"
       ]
      }
     ],
     "prompt_number": 24
    },
    {
     "cell_type": "code",
     "collapsed": false,
     "input": [],
     "language": "python",
     "metadata": {},
     "outputs": []
    }
   ],
   "metadata": {}
  }
 ]
}