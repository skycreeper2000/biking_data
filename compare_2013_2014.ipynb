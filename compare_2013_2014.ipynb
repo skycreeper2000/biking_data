{
 "metadata": {
  "name": "",
  "signature": "sha256:433c0f36d447d9c02376605a9e3f97fcf2dfa481ffc1cc81142df7be4f753d85"
 },
 "nbformat": 3,
 "nbformat_minor": 0,
 "worksheets": [
  {
   "cells": [
    {
     "cell_type": "code",
     "collapsed": false,
     "input": [
      "import pandas\n",
      "import pandasql\n",
      "import numpy as np\n",
      "\n",
      "import matplotlib.pyplot as plt\n",
      "import matplotlib \n",
      "import seaborn as sns\n",
      "\n",
      "%matplotlib inline"
     ],
     "language": "python",
     "metadata": {},
     "outputs": [],
     "prompt_number": 5
    },
    {
     "cell_type": "code",
     "collapsed": false,
     "input": [
      "%install_ext https://raw.githubusercontent.com/szeitlin/watermark/master/watermark.py"
     ],
     "language": "python",
     "metadata": {},
     "outputs": [
      {
       "output_type": "stream",
       "stream": "stdout",
       "text": [
        "Installed watermark.py. To use it, type:\n",
        "  %load_ext watermark\n"
       ]
      }
     ],
     "prompt_number": 2
    },
    {
     "cell_type": "code",
     "collapsed": false,
     "input": [
      "%load_ext watermark"
     ],
     "language": "python",
     "metadata": {},
     "outputs": [],
     "prompt_number": 3
    },
    {
     "cell_type": "code",
     "collapsed": false,
     "input": [
      "%watermark -a \"Samantha Zeitlin\" -d -u -p ipython,pandas,pandasql,seaborn"
     ],
     "language": "python",
     "metadata": {},
     "outputs": [
      {
       "output_type": "stream",
       "stream": "stdout",
       "text": [
        "Samantha Zeitlin \n",
        "Last updated: 02/11/2015 \n",
        "\n",
        "ipython 2.3.1\n",
        "pandas 0.15.2\n",
        "pandasql 0.4.2\n",
        "seaborn 0.5.1\n"
       ]
      }
     ],
     "prompt_number": 6
    },
    {
     "cell_type": "code",
     "collapsed": false,
     "input": [
      "!ls"
     ],
     "language": "python",
     "metadata": {},
     "outputs": [
      {
       "output_type": "stream",
       "stream": "stdout",
       "text": [
        "2013.txt                             hour_lookup.pyc\r\n",
        "2013_xml.tcx                         import-one-year.ipynb\r\n",
        "2014.tcx                             import-one-year.py\r\n",
        "2014_avgmph.png                      import-second-year.ipynb\r\n",
        "All Training Center Data.csv         monthly_2014.csv\r\n",
        "AllTrainingCenterData_tabbed.txt     morning_suburb_2014.csv\r\n",
        "README.md                            morning_suburb_avgmph.png\r\n",
        "avg_mph_weekday.png                  morning_vs_evening_overlaid.png\r\n",
        "bike-1year-viz.ipynb                 parsed_2013.csv\r\n",
        "bike1year_viz2.ipynb                 quarterly.csv\r\n",
        "calories_pretty-2nd.ipynb            quarterly_2014.csv\r\n",
        "calories_pretty.ipynb                sorted_by_date.csv\r\n",
        "city_vs_suburb_sandbox.ipynb         sorted_by_date_2014.csv\r\n",
        "compare_2013_2014.ipynb              sorting_city_vs_suburb_trips.ipynb\r\n",
        "datetime_indexed.csv                 sorting_morning_afternoon-2014.ipynb\r\n",
        "days_avg_mph_2014.png                sorting_morning_afternoon.ipynb\r\n",
        "days_max_mph_2014.png                testing.ipynb\r\n",
        "days_only.csv                        updated_2013.csv\r\n",
        "days_only_2014.csv                   vim_notes.txt\r\n",
        "delta_range.py                       violin_evening_suburb.png\r\n",
        "delta_range.pyc                      violin_morning_suburb.png\r\n",
        "evening_suburb_2014.csv              viz2_copy.ipynb\r\n",
        "evening_suburb_avgmph.png            viz2_copy.py\r\n",
        "generate_period_list.ipynb           weekday_avg_mph_bigger.png\r\n",
        "generate_period_list.py              weekday_violins.png\r\n",
        "hour_lookup.py                       zoned_flagged_filtered_2014.csv\r\n"
       ]
      }
     ],
     "prompt_number": 24
    },
    {
     "cell_type": "code",
     "collapsed": false,
     "input": [
      "#I think what I actually want is to have monthly and maybe weekly averages for both years;\n",
      "#and be able to join them on week or month to compare average_mph, etc. \n",
      "#actually have to separate out trips for this to make any sense though, otherwise it's averaging city & suburb, morning & night "
     ],
     "language": "python",
     "metadata": {},
     "outputs": []
    },
    {
     "cell_type": "code",
     "collapsed": false,
     "input": [
      "y2013 = pandas.read_csv(\"updated_2013.csv\") #, index_col=1)\n",
      "y2014 = pandas.read_csv(\"monthly_2014.csv\") #, index_col=1)"
     ],
     "language": "python",
     "metadata": {},
     "outputs": [],
     "prompt_number": 21
    },
    {
     "cell_type": "code",
     "collapsed": false,
     "input": [
      "y2013.head()"
     ],
     "language": "python",
     "metadata": {},
     "outputs": [
      {
       "html": [
        "<div style=\"max-height:1000px;max-width:1500px;overflow:auto;\">\n",
        "<table border=\"1\" class=\"dataframe\">\n",
        "  <thead>\n",
        "    <tr style=\"text-align: right;\">\n",
        "      <th></th>\n",
        "      <th>Unnamed: 0</th>\n",
        "      <th>TotalTimeSeconds</th>\n",
        "      <th>DistanceMeters</th>\n",
        "      <th>MaximumSpeed</th>\n",
        "      <th>Calories</th>\n",
        "      <th>AverageSpeed</th>\n",
        "      <th>Miles</th>\n",
        "      <th>Minutes</th>\n",
        "      <th>Hours</th>\n",
        "      <th>average_mph</th>\n",
        "      <th>maximum_mph</th>\n",
        "    </tr>\n",
        "  </thead>\n",
        "  <tbody>\n",
        "    <tr>\n",
        "      <th>0</th>\n",
        "      <td> 2013-01-02 15:51:51</td>\n",
        "      <td> 1690.76</td>\n",
        "      <td> 14632.39</td>\n",
        "      <td> 12.05</td>\n",
        "      <td> 572</td>\n",
        "      <td> 8.65</td>\n",
        "      <td> 9.09</td>\n",
        "      <td> 28.18</td>\n",
        "      <td> 0.47</td>\n",
        "      <td> 19.36</td>\n",
        "      <td> 26.96</td>\n",
        "    </tr>\n",
        "    <tr>\n",
        "      <th>1</th>\n",
        "      <td> 2013-01-03 00:20:26</td>\n",
        "      <td> 1928.39</td>\n",
        "      <td> 15305.22</td>\n",
        "      <td> 12.34</td>\n",
        "      <td> 702</td>\n",
        "      <td> 7.94</td>\n",
        "      <td> 9.51</td>\n",
        "      <td> 32.14</td>\n",
        "      <td> 0.54</td>\n",
        "      <td> 17.75</td>\n",
        "      <td> 27.60</td>\n",
        "    </tr>\n",
        "    <tr>\n",
        "      <th>2</th>\n",
        "      <td> 2013-01-04 15:46:52</td>\n",
        "      <td> 1680.40</td>\n",
        "      <td> 14651.60</td>\n",
        "      <td> 12.28</td>\n",
        "      <td> 572</td>\n",
        "      <td> 8.72</td>\n",
        "      <td> 9.10</td>\n",
        "      <td> 28.01</td>\n",
        "      <td> 0.47</td>\n",
        "      <td> 19.50</td>\n",
        "      <td> 27.47</td>\n",
        "    </tr>\n",
        "    <tr>\n",
        "      <th>3</th>\n",
        "      <td> 2013-01-04 23:59:27</td>\n",
        "      <td> 1962.15</td>\n",
        "      <td> 15237.36</td>\n",
        "      <td> 11.43</td>\n",
        "      <td> 691</td>\n",
        "      <td> 7.77</td>\n",
        "      <td> 9.47</td>\n",
        "      <td> 32.70</td>\n",
        "      <td> 0.55</td>\n",
        "      <td> 17.37</td>\n",
        "      <td> 25.57</td>\n",
        "    </tr>\n",
        "    <tr>\n",
        "      <th>4</th>\n",
        "      <td> 2013-01-07 15:56:14</td>\n",
        "      <td> 1657.51</td>\n",
        "      <td> 14625.53</td>\n",
        "      <td> 12.02</td>\n",
        "      <td> 609</td>\n",
        "      <td> 8.82</td>\n",
        "      <td> 9.09</td>\n",
        "      <td> 27.63</td>\n",
        "      <td> 0.46</td>\n",
        "      <td> 19.74</td>\n",
        "      <td> 26.89</td>\n",
        "    </tr>\n",
        "  </tbody>\n",
        "</table>\n",
        "</div>"
       ],
       "metadata": {},
       "output_type": "pyout",
       "prompt_number": 20,
       "text": [
        "            Unnamed: 0  TotalTimeSeconds  DistanceMeters  MaximumSpeed  \\\n",
        "0  2013-01-02 15:51:51           1690.76        14632.39         12.05   \n",
        "1  2013-01-03 00:20:26           1928.39        15305.22         12.34   \n",
        "2  2013-01-04 15:46:52           1680.40        14651.60         12.28   \n",
        "3  2013-01-04 23:59:27           1962.15        15237.36         11.43   \n",
        "4  2013-01-07 15:56:14           1657.51        14625.53         12.02   \n",
        "\n",
        "   Calories  AverageSpeed  Miles  Minutes  Hours  average_mph  maximum_mph  \n",
        "0       572          8.65   9.09    28.18   0.47        19.36        26.96  \n",
        "1       702          7.94   9.51    32.14   0.54        17.75        27.60  \n",
        "2       572          8.72   9.10    28.01   0.47        19.50        27.47  \n",
        "3       691          7.77   9.47    32.70   0.55        17.37        25.57  \n",
        "4       609          8.82   9.09    27.63   0.46        19.74        26.89  "
       ]
      }
     ],
     "prompt_number": 20
    },
    {
     "cell_type": "code",
     "collapsed": false,
     "input": [
      "y2014.head()"
     ],
     "language": "python",
     "metadata": {},
     "outputs": [
      {
       "html": [
        "<div style=\"max-height:1000px;max-width:1500px;overflow:auto;\">\n",
        "<table border=\"1\" class=\"dataframe\">\n",
        "  <thead>\n",
        "    <tr style=\"text-align: right;\">\n",
        "      <th></th>\n",
        "      <th>Unnamed: 0</th>\n",
        "      <th>TotalTimeSeconds</th>\n",
        "      <th>DistanceMeters</th>\n",
        "      <th>MaximumSpeed</th>\n",
        "      <th>Calories</th>\n",
        "      <th>AverageSpeed</th>\n",
        "      <th>Miles</th>\n",
        "      <th>Minutes</th>\n",
        "      <th>Trip_hours</th>\n",
        "      <th>average_mph</th>\n",
        "      <th>maximum_mph</th>\n",
        "    </tr>\n",
        "  </thead>\n",
        "  <tbody>\n",
        "    <tr>\n",
        "      <th>0</th>\n",
        "      <td> 2014-01-31</td>\n",
        "      <td> 1181.38</td>\n",
        "      <td> 9307.18</td>\n",
        "      <td> 11.91</td>\n",
        "      <td> 400.61</td>\n",
        "      <td> 7.46</td>\n",
        "      <td> 5.78</td>\n",
        "      <td> 19.69</td>\n",
        "      <td> 0.33</td>\n",
        "      <td> 16.69</td>\n",
        "      <td> 26.63</td>\n",
        "    </tr>\n",
        "    <tr>\n",
        "      <th>1</th>\n",
        "      <td> 2014-02-28</td>\n",
        "      <td> 1232.32</td>\n",
        "      <td> 9729.67</td>\n",
        "      <td> 12.21</td>\n",
        "      <td> 406.59</td>\n",
        "      <td> 7.36</td>\n",
        "      <td> 6.05</td>\n",
        "      <td> 20.54</td>\n",
        "      <td> 0.34</td>\n",
        "      <td> 16.47</td>\n",
        "      <td> 27.31</td>\n",
        "    </tr>\n",
        "    <tr>\n",
        "      <th>2</th>\n",
        "      <td> 2014-03-31</td>\n",
        "      <td> 1131.07</td>\n",
        "      <td> 8850.28</td>\n",
        "      <td> 11.16</td>\n",
        "      <td> 368.19</td>\n",
        "      <td> 7.12</td>\n",
        "      <td> 5.50</td>\n",
        "      <td> 18.85</td>\n",
        "      <td> 0.31</td>\n",
        "      <td> 15.93</td>\n",
        "      <td> 24.96</td>\n",
        "    </tr>\n",
        "    <tr>\n",
        "      <th>3</th>\n",
        "      <td> 2014-04-30</td>\n",
        "      <td> 1182.56</td>\n",
        "      <td> 9037.06</td>\n",
        "      <td> 11.61</td>\n",
        "      <td> 382.03</td>\n",
        "      <td> 7.31</td>\n",
        "      <td> 5.62</td>\n",
        "      <td> 19.71</td>\n",
        "      <td> 0.33</td>\n",
        "      <td> 16.35</td>\n",
        "      <td> 25.96</td>\n",
        "    </tr>\n",
        "    <tr>\n",
        "      <th>4</th>\n",
        "      <td> 2014-05-31</td>\n",
        "      <td> 1132.99</td>\n",
        "      <td> 8588.18</td>\n",
        "      <td> 11.85</td>\n",
        "      <td> 381.68</td>\n",
        "      <td> 7.16</td>\n",
        "      <td> 5.34</td>\n",
        "      <td> 18.88</td>\n",
        "      <td> 0.31</td>\n",
        "      <td> 16.03</td>\n",
        "      <td> 26.51</td>\n",
        "    </tr>\n",
        "  </tbody>\n",
        "</table>\n",
        "</div>"
       ],
       "metadata": {},
       "output_type": "pyout",
       "prompt_number": 22,
       "text": [
        "   Unnamed: 0  TotalTimeSeconds  DistanceMeters  MaximumSpeed  Calories  \\\n",
        "0  2014-01-31           1181.38         9307.18         11.91    400.61   \n",
        "1  2014-02-28           1232.32         9729.67         12.21    406.59   \n",
        "2  2014-03-31           1131.07         8850.28         11.16    368.19   \n",
        "3  2014-04-30           1182.56         9037.06         11.61    382.03   \n",
        "4  2014-05-31           1132.99         8588.18         11.85    381.68   \n",
        "\n",
        "   AverageSpeed  Miles  Minutes  Trip_hours  average_mph  maximum_mph  \n",
        "0          7.46   5.78    19.69        0.33        16.69        26.63  \n",
        "1          7.36   6.05    20.54        0.34        16.47        27.31  \n",
        "2          7.12   5.50    18.85        0.31        15.93        24.96  \n",
        "3          7.31   5.62    19.71        0.33        16.35        25.96  \n",
        "4          7.16   5.34    18.88        0.31        16.03        26.51  "
       ]
      }
     ],
     "prompt_number": 22
    },
    {
     "cell_type": "code",
     "collapsed": false,
     "input": [
      "pysqldf = lambda q: sqldf(q, globals()) #not exactly sure if globals is necessary, vs. locals?"
     ],
     "language": "python",
     "metadata": {},
     "outputs": [],
     "prompt_number": 23
    },
    {
     "cell_type": "code",
     "collapsed": false,
     "input": [
      "q= \"\"\"\n",
      "SELECT average_mph\n",
      "FROM"
     ],
     "language": "python",
     "metadata": {},
     "outputs": []
    }
   ],
   "metadata": {}
  }
 ]
}