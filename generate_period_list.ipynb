{
 "metadata": {
  "name": "",
  "signature": "sha256:c7749374549a855f599655ef310b943b08b09f997bba71a5b4bbe0265f850c2e"
 },
 "nbformat": 3,
 "nbformat_minor": 0,
 "worksheets": [
  {
   "cells": [
    {
     "cell_type": "code",
     "collapsed": false,
     "input": [
      "#a short script to generate the list of months\n",
      "#months = pandas.PeriodIndex([pandas.Period('2013-01'), pandas.Period('2013-02')... pandas.Period('2013-12')])\n",
      "\n",
      "#def make_months(year):\n",
      "    ''' \n",
      "    Function to generate list of months, to speed up period indexing in pandas time series data. \n",
      "    \n",
      "    year -> list of str (year-month)\n",
      "    \n",
      "    make_months('2013')\n",
      "    ['2013-01', '2013-02'... '2013-12']\n",
      "    '''\n",
      "    "
     ],
     "language": "python",
     "metadata": {},
     "outputs": []
    },
    {
     "cell_type": "code",
     "collapsed": false,
     "input": [
      "year = 2013 #for testing "
     ],
     "language": "python",
     "metadata": {},
     "outputs": [],
     "prompt_number": 1
    },
    {
     "cell_type": "code",
     "collapsed": false,
     "input": [
      "#twelve = range(1,13)\n",
      "#print twelve"
     ],
     "language": "python",
     "metadata": {},
     "outputs": [
      {
       "output_type": "stream",
       "stream": "stdout",
       "text": [
        "[1, 2, 3, 4, 5, 6, 7, 8, 9, 10, 11, 12]\n"
       ]
      }
     ],
     "prompt_number": 2
    },
    {
     "cell_type": "code",
     "collapsed": false,
     "input": [
      "twelfth = []\n",
      "\n",
      "for item in (range(1,13)):\n",
      "    item = str(item)\n",
      "    if len(item) < 2:\n",
      "        item = '0' + item\n",
      "    twelfth.append(item)"
     ],
     "language": "python",
     "metadata": {},
     "outputs": [],
     "prompt_number": 2
    },
    {
     "cell_type": "code",
     "collapsed": false,
     "input": [
      "twelfth"
     ],
     "language": "python",
     "metadata": {},
     "outputs": [
      {
       "metadata": {},
       "output_type": "pyout",
       "prompt_number": 3,
       "text": [
        "['01', '02', '03', '04', '05', '06', '07', '08', '09', '10', '11', '12']"
       ]
      }
     ],
     "prompt_number": 3
    },
    {
     "cell_type": "code",
     "collapsed": false,
     "input": [
      "months = []\n",
      "\n",
      "for item in twelfth:\n",
      "    months.append(str(year) + '-' + item)    #convert this to join "
     ],
     "language": "python",
     "metadata": {},
     "outputs": [],
     "prompt_number": 4
    },
    {
     "cell_type": "code",
     "collapsed": false,
     "input": [
      "months"
     ],
     "language": "python",
     "metadata": {},
     "outputs": [
      {
       "metadata": {},
       "output_type": "pyout",
       "prompt_number": 5,
       "text": [
        "['2013-01',\n",
        " '2013-02',\n",
        " '2013-03',\n",
        " '2013-04',\n",
        " '2013-05',\n",
        " '2013-06',\n",
        " '2013-07',\n",
        " '2013-08',\n",
        " '2013-09',\n",
        " '2013-10',\n",
        " '2013-11',\n",
        " '2013-12']"
       ]
      }
     ],
     "prompt_number": 5
    },
    {
     "cell_type": "code",
     "collapsed": false,
     "input": [],
     "language": "python",
     "metadata": {},
     "outputs": []
    }
   ],
   "metadata": {}
  }
 ]
}