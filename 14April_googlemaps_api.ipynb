{
 "cells": [
  {
   "cell_type": "code",
   "execution_count": 1,
   "metadata": {
    "collapsed": false
   },
   "outputs": [
    {
     "name": "stdout",
     "output_type": "stream",
     "text": [
      "Installed watermark.py. To use it, type:\n",
      "  %load_ext watermark\n"
     ]
    }
   ],
   "source": [
    "%install_ext https://raw.githubusercontent.com/szeitlin/watermark/master/watermark.py"
   ]
  },
  {
   "cell_type": "code",
   "execution_count": 2,
   "metadata": {
    "collapsed": true
   },
   "outputs": [],
   "source": [
    "%load_ext watermark"
   ]
  },
  {
   "cell_type": "code",
   "execution_count": 1,
   "metadata": {
    "collapsed": false
   },
   "outputs": [],
   "source": [
    "import pandas\n",
    "from dateutil.parser import parse\n",
    "import pytz\n",
    "\n",
    "import matplotlib.pyplot as plt\n",
    "import matplotlib\n",
    "import numpy as np\n",
    "import seaborn as sns\n",
    "\n",
    "%matplotlib inline"
   ]
  },
  {
   "cell_type": "code",
   "execution_count": 4,
   "metadata": {
    "collapsed": false
   },
   "outputs": [
    {
     "name": "stdout",
     "output_type": "stream",
     "text": [
      "Samantha Zeitlin \n",
      "Last updated: 04/21/2015 \n",
      "\n",
      "python 2.7.9\n",
      "ipython 3.1.0\n",
      "pandas 0.15.2\n",
      "seaborn 0.5.1\n",
      "pytz 2014.9\n",
      "matplotlib 1.4.3\n"
     ]
    }
   ],
   "source": [
    "%watermark -a \"Samantha Zeitlin\" -d -u -p python,ipython,pandas,seaborn,pytz,matplotlib"
   ]
  },
  {
   "cell_type": "code",
   "execution_count": 8,
   "metadata": {
    "collapsed": true
   },
   "outputs": [],
   "source": [
    "#could try using elevation api to validate altitudes for each lat/lng location "
   ]
  },
  {
   "cell_type": "code",
   "execution_count": 2,
   "metadata": {
    "collapsed": false
   },
   "outputs": [],
   "source": [
    "df = pandas.read_csv(\"2014_ts.csv\",index_col=0, nrows=1000) #just use a subset of the data for testing "
   ]
  },
  {
   "cell_type": "code",
   "execution_count": 3,
   "metadata": {
    "collapsed": false
   },
   "outputs": [
    {
     "data": {
      "text/html": [
       "<div style=\"max-height:1000px;max-width:1500px;overflow:auto;\">\n",
       "<table border=\"1\" class=\"dataframe\">\n",
       "  <thead>\n",
       "    <tr style=\"text-align: right;\">\n",
       "      <th></th>\n",
       "      <th>posTime</th>\n",
       "      <th>Lat</th>\n",
       "      <th>Long</th>\n",
       "      <th>altTime</th>\n",
       "      <th>Altitude</th>\n",
       "      <th>DistanceMeters</th>\n",
       "      <th>weekday</th>\n",
       "      <th>parsed</th>\n",
       "      <th>zoned</th>\n",
       "    </tr>\n",
       "  </thead>\n",
       "  <tbody>\n",
       "    <tr>\n",
       "      <th>0</th>\n",
       "      <td> 2014-10-16 07:48:11-07:00</td>\n",
       "      <td> 37.3943</td>\n",
       "      <td>-122.0769</td>\n",
       "      <td> 2014-10-16 07:48:11-07:00</td>\n",
       "      <td> 19.3638</td>\n",
       "      <td> 4780.8071</td>\n",
       "      <td> 3</td>\n",
       "      <td> 2014-10-16 07:48:11-07:00</td>\n",
       "      <td> 2014-10-16 07:48:11-07:00</td>\n",
       "    </tr>\n",
       "    <tr>\n",
       "      <th>1</th>\n",
       "      <td> 2014-10-16 07:48:12-07:00</td>\n",
       "      <td> 37.3943</td>\n",
       "      <td>-122.0771</td>\n",
       "      <td> 2014-10-16 07:48:12-07:00</td>\n",
       "      <td> 19.3638</td>\n",
       "      <td> 4791.6362</td>\n",
       "      <td> 3</td>\n",
       "      <td> 2014-10-16 07:48:12-07:00</td>\n",
       "      <td> 2014-10-16 07:48:12-07:00</td>\n",
       "    </tr>\n",
       "    <tr>\n",
       "      <th>2</th>\n",
       "      <td> 2014-10-16 07:48:17-07:00</td>\n",
       "      <td> 37.3944</td>\n",
       "      <td>-122.0774</td>\n",
       "      <td> 2014-10-16 07:48:17-07:00</td>\n",
       "      <td> 19.8444</td>\n",
       "      <td> 4826.5288</td>\n",
       "      <td> 3</td>\n",
       "      <td> 2014-10-16 07:48:17-07:00</td>\n",
       "      <td> 2014-10-16 07:48:17-07:00</td>\n",
       "    </tr>\n",
       "    <tr>\n",
       "      <th>3</th>\n",
       "      <td> 2014-10-16 07:48:26-07:00</td>\n",
       "      <td> 37.3947</td>\n",
       "      <td>-122.0781</td>\n",
       "      <td> 2014-10-16 07:48:26-07:00</td>\n",
       "      <td> 19.8444</td>\n",
       "      <td> 4895.5474</td>\n",
       "      <td> 3</td>\n",
       "      <td> 2014-10-16 07:48:26-07:00</td>\n",
       "      <td> 2014-10-16 07:48:26-07:00</td>\n",
       "    </tr>\n",
       "    <tr>\n",
       "      <th>4</th>\n",
       "      <td> 2014-10-16 07:48:29-07:00</td>\n",
       "      <td> 37.3948</td>\n",
       "      <td>-122.0782</td>\n",
       "      <td> 2014-10-16 07:48:29-07:00</td>\n",
       "      <td> 19.8444</td>\n",
       "      <td> 4916.4795</td>\n",
       "      <td> 3</td>\n",
       "      <td> 2014-10-16 07:48:29-07:00</td>\n",
       "      <td> 2014-10-16 07:48:29-07:00</td>\n",
       "    </tr>\n",
       "  </tbody>\n",
       "</table>\n",
       "</div>"
      ],
      "text/plain": [
       "                     posTime      Lat      Long                    altTime  \\\n",
       "0  2014-10-16 07:48:11-07:00  37.3943 -122.0769  2014-10-16 07:48:11-07:00   \n",
       "1  2014-10-16 07:48:12-07:00  37.3943 -122.0771  2014-10-16 07:48:12-07:00   \n",
       "2  2014-10-16 07:48:17-07:00  37.3944 -122.0774  2014-10-16 07:48:17-07:00   \n",
       "3  2014-10-16 07:48:26-07:00  37.3947 -122.0781  2014-10-16 07:48:26-07:00   \n",
       "4  2014-10-16 07:48:29-07:00  37.3948 -122.0782  2014-10-16 07:48:29-07:00   \n",
       "\n",
       "   Altitude  DistanceMeters  weekday                     parsed  \\\n",
       "0   19.3638       4780.8071        3  2014-10-16 07:48:11-07:00   \n",
       "1   19.3638       4791.6362        3  2014-10-16 07:48:12-07:00   \n",
       "2   19.8444       4826.5288        3  2014-10-16 07:48:17-07:00   \n",
       "3   19.8444       4895.5474        3  2014-10-16 07:48:26-07:00   \n",
       "4   19.8444       4916.4795        3  2014-10-16 07:48:29-07:00   \n",
       "\n",
       "                       zoned  \n",
       "0  2014-10-16 07:48:11-07:00  \n",
       "1  2014-10-16 07:48:12-07:00  \n",
       "2  2014-10-16 07:48:17-07:00  \n",
       "3  2014-10-16 07:48:26-07:00  \n",
       "4  2014-10-16 07:48:29-07:00  "
      ]
     },
     "execution_count": 3,
     "metadata": {},
     "output_type": "execute_result"
    }
   ],
   "source": [
    "df['parsed']=[parse(x) for x in df['posTime']]\n",
    "df['zoned'] = [x.astimezone(pytz.timezone('US/Pacific')) for x in df['parsed']]\n",
    "df.head()"
   ]
  },
  {
   "cell_type": "code",
   "execution_count": 4,
   "metadata": {
    "collapsed": false
   },
   "outputs": [],
   "source": [
    "df = df.sort_index(by='zoned').reset_index()"
   ]
  },
  {
   "cell_type": "code",
   "execution_count": 5,
   "metadata": {
    "collapsed": false
   },
   "outputs": [
    {
     "data": {
      "text/html": [
       "<div style=\"max-height:1000px;max-width:1500px;overflow:auto;\">\n",
       "<table border=\"1\" class=\"dataframe\">\n",
       "  <thead>\n",
       "    <tr style=\"text-align: right;\">\n",
       "      <th></th>\n",
       "      <th>index</th>\n",
       "      <th>posTime</th>\n",
       "      <th>Lat</th>\n",
       "      <th>Long</th>\n",
       "      <th>altTime</th>\n",
       "      <th>Altitude</th>\n",
       "      <th>DistanceMeters</th>\n",
       "      <th>weekday</th>\n",
       "      <th>parsed</th>\n",
       "      <th>zoned</th>\n",
       "      <th>date</th>\n",
       "    </tr>\n",
       "  </thead>\n",
       "  <tbody>\n",
       "    <tr>\n",
       "      <th>0</th>\n",
       "      <td> 974</td>\n",
       "      <td> 2014-10-08 16:21:23-07:00</td>\n",
       "      <td> 37.3932</td>\n",
       "      <td>-121.9513</td>\n",
       "      <td> 2014-10-08 16:21:23-07:00</td>\n",
       "      <td> 53.0098</td>\n",
       "      <td>  21.4723</td>\n",
       "      <td> 2</td>\n",
       "      <td> 2014-10-08 16:21:23-07:00</td>\n",
       "      <td> 2014-10-08 16:21:23-07:00</td>\n",
       "      <td> 2014-10-08</td>\n",
       "    </tr>\n",
       "    <tr>\n",
       "      <th>1</th>\n",
       "      <td> 975</td>\n",
       "      <td> 2014-10-08 16:21:24-07:00</td>\n",
       "      <td> 37.3932</td>\n",
       "      <td>-121.9512</td>\n",
       "      <td> 2014-10-08 16:21:24-07:00</td>\n",
       "      <td> 53.0098</td>\n",
       "      <td>  27.8743</td>\n",
       "      <td> 2</td>\n",
       "      <td> 2014-10-08 16:21:24-07:00</td>\n",
       "      <td> 2014-10-08 16:21:24-07:00</td>\n",
       "      <td> 2014-10-08</td>\n",
       "    </tr>\n",
       "    <tr>\n",
       "      <th>2</th>\n",
       "      <td> 976</td>\n",
       "      <td> 2014-10-08 16:21:34-07:00</td>\n",
       "      <td> 37.3935</td>\n",
       "      <td>-121.9506</td>\n",
       "      <td> 2014-10-08 16:21:34-07:00</td>\n",
       "      <td> 53.0098</td>\n",
       "      <td>  93.1674</td>\n",
       "      <td> 2</td>\n",
       "      <td> 2014-10-08 16:21:34-07:00</td>\n",
       "      <td> 2014-10-08 16:21:34-07:00</td>\n",
       "      <td> 2014-10-08</td>\n",
       "    </tr>\n",
       "    <tr>\n",
       "      <th>3</th>\n",
       "      <td> 977</td>\n",
       "      <td> 2014-10-08 16:21:38-07:00</td>\n",
       "      <td> 37.3936</td>\n",
       "      <td>-121.9504</td>\n",
       "      <td> 2014-10-08 16:21:38-07:00</td>\n",
       "      <td> 52.0486</td>\n",
       "      <td> 114.1827</td>\n",
       "      <td> 2</td>\n",
       "      <td> 2014-10-08 16:21:38-07:00</td>\n",
       "      <td> 2014-10-08 16:21:38-07:00</td>\n",
       "      <td> 2014-10-08</td>\n",
       "    </tr>\n",
       "    <tr>\n",
       "      <th>4</th>\n",
       "      <td> 978</td>\n",
       "      <td> 2014-10-08 16:21:42-07:00</td>\n",
       "      <td> 37.3937</td>\n",
       "      <td>-121.9503</td>\n",
       "      <td> 2014-10-08 16:21:42-07:00</td>\n",
       "      <td> 53.4905</td>\n",
       "      <td> 130.7530</td>\n",
       "      <td> 2</td>\n",
       "      <td> 2014-10-08 16:21:42-07:00</td>\n",
       "      <td> 2014-10-08 16:21:42-07:00</td>\n",
       "      <td> 2014-10-08</td>\n",
       "    </tr>\n",
       "  </tbody>\n",
       "</table>\n",
       "</div>"
      ],
      "text/plain": [
       "   index                    posTime      Lat      Long  \\\n",
       "0    974  2014-10-08 16:21:23-07:00  37.3932 -121.9513   \n",
       "1    975  2014-10-08 16:21:24-07:00  37.3932 -121.9512   \n",
       "2    976  2014-10-08 16:21:34-07:00  37.3935 -121.9506   \n",
       "3    977  2014-10-08 16:21:38-07:00  37.3936 -121.9504   \n",
       "4    978  2014-10-08 16:21:42-07:00  37.3937 -121.9503   \n",
       "\n",
       "                     altTime  Altitude  DistanceMeters  weekday  \\\n",
       "0  2014-10-08 16:21:23-07:00   53.0098         21.4723        2   \n",
       "1  2014-10-08 16:21:24-07:00   53.0098         27.8743        2   \n",
       "2  2014-10-08 16:21:34-07:00   53.0098         93.1674        2   \n",
       "3  2014-10-08 16:21:38-07:00   52.0486        114.1827        2   \n",
       "4  2014-10-08 16:21:42-07:00   53.4905        130.7530        2   \n",
       "\n",
       "                      parsed                      zoned        date  \n",
       "0  2014-10-08 16:21:23-07:00  2014-10-08 16:21:23-07:00  2014-10-08  \n",
       "1  2014-10-08 16:21:24-07:00  2014-10-08 16:21:24-07:00  2014-10-08  \n",
       "2  2014-10-08 16:21:34-07:00  2014-10-08 16:21:34-07:00  2014-10-08  \n",
       "3  2014-10-08 16:21:38-07:00  2014-10-08 16:21:38-07:00  2014-10-08  \n",
       "4  2014-10-08 16:21:42-07:00  2014-10-08 16:21:42-07:00  2014-10-08  "
      ]
     },
     "execution_count": 5,
     "metadata": {},
     "output_type": "execute_result"
    }
   ],
   "source": [
    "df['date']=[x.date() for x in df['zoned']]\n",
    "df.head()"
   ]
  },
  {
   "cell_type": "code",
   "execution_count": 34,
   "metadata": {
    "collapsed": false
   },
   "outputs": [
    {
     "data": {
      "text/plain": [
       "(37.3776    66\n",
       " 37.3775    22\n",
       " 37.3954    22\n",
       " 37.3953    17\n",
       " 37.3857    14\n",
       " 37.3868    12\n",
       " 37.3765    12\n",
       " 37.3744    12\n",
       " 37.7642    12\n",
       " 37.3949    10\n",
       " 37.7578    10\n",
       " 37.7729    10\n",
       " 37.3943    10\n",
       " 37.3865    10\n",
       " 37.3867    10\n",
       " ...\n",
       " 37.7597    2\n",
       " 37.3901    2\n",
       " 37.7779    2\n",
       " 37.7667    2\n",
       " 37.3912    2\n",
       " 37.7732    2\n",
       " 37.3758    2\n",
       " 37.3910    2\n",
       " 37.7775    2\n",
       " 37.7635    2\n",
       " 37.7629    2\n",
       " 37.7747    2\n",
       " 37.7638    2\n",
       " 37.3806    2\n",
       " 37.3941    1\n",
       " Length: 252, dtype: int64, -121.9688    60\n",
       " -121.9687    22\n",
       " -121.9517     9\n",
       " -121.9506     8\n",
       " -121.9505     8\n",
       " -121.9690     8\n",
       " -121.9510     6\n",
       " -122.3914     6\n",
       " -122.3918     6\n",
       " -122.0771     6\n",
       " -122.0782     6\n",
       " -122.0779     6\n",
       " -122.0781     6\n",
       " -121.9576     5\n",
       " -121.9572     5\n",
       " ...\n",
       " -121.9791    2\n",
       " -122.0198    2\n",
       " -122.0758    2\n",
       " -122.0689    2\n",
       " -121.9514    1\n",
       " -121.9525    1\n",
       " -121.9577    1\n",
       " -121.9551    1\n",
       " -121.9574    1\n",
       " -121.9512    1\n",
       " -121.9508    1\n",
       " -121.9569    1\n",
       " -121.9531    1\n",
       " -121.9537    1\n",
       " -121.9504    1\n",
       " Length: 404, dtype: int64)"
      ]
     },
     "execution_count": 34,
     "metadata": {},
     "output_type": "execute_result"
    }
   ],
   "source": [
    "df['Lat'].value_counts(), df['Long'].value_counts()"
   ]
  },
  {
   "cell_type": "code",
   "execution_count": 35,
   "metadata": {
    "collapsed": false
   },
   "outputs": [
    {
     "data": {
      "text/plain": [
       "2014-10-16    490\n",
       "2014-10-21    406\n",
       "2014-10-20     78\n",
       "2014-10-08     26\n",
       "dtype: int64"
      ]
     },
     "execution_count": 35,
     "metadata": {},
     "output_type": "execute_result"
    }
   ],
   "source": [
    "df['date'].value_counts()"
   ]
  },
  {
   "cell_type": "code",
   "execution_count": 62,
   "metadata": {
    "collapsed": false
   },
   "outputs": [
    {
     "data": {
      "text/plain": [
       "7"
      ]
     },
     "execution_count": 62,
     "metadata": {},
     "output_type": "execute_result"
    }
   ],
   "source": [
    "df.zoned[0].hour"
   ]
  },
  {
   "cell_type": "code",
   "execution_count": 8,
   "metadata": {
    "collapsed": false
   },
   "outputs": [],
   "source": [
    "#for row in df, while date.next == date.previous, append to list\n",
    "#otherwise, stop and create new list \n",
    "\n",
    "def split_alts_by_date(df, datecolname):\n",
    "    \"\"\" Create lists of altitudes from points visited on the same day (dates will be the same, times will vary).\n",
    "    \n",
    "    Note: assumes the df is sorted, with index reset, such that index follows the right order for sequential date values.\n",
    "    \n",
    "    sorted df (dataframe), datecolname (str) -> generator of lists of altitudes in meters\n",
    "    \n",
    "    \"\"\"\n",
    "    hours_list, alt_list = [],[]\n",
    "    \n",
    "    temp_date = df[datecolname][0].date()\n",
    "    for item in df.index.values:  \n",
    "        if df[datecolname][item].date() == temp_date:\n",
    "            hours_list.append(df['zoned'][item].hour)\n",
    "            alt_list.append(df['Altitude'][item])\n",
    "        \n",
    "        else:\n",
    "            temp_date = df[datecolname][item].date()\n",
    "            yield {'hours': hours_list, 'altitudes': alt_list}"
   ]
  },
  {
   "cell_type": "code",
   "execution_count": 43,
   "metadata": {
    "collapsed": true
   },
   "outputs": [],
   "source": [
    "def collapse_to_unique_points(alt_list):\n",
    "    \"\"\" Remove adjacent duplicates. \n",
    "\n",
    "    :param raw_lat_long: list \n",
    "    :return: points: shorter list \n",
    "    \"\"\"\n",
    "    points = []\n",
    "    print len(alt_list)\n",
    "    for item in alt_list:\n",
    "        if len(points)==0 or item != points[-1]:  #compare to element most recently appended to points\n",
    "            points.append(item)\n",
    "    print len(points)\n",
    "    return points"
   ]
  },
  {
   "cell_type": "code",
   "execution_count": 11,
   "metadata": {
    "collapsed": false
   },
   "outputs": [],
   "source": [
    "altitudes = split_alts_by_date(df, 'zoned')\n",
    "test = next(altitudes)\n",
    "alt_df = pandas.DataFrame(test)"
   ]
  },
  {
   "cell_type": "code",
   "execution_count": 12,
   "metadata": {
    "collapsed": false
   },
   "outputs": [
    {
     "data": {
      "text/html": [
       "<div style=\"max-height:1000px;max-width:1500px;overflow:auto;\">\n",
       "<table border=\"1\" class=\"dataframe\">\n",
       "  <thead>\n",
       "    <tr style=\"text-align: right;\">\n",
       "      <th></th>\n",
       "      <th>altitudes</th>\n",
       "      <th>hours</th>\n",
       "    </tr>\n",
       "  </thead>\n",
       "  <tbody>\n",
       "    <tr>\n",
       "      <th>0</th>\n",
       "      <td> 53.0098</td>\n",
       "      <td> 16</td>\n",
       "    </tr>\n",
       "    <tr>\n",
       "      <th>1</th>\n",
       "      <td> 53.0098</td>\n",
       "      <td> 16</td>\n",
       "    </tr>\n",
       "    <tr>\n",
       "      <th>2</th>\n",
       "      <td> 53.0098</td>\n",
       "      <td> 16</td>\n",
       "    </tr>\n",
       "    <tr>\n",
       "      <th>3</th>\n",
       "      <td> 52.0486</td>\n",
       "      <td> 16</td>\n",
       "    </tr>\n",
       "    <tr>\n",
       "      <th>4</th>\n",
       "      <td> 53.4905</td>\n",
       "      <td> 16</td>\n",
       "    </tr>\n",
       "  </tbody>\n",
       "</table>\n",
       "</div>"
      ],
      "text/plain": [
       "   altitudes  hours\n",
       "0    53.0098     16\n",
       "1    53.0098     16\n",
       "2    53.0098     16\n",
       "3    52.0486     16\n",
       "4    53.4905     16"
      ]
     },
     "execution_count": 12,
     "metadata": {},
     "output_type": "execute_result"
    }
   ],
   "source": [
    "alt_df.head()\n"
   ]
  },
  {
   "cell_type": "code",
   "execution_count": 46,
   "metadata": {
    "collapsed": false
   },
   "outputs": [
    {
     "name": "stdout",
     "output_type": "stream",
     "text": [
      "567\n",
      "397\n"
     ]
    }
   ],
   "source": [
    "alts2 = next(altitude)\n",
    "points2 = collapse_to_unique_points(alts2)"
   ]
  },
  {
   "cell_type": "code",
   "execution_count": 47,
   "metadata": {
    "collapsed": false
   },
   "outputs": [
    {
     "data": {
      "text/plain": [
       "<matplotlib.axes._subplots.AxesSubplot at 0x10912b410>"
      ]
     },
     "execution_count": 47,
     "metadata": {},
     "output_type": "execute_result"
    },
    {
     "data": {
      "image/png": "[encoded data removed]",
      "text/plain": [
       "<matplotlib.figure.Figure at 0x1097370d0>"
      ]
     },
     "metadata": {},
     "output_type": "display_data"
    }
   ],
   "source": [
    "points2 = pandas.Series(points2)\n",
    "points2 = pandas.DataFrame(points2)\n",
    "points2.plot()"
   ]
  },
  {
   "cell_type": "code",
   "execution_count": 48,
   "metadata": {
    "collapsed": false
   },
   "outputs": [
    {
     "name": "stdout",
     "output_type": "stream",
     "text": [
      "972\n",
      "698\n"
     ]
    }
   ],
   "source": [
    "alts3 = next(altitude)\n",
    "points3 = collapse_to_unique_points(alts3)"
   ]
  },
  {
   "cell_type": "code",
   "execution_count": 49,
   "metadata": {
    "collapsed": false
   },
   "outputs": [
    {
     "data": {
      "text/plain": [
       "<matplotlib.axes._subplots.AxesSubplot at 0x109792490>"
      ]
     },
     "execution_count": 49,
     "metadata": {},
     "output_type": "execute_result"
    },
    {
     "data": {
      "image/png": "[encoded data removed]",
      "text/plain": [
       "<matplotlib.figure.Figure at 0x1097dcfd0>"
      ]
     },
     "metadata": {},
     "output_type": "display_data"
    }
   ],
   "source": [
    "points3 = pandas.Series(points3)\n",
    "points3 = pandas.DataFrame(points3)\n",
    "points3.plot()\n",
    "#plt.ylabel('measured altitude(meters)')\n",
    "#plt.xlabel('indexed measurement')"
   ]
  },
  {
   "cell_type": "code",
   "execution_count": 9,
   "metadata": {
    "collapsed": true
   },
   "outputs": [],
   "source": [
    "#for row in df, while date.next == date.previous, append to list\n",
    "#otherwise, stop and create new list \n",
    "\n",
    "def split_locs_by_date(df, datecolname):\n",
    "    \"\"\" Create lists of lat and long from points visited on the same day (dates will be the same, times will vary).\n",
    "    \n",
    "    Note: assumes the df is sorted, with index reset, such that index follows the right order for sequential date values.\n",
    "    \n",
    "    sorted df (dataframe), datecolname (str) -> generator of lists of lat/long tuples\n",
    "    \n",
    "    \"\"\"\n",
    "    loc_list = []\n",
    "    \n",
    "    temp_date = df[datecolname][0].date()\n",
    "    for item in df.index.values:  \n",
    "        if df[datecolname][item].date() == temp_date:\n",
    "            loc_list.append((df['Lat'][item],df['Long'][item]))\n",
    "        \n",
    "        else:\n",
    "            temp_date = df[datecolname][item].date()\n",
    "            yield loc_list\n",
    "    "
   ]
  },
  {
   "cell_type": "code",
   "execution_count": 10,
   "metadata": {
    "collapsed": false
   },
   "outputs": [],
   "source": [
    "#test split_by_date\n",
    "loc_1 = split_locs_by_date(df, 'zoned')"
   ]
  },
  {
   "cell_type": "code",
   "execution_count": 11,
   "metadata": {
    "collapsed": false
   },
   "outputs": [],
   "source": [
    "points = next(loc_1)"
   ]
  },
  {
   "cell_type": "code",
   "execution_count": 12,
   "metadata": {
    "collapsed": false
   },
   "outputs": [
    {
     "name": "stdout",
     "output_type": "stream",
     "text": [
      "[(37.394300000000001, -122.07689999999999), (37.394300000000001, -122.0771), (37.394399999999997, -122.0774), (37.3947, -122.07810000000001), (37.394799999999996, -122.0782), (37.395000000000003, -122.0782), (37.395299999999999, -122.0779), (37.395299999999999, -122.0779), (37.395400000000002, -122.07769999999999), (37.395400000000002, -122.0776), (37.395099999999999, -122.07700000000001), (37.3949, -122.07640000000001), (37.3947, -122.0758), (37.394199999999998, -122.0746), (37.393799999999999, -122.0736), (37.3934, -122.0727), (37.393000000000001, -122.07170000000001), (37.392800000000001, -122.0711), (37.392400000000002, -122.0702), (37.392099999999999, -122.0697), (37.392099999999999, -122.06959999999999), (37.3919, -122.06910000000001), (37.391599999999997, -122.0684), (37.391399999999997, -122.0677), (37.391199999999998, -122.0673), (37.390900000000002, -122.0665), (37.390500000000003, -122.0656), (37.390000000000001, -122.0643), (37.389600000000002, -122.06319999999999), (37.389400000000002, -122.0629), (37.389099999999999, -122.06200000000001), (37.3889, -122.0615), (37.3887, -122.0607), (37.388399999999997, -122.0599), (37.388100000000001, -122.05880000000001), (37.387700000000002, -122.0577), (37.387599999999999, -122.0573), (37.3872, -122.0562), (37.386899999999997, -122.0552), (37.386800000000001, -122.0549), (37.386499999999998, -122.054), (37.386200000000002, -122.0531), (37.385899999999999, -122.0521), (37.385800000000003, -122.0515), (37.3857, -122.0508), (37.385599999999997, -122.0501), (37.3857, -122.04949999999999), (37.385800000000003, -122.0488), (37.385999999999996, -122.0483), (37.386200000000002, -122.04730000000001), (37.386400000000002, -122.0466), (37.386499999999998, -122.0462), (37.386699999999998, -122.0455), (37.386800000000001, -122.0448), (37.386800000000001, -122.04430000000001), (37.386699999999998, -122.0436), (37.386499999999998, -122.0428), (37.386299999999999, -122.0416), (37.386099999999999, -122.0407), (37.385899999999999, -122.0399), (37.3857, -122.0389), (37.385599999999997, -122.0382), (37.385399999999997, -122.0371), (37.385199999999998, -122.0363), (37.384999999999998, -122.03530000000001), (37.384700000000002, -122.03440000000001), (37.384500000000003, -122.0335), (37.384500000000003, -122.0333), (37.3842, -122.0324), (37.384099999999997, -122.0318), (37.383899999999997, -122.03060000000001), (37.383600000000001, -122.0296), (37.383400000000002, -122.0286), (37.383200000000002, -122.0275), (37.383000000000003, -122.02670000000001), (37.382899999999999, -122.02600000000001), (37.3827, -122.02500000000001), (37.3825, -122.0243), (37.382300000000001, -122.0231), (37.382100000000001, -122.0226), (37.381999999999998, -122.0218), (37.381799999999998, -122.0213), (37.381399999999999, -122.0204), (37.381300000000003, -122.0201), (37.380699999999997, -122.01909999999999), (37.380400000000002, -122.0187), (37.380000000000003, -122.01819999999999), (37.3797, -122.0176), (37.3795, -122.01700000000001), (37.379199999999997, -122.0163), (37.379199999999997, -122.0162), (37.378999999999998, -122.0157), (37.378799999999998, -122.01479999999999), (37.378500000000003, -122.0141), (37.378300000000003, -122.01349999999999), (37.3782, -122.01309999999999), (37.378, -122.0124), (37.377899999999997, -122.012), (37.377699999999997, -122.01139999999999), (37.377400000000002, -122.01049999999999), (37.376999999999995, -122.0093), (37.376800000000003, -122.0087), (37.376600000000003, -122.00790000000001), (37.3765, -122.00709999999999), (37.3765, -122.006), (37.3765, -122.00530000000001), (37.376600000000003, -122.0047), (37.376800000000003, -122.00399999999999), (37.377099999999999, -122.00299999999999), (37.377400000000002, -122.0021), (37.377499999999998, -122.0012), (37.377499999999998, -122.0003), (37.377499999999998, -121.9992), (37.377499999999998, -121.99799999999999), (37.377600000000001, -121.99700000000001), (37.377600000000001, -121.99639999999999), (37.377600000000001, -121.9957), (37.377600000000001, -121.995), (37.377499999999998, -121.99420000000001), (37.377600000000001, -121.99339999999999), (37.377600000000001, -121.9924), (37.377600000000001, -121.99160000000001), (37.377600000000001, -121.991), (37.377600000000001, -121.98990000000001), (37.377600000000001, -121.98899999999999), (37.377600000000001, -121.9883), (37.377600000000001, -121.9881), (37.377600000000001, -121.9877), (37.377600000000001, -121.9871), (37.377600000000001, -121.9863), (37.377600000000001, -121.9853), (37.377600000000001, -121.9843), (37.377600000000001, -121.98299999999999), (37.377600000000001, -121.98200000000001), (37.377600000000001, -121.9812), (37.377499999999998, -121.9806), (37.377299999999998, -121.98009999999999), (37.376999999999995, -121.97969999999999), (37.376600000000003, -121.9791), (37.376300000000001, -121.9786), (37.375799999999998, -121.97790000000001), (37.375300000000003, -121.9772), (37.374899999999997, -121.9765), (37.374600000000001, -121.976), (37.374400000000001, -121.97539999999999), (37.374400000000001, -121.9748), (37.374400000000001, -121.9738), (37.374400000000001, -121.9727), (37.374400000000001, -121.9723), (37.374299999999998, -121.9721), (37.374099999999999, -121.97190000000001), (37.374099999999999, -121.9716), (37.374200000000002, -121.9712), (37.374299999999998, -121.9704), (37.374299999999998, -121.96939999999999), (37.374200000000002, -121.96899999999999), (37.374099999999999, -121.9688), (37.374000000000002, -121.9688), (37.3735, -121.9688), (37.373399999999997, -121.9688), (37.373399999999997, -121.9688), (37.373600000000003, -121.9688), (37.373800000000003, -121.9688), (37.374000000000002, -121.9688), (37.374400000000001, -121.9687), (37.374699999999997, -121.9687), (37.3748, -121.9687), (37.374899999999997, -121.9688), (37.375300000000003, -121.9688), (37.375599999999999, -121.9688), (37.376300000000001, -121.9688), (37.376999999999995, -121.9688), (37.377499999999998, -121.9688), (37.3782, -121.9688), (37.378700000000002, -121.9688), (37.378900000000002, -121.9687), (37.379199999999997, -121.9687), (37.379800000000003, -121.9688), (37.380000000000003, -121.9688), (37.380299999999998, -121.9688), (37.380899999999997, -121.9688), (37.381700000000002, -121.9688), (37.382300000000001, -121.9688), (37.382599999999996, -121.9688), (37.383099999999999, -121.9687), (37.383200000000002, -121.9687), (37.383499999999998, -121.9687), (37.383899999999997, -121.9687), (37.384099999999997, -121.9688), (37.384599999999999, -121.9688), (37.385100000000001, -121.9688), (37.3857, -121.9689), (37.386200000000002, -121.96899999999999), (37.386699999999998, -121.96899999999999), (37.3874, -121.96899999999999), (37.388000000000005, -121.9689), (37.388500000000001, -121.9688), (37.389099999999999, -121.9687), (37.389499999999998, -121.9688), (37.389899999999997, -121.9688), (37.390300000000003, -121.9687), (37.390500000000003, -121.9688), (37.390599999999999, -121.9686), (37.390799999999999, -121.96810000000001), (37.390999999999998, -121.9676), (37.391300000000001, -121.96700000000001), (37.391599999999997, -121.9662), (37.391999999999996, -121.9654), (37.392499999999998, -121.96429999999999), (37.392800000000001, -121.9636), (37.393000000000001, -121.96299999999999), (37.3934, -121.96210000000001), (37.393799999999999, -121.96129999999999), (37.394199999999998, -121.96040000000001), (37.394500000000001, -121.95959999999999), (37.3947, -121.959), (37.394799999999996, -121.9588), (37.3949, -121.95869999999999), (37.395000000000003, -121.9585), (37.395099999999999, -121.95820000000001), (37.395299999999999, -121.9576), (37.395400000000002, -121.9571), (37.395699999999998, -121.9563), (37.396099999999997, -121.9555), (37.3964, -121.95480000000001), (37.396500000000003, -121.9541), (37.396500000000003, -121.9534), (37.396299999999997, -121.9529), (37.396099999999997, -121.9522), (37.395800000000001, -121.9517), (37.395400000000002, -121.95100000000001), (37.395099999999999, -121.95059999999999), (37.3949, -121.95050000000001), (37.3949, -121.95059999999999), (37.394799999999996, -121.9509), (37.394599999999997, -121.95100000000001), (37.394399999999997, -121.9509), (37.393900000000002, -121.95050000000001), (37.393799999999999, -121.95050000000001), (37.393599999999999, -121.95050000000001), (37.393500000000003, -121.95059999999999), (37.3932, -121.9511), (37.393099999999997, -121.9515), (37.392899999999997, -121.9517), (37.392899999999997, -121.9517), (37.394300000000001, -122.07689999999999), (37.394300000000001, -122.0771), (37.394399999999997, -122.0774), (37.3947, -122.07810000000001), (37.394799999999996, -122.0782), (37.395000000000003, -122.0782), (37.395299999999999, -122.0779), (37.395299999999999, -122.0779), (37.395400000000002, -122.07769999999999), (37.395400000000002, -122.0776), (37.395099999999999, -122.07700000000001), (37.3949, -122.07640000000001), (37.3947, -122.0758), (37.394199999999998, -122.0746), (37.393799999999999, -122.0736), (37.3934, -122.0727), (37.393000000000001, -122.07170000000001), (37.392800000000001, -122.0711), (37.392400000000002, -122.0702), (37.392099999999999, -122.0697), (37.392099999999999, -122.06959999999999), (37.3919, -122.06910000000001), (37.391599999999997, -122.0684), (37.391399999999997, -122.0677), (37.391199999999998, -122.0673), (37.390900000000002, -122.0665), (37.390500000000003, -122.0656), (37.390000000000001, -122.0643), (37.389600000000002, -122.06319999999999), (37.389400000000002, -122.0629), (37.389099999999999, -122.06200000000001), (37.3889, -122.0615), (37.3887, -122.0607), (37.388399999999997, -122.0599), (37.388100000000001, -122.05880000000001), (37.387700000000002, -122.0577), (37.387599999999999, -122.0573), (37.3872, -122.0562), (37.386899999999997, -122.0552), (37.386800000000001, -122.0549), (37.386499999999998, -122.054), (37.386200000000002, -122.0531), (37.385899999999999, -122.0521), (37.385800000000003, -122.0515), (37.3857, -122.0508), (37.385599999999997, -122.0501), (37.3857, -122.04949999999999), (37.385800000000003, -122.0488), (37.385999999999996, -122.0483), (37.386200000000002, -122.04730000000001), (37.386400000000002, -122.0466), (37.386499999999998, -122.0462), (37.386699999999998, -122.0455), (37.386800000000001, -122.0448), (37.386800000000001, -122.04430000000001), (37.386699999999998, -122.0436), (37.386499999999998, -122.0428), (37.386299999999999, -122.0416), (37.386099999999999, -122.0407), (37.385899999999999, -122.0399), (37.3857, -122.0389), (37.385599999999997, -122.0382), (37.385399999999997, -122.0371), (37.385199999999998, -122.0363), (37.384999999999998, -122.03530000000001), (37.384700000000002, -122.03440000000001), (37.384500000000003, -122.0335), (37.384500000000003, -122.0333), (37.3842, -122.0324), (37.384099999999997, -122.0318), (37.383899999999997, -122.03060000000001), (37.383600000000001, -122.0296), (37.383400000000002, -122.0286), (37.383200000000002, -122.0275), (37.383000000000003, -122.02670000000001), (37.382899999999999, -122.02600000000001), (37.3827, -122.02500000000001), (37.3825, -122.0243), (37.382300000000001, -122.0231), (37.382100000000001, -122.0226), (37.381999999999998, -122.0218), (37.381799999999998, -122.0213), (37.381399999999999, -122.0204), (37.381300000000003, -122.0201), (37.380699999999997, -122.01909999999999), (37.380400000000002, -122.0187), (37.380000000000003, -122.01819999999999), (37.3797, -122.0176), (37.3795, -122.01700000000001), (37.379199999999997, -122.0163), (37.379199999999997, -122.0162), (37.378999999999998, -122.0157), (37.378799999999998, -122.01479999999999), (37.378500000000003, -122.0141), (37.378300000000003, -122.01349999999999), (37.3782, -122.01309999999999), (37.378, -122.0124), (37.377899999999997, -122.012), (37.377699999999997, -122.01139999999999), (37.377400000000002, -122.01049999999999), (37.376999999999995, -122.0093), (37.376800000000003, -122.0087), (37.376600000000003, -122.00790000000001), (37.3765, -122.00709999999999), (37.3765, -122.006), (37.3765, -122.00530000000001), (37.376600000000003, -122.0047), (37.376800000000003, -122.00399999999999), (37.377099999999999, -122.00299999999999), (37.377400000000002, -122.0021), (37.377499999999998, -122.0012), (37.377499999999998, -122.0003), (37.377499999999998, -121.9992), (37.377499999999998, -121.99799999999999), (37.377600000000001, -121.99700000000001), (37.377600000000001, -121.99639999999999), (37.377600000000001, -121.9957), (37.377600000000001, -121.995), (37.377499999999998, -121.99420000000001), (37.377600000000001, -121.99339999999999), (37.377600000000001, -121.9924), (37.377600000000001, -121.99160000000001), (37.377600000000001, -121.991), (37.377600000000001, -121.98990000000001), (37.377600000000001, -121.98899999999999), (37.377600000000001, -121.9883), (37.377600000000001, -121.9881), (37.377600000000001, -121.9877), (37.377600000000001, -121.9871), (37.377600000000001, -121.9863), (37.377600000000001, -121.9853), (37.377600000000001, -121.9843), (37.377600000000001, -121.98299999999999), (37.377600000000001, -121.98200000000001), (37.377600000000001, -121.9812), (37.377499999999998, -121.9806), (37.377299999999998, -121.98009999999999), (37.376999999999995, -121.97969999999999), (37.376600000000003, -121.9791), (37.376300000000001, -121.9786), (37.375799999999998, -121.97790000000001), (37.375300000000003, -121.9772), (37.374899999999997, -121.9765), (37.374600000000001, -121.976), (37.374400000000001, -121.97539999999999), (37.374400000000001, -121.9748), (37.374400000000001, -121.9738), (37.374400000000001, -121.9727), (37.374400000000001, -121.9723), (37.374299999999998, -121.9721), (37.374099999999999, -121.97190000000001), (37.374099999999999, -121.9716), (37.374200000000002, -121.9712), (37.374299999999998, -121.9704), (37.374299999999998, -121.96939999999999), (37.374200000000002, -121.96899999999999), (37.374099999999999, -121.9688), (37.374000000000002, -121.9688), (37.3735, -121.9688), (37.373399999999997, -121.9688), (37.373399999999997, -121.9688), (37.373600000000003, -121.9688), (37.373800000000003, -121.9688), (37.374000000000002, -121.9688), (37.374400000000001, -121.9687), (37.374699999999997, -121.9687), (37.3748, -121.9687), (37.374899999999997, -121.9688), (37.375300000000003, -121.9688), (37.375599999999999, -121.9688), (37.376300000000001, -121.9688), (37.376999999999995, -121.9688), (37.377499999999998, -121.9688), (37.3782, -121.9688), (37.378700000000002, -121.9688), (37.378900000000002, -121.9687), (37.379199999999997, -121.9687), (37.379800000000003, -121.9688), (37.380000000000003, -121.9688), (37.380299999999998, -121.9688), (37.380899999999997, -121.9688), (37.381700000000002, -121.9688), (37.382300000000001, -121.9688), (37.382599999999996, -121.9688), (37.383099999999999, -121.9687), (37.383200000000002, -121.9687), (37.383499999999998, -121.9687), (37.383899999999997, -121.9687), (37.384099999999997, -121.9688), (37.384599999999999, -121.9688), (37.385100000000001, -121.9688), (37.3857, -121.9689), (37.386200000000002, -121.96899999999999), (37.386699999999998, -121.96899999999999), (37.3874, -121.96899999999999), (37.388000000000005, -121.9689), (37.388500000000001, -121.9688), (37.389099999999999, -121.9687), (37.389499999999998, -121.9688), (37.389899999999997, -121.9688), (37.390300000000003, -121.9687), (37.390500000000003, -121.9688), (37.390599999999999, -121.9686), (37.390799999999999, -121.96810000000001), (37.390999999999998, -121.9676), (37.391300000000001, -121.96700000000001), (37.391599999999997, -121.9662), (37.391999999999996, -121.9654), (37.392499999999998, -121.96429999999999), (37.392800000000001, -121.9636), (37.393000000000001, -121.96299999999999), (37.3934, -121.96210000000001), (37.393799999999999, -121.96129999999999), (37.394199999999998, -121.96040000000001), (37.394500000000001, -121.95959999999999), (37.3947, -121.959), (37.394799999999996, -121.9588), (37.3949, -121.95869999999999), (37.395000000000003, -121.9585), (37.395099999999999, -121.95820000000001), (37.395299999999999, -121.9576), (37.395400000000002, -121.9571), (37.395699999999998, -121.9563), (37.396099999999997, -121.9555), (37.3964, -121.95480000000001), (37.396500000000003, -121.9541), (37.396500000000003, -121.9534), (37.396299999999997, -121.9529), (37.396099999999997, -121.9522), (37.395800000000001, -121.9517), (37.395400000000002, -121.95100000000001), (37.395099999999999, -121.95059999999999), (37.3949, -121.95050000000001), (37.3949, -121.95059999999999), (37.394799999999996, -121.9509), (37.394599999999997, -121.95100000000001), (37.394399999999997, -121.9509), (37.393900000000002, -121.95050000000001), (37.393799999999999, -121.95050000000001), (37.393599999999999, -121.95050000000001), (37.393500000000003, -121.95059999999999), (37.3932, -121.9511), (37.393099999999997, -121.9515), (37.392899999999997, -121.9517), (37.392899999999997, -121.9517)]"
     ]
    },
    {
     "ename": "NameError",
     "evalue": "name 'path' is not defined",
     "output_type": "error",
     "traceback": [
      "\u001b[0;31m---------------------------------------------------------------------------\u001b[0m",
      "\u001b[0;31mNameError\u001b[0m                                 Traceback (most recent call last)",
      "\u001b[0;32m<ipython-input-12-31b69536af71>\u001b[0m in \u001b[0;36m<module>\u001b[0;34m()\u001b[0m\n\u001b[0;32m----> 1\u001b[0;31m \u001b[0;32mprint\u001b[0m \u001b[0mpoints\u001b[0m\u001b[0;34m,\u001b[0m \u001b[0mlen\u001b[0m\u001b[0;34m(\u001b[0m\u001b[0mpath\u001b[0m\u001b[0;34m)\u001b[0m\u001b[0;34m\u001b[0m\u001b[0m\n\u001b[0m",
      "\u001b[0;31mNameError\u001b[0m: name 'path' is not defined"
     ]
    }
   ],
   "source": [
    "print points, len(path)"
   ]
  },
  {
   "cell_type": "code",
   "execution_count": 97,
   "metadata": {
    "collapsed": false
   },
   "outputs": [
    {
     "name": "stdout",
     "output_type": "stream",
     "text": [
      "(37.394300000000001, -122.07689999999999)\n",
      "(37.394300000000001, -122.0771)\n"
     ]
    }
   ],
   "source": [
    "locations = [(row[1],row[2]) for row in df[['Lat','Long']].itertuples()]\n",
    "print('\\n'.join(str(x) for x in [locations[0],locations[1]]))"
   ]
  },
  {
   "cell_type": "code",
   "execution_count": null,
   "metadata": {
    "collapsed": true
   },
   "outputs": [],
   "source": [
    "#want to extract lat and long from df based on date and feed it in as a path \n"
   ]
  },
  {
   "cell_type": "code",
   "execution_count": 42,
   "metadata": {
    "collapsed": true
   },
   "outputs": [],
   "source": [
    "#get elevations back and plot them\n",
    "elevations = [5.627086639404297, 5.839840412139893, 5.483985424041748, 5.309235572814941, 5.852761745452881, 5.960859775543213, 5.806560516357422, 6.369852542877197, 6.051360130310059, 7.211959362030029, 7.365567207336426, 8.226292610168457, 6.00233268737793, 5.292089939117432, 5.007282257080078, 5.485466957092285, 6.159402370452881, 6.032011985778809, 5.825675964355469, 6.803745269775391, 6.615157127380371, 7.041442394256592, 7.26495885848999, 8.15757942199707, 8.358736991882324, 8.171339988708496, 9.118271827697754, 9.259295463562012, 9.994961738586426, 9.843290328979492, 10.59953498840332, 11.63686466217041, 12.35517120361328, 12.22323799133301, 13.69894313812256, 15.62654495239258, 15.67187404632568, 17.01805877685547, 17.14420890808105, 17.4635181427002, 19.87927436828613, 19.89750289916992, 21.23011016845703, 21.92111968994141, 22.83876800537109, 24.1338062286377, 24.60493278503418, 23.86082649230957, 22.81315612792969, 23.10221862792969, 22.74290657043457, 22.27962875366211, 22.03162384033203, 22.9021110534668, 24.29611206054688, 25.30944633483887, 27.05757331848145, 27.76638793945312, 28.46392059326172, 28.62152481079102, 28.50705528259277, 28.08891868591309]\n",
    "elevated = pandas.Series(elevations)"
   ]
  },
  {
   "cell_type": "code",
   "execution_count": 43,
   "metadata": {
    "collapsed": true
   },
   "outputs": [],
   "source": [
    "df = pandas.DataFrame(elevated)"
   ]
  },
  {
   "cell_type": "code",
   "execution_count": 44,
   "metadata": {
    "collapsed": false
   },
   "outputs": [
    {
     "data": {
      "text/plain": [
       "<matplotlib.axes._subplots.AxesSubplot at 0x1092d5c10>"
      ]
     },
     "execution_count": 44,
     "metadata": {},
     "output_type": "execute_result"
    },
    {
     "data": {
      "image/png": "[encoded data removed]",
      "text/plain": [
       "<matplotlib.figure.Figure at 0x1092d5a90>"
      ]
     },
     "metadata": {},
     "output_type": "display_data"
    }
   ],
   "source": [
    "df.plot()"
   ]
  },
  {
   "cell_type": "code",
   "execution_count": 45,
   "metadata": {
    "collapsed": true
   },
   "outputs": [],
   "source": [
    "#would be nicer to be able to plot this over time, but it's pretty consistent with what cycleroute.org gave \n",
    "#for comparison, the Eiffel Tower is 300 m tall, potrero hill is 46 m (150 ft) "
   ]
  },
  {
   "cell_type": "code",
   "execution_count": 50,
   "metadata": {
    "collapsed": false
   },
   "outputs": [
    {
     "data": {
      "text/plain": [
       "<matplotlib.axes._subplots.AxesSubplot at 0x1039a3850>"
      ]
     },
     "execution_count": 50,
     "metadata": {},
     "output_type": "execute_result"
    },
    {
     "data": {
      "image/png": "[encoded data removed]",
      "text/plain": [
       "<matplotlib.figure.Figure at 0x109eb6950>"
      ]
     },
     "metadata": {},
     "output_type": "display_data"
    }
   ],
   "source": [
    "ele2=[28.08170700073242, 27.94421195983887, 28.10497665405273, 28.29936790466309, 28.60774993896484, 28.78005599975586, 28.68700981140137, 27.90944862365723, 27.9266529083252, 27.56032943725586, 27.25487327575684, 26.85952186584473, 26.57603645324707, 26.19034576416016, 25.80401992797852, 25.38783836364746, 25.28845405578613, 25.21034812927246, 25.05902290344238, 24.9037971496582, 24.64801788330078, 24.74091339111328, 24.47681427001953, 24.3245792388916, 24.09706497192383, 23.77349853515625, 23.33495712280273, 22.24639320373535, 20.17004013061523, 17.80467796325684, 15.44187259674072, 18.63554382324219, 14.88895511627197, 14.71258354187012, 14.255690574646, 14.07004642486572, 13.86791133880615, 14.14136981964111, 14.47133445739746, 14.74272537231445, 14.80256366729736, 14.471116065979, 14.29596710205078, 13.9620246887207, 13.62836933135986, 13.63751220703125, 13.20072841644287, 13.14438915252686, 13.37343120574951, 14.48258495330811, 16.82987403869629]\n",
    "ele3 = [16.82987403869629, 18.55566215515137, 18.9598217010498, 18.98641395568848, 20.05703163146973, 22.54707145690918, 23.96240615844727, 24.18024826049805, 22.18376541137695, 19.31110954284668, 18.25616645812988, 18.00452613830566, 17.99230194091797, 18.13630104064941, 17.88492774963379, 17.65925025939941, 17.61457443237305, 17.62855529785156, 17.34478187561035, 16.78891754150391, 16.53693008422852, 16.42161750793457, 16.24383735656738, 15.98143482208252, 15.75777912139893, 15.58979320526123, 15.38829040527344, 15.36117839813232, 16.71587944030762, 12.15573024749756, 16.07232475280762, 14.4774341583252, 14.5739221572876, 14.4799861907959, 14.29948711395264, 13.97274303436279, 13.66981029510498, 13.30011081695557, 12.95280170440674, 12.90287780761719, 13.3678674697876, 13.39457511901855, 12.74958896636963, 12.07607173919678, 11.92678165435791, 11.8585958480835, 11.92796802520752, 12.14534378051758, 12.03651905059814, 12.01804065704346, 11.82767868041992]\n",
    "ele4 = [11.82767868041992, 11.94652843475342, 12.25741386413574, 12.45300960540771, 12.45341777801514, 12.64653396606445, 12.80097961425781, 13.24417018890381, 13.4389123916626, 13.84096145629883, 13.76000690460205, 13.46513843536377, 13.22171974182129, 13.07826995849609, 12.82023811340332, 12.76106834411621, 12.58297634124756, 12.3135404586792, 12.5082483291626, 12.743408203125, 12.90487384796143, 13.03140258789062, 13.25526332855225, 13.33150386810303, 13.09617805480957, 13.12234783172607, 13.78225612640381, 10.97945404052734, 13.01733207702637, 12.50856494903564, 12.35006523132324, 12.23793315887451, 12.16549205780029, 11.90487670898438, 11.64395332336426, 11.41952133178711, 11.49758338928223, 10.92479801177979, 9.680747985839844, 11.29688930511475, 11.45321941375732, 11.54148101806641, 11.41617202758789, 11.09461402893066, 11.21470832824707, 11.17489814758301, 10.67293453216553, 7.572116851806641, 10.03211307525635, 6.551140785217285]\n",
    "ele5 = [6.551140785217285, 10.12997722625732, 10.43397235870361, 10.1801233291626, 9.874947547912598, 10.31869888305664, 9.441795349121094, 8.52158260345459, 8.707115173339844, 8.393967628479004, 6.061867713928223, 7.457648277282715, 8.530965805053711, 8.602157592773438, 7.129727363586426, 7.390824794769287, 6.904690742492676, 6.727382183074951, 6.753885269165039, 6.907939434051514, 6.977006912231445, 6.847075462341309, 6.943768501281738, 7.119138717651367, 6.895820140838623, 6.720235347747803, 6.63393497467041, 6.207952976226807, 5.994878768920898, 6.120191097259521, 6.417147636413574, 6.495415687561035, 6.727447986602783, 6.126497745513916, 5.909664630889893, 5.610713958740234, 5.480751514434814, 5.238534450531006, 4.99930477142334, 4.938337802886963, 4.731930732727051, 4.483243942260742, 4.447968006134033, 4.390510559082031, 4.561434745788574, 4.775047302246094, 4.779616355895996, 4.930953502655029, 5.549715042114258, 5.633944034576416, 5.893264770507812]\n",
    "ele2series = pandas.Series(ele2 + ele3+ ele4 + ele5)\n",
    "df2 = pandas.DataFrame(ele2series)\n",
    "df2.plot() "
   ]
  },
  {
   "cell_type": "code",
   "execution_count": null,
   "metadata": {
    "collapsed": true
   },
   "outputs": [],
   "source": []
  }
 ],
 "metadata": {
  "kernelspec": {
   "display_name": "Python 2",
   "language": "python",
   "name": "python2"
  },
  "language_info": {
   "codemirror_mode": {
    "name": "ipython",
    "version": 2
   },
   "file_extension": ".py",
   "mimetype": "text/x-python",
   "name": "python",
   "nbconvert_exporter": "python",
   "pygments_lexer": "ipython2",
   "version": "2.7.9"
  }
 },
 "nbformat": 4,
 "nbformat_minor": 0
}
