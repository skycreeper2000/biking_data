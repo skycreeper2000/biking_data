{
 "cells": [
  {
   "cell_type": "code",
   "execution_count": 2,
   "metadata": {
    "collapsed": true
   },
   "outputs": [],
   "source": [
    "import googlemaps\n",
    "import pandas"
   ]
  },
  {
   "cell_type": "code",
   "execution_count": 3,
   "metadata": {
    "collapsed": true
   },
   "outputs": [],
   "source": [
    "df = pandas.read_csv(\"2014_ts.csv\",index_col=0)"
   ]
  },
  {
   "cell_type": "code",
   "execution_count": 4,
   "metadata": {
    "collapsed": false
   },
   "outputs": [
    {
     "data": {
      "text/html": [
       "<div style=\"max-height:1000px;max-width:1500px;overflow:auto;\">\n",
       "<table border=\"1\" class=\"dataframe\">\n",
       "  <thead>\n",
       "    <tr style=\"text-align: right;\">\n",
       "      <th></th>\n",
       "      <th>posTime</th>\n",
       "      <th>Lat</th>\n",
       "      <th>Long</th>\n",
       "      <th>altTime</th>\n",
       "      <th>Altitude</th>\n",
       "      <th>DistanceMeters</th>\n",
       "      <th>weekday</th>\n",
       "    </tr>\n",
       "  </thead>\n",
       "  <tbody>\n",
       "    <tr>\n",
       "      <th>0</th>\n",
       "      <td> 2014-10-16 07:48:11-07:00</td>\n",
       "      <td> 37.3943</td>\n",
       "      <td>-122.0769</td>\n",
       "      <td> 2014-10-16 07:48:11-07:00</td>\n",
       "      <td> 19.3638</td>\n",
       "      <td> 4780.8071</td>\n",
       "      <td> 3</td>\n",
       "    </tr>\n",
       "    <tr>\n",
       "      <th>1</th>\n",
       "      <td> 2014-10-16 07:48:12-07:00</td>\n",
       "      <td> 37.3943</td>\n",
       "      <td>-122.0771</td>\n",
       "      <td> 2014-10-16 07:48:12-07:00</td>\n",
       "      <td> 19.3638</td>\n",
       "      <td> 4791.6362</td>\n",
       "      <td> 3</td>\n",
       "    </tr>\n",
       "    <tr>\n",
       "      <th>2</th>\n",
       "      <td> 2014-10-16 07:48:17-07:00</td>\n",
       "      <td> 37.3944</td>\n",
       "      <td>-122.0774</td>\n",
       "      <td> 2014-10-16 07:48:17-07:00</td>\n",
       "      <td> 19.8444</td>\n",
       "      <td> 4826.5288</td>\n",
       "      <td> 3</td>\n",
       "    </tr>\n",
       "    <tr>\n",
       "      <th>3</th>\n",
       "      <td> 2014-10-16 07:48:26-07:00</td>\n",
       "      <td> 37.3947</td>\n",
       "      <td>-122.0781</td>\n",
       "      <td> 2014-10-16 07:48:26-07:00</td>\n",
       "      <td> 19.8444</td>\n",
       "      <td> 4895.5474</td>\n",
       "      <td> 3</td>\n",
       "    </tr>\n",
       "    <tr>\n",
       "      <th>4</th>\n",
       "      <td> 2014-10-16 07:48:29-07:00</td>\n",
       "      <td> 37.3948</td>\n",
       "      <td>-122.0782</td>\n",
       "      <td> 2014-10-16 07:48:29-07:00</td>\n",
       "      <td> 19.8444</td>\n",
       "      <td> 4916.4795</td>\n",
       "      <td> 3</td>\n",
       "    </tr>\n",
       "  </tbody>\n",
       "</table>\n",
       "</div>"
      ],
      "text/plain": [
       "                     posTime      Lat      Long                    altTime  \\\n",
       "0  2014-10-16 07:48:11-07:00  37.3943 -122.0769  2014-10-16 07:48:11-07:00   \n",
       "1  2014-10-16 07:48:12-07:00  37.3943 -122.0771  2014-10-16 07:48:12-07:00   \n",
       "2  2014-10-16 07:48:17-07:00  37.3944 -122.0774  2014-10-16 07:48:17-07:00   \n",
       "3  2014-10-16 07:48:26-07:00  37.3947 -122.0781  2014-10-16 07:48:26-07:00   \n",
       "4  2014-10-16 07:48:29-07:00  37.3948 -122.0782  2014-10-16 07:48:29-07:00   \n",
       "\n",
       "   Altitude  DistanceMeters  weekday  \n",
       "0   19.3638       4780.8071        3  \n",
       "1   19.3638       4791.6362        3  \n",
       "2   19.8444       4826.5288        3  \n",
       "3   19.8444       4895.5474        3  \n",
       "4   19.8444       4916.4795        3  "
      ]
     },
     "execution_count": 4,
     "metadata": {},
     "output_type": "execute_result"
    }
   ],
   "source": [
    "df.head()"
   ]
  },
  {
   "cell_type": "code",
   "execution_count": 22,
   "metadata": {
    "collapsed": false
   },
   "outputs": [
    {
     "data": {
      "text/plain": [
       "(37.394300000000001, -122.07689999999999)"
      ]
     },
     "execution_count": 22,
     "metadata": {},
     "output_type": "execute_result"
    }
   ],
   "source": [
    "locations = [(row[1],row[2]) for row in df[['Lat','Long']].itertuples()]\n",
    "locations[0]"
   ]
  },
  {
   "cell_type": "code",
   "execution_count": 38,
   "metadata": {
    "collapsed": false
   },
   "outputs": [
    {
     "ename": "HTTPError",
     "evalue": "HTTP Error: 404",
     "output_type": "error",
     "traceback": [
      "\u001b[0;31m---------------------------------------------------------------------------\u001b[0m",
      "\u001b[0;31mHTTPError\u001b[0m                                 Traceback (most recent call last)",
      "\u001b[0;32m<ipython-input-38-0a41a9852083>\u001b[0m in \u001b[0;36m<module>\u001b[0;34m()\u001b[0m\n\u001b[1;32m      2\u001b[0m     \u001b[0mkey\u001b[0m \u001b[0;34m=\u001b[0m \u001b[0mapi_key\u001b[0m\u001b[0;34m.\u001b[0m\u001b[0mread\u001b[0m\u001b[0;34m(\u001b[0m\u001b[0;34m)\u001b[0m\u001b[0;34m\u001b[0m\u001b[0m\n\u001b[1;32m      3\u001b[0m     \u001b[0mgmaps\u001b[0m \u001b[0;34m=\u001b[0m \u001b[0mgooglemaps\u001b[0m\u001b[0;34m.\u001b[0m\u001b[0mClient\u001b[0m\u001b[0;34m(\u001b[0m\u001b[0mkey\u001b[0m\u001b[0;34m=\u001b[0m\u001b[0mkey\u001b[0m\u001b[0;34m)\u001b[0m\u001b[0;34m\u001b[0m\u001b[0m\n\u001b[0;32m----> 4\u001b[0;31m     \u001b[0mtest\u001b[0m \u001b[0;34m=\u001b[0m \u001b[0mgooglemaps\u001b[0m\u001b[0;34m.\u001b[0m\u001b[0mgeocoding\u001b[0m\u001b[0;34m.\u001b[0m\u001b[0mreverse_geocode\u001b[0m\u001b[0;34m(\u001b[0m\u001b[0mclient\u001b[0m\u001b[0;34m=\u001b[0m\u001b[0mgmaps\u001b[0m\u001b[0;34m,\u001b[0m \u001b[0mlatlng\u001b[0m\u001b[0;34m=\u001b[0m\u001b[0mlocations\u001b[0m\u001b[0;34m[\u001b[0m\u001b[0;36m0\u001b[0m\u001b[0;34m]\u001b[0m\u001b[0;34m)\u001b[0m\u001b[0;34m\u001b[0m\u001b[0m\n\u001b[0m\u001b[1;32m      5\u001b[0m     \u001b[0;31m#addresses = [gmaps.geocoding.reverse_geocode(loc) for loc in locations]\u001b[0m\u001b[0;34m\u001b[0m\u001b[0;34m\u001b[0m\u001b[0m\n",
      "\u001b[0;32m/Users/szeitlin/anaconda/envs/DanekBike/lib/python3.4/site-packages/googlemaps/geocoding.py\u001b[0m in \u001b[0;36mreverse_geocode\u001b[0;34m(client, latlng, result_type, location_type, language)\u001b[0m\n\u001b[1;32m    107\u001b[0m         \u001b[0mparams\u001b[0m\u001b[0;34m[\u001b[0m\u001b[0;34m\"language\"\u001b[0m\u001b[0;34m]\u001b[0m \u001b[0;34m=\u001b[0m \u001b[0mlanguage\u001b[0m\u001b[0;34m\u001b[0m\u001b[0m\n\u001b[1;32m    108\u001b[0m \u001b[0;34m\u001b[0m\u001b[0m\n\u001b[0;32m--> 109\u001b[0;31m     \u001b[0;32mreturn\u001b[0m \u001b[0mclient\u001b[0m\u001b[0;34m.\u001b[0m\u001b[0m_get\u001b[0m\u001b[0;34m(\u001b[0m\u001b[0;34m\"/maps/api/geocode/json\"\u001b[0m\u001b[0;34m,\u001b[0m \u001b[0mparams\u001b[0m\u001b[0;34m)\u001b[0m\u001b[0;34m[\u001b[0m\u001b[0;34m\"results\"\u001b[0m\u001b[0;34m]\u001b[0m\u001b[0;34m\u001b[0m\u001b[0m\n\u001b[0m",
      "\u001b[0;32m/Users/szeitlin/anaconda/envs/DanekBike/lib/python3.4/site-packages/googlemaps/client.py\u001b[0m in \u001b[0;36m_get\u001b[0;34m(self, url, params, first_request_time, retry_counter, base_url, accepts_clientid, extract_body)\u001b[0m\n\u001b[1;32m    179\u001b[0m             \u001b[0;32mif\u001b[0m \u001b[0mextract_body\u001b[0m\u001b[0;34m:\u001b[0m\u001b[0;34m\u001b[0m\u001b[0m\n\u001b[1;32m    180\u001b[0m                 \u001b[0;32mreturn\u001b[0m \u001b[0mextract_body\u001b[0m\u001b[0;34m(\u001b[0m\u001b[0mresp\u001b[0m\u001b[0;34m)\u001b[0m\u001b[0;34m\u001b[0m\u001b[0m\n\u001b[0;32m--> 181\u001b[0;31m             \u001b[0;32mreturn\u001b[0m \u001b[0mself\u001b[0m\u001b[0;34m.\u001b[0m\u001b[0m_get_body\u001b[0m\u001b[0;34m(\u001b[0m\u001b[0mresp\u001b[0m\u001b[0;34m)\u001b[0m\u001b[0;34m\u001b[0m\u001b[0m\n\u001b[0m\u001b[1;32m    182\u001b[0m         \u001b[0;32mexcept\u001b[0m \u001b[0mgooglemaps\u001b[0m\u001b[0;34m.\u001b[0m\u001b[0mexceptions\u001b[0m\u001b[0;34m.\u001b[0m\u001b[0m_RetriableRequest\u001b[0m\u001b[0;34m:\u001b[0m\u001b[0;34m\u001b[0m\u001b[0m\n\u001b[1;32m    183\u001b[0m             \u001b[0;31m# Retry request.\u001b[0m\u001b[0;34m\u001b[0m\u001b[0;34m\u001b[0m\u001b[0m\n",
      "\u001b[0;32m/Users/szeitlin/anaconda/envs/DanekBike/lib/python3.4/site-packages/googlemaps/client.py\u001b[0m in \u001b[0;36m_get_body\u001b[0;34m(self, resp)\u001b[0m\n\u001b[1;32m    187\u001b[0m     \u001b[0;32mdef\u001b[0m \u001b[0m_get_body\u001b[0m\u001b[0;34m(\u001b[0m\u001b[0mself\u001b[0m\u001b[0;34m,\u001b[0m \u001b[0mresp\u001b[0m\u001b[0;34m)\u001b[0m\u001b[0;34m:\u001b[0m\u001b[0;34m\u001b[0m\u001b[0m\n\u001b[1;32m    188\u001b[0m         \u001b[0;32mif\u001b[0m \u001b[0mresp\u001b[0m\u001b[0;34m.\u001b[0m\u001b[0mstatus_code\u001b[0m \u001b[0;34m!=\u001b[0m \u001b[0;36m200\u001b[0m\u001b[0;34m:\u001b[0m\u001b[0;34m\u001b[0m\u001b[0m\n\u001b[0;32m--> 189\u001b[0;31m             \u001b[0;32mraise\u001b[0m \u001b[0mgooglemaps\u001b[0m\u001b[0;34m.\u001b[0m\u001b[0mexceptions\u001b[0m\u001b[0;34m.\u001b[0m\u001b[0mHTTPError\u001b[0m\u001b[0;34m(\u001b[0m\u001b[0mresp\u001b[0m\u001b[0;34m.\u001b[0m\u001b[0mstatus_code\u001b[0m\u001b[0;34m)\u001b[0m\u001b[0;34m\u001b[0m\u001b[0m\n\u001b[0m\u001b[1;32m    190\u001b[0m \u001b[0;34m\u001b[0m\u001b[0m\n\u001b[1;32m    191\u001b[0m         \u001b[0mbody\u001b[0m \u001b[0;34m=\u001b[0m \u001b[0mresp\u001b[0m\u001b[0;34m.\u001b[0m\u001b[0mjson\u001b[0m\u001b[0;34m(\u001b[0m\u001b[0;34m)\u001b[0m\u001b[0;34m\u001b[0m\u001b[0m\n",
      "\u001b[0;31mHTTPError\u001b[0m: HTTP Error: 404"
     ]
    }
   ],
   "source": [
    "with open('api_key.txt', 'r') as api_key:\n",
    "    key = api_key.read()\n",
    "    gmaps = googlemaps.Client(key=key)\n",
    "    test = googlemaps.geocoding.reverse_geocode(client=gmaps, latlng=locations[0])\n",
    "    #addresses = [gmaps.geocoding.reverse_geocode(loc) for loc in locations]"
   ]
  },
  {
   "cell_type": "code",
   "execution_count": 30,
   "metadata": {
    "collapsed": false
   },
   "outputs": [
    {
     "data": {
      "text/plain": [
       "['Client',\n",
       " '__all__',\n",
       " '__builtins__',\n",
       " '__cached__',\n",
       " '__doc__',\n",
       " '__file__',\n",
       " '__loader__',\n",
       " '__name__',\n",
       " '__package__',\n",
       " '__path__',\n",
       " '__spec__',\n",
       " '__version__',\n",
       " 'client',\n",
       " 'convert',\n",
       " 'directions',\n",
       " 'distance_matrix',\n",
       " 'elevation',\n",
       " 'exceptions',\n",
       " 'geocoding',\n",
       " 'googlemaps',\n",
       " 'roads',\n",
       " 'timezone']"
      ]
     },
     "execution_count": 30,
     "metadata": {},
     "output_type": "execute_result"
    }
   ],
   "source": [
    "dir(googlemaps)"
   ]
  },
  {
   "cell_type": "code",
   "execution_count": 36,
   "metadata": {
    "collapsed": false
   },
   "outputs": [
    {
     "name": "stdout",
     "output_type": "stream",
     "text": [
      "\n",
      "    Reverse geocoding is the process of converting geographic coordinates into a\n",
      "    human-readable address.\n",
      "\n",
      "    :param latlng: The latitude/longitude value for which you wish to obtain the\n",
      "                   closest, human-readable address\n",
      "    :type latlng: dict or list or tuple\n",
      "\n",
      "    :param result_type: One or more address types to restrict results to.\n",
      "    :type result_type: string or list of string\n",
      "\n",
      "    :param location_type: One or more location types to restrict results to.\n",
      "    :type location_type: list of string\n",
      "\n",
      "    :param language: The language in which to return results.\n",
      "    :type langauge: string\n",
      "\n",
      "    :rtype: list of reverse geocoding results.\n",
      "\n",
      "    \n"
     ]
    }
   ],
   "source": [
    "print(googlemaps.geocoding.reverse_geocode.__doc__)"
   ]
  },
  {
   "cell_type": "code",
   "execution_count": null,
   "metadata": {
    "collapsed": true
   },
   "outputs": [],
   "source": []
  }
 ],
 "metadata": {
  "kernelspec": {
   "display_name": "Python 3",
   "language": "python",
   "name": "python3"
  },
  "language_info": {
   "codemirror_mode": {
    "name": "ipython",
    "version": 3
   },
   "file_extension": ".py",
   "mimetype": "text/x-python",
   "name": "python",
   "nbconvert_exporter": "python",
   "pygments_lexer": "ipython3",
   "version": "3.4.3"
  }
 },
 "nbformat": 4,
 "nbformat_minor": 0
}
