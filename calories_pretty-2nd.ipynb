{
 "metadata": {
  "name": "",
  "signature": "sha256:820e8f305dec1d6506e879ab3fdbbdf1f44223d354d35a15a1ba2e6f59de7394"
 },
 "nbformat": 3,
 "nbformat_minor": 0,
 "worksheets": [
  {
   "cells": [
    {
     "cell_type": "code",
     "collapsed": false,
     "input": [
      "import pandas\n",
      "import matplotlib.pyplot as plt\n",
      "import matplotlib\n",
      "import seaborn as sns\n",
      "import numpy as np\n",
      "import pandasql\n",
      "sns.set_palette(\"deep\", desat=0.6)\n",
      "sns.set_context(rc={\"figure.figsize\": (8,4)})\n",
      "\n",
      "%matplotlib inline"
     ],
     "language": "python",
     "metadata": {},
     "outputs": [],
     "prompt_number": 1
    },
    {
     "cell_type": "code",
     "collapsed": false,
     "input": [
      "days = pandas.read_csv(\"days_only_2014.csv\", index_col=0)"
     ],
     "language": "python",
     "metadata": {},
     "outputs": [],
     "prompt_number": 2
    },
    {
     "cell_type": "code",
     "collapsed": false,
     "input": [
      "days.head()"
     ],
     "language": "python",
     "metadata": {},
     "outputs": [
      {
       "html": [
        "<div style=\"max-height:1000px;max-width:1500px;overflow:auto;\">\n",
        "<table border=\"1\" class=\"dataframe\">\n",
        "  <thead>\n",
        "    <tr style=\"text-align: right;\">\n",
        "      <th></th>\n",
        "      <th>TotalTimeSeconds</th>\n",
        "      <th>DistanceMeters</th>\n",
        "      <th>MaximumSpeed</th>\n",
        "      <th>Calories</th>\n",
        "      <th>AverageSpeed</th>\n",
        "    </tr>\n",
        "  </thead>\n",
        "  <tbody>\n",
        "    <tr>\n",
        "      <th>2014-01-02</th>\n",
        "      <td> 1179.255000</td>\n",
        "      <td> 9686.530000</td>\n",
        "      <td> 12.260000</td>\n",
        "      <td> 384.000000</td>\n",
        "      <td> 8.045000</td>\n",
        "    </tr>\n",
        "    <tr>\n",
        "      <th>2014-01-03</th>\n",
        "      <td> 1219.643333</td>\n",
        "      <td> 9529.123333</td>\n",
        "      <td> 11.491667</td>\n",
        "      <td> 399.666667</td>\n",
        "      <td> 7.476667</td>\n",
        "    </tr>\n",
        "    <tr>\n",
        "      <th>2014-01-06</th>\n",
        "      <td> 1157.545000</td>\n",
        "      <td> 9690.615000</td>\n",
        "      <td> 12.605000</td>\n",
        "      <td> 377.500000</td>\n",
        "      <td> 8.185000</td>\n",
        "    </tr>\n",
        "    <tr>\n",
        "      <th>2014-01-07</th>\n",
        "      <td> 1198.012500</td>\n",
        "      <td> 9527.442500</td>\n",
        "      <td> 11.667500</td>\n",
        "      <td> 397.500000</td>\n",
        "      <td> 7.647500</td>\n",
        "    </tr>\n",
        "    <tr>\n",
        "      <th>2014-01-08</th>\n",
        "      <td> 1248.662500</td>\n",
        "      <td> 9596.760000</td>\n",
        "      <td> 10.887500</td>\n",
        "      <td> 391.750000</td>\n",
        "      <td> 7.347500</td>\n",
        "    </tr>\n",
        "  </tbody>\n",
        "</table>\n",
        "</div>"
       ],
       "metadata": {},
       "output_type": "pyout",
       "prompt_number": 3,
       "text": [
        "            TotalTimeSeconds  DistanceMeters  MaximumSpeed    Calories  \\\n",
        "2014-01-02       1179.255000     9686.530000     12.260000  384.000000   \n",
        "2014-01-03       1219.643333     9529.123333     11.491667  399.666667   \n",
        "2014-01-06       1157.545000     9690.615000     12.605000  377.500000   \n",
        "2014-01-07       1198.012500     9527.442500     11.667500  397.500000   \n",
        "2014-01-08       1248.662500     9596.760000     10.887500  391.750000   \n",
        "\n",
        "            AverageSpeed  \n",
        "2014-01-02      8.045000  \n",
        "2014-01-03      7.476667  \n",
        "2014-01-06      8.185000  \n",
        "2014-01-07      7.647500  \n",
        "2014-01-08      7.347500  "
       ]
      }
     ],
     "prompt_number": 3
    },
    {
     "cell_type": "code",
     "collapsed": false,
     "input": [
      "#total per business day (some days had multiple trips)\n",
      "cleaner = days.dropna() #this drops a lot of rows since it's using 'any' NA by default \n",
      "somedays = cleaner.astype('int')\n",
      "#somedays = days.astype('int') #can't just do this straightaway, because NA can't be 'int'"
     ],
     "language": "python",
     "metadata": {},
     "outputs": [],
     "prompt_number": 4
    },
    {
     "cell_type": "code",
     "collapsed": false,
     "input": [
      "days['Calories'].hist() #pandas hist function seems happier than matplotlib's in this case (was giving an attribute error)\n",
      "plt.xlabel('Calories burned per day (binned)')\n",
      "plt.ylabel('Frequency')"
     ],
     "language": "python",
     "metadata": {},
     "outputs": [
      {
       "metadata": {},
       "output_type": "pyout",
       "prompt_number": 5,
       "text": [
        "<matplotlib.text.Text at 0x109a0a7d0>"
       ]
      },
      {
       "metadata": {},
       "output_type": "display_data",
       "png": "[encoded data removed]",
       "text": [
        "<matplotlib.figure.Figure at 0x1099a87d0>"
       ]
      }
     ],
     "prompt_number": 5
    },
    {
     "cell_type": "code",
     "collapsed": false,
     "input": [
      "#still a little crowded, but ok for now\n",
      "plt.figure()\n",
      "\n",
      "plt.rcParams['figure.figsize'] = 20, 8\n",
      "somedays['Calories'].plot(kind='bar')\n",
      "plt.xlabel('day')\n",
      "plt.ylabel('Calories that day')"
     ],
     "language": "python",
     "metadata": {},
     "outputs": [
      {
       "metadata": {},
       "output_type": "pyout",
       "prompt_number": 7,
       "text": [
        "<matplotlib.text.Text at 0x109bcd510>"
       ]
      },
      {
       "metadata": {},
       "output_type": "display_data",
       "png": "[encoded data removed]",
       "text": [
        "<matplotlib.figure.Figure at 0x109b1b590>"
       ]
      }
     ],
     "prompt_number": 7
    },
    {
     "cell_type": "code",
     "collapsed": false,
     "input": [
      "days2 = somedays.reset_index()\n",
      "\n",
      "q=\"\"\"SELECT *\n",
      "FROM days2\n",
      "ORDER BY RANDOM()\n",
      "LIMIT 100\"\"\"\n",
      "\n",
      "subset = pandasql.sqldf(q, locals())"
     ],
     "language": "python",
     "metadata": {},
     "outputs": [
      {
       "output_type": "stream",
       "stream": "stderr",
       "text": [
        "/Users/szeitlin/anaconda/lib/python2.7/site-packages/pandas/io/sql.py:1607: FutureWarning: write_frame is deprecated, use to_sql\n",
        "  warnings.warn(\"write_frame is deprecated, use to_sql\", FutureWarning)\n",
        "/Users/szeitlin/anaconda/lib/python2.7/site-packages/pandas/io/sql.py:1569: FutureWarning: frame_query is deprecated, use read_sql\n",
        "  warnings.warn(\"frame_query is deprecated, use read_sql\", FutureWarning)\n"
       ]
      }
     ],
     "prompt_number": 8
    },
    {
     "cell_type": "code",
     "collapsed": false,
     "input": [
      "subset.head() #omg it loses the index if you don't make it back into a column again "
     ],
     "language": "python",
     "metadata": {},
     "outputs": [
      {
       "html": [
        "<div style=\"max-height:1000px;max-width:1500px;overflow:auto;\">\n",
        "<table border=\"1\" class=\"dataframe\">\n",
        "  <thead>\n",
        "    <tr style=\"text-align: right;\">\n",
        "      <th></th>\n",
        "      <th>index</th>\n",
        "      <th>TotalTimeSeconds</th>\n",
        "      <th>DistanceMeters</th>\n",
        "      <th>MaximumSpeed</th>\n",
        "      <th>Calories</th>\n",
        "      <th>AverageSpeed</th>\n",
        "    </tr>\n",
        "  </thead>\n",
        "  <tbody>\n",
        "    <tr>\n",
        "      <th>0</th>\n",
        "      <td> 2014-06-09</td>\n",
        "      <td> 1319</td>\n",
        "      <td> 11111</td>\n",
        "      <td> 12</td>\n",
        "      <td> 457</td>\n",
        "      <td> 8</td>\n",
        "    </tr>\n",
        "    <tr>\n",
        "      <th>1</th>\n",
        "      <td> 2014-04-29</td>\n",
        "      <td> 1148</td>\n",
        "      <td>  9474</td>\n",
        "      <td> 12</td>\n",
        "      <td> 403</td>\n",
        "      <td> 7</td>\n",
        "    </tr>\n",
        "    <tr>\n",
        "      <th>2</th>\n",
        "      <td> 2014-03-19</td>\n",
        "      <td> 1196</td>\n",
        "      <td>  9577</td>\n",
        "      <td> 12</td>\n",
        "      <td> 411</td>\n",
        "      <td> 7</td>\n",
        "    </tr>\n",
        "    <tr>\n",
        "      <th>3</th>\n",
        "      <td> 2014-06-26</td>\n",
        "      <td> 1301</td>\n",
        "      <td> 11181</td>\n",
        "      <td> 12</td>\n",
        "      <td> 507</td>\n",
        "      <td> 8</td>\n",
        "    </tr>\n",
        "    <tr>\n",
        "      <th>4</th>\n",
        "      <td> 2014-09-30</td>\n",
        "      <td> 1164</td>\n",
        "      <td>  9549</td>\n",
        "      <td> 12</td>\n",
        "      <td> 422</td>\n",
        "      <td> 7</td>\n",
        "    </tr>\n",
        "  </tbody>\n",
        "</table>\n",
        "</div>"
       ],
       "metadata": {},
       "output_type": "pyout",
       "prompt_number": 9,
       "text": [
        "        index  TotalTimeSeconds  DistanceMeters  MaximumSpeed  Calories  \\\n",
        "0  2014-06-09              1319           11111            12       457   \n",
        "1  2014-04-29              1148            9474            12       403   \n",
        "2  2014-03-19              1196            9577            12       411   \n",
        "3  2014-06-26              1301           11181            12       507   \n",
        "4  2014-09-30              1164            9549            12       422   \n",
        "\n",
        "   AverageSpeed  \n",
        "0             8  \n",
        "1             7  \n",
        "2             7  \n",
        "3             8  \n",
        "4             7  "
       ]
      }
     ],
     "prompt_number": 9
    },
    {
     "cell_type": "code",
     "collapsed": false,
     "input": [
      "#need to reset the date as the index\n",
      "date_subset = subset.set_index(['index'])\n",
      "date_subset.head()"
     ],
     "language": "python",
     "metadata": {},
     "outputs": [
      {
       "html": [
        "<div style=\"max-height:1000px;max-width:1500px;overflow:auto;\">\n",
        "<table border=\"1\" class=\"dataframe\">\n",
        "  <thead>\n",
        "    <tr style=\"text-align: right;\">\n",
        "      <th></th>\n",
        "      <th>TotalTimeSeconds</th>\n",
        "      <th>DistanceMeters</th>\n",
        "      <th>MaximumSpeed</th>\n",
        "      <th>Calories</th>\n",
        "      <th>AverageSpeed</th>\n",
        "    </tr>\n",
        "    <tr>\n",
        "      <th>index</th>\n",
        "      <th></th>\n",
        "      <th></th>\n",
        "      <th></th>\n",
        "      <th></th>\n",
        "      <th></th>\n",
        "    </tr>\n",
        "  </thead>\n",
        "  <tbody>\n",
        "    <tr>\n",
        "      <th>2014-06-09</th>\n",
        "      <td> 1319</td>\n",
        "      <td> 11111</td>\n",
        "      <td> 12</td>\n",
        "      <td> 457</td>\n",
        "      <td> 8</td>\n",
        "    </tr>\n",
        "    <tr>\n",
        "      <th>2014-04-29</th>\n",
        "      <td> 1148</td>\n",
        "      <td>  9474</td>\n",
        "      <td> 12</td>\n",
        "      <td> 403</td>\n",
        "      <td> 7</td>\n",
        "    </tr>\n",
        "    <tr>\n",
        "      <th>2014-03-19</th>\n",
        "      <td> 1196</td>\n",
        "      <td>  9577</td>\n",
        "      <td> 12</td>\n",
        "      <td> 411</td>\n",
        "      <td> 7</td>\n",
        "    </tr>\n",
        "    <tr>\n",
        "      <th>2014-06-26</th>\n",
        "      <td> 1301</td>\n",
        "      <td> 11181</td>\n",
        "      <td> 12</td>\n",
        "      <td> 507</td>\n",
        "      <td> 8</td>\n",
        "    </tr>\n",
        "    <tr>\n",
        "      <th>2014-09-30</th>\n",
        "      <td> 1164</td>\n",
        "      <td>  9549</td>\n",
        "      <td> 12</td>\n",
        "      <td> 422</td>\n",
        "      <td> 7</td>\n",
        "    </tr>\n",
        "  </tbody>\n",
        "</table>\n",
        "</div>"
       ],
       "metadata": {},
       "output_type": "pyout",
       "prompt_number": 10,
       "text": [
        "            TotalTimeSeconds  DistanceMeters  MaximumSpeed  Calories  \\\n",
        "index                                                                  \n",
        "2014-06-09              1319           11111            12       457   \n",
        "2014-04-29              1148            9474            12       403   \n",
        "2014-03-19              1196            9577            12       411   \n",
        "2014-06-26              1301           11181            12       507   \n",
        "2014-09-30              1164            9549            12       422   \n",
        "\n",
        "            AverageSpeed  \n",
        "index                     \n",
        "2014-06-09             8  \n",
        "2014-04-29             7  \n",
        "2014-03-19             7  \n",
        "2014-06-26             8  \n",
        "2014-09-30             7  "
       ]
      }
     ],
     "prompt_number": 10
    },
    {
     "cell_type": "code",
     "collapsed": false,
     "input": [
      "plt.figure()\n",
      "plt.rcParams['figure.figsize'] = 18, 8\n",
      "date_subset['Calories'].plot(kind='bar')\n",
      "plt.xlabel('day')\n",
      "plt.ylabel('Calories that day')"
     ],
     "language": "python",
     "metadata": {},
     "outputs": [
      {
       "metadata": {},
       "output_type": "pyout",
       "prompt_number": 11,
       "text": [
        "<matplotlib.text.Text at 0x10b54c650>"
       ]
      },
      {
       "metadata": {},
       "output_type": "display_data",
       "png": "[encoded data removed]",
       "text": [
        "<matplotlib.figure.Figure at 0x10b540290>"
       ]
      }
     ],
     "prompt_number": 11
    },
    {
     "cell_type": "code",
     "collapsed": false,
     "input": [],
     "language": "python",
     "metadata": {},
     "outputs": []
    }
   ],
   "metadata": {}
  }
 ]
}