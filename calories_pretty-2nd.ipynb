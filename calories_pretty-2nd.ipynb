{
 "cells": [
  {
   "cell_type": "code",
   "execution_count": 1,
   "metadata": {
    "collapsed": false
   },
   "outputs": [],
   "source": [
    "import pandas\n",
    "import matplotlib.pyplot as plt\n",
    "import matplotlib\n",
    "import seaborn as sns\n",
    "import numpy as np\n",
    "#import pandasql\n",
    "sns.set_palette(\"deep\", desat=0.6)\n",
    "sns.set_context(rc={\"figure.figsize\": (8,4)})\n",
    "\n",
    "%matplotlib inline"
   ]
  },
  {
   "cell_type": "code",
   "execution_count": 2,
   "metadata": {
    "collapsed": false
   },
   "outputs": [],
   "source": [
    "days = pandas.read_csv(\"days_only_2014.csv\", index_col=0)"
   ]
  },
  {
   "cell_type": "code",
   "execution_count": 3,
   "metadata": {
    "collapsed": false
   },
   "outputs": [
    {
     "data": {
      "text/html": [
       "<div style=\"max-height:1000px;max-width:1500px;overflow:auto;\">\n",
       "<table border=\"1\" class=\"dataframe\">\n",
       "  <thead>\n",
       "    <tr style=\"text-align: right;\">\n",
       "      <th></th>\n",
       "      <th>TotalTimeSeconds</th>\n",
       "      <th>DistanceMeters</th>\n",
       "      <th>MaximumSpeed</th>\n",
       "      <th>Calories</th>\n",
       "      <th>AverageSpeed</th>\n",
       "      <th>Miles</th>\n",
       "      <th>Minutes</th>\n",
       "      <th>Trip_hours</th>\n",
       "      <th>average_mph</th>\n",
       "      <th>maximum_mph</th>\n",
       "    </tr>\n",
       "  </thead>\n",
       "  <tbody>\n",
       "    <tr>\n",
       "      <th>2014-01-02</th>\n",
       "      <td> 1179.255000</td>\n",
       "      <td> 9686.530000</td>\n",
       "      <td> 12.260000</td>\n",
       "      <td> 384.000000</td>\n",
       "      <td> 8.045000</td>\n",
       "      <td> 6.018946</td>\n",
       "      <td> 19.654250</td>\n",
       "      <td> 0.327571</td>\n",
       "      <td> 17.995985</td>\n",
       "      <td> 27.424907</td>\n",
       "    </tr>\n",
       "    <tr>\n",
       "      <th>2014-01-03</th>\n",
       "      <td> 1219.643333</td>\n",
       "      <td> 9529.123333</td>\n",
       "      <td> 11.491667</td>\n",
       "      <td> 399.666667</td>\n",
       "      <td> 7.476667</td>\n",
       "      <td> 5.921137</td>\n",
       "      <td> 20.327389</td>\n",
       "      <td> 0.338790</td>\n",
       "      <td> 16.725549</td>\n",
       "      <td> 25.706190</td>\n",
       "    </tr>\n",
       "    <tr>\n",
       "      <th>2014-01-06</th>\n",
       "      <td> 1157.545000</td>\n",
       "      <td> 9690.615000</td>\n",
       "      <td> 12.605000</td>\n",
       "      <td> 377.500000</td>\n",
       "      <td> 8.185000</td>\n",
       "      <td> 6.021484</td>\n",
       "      <td> 19.292417</td>\n",
       "      <td> 0.321540</td>\n",
       "      <td> 18.310613</td>\n",
       "      <td> 28.196652</td>\n",
       "    </tr>\n",
       "    <tr>\n",
       "      <th>2014-01-07</th>\n",
       "      <td> 1198.012500</td>\n",
       "      <td> 9527.442500</td>\n",
       "      <td> 11.667500</td>\n",
       "      <td> 397.500000</td>\n",
       "      <td> 7.647500</td>\n",
       "      <td> 5.920093</td>\n",
       "      <td> 19.966875</td>\n",
       "      <td> 0.332781</td>\n",
       "      <td> 17.104882</td>\n",
       "      <td> 26.099519</td>\n",
       "    </tr>\n",
       "    <tr>\n",
       "      <th>2014-01-08</th>\n",
       "      <td> 1248.662500</td>\n",
       "      <td> 9596.760000</td>\n",
       "      <td> 10.887500</td>\n",
       "      <td> 391.750000</td>\n",
       "      <td> 7.347500</td>\n",
       "      <td> 5.963165</td>\n",
       "      <td> 20.811042</td>\n",
       "      <td> 0.346851</td>\n",
       "      <td> 16.438327</td>\n",
       "      <td> 24.354704</td>\n",
       "    </tr>\n",
       "  </tbody>\n",
       "</table>\n",
       "</div>"
      ],
      "text/plain": [
       "            TotalTimeSeconds  DistanceMeters  MaximumSpeed    Calories  \\\n",
       "2014-01-02       1179.255000     9686.530000     12.260000  384.000000   \n",
       "2014-01-03       1219.643333     9529.123333     11.491667  399.666667   \n",
       "2014-01-06       1157.545000     9690.615000     12.605000  377.500000   \n",
       "2014-01-07       1198.012500     9527.442500     11.667500  397.500000   \n",
       "2014-01-08       1248.662500     9596.760000     10.887500  391.750000   \n",
       "\n",
       "            AverageSpeed     Miles    Minutes  Trip_hours  average_mph  \\\n",
       "2014-01-02      8.045000  6.018946  19.654250    0.327571    17.995985   \n",
       "2014-01-03      7.476667  5.921137  20.327389    0.338790    16.725549   \n",
       "2014-01-06      8.185000  6.021484  19.292417    0.321540    18.310613   \n",
       "2014-01-07      7.647500  5.920093  19.966875    0.332781    17.104882   \n",
       "2014-01-08      7.347500  5.963165  20.811042    0.346851    16.438327   \n",
       "\n",
       "            maximum_mph  \n",
       "2014-01-02    27.424907  \n",
       "2014-01-03    25.706190  \n",
       "2014-01-06    28.196652  \n",
       "2014-01-07    26.099519  \n",
       "2014-01-08    24.354704  "
      ]
     },
     "execution_count": 3,
     "metadata": {},
     "output_type": "execute_result"
    }
   ],
   "source": [
    "days.head()"
   ]
  },
  {
   "cell_type": "code",
   "execution_count": 4,
   "metadata": {
    "collapsed": false
   },
   "outputs": [],
   "source": [
    "#total per business day (some days had multiple trips)\n",
    "cleaner = days.dropna() #this drops a lot of rows since it's using 'any' NA by default \n",
    "somedays = cleaner.astype('int')\n",
    "#somedays = days.astype('int') #can't just do this straightaway, because NA can't be 'int'"
   ]
  },
  {
   "cell_type": "code",
   "execution_count": 13,
   "metadata": {
    "collapsed": false
   },
   "outputs": [
    {
     "data": {
      "text/html": [
       "<div style=\"max-height:1000px;max-width:1500px;overflow:auto;\">\n",
       "<table border=\"1\" class=\"dataframe\">\n",
       "  <thead>\n",
       "    <tr style=\"text-align: right;\">\n",
       "      <th></th>\n",
       "      <th>TotalTimeSeconds</th>\n",
       "      <th>DistanceMeters</th>\n",
       "      <th>MaximumSpeed</th>\n",
       "      <th>Calories</th>\n",
       "      <th>AverageSpeed</th>\n",
       "      <th>Miles</th>\n",
       "      <th>Minutes</th>\n",
       "      <th>Trip_hours</th>\n",
       "      <th>average_mph</th>\n",
       "      <th>maximum_mph</th>\n",
       "    </tr>\n",
       "  </thead>\n",
       "  <tbody>\n",
       "    <tr>\n",
       "      <th>count</th>\n",
       "      <td>  167.000000</td>\n",
       "      <td>   167.000000</td>\n",
       "      <td> 167.000000</td>\n",
       "      <td> 167.000000</td>\n",
       "      <td> 167.000000</td>\n",
       "      <td> 167.000000</td>\n",
       "      <td> 167.000000</td>\n",
       "      <td> 167</td>\n",
       "      <td> 167.000000</td>\n",
       "      <td> 167.000000</td>\n",
       "    </tr>\n",
       "    <tr>\n",
       "      <th>mean</th>\n",
       "      <td> 1180.197605</td>\n",
       "      <td>  9138.790419</td>\n",
       "      <td>  11.263473</td>\n",
       "      <td> 390.479042</td>\n",
       "      <td>   6.808383</td>\n",
       "      <td>   4.880240</td>\n",
       "      <td>  19.167665</td>\n",
       "      <td>   0</td>\n",
       "      <td>  15.910180</td>\n",
       "      <td>  25.868263</td>\n",
       "    </tr>\n",
       "    <tr>\n",
       "      <th>std</th>\n",
       "      <td>  260.588381</td>\n",
       "      <td>  2484.813655</td>\n",
       "      <td>   1.804291</td>\n",
       "      <td>  98.312805</td>\n",
       "      <td>   1.145626</td>\n",
       "      <td>   1.582291</td>\n",
       "      <td>   4.325120</td>\n",
       "      <td>   0</td>\n",
       "      <td>   2.562064</td>\n",
       "      <td>   3.963008</td>\n",
       "    </tr>\n",
       "    <tr>\n",
       "      <th>min</th>\n",
       "      <td>    2.000000</td>\n",
       "      <td>     0.000000</td>\n",
       "      <td>   1.000000</td>\n",
       "      <td>   0.000000</td>\n",
       "      <td>   0.000000</td>\n",
       "      <td>   0.000000</td>\n",
       "      <td>   0.000000</td>\n",
       "      <td>   0</td>\n",
       "      <td>   0.000000</td>\n",
       "      <td>   3.000000</td>\n",
       "    </tr>\n",
       "    <tr>\n",
       "      <th>25%</th>\n",
       "      <td> 1129.500000</td>\n",
       "      <td>  9429.000000</td>\n",
       "      <td>  11.000000</td>\n",
       "      <td> 373.500000</td>\n",
       "      <td>   7.000000</td>\n",
       "      <td>   5.000000</td>\n",
       "      <td>  18.500000</td>\n",
       "      <td>   0</td>\n",
       "      <td>  16.000000</td>\n",
       "      <td>  25.000000</td>\n",
       "    </tr>\n",
       "    <tr>\n",
       "      <th>50%</th>\n",
       "      <td> 1198.000000</td>\n",
       "      <td>  9569.000000</td>\n",
       "      <td>  11.000000</td>\n",
       "      <td> 397.000000</td>\n",
       "      <td>   7.000000</td>\n",
       "      <td>   5.000000</td>\n",
       "      <td>  19.000000</td>\n",
       "      <td>   0</td>\n",
       "      <td>  17.000000</td>\n",
       "      <td>  26.000000</td>\n",
       "    </tr>\n",
       "    <tr>\n",
       "      <th>75%</th>\n",
       "      <td> 1269.500000</td>\n",
       "      <td>  9701.500000</td>\n",
       "      <td>  12.000000</td>\n",
       "      <td> 436.000000</td>\n",
       "      <td>   7.000000</td>\n",
       "      <td>   6.000000</td>\n",
       "      <td>  21.000000</td>\n",
       "      <td>   0</td>\n",
       "      <td>  17.000000</td>\n",
       "      <td>  27.500000</td>\n",
       "    </tr>\n",
       "    <tr>\n",
       "      <th>max</th>\n",
       "      <td> 2815.000000</td>\n",
       "      <td> 19348.000000</td>\n",
       "      <td>  18.000000</td>\n",
       "      <td> 797.000000</td>\n",
       "      <td>  11.000000</td>\n",
       "      <td>  12.000000</td>\n",
       "      <td>  46.000000</td>\n",
       "      <td>   0</td>\n",
       "      <td>  24.000000</td>\n",
       "      <td>  40.000000</td>\n",
       "    </tr>\n",
       "  </tbody>\n",
       "</table>\n",
       "</div>"
      ],
      "text/plain": [
       "       TotalTimeSeconds  DistanceMeters  MaximumSpeed    Calories  \\\n",
       "count        167.000000      167.000000    167.000000  167.000000   \n",
       "mean        1180.197605     9138.790419     11.263473  390.479042   \n",
       "std          260.588381     2484.813655      1.804291   98.312805   \n",
       "min            2.000000        0.000000      1.000000    0.000000   \n",
       "25%         1129.500000     9429.000000     11.000000  373.500000   \n",
       "50%         1198.000000     9569.000000     11.000000  397.000000   \n",
       "75%         1269.500000     9701.500000     12.000000  436.000000   \n",
       "max         2815.000000    19348.000000     18.000000  797.000000   \n",
       "\n",
       "       AverageSpeed       Miles     Minutes  Trip_hours  average_mph  \\\n",
       "count    167.000000  167.000000  167.000000         167   167.000000   \n",
       "mean       6.808383    4.880240   19.167665           0    15.910180   \n",
       "std        1.145626    1.582291    4.325120           0     2.562064   \n",
       "min        0.000000    0.000000    0.000000           0     0.000000   \n",
       "25%        7.000000    5.000000   18.500000           0    16.000000   \n",
       "50%        7.000000    5.000000   19.000000           0    17.000000   \n",
       "75%        7.000000    6.000000   21.000000           0    17.000000   \n",
       "max       11.000000   12.000000   46.000000           0    24.000000   \n",
       "\n",
       "       maximum_mph  \n",
       "count   167.000000  \n",
       "mean     25.868263  \n",
       "std       3.963008  \n",
       "min       3.000000  \n",
       "25%      25.000000  \n",
       "50%      26.000000  \n",
       "75%      27.500000  \n",
       "max      40.000000  "
      ]
     },
     "execution_count": 13,
     "metadata": {},
     "output_type": "execute_result"
    }
   ],
   "source": [
    "somedays.describe()"
   ]
  },
  {
   "cell_type": "code",
   "execution_count": 15,
   "metadata": {
    "collapsed": false
   },
   "outputs": [
    {
     "data": {
      "text/plain": [
       "65210"
      ]
     },
     "execution_count": 15,
     "metadata": {},
     "output_type": "execute_result"
    }
   ],
   "source": [
    "somedays.Calories.sum()"
   ]
  },
  {
   "cell_type": "code",
   "execution_count": 10,
   "metadata": {
    "collapsed": true
   },
   "outputs": [],
   "source": [
    "font = {'family': 'arial',\n",
    "        'weight': 'regular',\n",
    "        'size' : 30}\n",
    "matplotlib.rc('font', **font)"
   ]
  },
  {
   "cell_type": "code",
   "execution_count": 12,
   "metadata": {
    "collapsed": false
   },
   "outputs": [
    {
     "data": {
      "text/plain": [
       "(0, 1000)"
      ]
     },
     "execution_count": 12,
     "metadata": {},
     "output_type": "execute_result"
    },
    {
     "data": {
      "image/png": "[encoded data removed]",
      "text/plain": [
       "<matplotlib.figure.Figure at 0x109159110>"
      ]
     },
     "metadata": {},
     "output_type": "display_data"
    }
   ],
   "source": [
    "days['Calories'].hist() #pandas hist function seems happier than matplotlib's in this case (was giving an attribute error)\n",
    "plt.xlabel('Calories burned per day (binned)', fontsize=30)\n",
    "plt.ylabel('Frequency', fontsize=30)\n",
    "plt.xlim(0,1000)\n",
    "# matplotlib.rc('xtick', labelsize=20)\n",
    "# matplotlib.rc('ytick', labelsize=20)"
   ]
  },
  {
   "cell_type": "code",
   "execution_count": 7,
   "metadata": {
    "collapsed": false
   },
   "outputs": [
    {
     "data": {
      "text/plain": [
       "<matplotlib.text.Text at 0x109bcd510>"
      ]
     },
     "execution_count": 7,
     "metadata": {},
     "output_type": "execute_result"
    },
    {
     "data": {
      "image/png": "[encoded data removed]",
      "text/plain": [
       "<matplotlib.figure.Figure at 0x109b1b590>"
      ]
     },
     "metadata": {},
     "output_type": "display_data"
    }
   ],
   "source": [
    "#still a little crowded, but ok for now\n",
    "plt.figure()\n",
    "\n",
    "plt.rcParams['figure.figsize'] = 20, 8\n",
    "somedays['Calories'].plot(kind='bar')\n",
    "plt.xlabel('day')\n",
    "plt.ylabel('Calories that day')"
   ]
  },
  {
   "cell_type": "code",
   "execution_count": 8,
   "metadata": {
    "collapsed": false
   },
   "outputs": [
    {
     "name": "stderr",
     "output_type": "stream",
     "text": [
      "/Users/szeitlin/anaconda/lib/python2.7/site-packages/pandas/io/sql.py:1607: FutureWarning: write_frame is deprecated, use to_sql\n",
      "  warnings.warn(\"write_frame is deprecated, use to_sql\", FutureWarning)\n",
      "/Users/szeitlin/anaconda/lib/python2.7/site-packages/pandas/io/sql.py:1569: FutureWarning: frame_query is deprecated, use read_sql\n",
      "  warnings.warn(\"frame_query is deprecated, use read_sql\", FutureWarning)\n"
     ]
    }
   ],
   "source": [
    "days2 = somedays.reset_index()\n",
    "\n",
    "q=\"\"\"SELECT *\n",
    "FROM days2\n",
    "ORDER BY RANDOM()\n",
    "LIMIT 100\"\"\"\n",
    "\n",
    "subset = pandasql.sqldf(q, locals())"
   ]
  },
  {
   "cell_type": "code",
   "execution_count": 9,
   "metadata": {
    "collapsed": false
   },
   "outputs": [
    {
     "data": {
      "text/html": [
       "<div style=\"max-height:1000px;max-width:1500px;overflow:auto;\">\n",
       "<table border=\"1\" class=\"dataframe\">\n",
       "  <thead>\n",
       "    <tr style=\"text-align: right;\">\n",
       "      <th></th>\n",
       "      <th>index</th>\n",
       "      <th>TotalTimeSeconds</th>\n",
       "      <th>DistanceMeters</th>\n",
       "      <th>MaximumSpeed</th>\n",
       "      <th>Calories</th>\n",
       "      <th>AverageSpeed</th>\n",
       "    </tr>\n",
       "  </thead>\n",
       "  <tbody>\n",
       "    <tr>\n",
       "      <th>0</th>\n",
       "      <td> 2014-06-09</td>\n",
       "      <td> 1319</td>\n",
       "      <td> 11111</td>\n",
       "      <td> 12</td>\n",
       "      <td> 457</td>\n",
       "      <td> 8</td>\n",
       "    </tr>\n",
       "    <tr>\n",
       "      <th>1</th>\n",
       "      <td> 2014-04-29</td>\n",
       "      <td> 1148</td>\n",
       "      <td>  9474</td>\n",
       "      <td> 12</td>\n",
       "      <td> 403</td>\n",
       "      <td> 7</td>\n",
       "    </tr>\n",
       "    <tr>\n",
       "      <th>2</th>\n",
       "      <td> 2014-03-19</td>\n",
       "      <td> 1196</td>\n",
       "      <td>  9577</td>\n",
       "      <td> 12</td>\n",
       "      <td> 411</td>\n",
       "      <td> 7</td>\n",
       "    </tr>\n",
       "    <tr>\n",
       "      <th>3</th>\n",
       "      <td> 2014-06-26</td>\n",
       "      <td> 1301</td>\n",
       "      <td> 11181</td>\n",
       "      <td> 12</td>\n",
       "      <td> 507</td>\n",
       "      <td> 8</td>\n",
       "    </tr>\n",
       "    <tr>\n",
       "      <th>4</th>\n",
       "      <td> 2014-09-30</td>\n",
       "      <td> 1164</td>\n",
       "      <td>  9549</td>\n",
       "      <td> 12</td>\n",
       "      <td> 422</td>\n",
       "      <td> 7</td>\n",
       "    </tr>\n",
       "  </tbody>\n",
       "</table>\n",
       "</div>"
      ],
      "text/plain": [
       "        index  TotalTimeSeconds  DistanceMeters  MaximumSpeed  Calories  \\\n",
       "0  2014-06-09              1319           11111            12       457   \n",
       "1  2014-04-29              1148            9474            12       403   \n",
       "2  2014-03-19              1196            9577            12       411   \n",
       "3  2014-06-26              1301           11181            12       507   \n",
       "4  2014-09-30              1164            9549            12       422   \n",
       "\n",
       "   AverageSpeed  \n",
       "0             8  \n",
       "1             7  \n",
       "2             7  \n",
       "3             8  \n",
       "4             7  "
      ]
     },
     "execution_count": 9,
     "metadata": {},
     "output_type": "execute_result"
    }
   ],
   "source": [
    "subset.head() #omg it loses the index if you don't make it back into a column again "
   ]
  },
  {
   "cell_type": "code",
   "execution_count": 10,
   "metadata": {
    "collapsed": false
   },
   "outputs": [
    {
     "data": {
      "text/html": [
       "<div style=\"max-height:1000px;max-width:1500px;overflow:auto;\">\n",
       "<table border=\"1\" class=\"dataframe\">\n",
       "  <thead>\n",
       "    <tr style=\"text-align: right;\">\n",
       "      <th></th>\n",
       "      <th>TotalTimeSeconds</th>\n",
       "      <th>DistanceMeters</th>\n",
       "      <th>MaximumSpeed</th>\n",
       "      <th>Calories</th>\n",
       "      <th>AverageSpeed</th>\n",
       "    </tr>\n",
       "    <tr>\n",
       "      <th>index</th>\n",
       "      <th></th>\n",
       "      <th></th>\n",
       "      <th></th>\n",
       "      <th></th>\n",
       "      <th></th>\n",
       "    </tr>\n",
       "  </thead>\n",
       "  <tbody>\n",
       "    <tr>\n",
       "      <th>2014-06-09</th>\n",
       "      <td> 1319</td>\n",
       "      <td> 11111</td>\n",
       "      <td> 12</td>\n",
       "      <td> 457</td>\n",
       "      <td> 8</td>\n",
       "    </tr>\n",
       "    <tr>\n",
       "      <th>2014-04-29</th>\n",
       "      <td> 1148</td>\n",
       "      <td>  9474</td>\n",
       "      <td> 12</td>\n",
       "      <td> 403</td>\n",
       "      <td> 7</td>\n",
       "    </tr>\n",
       "    <tr>\n",
       "      <th>2014-03-19</th>\n",
       "      <td> 1196</td>\n",
       "      <td>  9577</td>\n",
       "      <td> 12</td>\n",
       "      <td> 411</td>\n",
       "      <td> 7</td>\n",
       "    </tr>\n",
       "    <tr>\n",
       "      <th>2014-06-26</th>\n",
       "      <td> 1301</td>\n",
       "      <td> 11181</td>\n",
       "      <td> 12</td>\n",
       "      <td> 507</td>\n",
       "      <td> 8</td>\n",
       "    </tr>\n",
       "    <tr>\n",
       "      <th>2014-09-30</th>\n",
       "      <td> 1164</td>\n",
       "      <td>  9549</td>\n",
       "      <td> 12</td>\n",
       "      <td> 422</td>\n",
       "      <td> 7</td>\n",
       "    </tr>\n",
       "  </tbody>\n",
       "</table>\n",
       "</div>"
      ],
      "text/plain": [
       "            TotalTimeSeconds  DistanceMeters  MaximumSpeed  Calories  \\\n",
       "index                                                                  \n",
       "2014-06-09              1319           11111            12       457   \n",
       "2014-04-29              1148            9474            12       403   \n",
       "2014-03-19              1196            9577            12       411   \n",
       "2014-06-26              1301           11181            12       507   \n",
       "2014-09-30              1164            9549            12       422   \n",
       "\n",
       "            AverageSpeed  \n",
       "index                     \n",
       "2014-06-09             8  \n",
       "2014-04-29             7  \n",
       "2014-03-19             7  \n",
       "2014-06-26             8  \n",
       "2014-09-30             7  "
      ]
     },
     "execution_count": 10,
     "metadata": {},
     "output_type": "execute_result"
    }
   ],
   "source": [
    "#need to reset the date as the index\n",
    "date_subset = subset.set_index(['index'])\n",
    "date_subset.head()"
   ]
  },
  {
   "cell_type": "code",
   "execution_count": 11,
   "metadata": {
    "collapsed": false
   },
   "outputs": [
    {
     "data": {
      "text/plain": [
       "<matplotlib.text.Text at 0x10b54c650>"
      ]
     },
     "execution_count": 11,
     "metadata": {},
     "output_type": "execute_result"
    },
    {
     "data": {
      "image/png": "[encoded data removed]",
      "text/plain": [
       "<matplotlib.figure.Figure at 0x10b540290>"
      ]
     },
     "metadata": {},
     "output_type": "display_data"
    }
   ],
   "source": [
    "plt.figure()\n",
    "plt.rcParams['figure.figsize'] = 18, 8\n",
    "date_subset['Calories'].plot(kind='bar')\n",
    "plt.xlabel('day')\n",
    "plt.ylabel('Calories that day')"
   ]
  },
  {
   "cell_type": "code",
   "execution_count": null,
   "metadata": {
    "collapsed": false
   },
   "outputs": [],
   "source": []
  }
 ],
 "metadata": {
  "kernelspec": {
   "display_name": "Python 2",
   "language": "python",
   "name": "python2"
  },
  "language_info": {
   "codemirror_mode": {
    "name": "ipython",
    "version": 2
   },
   "file_extension": ".py",
   "mimetype": "text/x-python",
   "name": "python",
   "nbconvert_exporter": "python",
   "pygments_lexer": "ipython2",
   "version": "2.7.9"
  }
 },
 "nbformat": 4,
 "nbformat_minor": 0
}
