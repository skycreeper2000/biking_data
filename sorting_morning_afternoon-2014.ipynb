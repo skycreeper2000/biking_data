{
 "metadata": {
  "name": "",
  "signature": "sha256:51dfc86e03a560d14a3d0dc3f18f8fc93515e37e8ea3b40c654184f154974060"
 },
 "nbformat": 3,
 "nbformat_minor": 0,
 "worksheets": [
  {
   "cells": [
    {
     "cell_type": "code",
     "collapsed": false,
     "input": [
      "%reload_ext watermark"
     ],
     "language": "python",
     "metadata": {},
     "outputs": [],
     "prompt_number": 1
    },
    {
     "cell_type": "code",
     "collapsed": false,
     "input": [
      "%watermark -a \"Samantha Zeitlin\" -d -u -p ipython,pandas,seaborn  "
     ],
     "language": "python",
     "metadata": {},
     "outputs": [
      {
       "output_type": "stream",
       "stream": "stdout",
       "text": [
        "Samantha Zeitlin \n",
        "Last updated: 02/10/2015 \n",
        "\n",
        "ipython 2.3.1\n",
        "pandas 0.15.2\n",
        "seaborn 0.5.1\n"
       ]
      }
     ],
     "prompt_number": 3
    },
    {
     "cell_type": "code",
     "collapsed": false,
     "input": [
      "import numpy as np\n",
      "import pandasql\n",
      "import pandas\n",
      "from datetime import datetime, date, time\n",
      "from dateutil.parser import parse\n",
      "import pytz\n",
      "from delta_range import delta_range\n",
      "from hour_lookup import centering, dict_grower, hour_lookup\n",
      "\n",
      "import matplotlib.pyplot as plt\n",
      "import matplotlib \n",
      "import seaborn as sns\n",
      "\n",
      "%matplotlib inline"
     ],
     "language": "python",
     "metadata": {},
     "outputs": [],
     "prompt_number": 7
    },
    {
     "cell_type": "code",
     "collapsed": false,
     "input": [
      "df = pandas.read_csv(\"sorted_by_date_2014.csv\", index_col=0)"
     ],
     "language": "python",
     "metadata": {},
     "outputs": [],
     "prompt_number": 8
    },
    {
     "cell_type": "code",
     "collapsed": false,
     "input": [
      "df.head()"
     ],
     "language": "python",
     "metadata": {},
     "outputs": [
      {
       "html": [
        "<div style=\"max-height:1000px;max-width:1500px;overflow:auto;\">\n",
        "<table border=\"1\" class=\"dataframe\">\n",
        "  <thead>\n",
        "    <tr style=\"text-align: right;\">\n",
        "      <th></th>\n",
        "      <th>StartTime</th>\n",
        "      <th>TotalTimeSeconds</th>\n",
        "      <th>DistanceMeters</th>\n",
        "      <th>MaximumSpeed</th>\n",
        "      <th>Calories</th>\n",
        "      <th>AverageSpeed</th>\n",
        "    </tr>\n",
        "  </thead>\n",
        "  <tbody>\n",
        "    <tr>\n",
        "      <th>397</th>\n",
        "      <td> 2014-01-02T14:44:27Z</td>\n",
        "      <td>  615.57</td>\n",
        "      <td>  4734.30</td>\n",
        "      <td> 12.89</td>\n",
        "      <td> 209</td>\n",
        "      <td> 7.69</td>\n",
        "    </tr>\n",
        "    <tr>\n",
        "      <th>398</th>\n",
        "      <td> 2014-01-02T15:46:13Z</td>\n",
        "      <td> 1742.94</td>\n",
        "      <td> 14638.76</td>\n",
        "      <td> 11.63</td>\n",
        "      <td> 559</td>\n",
        "      <td> 8.40</td>\n",
        "    </tr>\n",
        "    <tr>\n",
        "      <th>12 </th>\n",
        "      <td> 2014-01-03T00:20:08Z</td>\n",
        "      <td> 1670.34</td>\n",
        "      <td> 14112.42</td>\n",
        "      <td> 13.76</td>\n",
        "      <td> 553</td>\n",
        "      <td> 8.45</td>\n",
        "    </tr>\n",
        "    <tr>\n",
        "      <th>13 </th>\n",
        "      <td> 2014-01-03T01:38:46Z</td>\n",
        "      <td>  857.27</td>\n",
        "      <td>  4813.75</td>\n",
        "      <td>  9.23</td>\n",
        "      <td> 268</td>\n",
        "      <td> 5.62</td>\n",
        "    </tr>\n",
        "    <tr>\n",
        "      <th>362</th>\n",
        "      <td> 2014-01-03T14:37:08Z</td>\n",
        "      <td>  605.17</td>\n",
        "      <td>  4735.76</td>\n",
        "      <td> 12.94</td>\n",
        "      <td> 174</td>\n",
        "      <td> 7.83</td>\n",
        "    </tr>\n",
        "  </tbody>\n",
        "</table>\n",
        "</div>"
       ],
       "metadata": {},
       "output_type": "pyout",
       "prompt_number": 9,
       "text": [
        "                StartTime  TotalTimeSeconds  DistanceMeters  MaximumSpeed  \\\n",
        "397  2014-01-02T14:44:27Z            615.57         4734.30         12.89   \n",
        "398  2014-01-02T15:46:13Z           1742.94        14638.76         11.63   \n",
        "12   2014-01-03T00:20:08Z           1670.34        14112.42         13.76   \n",
        "13   2014-01-03T01:38:46Z            857.27         4813.75          9.23   \n",
        "362  2014-01-03T14:37:08Z            605.17         4735.76         12.94   \n",
        "\n",
        "     Calories  AverageSpeed  \n",
        "397       209          7.69  \n",
        "398       559          8.40  \n",
        "12        553          8.45  \n",
        "13        268          5.62  \n",
        "362       174          7.83  "
       ]
      }
     ],
     "prompt_number": 9
    },
    {
     "cell_type": "code",
     "collapsed": false,
     "input": [
      "df.shape"
     ],
     "language": "python",
     "metadata": {},
     "outputs": [
      {
       "metadata": {},
       "output_type": "pyout",
       "prompt_number": 10,
       "text": [
        "(523, 6)"
       ]
      }
     ],
     "prompt_number": 10
    },
    {
     "cell_type": "code",
     "collapsed": false,
     "input": [
      "type(df['StartTime'][0])"
     ],
     "language": "python",
     "metadata": {},
     "outputs": [
      {
       "metadata": {},
       "output_type": "pyout",
       "prompt_number": 11,
       "text": [
        "str"
       ]
      }
     ],
     "prompt_number": 11
    },
    {
     "cell_type": "code",
     "collapsed": false,
     "input": [
      "#ideas: could just take times, ignore days (not sure how many will be identical, probably not many)\n",
      "#could convert times back & use a bag-of-words approach to count occurrences(for that could maybe do hours +/-1)\n",
      "df['parsed']=[parse(x) for x in df['StartTime']]"
     ],
     "language": "python",
     "metadata": {},
     "outputs": [],
     "prompt_number": 12
    },
    {
     "cell_type": "code",
     "collapsed": false,
     "input": [
      "df['parsed'].head()"
     ],
     "language": "python",
     "metadata": {},
     "outputs": [
      {
       "metadata": {},
       "output_type": "pyout",
       "prompt_number": 13,
       "text": [
        "397    2014-01-02 14:44:27+00:00\n",
        "398    2014-01-02 15:46:13+00:00\n",
        "12     2014-01-03 00:20:08+00:00\n",
        "13     2014-01-03 01:38:46+00:00\n",
        "362    2014-01-03 14:37:08+00:00\n",
        "Name: parsed, dtype: object"
       ]
      }
     ],
     "prompt_number": 13
    },
    {
     "cell_type": "code",
     "collapsed": false,
     "input": [
      "df['zoned'] = [x.astimezone(pytz.timezone('US/Pacific')) for x in df['parsed']]"
     ],
     "language": "python",
     "metadata": {},
     "outputs": [],
     "prompt_number": 14
    },
    {
     "cell_type": "code",
     "collapsed": false,
     "input": [
      "df['zoned'].head()"
     ],
     "language": "python",
     "metadata": {},
     "outputs": [
      {
       "metadata": {},
       "output_type": "pyout",
       "prompt_number": 15,
       "text": [
        "397    2014-01-02 06:44:27-08:00\n",
        "398    2014-01-02 07:46:13-08:00\n",
        "12     2014-01-02 16:20:08-08:00\n",
        "13     2014-01-02 17:38:46-08:00\n",
        "362    2014-01-03 06:37:08-08:00\n",
        "Name: zoned, dtype: object"
       ]
      }
     ],
     "prompt_number": 15
    },
    {
     "cell_type": "code",
     "collapsed": false,
     "input": [
      "df['hour']=[x.hour for x in df['zoned']]"
     ],
     "language": "python",
     "metadata": {},
     "outputs": [],
     "prompt_number": 16
    },
    {
     "cell_type": "code",
     "collapsed": false,
     "input": [
      "df['hour'].head()"
     ],
     "language": "python",
     "metadata": {},
     "outputs": [
      {
       "metadata": {},
       "output_type": "pyout",
       "prompt_number": 17,
       "text": [
        "397     6\n",
        "398     7\n",
        "12     16\n",
        "13     17\n",
        "362     6\n",
        "Name: hour, dtype: int64"
       ]
      }
     ],
     "prompt_number": 17
    },
    {
     "cell_type": "code",
     "collapsed": false,
     "input": [
      "#want to know the variation of hours to know how to set the delta_range for what to include, probably easiest to plot & look  \n",
      "df['hour'].std()"
     ],
     "language": "python",
     "metadata": {},
     "outputs": [
      {
       "metadata": {},
       "output_type": "pyout",
       "prompt_number": 18,
       "text": [
        "5.0388678516716832"
       ]
      }
     ],
     "prompt_number": 18
    },
    {
     "cell_type": "code",
     "collapsed": false,
     "input": [
      "import matplotlib.pyplot as plt\n",
      "import matplotlib\n",
      "import seaborn as sns\n",
      "import numpy as np\n",
      "\n",
      "sns.set_palette(\"deep\", desat=0.6)\n",
      "sns.set_context(rc={\"figure.figsize\": (8,4)})\n",
      "\n",
      "%matplotlib inline"
     ],
     "language": "python",
     "metadata": {},
     "outputs": [],
     "prompt_number": 19
    },
    {
     "cell_type": "code",
     "collapsed": false,
     "input": [
      "df['hour'].hist() #note that these are not normal distributions, so not well suited for machine learning \n",
      "plt.xlabel('hour of the day(correct timezone)')\n",
      "plt.ylabel('frequency')"
     ],
     "language": "python",
     "metadata": {},
     "outputs": [
      {
       "metadata": {},
       "output_type": "pyout",
       "prompt_number": 20,
       "text": [
        "<matplotlib.text.Text at 0x10a1c71d0>"
       ]
      },
      {
       "metadata": {},
       "output_type": "display_data",
       "png": "[encoded data removed]",
       "text": [
        "<matplotlib.figure.Figure at 0x10a186210>"
       ]
      }
     ],
     "prompt_number": 20
    },
    {
     "cell_type": "code",
     "collapsed": false,
     "input": [
      "morning_range = delta_range(2)\n",
      "print morning_range"
     ],
     "language": "python",
     "metadata": {},
     "outputs": [
      {
       "output_type": "stream",
       "stream": "stdout",
       "text": [
        "[-1, 1]\n"
       ]
      }
     ],
     "prompt_number": 21
    },
    {
     "cell_type": "code",
     "collapsed": false,
     "input": [
      "afternoon_range = delta_range(6)\n",
      "print afternoon_range"
     ],
     "language": "python",
     "metadata": {},
     "outputs": [
      {
       "output_type": "stream",
       "stream": "stdout",
       "text": [
        "[-3, -2, -1, 1, 2, 3]\n"
       ]
      }
     ],
     "prompt_number": 22
    },
    {
     "cell_type": "code",
     "collapsed": false,
     "input": [
      "first = centering(morning_range, 7, 'morning')"
     ],
     "language": "python",
     "metadata": {},
     "outputs": [],
     "prompt_number": 23
    },
    {
     "cell_type": "code",
     "collapsed": false,
     "input": [
      "categories = {}\n",
      "second = centering(afternoon_range, 15, 'afternoon')"
     ],
     "language": "python",
     "metadata": {},
     "outputs": [],
     "prompt_number": 24
    },
    {
     "cell_type": "code",
     "collapsed": false,
     "input": [
      "dict_grower(first, categories)\n",
      "dict_grower(second, categories)"
     ],
     "language": "python",
     "metadata": {},
     "outputs": [
      {
       "metadata": {},
       "output_type": "pyout",
       "prompt_number": 25,
       "text": [
        "{'afternoon': [12, 13, 14, 16, 17, 18, 15], 'morning': [6, 8, 7]}"
       ]
      }
     ],
     "prompt_number": 25
    },
    {
     "cell_type": "code",
     "collapsed": false,
     "input": [
      "hour = df['hour'].tolist()"
     ],
     "language": "python",
     "metadata": {},
     "outputs": [],
     "prompt_number": 26
    },
    {
     "cell_type": "code",
     "collapsed": false,
     "input": [
      "daytimes = hour_lookup(hour, categories )\n",
      "print(daytimes),"
     ],
     "language": "python",
     "metadata": {},
     "outputs": [
      {
       "output_type": "stream",
       "stream": "stdout",
       "text": [
        "{'afternoon': [16, 17, 16, 17, 16, 17, 16, 17, 16, 17, 16, 17, 16, 17, 16, 17, 16, 17, 17, 16, 17, 16, 17, 16, 17, 16, 17, 16, 17, 16, 17, 16, 18, 16, 17, 16, 17, 16, 17, 16, 17, 16, 17, 16, 17, 16, 17, 15, 16, 16, 17, 16, 17, 16, 17, 16, 17, 16, 17, 16, 17, 16, 17, 16, 17, 16, 17, 16, 17, 16, 17, 16, 17, 16, 17, 16, 17, 16, 17, 16, 17, 16, 17, 16, 17, 16, 17, 16, 18, 16, 17, 16, 17, 16, 17, 16, 17, 16, 18, 16, 17, 16, 17, 16, 17, 16, 17, 16, 17, 16, 17, 16, 17, 16, 18, 16, 17, 16, 17, 16, 18, 16, 17, 16, 17, 16, 17, 16, 17, 16, 17, 16, 17, 16, 17, 16, 17, 16, 18, 16, 17, 16, 17, 16, 18, 16, 17, 16, 17, 16, 17, 16, 17, 16, 17, 16, 17, 16, 17, 16, 17, 16, 17, 16, 17, 16, 17, 16, 17, 16, 17, 16, 18, 16, 17, 16, 17, 16, 17, 16, 17, 16, 17, 16, 17, 16, 17, 16, 17, 16, 17, 17, 18, 16, 17, 16, 17, 15, 17, 16, 17, 16, 17, 15, 17, 17, 16, 17, 16, 17, 16, 17, 16, 17, 16, 17, 16, 17, 16, 17, 16, 17, 12, 16, 16, 18, 16, 17, 16, 17, 16, 17, 16, 17, 16, 17, 16, 17, 17, 18, 16, 17, 16, 17, 16, 17, 16, 17, 17, 16, 18, 16, 17, 16, 17, 16, 17, 16, 17, 16, 17, 16, 17, 16, 17], 'morning': [6, 7, 6, 7, 6, 7, 6, 7, 6, 7, 6, 7, 6, 7, 6, 7, 6, 7, 6, 7, 6, 7, 6, 6, 7, 6, 7, 6, 7, 6, 7, 6, 7, 6, 7, 7, 6, 7, 6, 7, 6, 7, 6, 7, 6, 7, 6, 7, 6, 7, 6, 7, 6, 7, 6, 6, 7, 6, 7, 6, 7, 6, 7, 6, 7, 6, 7, 6, 7, 6, 7, 6, 7, 6, 6, 7, 6, 7, 6, 7, 6, 7, 6, 6, 7, 6, 7, 6, 7, 6, 7, 6, 7, 6, 7, 6, 7, 6, 7, 6, 7, 6, 7, 6, 7, 6, 7, 6, 7, 6, 7, 6, 7, 6, 7, 6, 7, 6, 6, 7, 6, 7, 6, 7, 6, 7, 6, 7, 6, 7, 6, 7, 6, 7, 6, 7, 6, 7, 6, 7, 6, 7, 6, 7, 6, 7, 6, 7, 6, 7, 6, 7, 6, 7, 6, 7, 6, 7, 6, 7, 6, 7, 6, 7, 6, 7, 6, 7, 6, 7, 6, 7, 6, 7, 7, 6, 7, 6, 7, 6, 7, 6, 7, 6, 7, 6, 7, 6, 7, 6, 7, 6, 7, 6, 7, 6, 7, 6, 7, 6, 7, 6, 7, 6, 7, 6, 7, 6, 7, 6, 7, 6, 7, 6, 7, 7, 6, 7, 6, 7, 6, 7, 6, 7, 6, 7, 6, 7, 6, 7, 6, 7, 6, 6, 7, 6, 7, 6, 7, 6, 7, 6, 7, 6, 7, 6, 7, 6, 7, 6, 7, 6, 7, 6]}\n"
       ]
      }
     ],
     "prompt_number": 27
    },
    {
     "cell_type": "code",
     "collapsed": false,
     "input": [
      "#convert distances to miles \n",
      "df['Miles'] = df['DistanceMeters']/1609.34\n",
      "\n",
      "#convert times to minutes (better for comparisons) and hours (better for speed calculations)\n",
      "df['Minutes'] = df['TotalTimeSeconds']/60\n",
      "df['Trip_hours'] = df['Minutes']/60\n",
      "\n",
      "#convert speeds to miles per hour\n",
      "df['average_mph'] = df['Miles']/df['Trip_hours']\n",
      "df['maximum_mph'] = df['MaximumSpeed']*3600/1609.34"
     ],
     "language": "python",
     "metadata": {},
     "outputs": [],
     "prompt_number": 28
    },
    {
     "cell_type": "code",
     "collapsed": false,
     "input": [
      "df.head()"
     ],
     "language": "python",
     "metadata": {},
     "outputs": [
      {
       "html": [
        "<div style=\"max-height:1000px;max-width:1500px;overflow:auto;\">\n",
        "<table border=\"1\" class=\"dataframe\">\n",
        "  <thead>\n",
        "    <tr style=\"text-align: right;\">\n",
        "      <th></th>\n",
        "      <th>StartTime</th>\n",
        "      <th>TotalTimeSeconds</th>\n",
        "      <th>DistanceMeters</th>\n",
        "      <th>MaximumSpeed</th>\n",
        "      <th>Calories</th>\n",
        "      <th>AverageSpeed</th>\n",
        "      <th>parsed</th>\n",
        "      <th>zoned</th>\n",
        "      <th>hour</th>\n",
        "      <th>Miles</th>\n",
        "      <th>Minutes</th>\n",
        "      <th>Trip_hours</th>\n",
        "      <th>average_mph</th>\n",
        "      <th>maximum_mph</th>\n",
        "    </tr>\n",
        "  </thead>\n",
        "  <tbody>\n",
        "    <tr>\n",
        "      <th>397</th>\n",
        "      <td> 2014-01-02T14:44:27Z</td>\n",
        "      <td>  615.57</td>\n",
        "      <td>  4734.30</td>\n",
        "      <td> 12.89</td>\n",
        "      <td> 209</td>\n",
        "      <td> 7.69</td>\n",
        "      <td> 2014-01-02 14:44:27+00:00</td>\n",
        "      <td> 2014-01-02 06:44:27-08:00</td>\n",
        "      <td>  6</td>\n",
        "      <td> 2.941765</td>\n",
        "      <td> 10.259500</td>\n",
        "      <td> 0.170992</td>\n",
        "      <td> 17.204142</td>\n",
        "      <td> 28.834180</td>\n",
        "    </tr>\n",
        "    <tr>\n",
        "      <th>398</th>\n",
        "      <td> 2014-01-02T15:46:13Z</td>\n",
        "      <td> 1742.94</td>\n",
        "      <td> 14638.76</td>\n",
        "      <td> 11.63</td>\n",
        "      <td> 559</td>\n",
        "      <td> 8.40</td>\n",
        "      <td> 2014-01-02 15:46:13+00:00</td>\n",
        "      <td> 2014-01-02 07:46:13-08:00</td>\n",
        "      <td>  7</td>\n",
        "      <td> 9.096126</td>\n",
        "      <td> 29.049000</td>\n",
        "      <td> 0.484150</td>\n",
        "      <td> 18.787827</td>\n",
        "      <td> 26.015634</td>\n",
        "    </tr>\n",
        "    <tr>\n",
        "      <th>12 </th>\n",
        "      <td> 2014-01-03T00:20:08Z</td>\n",
        "      <td> 1670.34</td>\n",
        "      <td> 14112.42</td>\n",
        "      <td> 13.76</td>\n",
        "      <td> 553</td>\n",
        "      <td> 8.45</td>\n",
        "      <td> 2014-01-03 00:20:08+00:00</td>\n",
        "      <td> 2014-01-02 16:20:08-08:00</td>\n",
        "      <td> 16</td>\n",
        "      <td> 8.769073</td>\n",
        "      <td> 27.839000</td>\n",
        "      <td> 0.463983</td>\n",
        "      <td> 18.899543</td>\n",
        "      <td> 30.780320</td>\n",
        "    </tr>\n",
        "    <tr>\n",
        "      <th>13 </th>\n",
        "      <td> 2014-01-03T01:38:46Z</td>\n",
        "      <td>  857.27</td>\n",
        "      <td>  4813.75</td>\n",
        "      <td>  9.23</td>\n",
        "      <td> 268</td>\n",
        "      <td> 5.62</td>\n",
        "      <td> 2014-01-03 01:38:46+00:00</td>\n",
        "      <td> 2014-01-02 17:38:46-08:00</td>\n",
        "      <td> 17</td>\n",
        "      <td> 2.991133</td>\n",
        "      <td> 14.287833</td>\n",
        "      <td> 0.238131</td>\n",
        "      <td> 12.560895</td>\n",
        "      <td> 20.646973</td>\n",
        "    </tr>\n",
        "    <tr>\n",
        "      <th>362</th>\n",
        "      <td> 2014-01-03T14:37:08Z</td>\n",
        "      <td>  605.17</td>\n",
        "      <td>  4735.76</td>\n",
        "      <td> 12.94</td>\n",
        "      <td> 174</td>\n",
        "      <td> 7.83</td>\n",
        "      <td> 2014-01-03 14:37:08+00:00</td>\n",
        "      <td> 2014-01-03 06:37:08-08:00</td>\n",
        "      <td>  6</td>\n",
        "      <td> 2.942672</td>\n",
        "      <td> 10.086167</td>\n",
        "      <td> 0.168103</td>\n",
        "      <td> 17.505196</td>\n",
        "      <td> 28.946028</td>\n",
        "    </tr>\n",
        "  </tbody>\n",
        "</table>\n",
        "</div>"
       ],
       "metadata": {},
       "output_type": "pyout",
       "prompt_number": 29,
       "text": [
        "                StartTime  TotalTimeSeconds  DistanceMeters  MaximumSpeed  \\\n",
        "397  2014-01-02T14:44:27Z            615.57         4734.30         12.89   \n",
        "398  2014-01-02T15:46:13Z           1742.94        14638.76         11.63   \n",
        "12   2014-01-03T00:20:08Z           1670.34        14112.42         13.76   \n",
        "13   2014-01-03T01:38:46Z            857.27         4813.75          9.23   \n",
        "362  2014-01-03T14:37:08Z            605.17         4735.76         12.94   \n",
        "\n",
        "     Calories  AverageSpeed                     parsed  \\\n",
        "397       209          7.69  2014-01-02 14:44:27+00:00   \n",
        "398       559          8.40  2014-01-02 15:46:13+00:00   \n",
        "12        553          8.45  2014-01-03 00:20:08+00:00   \n",
        "13        268          5.62  2014-01-03 01:38:46+00:00   \n",
        "362       174          7.83  2014-01-03 14:37:08+00:00   \n",
        "\n",
        "                         zoned  hour     Miles    Minutes  Trip_hours  \\\n",
        "397  2014-01-02 06:44:27-08:00     6  2.941765  10.259500    0.170992   \n",
        "398  2014-01-02 07:46:13-08:00     7  9.096126  29.049000    0.484150   \n",
        "12   2014-01-02 16:20:08-08:00    16  8.769073  27.839000    0.463983   \n",
        "13   2014-01-02 17:38:46-08:00    17  2.991133  14.287833    0.238131   \n",
        "362  2014-01-03 06:37:08-08:00     6  2.942672  10.086167    0.168103   \n",
        "\n",
        "     average_mph  maximum_mph  \n",
        "397    17.204142    28.834180  \n",
        "398    18.787827    26.015634  \n",
        "12     18.899543    30.780320  \n",
        "13     12.560895    20.646973  \n",
        "362    17.505196    28.946028  "
       ]
      }
     ],
     "prompt_number": 29
    },
    {
     "cell_type": "code",
     "collapsed": false,
     "input": [
      "#actually just want to add a column with a flag for daytime category, and sort by that. Or, could sort by hours... \n",
      "sorted_by_hours= df.sort_index(by='hour')"
     ],
     "language": "python",
     "metadata": {},
     "outputs": [],
     "prompt_number": 30
    },
    {
     "cell_type": "code",
     "collapsed": false,
     "input": [
      "sorted_by_hours.head()"
     ],
     "language": "python",
     "metadata": {},
     "outputs": [
      {
       "html": [
        "<div style=\"max-height:1000px;max-width:1500px;overflow:auto;\">\n",
        "<table border=\"1\" class=\"dataframe\">\n",
        "  <thead>\n",
        "    <tr style=\"text-align: right;\">\n",
        "      <th></th>\n",
        "      <th>StartTime</th>\n",
        "      <th>TotalTimeSeconds</th>\n",
        "      <th>DistanceMeters</th>\n",
        "      <th>MaximumSpeed</th>\n",
        "      <th>Calories</th>\n",
        "      <th>AverageSpeed</th>\n",
        "      <th>parsed</th>\n",
        "      <th>zoned</th>\n",
        "      <th>hour</th>\n",
        "      <th>Miles</th>\n",
        "      <th>Minutes</th>\n",
        "      <th>Trip_hours</th>\n",
        "      <th>average_mph</th>\n",
        "      <th>maximum_mph</th>\n",
        "    </tr>\n",
        "  </thead>\n",
        "  <tbody>\n",
        "    <tr>\n",
        "      <th>397</th>\n",
        "      <td> 2014-01-02T14:44:27Z</td>\n",
        "      <td>  615.57</td>\n",
        "      <td>  4734.30</td>\n",
        "      <td> 12.89</td>\n",
        "      <td> 209</td>\n",
        "      <td> 7.69</td>\n",
        "      <td> 2014-01-02 14:44:27+00:00</td>\n",
        "      <td> 2014-01-02 06:44:27-08:00</td>\n",
        "      <td> 6</td>\n",
        "      <td> 2.941765</td>\n",
        "      <td> 10.259500</td>\n",
        "      <td> 0.170992</td>\n",
        "      <td> 17.204142</td>\n",
        "      <td> 28.834180</td>\n",
        "    </tr>\n",
        "    <tr>\n",
        "      <th>261</th>\n",
        "      <td> 2014-03-21T13:45:24Z</td>\n",
        "      <td> 1665.31</td>\n",
        "      <td> 14666.28</td>\n",
        "      <td> 12.11</td>\n",
        "      <td> 616</td>\n",
        "      <td> 8.81</td>\n",
        "      <td> 2014-03-21 13:45:24+00:00</td>\n",
        "      <td> 2014-03-21 06:45:24-07:00</td>\n",
        "      <td> 6</td>\n",
        "      <td> 9.113227</td>\n",
        "      <td> 27.755167</td>\n",
        "      <td> 0.462586</td>\n",
        "      <td> 19.700606</td>\n",
        "      <td> 27.089366</td>\n",
        "    </tr>\n",
        "    <tr>\n",
        "      <th>35 </th>\n",
        "      <td> 2014-03-24T13:41:05Z</td>\n",
        "      <td>  654.65</td>\n",
        "      <td>  4730.53</td>\n",
        "      <td> 12.05</td>\n",
        "      <td> 181</td>\n",
        "      <td> 7.23</td>\n",
        "      <td> 2014-03-24 13:41:05+00:00</td>\n",
        "      <td> 2014-03-24 06:41:05-07:00</td>\n",
        "      <td> 6</td>\n",
        "      <td> 2.939422</td>\n",
        "      <td> 10.910833</td>\n",
        "      <td> 0.181847</td>\n",
        "      <td> 16.164241</td>\n",
        "      <td> 26.955149</td>\n",
        "    </tr>\n",
        "    <tr>\n",
        "      <th>469</th>\n",
        "      <td> 2014-07-01T13:36:06Z</td>\n",
        "      <td>  590.40</td>\n",
        "      <td>  4686.59</td>\n",
        "      <td> 12.67</td>\n",
        "      <td> 190</td>\n",
        "      <td> 7.94</td>\n",
        "      <td> 2014-07-01 13:36:06+00:00</td>\n",
        "      <td> 2014-07-01 06:36:06-07:00</td>\n",
        "      <td> 6</td>\n",
        "      <td> 2.912119</td>\n",
        "      <td>  9.840000</td>\n",
        "      <td> 0.164000</td>\n",
        "      <td> 17.756825</td>\n",
        "      <td> 28.342053</td>\n",
        "    </tr>\n",
        "    <tr>\n",
        "      <th>207</th>\n",
        "      <td> 2014-03-25T13:36:43Z</td>\n",
        "      <td>  650.33</td>\n",
        "      <td>  4741.25</td>\n",
        "      <td> 12.34</td>\n",
        "      <td> 161</td>\n",
        "      <td> 7.29</td>\n",
        "      <td> 2014-03-25 13:36:43+00:00</td>\n",
        "      <td> 2014-03-25 06:36:43-07:00</td>\n",
        "      <td> 6</td>\n",
        "      <td> 2.946083</td>\n",
        "      <td> 10.838833</td>\n",
        "      <td> 0.180647</td>\n",
        "      <td> 16.308490</td>\n",
        "      <td> 27.603862</td>\n",
        "    </tr>\n",
        "  </tbody>\n",
        "</table>\n",
        "</div>"
       ],
       "metadata": {},
       "output_type": "pyout",
       "prompt_number": 31,
       "text": [
        "                StartTime  TotalTimeSeconds  DistanceMeters  MaximumSpeed  \\\n",
        "397  2014-01-02T14:44:27Z            615.57         4734.30         12.89   \n",
        "261  2014-03-21T13:45:24Z           1665.31        14666.28         12.11   \n",
        "35   2014-03-24T13:41:05Z            654.65         4730.53         12.05   \n",
        "469  2014-07-01T13:36:06Z            590.40         4686.59         12.67   \n",
        "207  2014-03-25T13:36:43Z            650.33         4741.25         12.34   \n",
        "\n",
        "     Calories  AverageSpeed                     parsed  \\\n",
        "397       209          7.69  2014-01-02 14:44:27+00:00   \n",
        "261       616          8.81  2014-03-21 13:45:24+00:00   \n",
        "35        181          7.23  2014-03-24 13:41:05+00:00   \n",
        "469       190          7.94  2014-07-01 13:36:06+00:00   \n",
        "207       161          7.29  2014-03-25 13:36:43+00:00   \n",
        "\n",
        "                         zoned  hour     Miles    Minutes  Trip_hours  \\\n",
        "397  2014-01-02 06:44:27-08:00     6  2.941765  10.259500    0.170992   \n",
        "261  2014-03-21 06:45:24-07:00     6  9.113227  27.755167    0.462586   \n",
        "35   2014-03-24 06:41:05-07:00     6  2.939422  10.910833    0.181847   \n",
        "469  2014-07-01 06:36:06-07:00     6  2.912119   9.840000    0.164000   \n",
        "207  2014-03-25 06:36:43-07:00     6  2.946083  10.838833    0.180647   \n",
        "\n",
        "     average_mph  maximum_mph  \n",
        "397    17.204142    28.834180  \n",
        "261    19.700606    27.089366  \n",
        "35     16.164241    26.955149  \n",
        "469    17.756825    28.342053  \n",
        "207    16.308490    27.603862  "
       ]
      }
     ],
     "prompt_number": 31
    },
    {
     "cell_type": "code",
     "collapsed": false,
     "input": [
      "sorted_by_time_and_date = df.sort_index(by = ['hour', 'zoned'])"
     ],
     "language": "python",
     "metadata": {},
     "outputs": [],
     "prompt_number": 32
    },
    {
     "cell_type": "code",
     "collapsed": false,
     "input": [
      "sorted_by_time_and_date.head()"
     ],
     "language": "python",
     "metadata": {},
     "outputs": [
      {
       "html": [
        "<div style=\"max-height:1000px;max-width:1500px;overflow:auto;\">\n",
        "<table border=\"1\" class=\"dataframe\">\n",
        "  <thead>\n",
        "    <tr style=\"text-align: right;\">\n",
        "      <th></th>\n",
        "      <th>StartTime</th>\n",
        "      <th>TotalTimeSeconds</th>\n",
        "      <th>DistanceMeters</th>\n",
        "      <th>MaximumSpeed</th>\n",
        "      <th>Calories</th>\n",
        "      <th>AverageSpeed</th>\n",
        "      <th>parsed</th>\n",
        "      <th>zoned</th>\n",
        "      <th>hour</th>\n",
        "      <th>Miles</th>\n",
        "      <th>Minutes</th>\n",
        "      <th>Trip_hours</th>\n",
        "      <th>average_mph</th>\n",
        "      <th>maximum_mph</th>\n",
        "    </tr>\n",
        "  </thead>\n",
        "  <tbody>\n",
        "    <tr>\n",
        "      <th>397</th>\n",
        "      <td> 2014-01-02T14:44:27Z</td>\n",
        "      <td> 615.57</td>\n",
        "      <td> 4734.30</td>\n",
        "      <td> 12.89</td>\n",
        "      <td> 209</td>\n",
        "      <td> 7.69</td>\n",
        "      <td> 2014-01-02 14:44:27+00:00</td>\n",
        "      <td> 2014-01-02 06:44:27-08:00</td>\n",
        "      <td> 6</td>\n",
        "      <td> 2.941765</td>\n",
        "      <td> 10.259500</td>\n",
        "      <td> 0.170992</td>\n",
        "      <td> 17.204142</td>\n",
        "      <td> 28.834180</td>\n",
        "    </tr>\n",
        "    <tr>\n",
        "      <th>362</th>\n",
        "      <td> 2014-01-03T14:37:08Z</td>\n",
        "      <td> 605.17</td>\n",
        "      <td> 4735.76</td>\n",
        "      <td> 12.94</td>\n",
        "      <td> 174</td>\n",
        "      <td> 7.83</td>\n",
        "      <td> 2014-01-03 14:37:08+00:00</td>\n",
        "      <td> 2014-01-03 06:37:08-08:00</td>\n",
        "      <td> 6</td>\n",
        "      <td> 2.942672</td>\n",
        "      <td> 10.086167</td>\n",
        "      <td> 0.168103</td>\n",
        "      <td> 17.505196</td>\n",
        "      <td> 28.946028</td>\n",
        "    </tr>\n",
        "    <tr>\n",
        "      <th>450</th>\n",
        "      <td> 2014-01-06T14:37:04Z</td>\n",
        "      <td> 606.17</td>\n",
        "      <td> 4724.96</td>\n",
        "      <td> 12.23</td>\n",
        "      <td> 182</td>\n",
        "      <td> 7.79</td>\n",
        "      <td> 2014-01-06 14:37:04+00:00</td>\n",
        "      <td> 2014-01-06 06:37:04-08:00</td>\n",
        "      <td> 6</td>\n",
        "      <td> 2.935961</td>\n",
        "      <td> 10.102833</td>\n",
        "      <td> 0.168381</td>\n",
        "      <td> 17.436463</td>\n",
        "      <td> 27.357799</td>\n",
        "    </tr>\n",
        "    <tr>\n",
        "      <th>517</th>\n",
        "      <td> 2014-01-07T14:42:00Z</td>\n",
        "      <td> 603.10</td>\n",
        "      <td> 4710.42</td>\n",
        "      <td> 12.13</td>\n",
        "      <td> 207</td>\n",
        "      <td> 7.81</td>\n",
        "      <td> 2014-01-07 14:42:00+00:00</td>\n",
        "      <td> 2014-01-07 06:42:00-08:00</td>\n",
        "      <td> 6</td>\n",
        "      <td> 2.926927</td>\n",
        "      <td> 10.051667</td>\n",
        "      <td> 0.167528</td>\n",
        "      <td> 17.471291</td>\n",
        "      <td> 27.134105</td>\n",
        "    </tr>\n",
        "    <tr>\n",
        "      <th>27 </th>\n",
        "      <td> 2014-01-08T14:37:12Z</td>\n",
        "      <td> 663.73</td>\n",
        "      <td> 4760.85</td>\n",
        "      <td> 11.00</td>\n",
        "      <td> 167</td>\n",
        "      <td> 7.17</td>\n",
        "      <td> 2014-01-08 14:37:12+00:00</td>\n",
        "      <td> 2014-01-08 06:37:12-08:00</td>\n",
        "      <td> 6</td>\n",
        "      <td> 2.958262</td>\n",
        "      <td> 11.062167</td>\n",
        "      <td> 0.184369</td>\n",
        "      <td> 16.045296</td>\n",
        "      <td> 24.606360</td>\n",
        "    </tr>\n",
        "  </tbody>\n",
        "</table>\n",
        "</div>"
       ],
       "metadata": {},
       "output_type": "pyout",
       "prompt_number": 33,
       "text": [
        "                StartTime  TotalTimeSeconds  DistanceMeters  MaximumSpeed  \\\n",
        "397  2014-01-02T14:44:27Z            615.57         4734.30         12.89   \n",
        "362  2014-01-03T14:37:08Z            605.17         4735.76         12.94   \n",
        "450  2014-01-06T14:37:04Z            606.17         4724.96         12.23   \n",
        "517  2014-01-07T14:42:00Z            603.10         4710.42         12.13   \n",
        "27   2014-01-08T14:37:12Z            663.73         4760.85         11.00   \n",
        "\n",
        "     Calories  AverageSpeed                     parsed  \\\n",
        "397       209          7.69  2014-01-02 14:44:27+00:00   \n",
        "362       174          7.83  2014-01-03 14:37:08+00:00   \n",
        "450       182          7.79  2014-01-06 14:37:04+00:00   \n",
        "517       207          7.81  2014-01-07 14:42:00+00:00   \n",
        "27        167          7.17  2014-01-08 14:37:12+00:00   \n",
        "\n",
        "                         zoned  hour     Miles    Minutes  Trip_hours  \\\n",
        "397  2014-01-02 06:44:27-08:00     6  2.941765  10.259500    0.170992   \n",
        "362  2014-01-03 06:37:08-08:00     6  2.942672  10.086167    0.168103   \n",
        "450  2014-01-06 06:37:04-08:00     6  2.935961  10.102833    0.168381   \n",
        "517  2014-01-07 06:42:00-08:00     6  2.926927  10.051667    0.167528   \n",
        "27   2014-01-08 06:37:12-08:00     6  2.958262  11.062167    0.184369   \n",
        "\n",
        "     average_mph  maximum_mph  \n",
        "397    17.204142    28.834180  \n",
        "362    17.505196    28.946028  \n",
        "450    17.436463    27.357799  \n",
        "517    17.471291    27.134105  \n",
        "27     16.045296    24.606360  "
       ]
      }
     ],
     "prompt_number": 33
    },
    {
     "cell_type": "code",
     "collapsed": false,
     "input": [
      "speed_filter_left = sorted_by_time_and_date[sorted_by_time_and_date['average_mph'] <= 40.0]"
     ],
     "language": "python",
     "metadata": {},
     "outputs": [],
     "prompt_number": 34
    },
    {
     "cell_type": "code",
     "collapsed": false,
     "input": [
      "speed_filter_right=speed_filter_left[speed_filter_left['average_mph']>=5.0]"
     ],
     "language": "python",
     "metadata": {},
     "outputs": [],
     "prompt_number": 35
    },
    {
     "cell_type": "code",
     "collapsed": false,
     "input": [
      "filtered=speed_filter_right.reset_index()"
     ],
     "language": "python",
     "metadata": {},
     "outputs": [],
     "prompt_number": 36
    },
    {
     "cell_type": "code",
     "collapsed": false,
     "input": [
      "sns.distplot(filtered['average_mph'])"
     ],
     "language": "python",
     "metadata": {},
     "outputs": [
      {
       "metadata": {},
       "output_type": "pyout",
       "prompt_number": 37,
       "text": [
        "<matplotlib.axes._subplots.AxesSubplot at 0x10a2e7550>"
       ]
      },
      {
       "metadata": {},
       "output_type": "display_data",
       "png": "[encoded data removed]",
       "text": [
        "<matplotlib.figure.Figure at 0x10a47bf50>"
       ]
      }
     ],
     "prompt_number": 37
    },
    {
     "cell_type": "code",
     "collapsed": false,
     "input": [
      "sns.set(style=\"ticks\")\n",
      "sns.jointplot(\"hour\", \"average_mph\", data=filtered)"
     ],
     "language": "python",
     "metadata": {},
     "outputs": [
      {
       "metadata": {},
       "output_type": "pyout",
       "prompt_number": 38,
       "text": [
        "<seaborn.axisgrid.JointGrid at 0x10a4af0d0>"
       ]
      },
      {
       "metadata": {},
       "output_type": "display_data",
       "png": "[encoded data removed]",
       "text": [
        "<matplotlib.figure.Figure at 0x10a4af090>"
       ]
      }
     ],
     "prompt_number": 38
    },
    {
     "cell_type": "code",
     "collapsed": false,
     "input": [
      "#want to flag hours to use later as categorical colors on plots \n",
      "def leg_definer(hour):\n",
      "    \"\"\"Helper function to identify trip legs by hour, i.e.\n",
      "    6 AM: first leg (to Caltrain) - morning_city\n",
      "    7 AM: second leg (to Oracle) - morning_suburb\n",
      "    4 PM (16): 3rd leg (return to Caltrain) - evening_suburb\n",
      "    5 PM (17): 4th leg (return home) - evening_city\n",
      "    other hour: other\n",
      "    \n",
      "    >>> leg_definer(6):\n",
      "    'morning_city'\n",
      "    \n",
      "    (int) -> (str)\n",
      "    \"\"\"\n",
      "    legref = {6:\"morning_city\", 7:\"morning_suburb\", 16:\"evening_suburb\", 17:\"evening_city\", 9:\"other\", 11:\"other\", 12:\"other\", 15:\"other\", 18:\"evening_later\"}\n",
      "    return legref[hour]\n"
     ],
     "language": "python",
     "metadata": {},
     "outputs": [],
     "prompt_number": 39
    },
    {
     "cell_type": "code",
     "collapsed": false,
     "input": [
      "filtered['leg_flag']=[leg_definer(hour) for hour in filtered['hour']]"
     ],
     "language": "python",
     "metadata": {},
     "outputs": [],
     "prompt_number": 40
    },
    {
     "cell_type": "code",
     "collapsed": false,
     "input": [
      "filtered['StartTime'] = filtered['StartTime'].apply(pandas.to_datetime)"
     ],
     "language": "python",
     "metadata": {},
     "outputs": [],
     "prompt_number": 41
    },
    {
     "cell_type": "code",
     "collapsed": false,
     "input": [
      "filtered['month'] = [item.month for item in filtered['StartTime']]"
     ],
     "language": "python",
     "metadata": {},
     "outputs": [],
     "prompt_number": 42
    },
    {
     "cell_type": "code",
     "collapsed": false,
     "input": [
      "filtered['day'] = [item.day for item in filtered['StartTime']]"
     ],
     "language": "python",
     "metadata": {},
     "outputs": [],
     "prompt_number": 43
    },
    {
     "cell_type": "code",
     "collapsed": false,
     "input": [
      "g = sns.lmplot(\"day\", \"average_mph\", filtered, hue=\"leg_flag\", fit_reg=False)\n",
      "g.set(xticks=[0,5,10,15,20,25,30], ylim=(5,24))"
     ],
     "language": "python",
     "metadata": {},
     "outputs": [
      {
       "metadata": {},
       "output_type": "pyout",
       "prompt_number": 44,
       "text": [
        "<seaborn.axisgrid.FacetGrid at 0x10a8711d0>"
       ]
      },
      {
       "metadata": {},
       "output_type": "display_data",
       "png": "[encoded data removed]",
       "text": [
        "<matplotlib.figure.Figure at 0x10a83cc50>"
       ]
      }
     ],
     "prompt_number": 44
    },
    {
     "cell_type": "code",
     "collapsed": false,
     "input": [
      "#really want to group by month and plot that way, or by day of the week, and compare those\n",
      "filtered['weekday']=[item.weekday() for item in filtered['StartTime']]"
     ],
     "language": "python",
     "metadata": {},
     "outputs": [],
     "prompt_number": 45
    },
    {
     "cell_type": "code",
     "collapsed": false,
     "input": [
      "filtered.head()"
     ],
     "language": "python",
     "metadata": {},
     "outputs": [
      {
       "html": [
        "<div style=\"max-height:1000px;max-width:1500px;overflow:auto;\">\n",
        "<table border=\"1\" class=\"dataframe\">\n",
        "  <thead>\n",
        "    <tr style=\"text-align: right;\">\n",
        "      <th></th>\n",
        "      <th>index</th>\n",
        "      <th>StartTime</th>\n",
        "      <th>TotalTimeSeconds</th>\n",
        "      <th>DistanceMeters</th>\n",
        "      <th>MaximumSpeed</th>\n",
        "      <th>Calories</th>\n",
        "      <th>AverageSpeed</th>\n",
        "      <th>parsed</th>\n",
        "      <th>zoned</th>\n",
        "      <th>hour</th>\n",
        "      <th>Miles</th>\n",
        "      <th>Minutes</th>\n",
        "      <th>Trip_hours</th>\n",
        "      <th>average_mph</th>\n",
        "      <th>maximum_mph</th>\n",
        "      <th>leg_flag</th>\n",
        "      <th>month</th>\n",
        "      <th>day</th>\n",
        "      <th>weekday</th>\n",
        "    </tr>\n",
        "  </thead>\n",
        "  <tbody>\n",
        "    <tr>\n",
        "      <th>0</th>\n",
        "      <td> 397</td>\n",
        "      <td>2014-01-02 14:44:27</td>\n",
        "      <td> 615.57</td>\n",
        "      <td> 4734.30</td>\n",
        "      <td> 12.89</td>\n",
        "      <td> 209</td>\n",
        "      <td> 7.69</td>\n",
        "      <td> 2014-01-02 14:44:27+00:00</td>\n",
        "      <td> 2014-01-02 06:44:27-08:00</td>\n",
        "      <td> 6</td>\n",
        "      <td> 2.941765</td>\n",
        "      <td> 10.259500</td>\n",
        "      <td> 0.170992</td>\n",
        "      <td> 17.204142</td>\n",
        "      <td> 28.834180</td>\n",
        "      <td> morning_city</td>\n",
        "      <td> 1</td>\n",
        "      <td> 2</td>\n",
        "      <td> 3</td>\n",
        "    </tr>\n",
        "    <tr>\n",
        "      <th>1</th>\n",
        "      <td> 362</td>\n",
        "      <td>2014-01-03 14:37:08</td>\n",
        "      <td> 605.17</td>\n",
        "      <td> 4735.76</td>\n",
        "      <td> 12.94</td>\n",
        "      <td> 174</td>\n",
        "      <td> 7.83</td>\n",
        "      <td> 2014-01-03 14:37:08+00:00</td>\n",
        "      <td> 2014-01-03 06:37:08-08:00</td>\n",
        "      <td> 6</td>\n",
        "      <td> 2.942672</td>\n",
        "      <td> 10.086167</td>\n",
        "      <td> 0.168103</td>\n",
        "      <td> 17.505196</td>\n",
        "      <td> 28.946028</td>\n",
        "      <td> morning_city</td>\n",
        "      <td> 1</td>\n",
        "      <td> 3</td>\n",
        "      <td> 4</td>\n",
        "    </tr>\n",
        "    <tr>\n",
        "      <th>2</th>\n",
        "      <td> 450</td>\n",
        "      <td>2014-01-06 14:37:04</td>\n",
        "      <td> 606.17</td>\n",
        "      <td> 4724.96</td>\n",
        "      <td> 12.23</td>\n",
        "      <td> 182</td>\n",
        "      <td> 7.79</td>\n",
        "      <td> 2014-01-06 14:37:04+00:00</td>\n",
        "      <td> 2014-01-06 06:37:04-08:00</td>\n",
        "      <td> 6</td>\n",
        "      <td> 2.935961</td>\n",
        "      <td> 10.102833</td>\n",
        "      <td> 0.168381</td>\n",
        "      <td> 17.436463</td>\n",
        "      <td> 27.357799</td>\n",
        "      <td> morning_city</td>\n",
        "      <td> 1</td>\n",
        "      <td> 6</td>\n",
        "      <td> 0</td>\n",
        "    </tr>\n",
        "    <tr>\n",
        "      <th>3</th>\n",
        "      <td> 517</td>\n",
        "      <td>2014-01-07 14:42:00</td>\n",
        "      <td> 603.10</td>\n",
        "      <td> 4710.42</td>\n",
        "      <td> 12.13</td>\n",
        "      <td> 207</td>\n",
        "      <td> 7.81</td>\n",
        "      <td> 2014-01-07 14:42:00+00:00</td>\n",
        "      <td> 2014-01-07 06:42:00-08:00</td>\n",
        "      <td> 6</td>\n",
        "      <td> 2.926927</td>\n",
        "      <td> 10.051667</td>\n",
        "      <td> 0.167528</td>\n",
        "      <td> 17.471291</td>\n",
        "      <td> 27.134105</td>\n",
        "      <td> morning_city</td>\n",
        "      <td> 1</td>\n",
        "      <td> 7</td>\n",
        "      <td> 1</td>\n",
        "    </tr>\n",
        "    <tr>\n",
        "      <th>4</th>\n",
        "      <td>  27</td>\n",
        "      <td>2014-01-08 14:37:12</td>\n",
        "      <td> 663.73</td>\n",
        "      <td> 4760.85</td>\n",
        "      <td> 11.00</td>\n",
        "      <td> 167</td>\n",
        "      <td> 7.17</td>\n",
        "      <td> 2014-01-08 14:37:12+00:00</td>\n",
        "      <td> 2014-01-08 06:37:12-08:00</td>\n",
        "      <td> 6</td>\n",
        "      <td> 2.958262</td>\n",
        "      <td> 11.062167</td>\n",
        "      <td> 0.184369</td>\n",
        "      <td> 16.045296</td>\n",
        "      <td> 24.606360</td>\n",
        "      <td> morning_city</td>\n",
        "      <td> 1</td>\n",
        "      <td> 8</td>\n",
        "      <td> 2</td>\n",
        "    </tr>\n",
        "  </tbody>\n",
        "</table>\n",
        "</div>"
       ],
       "metadata": {},
       "output_type": "pyout",
       "prompt_number": 46,
       "text": [
        "   index           StartTime  TotalTimeSeconds  DistanceMeters  MaximumSpeed  \\\n",
        "0    397 2014-01-02 14:44:27            615.57         4734.30         12.89   \n",
        "1    362 2014-01-03 14:37:08            605.17         4735.76         12.94   \n",
        "2    450 2014-01-06 14:37:04            606.17         4724.96         12.23   \n",
        "3    517 2014-01-07 14:42:00            603.10         4710.42         12.13   \n",
        "4     27 2014-01-08 14:37:12            663.73         4760.85         11.00   \n",
        "\n",
        "   Calories  AverageSpeed                     parsed  \\\n",
        "0       209          7.69  2014-01-02 14:44:27+00:00   \n",
        "1       174          7.83  2014-01-03 14:37:08+00:00   \n",
        "2       182          7.79  2014-01-06 14:37:04+00:00   \n",
        "3       207          7.81  2014-01-07 14:42:00+00:00   \n",
        "4       167          7.17  2014-01-08 14:37:12+00:00   \n",
        "\n",
        "                       zoned  hour     Miles    Minutes  Trip_hours  \\\n",
        "0  2014-01-02 06:44:27-08:00     6  2.941765  10.259500    0.170992   \n",
        "1  2014-01-03 06:37:08-08:00     6  2.942672  10.086167    0.168103   \n",
        "2  2014-01-06 06:37:04-08:00     6  2.935961  10.102833    0.168381   \n",
        "3  2014-01-07 06:42:00-08:00     6  2.926927  10.051667    0.167528   \n",
        "4  2014-01-08 06:37:12-08:00     6  2.958262  11.062167    0.184369   \n",
        "\n",
        "   average_mph  maximum_mph      leg_flag  month  day  weekday  \n",
        "0    17.204142    28.834180  morning_city      1    2        3  \n",
        "1    17.505196    28.946028  morning_city      1    3        4  \n",
        "2    17.436463    27.357799  morning_city      1    6        0  \n",
        "3    17.471291    27.134105  morning_city      1    7        1  \n",
        "4    16.045296    24.606360  morning_city      1    8        2  "
       ]
      }
     ],
     "prompt_number": 46
    },
    {
     "cell_type": "code",
     "collapsed": false,
     "input": [
      "sns.set_context(\"talk\")\n",
      "g=sns.lmplot(\"weekday\", \"average_mph\", filtered, hue=\"leg_flag\", x_jitter=0.15, fit_reg=False)\n",
      "g.set(xlim=(-1,6), ylim=(5,24))"
     ],
     "language": "python",
     "metadata": {},
     "outputs": [
      {
       "metadata": {},
       "output_type": "pyout",
       "prompt_number": 47,
       "text": [
        "<seaborn.axisgrid.FacetGrid at 0x10a871890>"
       ]
      },
      {
       "metadata": {},
       "output_type": "display_data",
       "png": "[encoded data removed]",
       "text": [
        "<matplotlib.figure.Figure at 0x10a87cc50>"
       ]
      }
     ],
     "prompt_number": 47
    },
    {
     "cell_type": "code",
     "collapsed": false,
     "input": [
      "f, ax= plt.subplots()\n",
      "sns.violinplot(filtered['average_mph'], filtered['weekday'])"
     ],
     "language": "python",
     "metadata": {},
     "outputs": [
      {
       "metadata": {},
       "output_type": "pyout",
       "prompt_number": 48,
       "text": [
        "<matplotlib.axes._subplots.AxesSubplot at 0x10aba3110>"
       ]
      },
      {
       "metadata": {},
       "output_type": "display_data",
       "png": "[encoded data removed]",
       "text": [
        "<matplotlib.figure.Figure at 0x10ab30b10>"
       ]
      }
     ],
     "prompt_number": 48
    },
    {
     "cell_type": "code",
     "collapsed": false,
     "input": [
      "morning_suburb= filtered[filtered['leg_flag']=='morning_suburb']"
     ],
     "language": "python",
     "metadata": {},
     "outputs": [],
     "prompt_number": 49
    },
    {
     "cell_type": "code",
     "collapsed": false,
     "input": [
      "morning_suburb.weekday.value_counts()"
     ],
     "language": "python",
     "metadata": {},
     "outputs": [
      {
       "metadata": {},
       "output_type": "pyout",
       "prompt_number": 62,
       "text": [
        "1    35\n",
        "0    31\n",
        "2    28\n",
        "4    25\n",
        "3     6\n",
        "dtype: int64"
       ]
      }
     ],
     "prompt_number": 62
    },
    {
     "cell_type": "code",
     "collapsed": false,
     "input": [
      "#try this to be able to add titles\n",
      "from matplotlib.font_manager import FontProperties\n",
      "from pylab import *"
     ],
     "language": "python",
     "metadata": {},
     "outputs": [],
     "prompt_number": 54
    },
    {
     "cell_type": "code",
     "collapsed": false,
     "input": [
      "f, ax= plt.subplots()\n",
      "g = sns.violinplot(morning_suburb['average_mph'], morning_suburb['weekday'])\n",
      "title('Morning Suburb')\n",
      "sns.despine()\n",
      "#g.set(ylim=(5,30))"
     ],
     "language": "python",
     "metadata": {},
     "outputs": [
      {
       "metadata": {},
       "output_type": "display_data",
       "png": "[encoded data removed]",
       "text": [
        "<matplotlib.figure.Figure at 0x10bd35610>"
       ]
      }
     ],
     "prompt_number": 56
    },
    {
     "cell_type": "code",
     "collapsed": false,
     "input": [
      "evening_suburb=filtered[filtered['leg_flag']=='evening_suburb']"
     ],
     "language": "python",
     "metadata": {},
     "outputs": [],
     "prompt_number": 58
    },
    {
     "cell_type": "code",
     "collapsed": false,
     "input": [
      "evening_suburb.weekday.value_counts()"
     ],
     "language": "python",
     "metadata": {},
     "outputs": [
      {
       "metadata": {},
       "output_type": "pyout",
       "prompt_number": 63,
       "text": [
        "1    32\n",
        "2    30\n",
        "0    26\n",
        "4    22\n",
        "3     9\n",
        "5     8\n",
        "dtype: int64"
       ]
      }
     ],
     "prompt_number": 63
    },
    {
     "cell_type": "code",
     "collapsed": false,
     "input": [
      "f, ax= plt.subplots()\n",
      "g = sns.violinplot(evening_suburb['average_mph'], evening_suburb['weekday'])\n",
      "g.set(ylim=(16,24))\n",
      "title('Evening Suburb')\n",
      "sns.despine()"
     ],
     "language": "python",
     "metadata": {},
     "outputs": [
      {
       "metadata": {},
       "output_type": "display_data",
       "png": "[encoded data removed]",
       "text": [
        "<matplotlib.figure.Figure at 0x10c1a2f50>"
       ]
      }
     ],
     "prompt_number": 59
    },
    {
     "cell_type": "code",
     "collapsed": false,
     "input": [
      "filtered.set_index(['StartTime'], inplace=True)"
     ],
     "language": "python",
     "metadata": {},
     "outputs": [],
     "prompt_number": 75
    },
    {
     "cell_type": "code",
     "collapsed": false,
     "input": [
      "filtered.head()"
     ],
     "language": "python",
     "metadata": {},
     "outputs": [
      {
       "html": [
        "<div style=\"max-height:1000px;max-width:1500px;overflow:auto;\">\n",
        "<table border=\"1\" class=\"dataframe\">\n",
        "  <thead>\n",
        "    <tr style=\"text-align: right;\">\n",
        "      <th></th>\n",
        "      <th>index</th>\n",
        "      <th>StartTime</th>\n",
        "      <th>TotalTimeSeconds</th>\n",
        "      <th>DistanceMeters</th>\n",
        "      <th>MaximumSpeed</th>\n",
        "      <th>Calories</th>\n",
        "      <th>AverageSpeed</th>\n",
        "      <th>parsed</th>\n",
        "      <th>zoned</th>\n",
        "      <th>hour</th>\n",
        "      <th>Miles</th>\n",
        "      <th>Minutes</th>\n",
        "      <th>Trip_hours</th>\n",
        "      <th>average_mph</th>\n",
        "      <th>maximum_mph</th>\n",
        "      <th>leg_flag</th>\n",
        "      <th>month</th>\n",
        "      <th>day</th>\n",
        "    </tr>\n",
        "  </thead>\n",
        "  <tbody>\n",
        "    <tr>\n",
        "      <th>0</th>\n",
        "      <td> 397</td>\n",
        "      <td>2014-01-02 14:44:27</td>\n",
        "      <td> 615.57</td>\n",
        "      <td> 4734.30</td>\n",
        "      <td> 12.89</td>\n",
        "      <td> 209</td>\n",
        "      <td> 7.69</td>\n",
        "      <td> 2014-01-02 14:44:27+00:00</td>\n",
        "      <td> 2014-01-02 06:44:27-08:00</td>\n",
        "      <td> 6</td>\n",
        "      <td> 2.941765</td>\n",
        "      <td> 10.259500</td>\n",
        "      <td> 0.170992</td>\n",
        "      <td> 17.204142</td>\n",
        "      <td> 28.834180</td>\n",
        "      <td> morning_city</td>\n",
        "      <td> 1</td>\n",
        "      <td> 2</td>\n",
        "    </tr>\n",
        "    <tr>\n",
        "      <th>1</th>\n",
        "      <td> 362</td>\n",
        "      <td>2014-01-03 14:37:08</td>\n",
        "      <td> 605.17</td>\n",
        "      <td> 4735.76</td>\n",
        "      <td> 12.94</td>\n",
        "      <td> 174</td>\n",
        "      <td> 7.83</td>\n",
        "      <td> 2014-01-03 14:37:08+00:00</td>\n",
        "      <td> 2014-01-03 06:37:08-08:00</td>\n",
        "      <td> 6</td>\n",
        "      <td> 2.942672</td>\n",
        "      <td> 10.086167</td>\n",
        "      <td> 0.168103</td>\n",
        "      <td> 17.505196</td>\n",
        "      <td> 28.946028</td>\n",
        "      <td> morning_city</td>\n",
        "      <td> 1</td>\n",
        "      <td> 3</td>\n",
        "    </tr>\n",
        "    <tr>\n",
        "      <th>2</th>\n",
        "      <td> 450</td>\n",
        "      <td>2014-01-06 14:37:04</td>\n",
        "      <td> 606.17</td>\n",
        "      <td> 4724.96</td>\n",
        "      <td> 12.23</td>\n",
        "      <td> 182</td>\n",
        "      <td> 7.79</td>\n",
        "      <td> 2014-01-06 14:37:04+00:00</td>\n",
        "      <td> 2014-01-06 06:37:04-08:00</td>\n",
        "      <td> 6</td>\n",
        "      <td> 2.935961</td>\n",
        "      <td> 10.102833</td>\n",
        "      <td> 0.168381</td>\n",
        "      <td> 17.436463</td>\n",
        "      <td> 27.357799</td>\n",
        "      <td> morning_city</td>\n",
        "      <td> 1</td>\n",
        "      <td> 6</td>\n",
        "    </tr>\n",
        "    <tr>\n",
        "      <th>3</th>\n",
        "      <td> 517</td>\n",
        "      <td>2014-01-07 14:42:00</td>\n",
        "      <td> 603.10</td>\n",
        "      <td> 4710.42</td>\n",
        "      <td> 12.13</td>\n",
        "      <td> 207</td>\n",
        "      <td> 7.81</td>\n",
        "      <td> 2014-01-07 14:42:00+00:00</td>\n",
        "      <td> 2014-01-07 06:42:00-08:00</td>\n",
        "      <td> 6</td>\n",
        "      <td> 2.926927</td>\n",
        "      <td> 10.051667</td>\n",
        "      <td> 0.167528</td>\n",
        "      <td> 17.471291</td>\n",
        "      <td> 27.134105</td>\n",
        "      <td> morning_city</td>\n",
        "      <td> 1</td>\n",
        "      <td> 7</td>\n",
        "    </tr>\n",
        "    <tr>\n",
        "      <th>4</th>\n",
        "      <td>  27</td>\n",
        "      <td>2014-01-08 14:37:12</td>\n",
        "      <td> 663.73</td>\n",
        "      <td> 4760.85</td>\n",
        "      <td> 11.00</td>\n",
        "      <td> 167</td>\n",
        "      <td> 7.17</td>\n",
        "      <td> 2014-01-08 14:37:12+00:00</td>\n",
        "      <td> 2014-01-08 06:37:12-08:00</td>\n",
        "      <td> 6</td>\n",
        "      <td> 2.958262</td>\n",
        "      <td> 11.062167</td>\n",
        "      <td> 0.184369</td>\n",
        "      <td> 16.045296</td>\n",
        "      <td> 24.606360</td>\n",
        "      <td> morning_city</td>\n",
        "      <td> 1</td>\n",
        "      <td> 8</td>\n",
        "    </tr>\n",
        "  </tbody>\n",
        "</table>\n",
        "</div>"
       ],
       "metadata": {},
       "output_type": "pyout",
       "prompt_number": 98,
       "text": [
        "   index           StartTime  TotalTimeSeconds  DistanceMeters  MaximumSpeed  \\\n",
        "0    397 2014-01-02 14:44:27            615.57         4734.30         12.89   \n",
        "1    362 2014-01-03 14:37:08            605.17         4735.76         12.94   \n",
        "2    450 2014-01-06 14:37:04            606.17         4724.96         12.23   \n",
        "3    517 2014-01-07 14:42:00            603.10         4710.42         12.13   \n",
        "4     27 2014-01-08 14:37:12            663.73         4760.85         11.00   \n",
        "\n",
        "   Calories  AverageSpeed                     parsed  \\\n",
        "0       209          7.69  2014-01-02 14:44:27+00:00   \n",
        "1       174          7.83  2014-01-03 14:37:08+00:00   \n",
        "2       182          7.79  2014-01-06 14:37:04+00:00   \n",
        "3       207          7.81  2014-01-07 14:42:00+00:00   \n",
        "4       167          7.17  2014-01-08 14:37:12+00:00   \n",
        "\n",
        "                       zoned  hour     Miles    Minutes  Trip_hours  \\\n",
        "0  2014-01-02 06:44:27-08:00     6  2.941765  10.259500    0.170992   \n",
        "1  2014-01-03 06:37:08-08:00     6  2.942672  10.086167    0.168103   \n",
        "2  2014-01-06 06:37:04-08:00     6  2.935961  10.102833    0.168381   \n",
        "3  2014-01-07 06:42:00-08:00     6  2.926927  10.051667    0.167528   \n",
        "4  2014-01-08 06:37:12-08:00     6  2.958262  11.062167    0.184369   \n",
        "\n",
        "   average_mph  maximum_mph      leg_flag  month  day  \n",
        "0    17.204142    28.834180  morning_city      1    2  \n",
        "1    17.505196    28.946028  morning_city      1    3  \n",
        "2    17.436463    27.357799  morning_city      1    6  \n",
        "3    17.471291    27.134105  morning_city      1    7  \n",
        "4    16.045296    24.606360  morning_city      1    8  "
       ]
      }
     ],
     "prompt_number": 98
    },
    {
     "cell_type": "code",
     "collapsed": false,
     "input": [
      "\n",
      "days = filtered.resample('B')"
     ],
     "language": "python",
     "metadata": {},
     "outputs": [],
     "prompt_number": 77
    },
    {
     "cell_type": "code",
     "collapsed": false,
     "input": [
      "%install_ext https://raw.githubusercontent.com/szeitlin/watermark/master/watermark.py"
     ],
     "language": "python",
     "metadata": {},
     "outputs": [
      {
       "output_type": "stream",
       "stream": "stdout",
       "text": [
        "Installed watermark.py. To use it, type:\n",
        "  %load_ext watermark\n"
       ]
      }
     ],
     "prompt_number": 6
    },
    {
     "cell_type": "code",
     "collapsed": false,
     "input": [
      "#previous year (matplotlib)\n",
      "fig, axes=plt.subplots(nrows=2, ncols=3)\n",
      "\n",
      "set_time['Calories'].plot(kind='bar', ax=axes[0,0]); axes[0,0].set_title('Calories')\n",
      "set_time['maximum_mph'].plot(kind='bar', ax=axes[0,1]); axes[0,1].set_title('max speed(mph)')\n",
      "set_time['average_mph'].plot(kind='bar', ax=axes[0,2]); axes[0,2].set_title('avg speed(mph)')\n",
      "set_time['Miles'].plot(kind='bar', ax=axes[1,0]); axes[1,0].set_title('Miles')\n",
      "set_time['Minutes'].plot(kind='bar', ax=axes[1,1]); axes[1,1].set_title('Minutes')\n",
      "plt.tight_layout() #required to keep x-axis labels & titles from overlapping"
     ],
     "language": "python",
     "metadata": {},
     "outputs": [
      {
       "metadata": {},
       "output_type": "display_data",
       "png": "[encoded data removed]",
       "text": [
        "<matplotlib.figure.Figure at 0x109ae8e90>"
       ]
      }
     ],
     "prompt_number": 52
    },
    {
     "cell_type": "code",
     "collapsed": false,
     "input": [
      "#not sure what group by is doing here- is that the average, the max, some random number-? "
     ],
     "language": "python",
     "metadata": {},
     "outputs": []
    }
   ],
   "metadata": {}
  }
 ]
}