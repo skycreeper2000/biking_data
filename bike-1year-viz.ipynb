{
 "metadata": {
  "name": "",
  "signature": "sha256:2b68e0f9ec7e4e44af1834705927d4da286538b20a8e2ff7cbf784ba66a3d41e"
 },
 "nbformat": 3,
 "nbformat_minor": 0,
 "worksheets": [
  {
   "cells": [
    {
     "cell_type": "code",
     "collapsed": false,
     "input": [
      "import pandas"
     ],
     "language": "python",
     "metadata": {},
     "outputs": [],
     "prompt_number": 34
    },
    {
     "cell_type": "code",
     "collapsed": false,
     "input": [
      "df = pandas.read_csv(\"parsed_2013.csv\", index_col=0)"
     ],
     "language": "python",
     "metadata": {},
     "outputs": [],
     "prompt_number": 35
    },
    {
     "cell_type": "code",
     "collapsed": false,
     "input": [
      "df.head()"
     ],
     "language": "python",
     "metadata": {},
     "outputs": [
      {
       "html": [
        "<div style=\"max-height:1000px;max-width:1500px;overflow:auto;\">\n",
        "<table border=\"1\" class=\"dataframe\">\n",
        "  <thead>\n",
        "    <tr style=\"text-align: right;\">\n",
        "      <th></th>\n",
        "      <th>TotalTimeSeconds</th>\n",
        "      <th>DistanceMeters</th>\n",
        "      <th>MaximumSpeed</th>\n",
        "      <th>Calories</th>\n",
        "      <th>AverageSpeed</th>\n",
        "    </tr>\n",
        "    <tr>\n",
        "      <th>StartTime</th>\n",
        "      <th></th>\n",
        "      <th></th>\n",
        "      <th></th>\n",
        "      <th></th>\n",
        "      <th></th>\n",
        "    </tr>\n",
        "  </thead>\n",
        "  <tbody>\n",
        "    <tr>\n",
        "      <th>2013-01-02 15:51:51</th>\n",
        "      <td> 1690.76</td>\n",
        "      <td> 14632.39</td>\n",
        "      <td> 12.05</td>\n",
        "      <td> 572</td>\n",
        "      <td> 8.65</td>\n",
        "    </tr>\n",
        "    <tr>\n",
        "      <th>2013-01-03 00:20:26</th>\n",
        "      <td> 1928.39</td>\n",
        "      <td> 15305.22</td>\n",
        "      <td> 12.34</td>\n",
        "      <td> 702</td>\n",
        "      <td> 7.94</td>\n",
        "    </tr>\n",
        "    <tr>\n",
        "      <th>2013-01-04 15:46:52</th>\n",
        "      <td> 1680.40</td>\n",
        "      <td> 14651.60</td>\n",
        "      <td> 12.28</td>\n",
        "      <td> 572</td>\n",
        "      <td> 8.72</td>\n",
        "    </tr>\n",
        "    <tr>\n",
        "      <th>2013-01-04 23:59:27</th>\n",
        "      <td> 1962.15</td>\n",
        "      <td> 15237.36</td>\n",
        "      <td> 11.43</td>\n",
        "      <td> 691</td>\n",
        "      <td> 7.77</td>\n",
        "    </tr>\n",
        "    <tr>\n",
        "      <th>2013-01-07 15:56:14</th>\n",
        "      <td> 1657.51</td>\n",
        "      <td> 14625.53</td>\n",
        "      <td> 12.02</td>\n",
        "      <td> 609</td>\n",
        "      <td> 8.82</td>\n",
        "    </tr>\n",
        "  </tbody>\n",
        "</table>\n",
        "</div>"
       ],
       "metadata": {},
       "output_type": "pyout",
       "prompt_number": 36,
       "text": [
        "                     TotalTimeSeconds  DistanceMeters  MaximumSpeed  Calories  \\\n",
        "StartTime                                                                       \n",
        "2013-01-02 15:51:51           1690.76        14632.39         12.05       572   \n",
        "2013-01-03 00:20:26           1928.39        15305.22         12.34       702   \n",
        "2013-01-04 15:46:52           1680.40        14651.60         12.28       572   \n",
        "2013-01-04 23:59:27           1962.15        15237.36         11.43       691   \n",
        "2013-01-07 15:56:14           1657.51        14625.53         12.02       609   \n",
        "\n",
        "                     AverageSpeed  \n",
        "StartTime                          \n",
        "2013-01-02 15:51:51          8.65  \n",
        "2013-01-03 00:20:26          7.94  \n",
        "2013-01-04 15:46:52          8.72  \n",
        "2013-01-04 23:59:27          7.77  \n",
        "2013-01-07 15:56:14          8.82  "
       ]
      }
     ],
     "prompt_number": 36
    },
    {
     "cell_type": "code",
     "collapsed": false,
     "input": [
      "#calculate average speed from total distance/total time (meters per second) to confirm averages\n",
      "df['Meters/Seconds'] = df['DistanceMeters']/df['TotalTimeSeconds']"
     ],
     "language": "python",
     "metadata": {},
     "outputs": [],
     "prompt_number": 7
    },
    {
     "cell_type": "code",
     "collapsed": false,
     "input": [
      "#convert distances to miles \n",
      "df['Miles'] = df['DistanceMeters']/1609.34"
     ],
     "language": "python",
     "metadata": {},
     "outputs": [],
     "prompt_number": 9
    },
    {
     "cell_type": "code",
     "collapsed": false,
     "input": [
      "#convert times to minutes (better for comparisons) and hours (better for speed calculations)\n",
      "df['Minutes'] = df['TotalTimeSeconds']/60\n",
      "df['Hours'] = df['Minutes']/60"
     ],
     "language": "python",
     "metadata": {},
     "outputs": [],
     "prompt_number": 13
    },
    {
     "cell_type": "code",
     "collapsed": false,
     "input": [
      "#convert speeds to miles per hour\n",
      "df['average_mph'] = df['Miles']/df['Hours']\n",
      "df['maximum_mph'] = df['MaximumSpeed']*1200/1609.34\n",
      "\n",
      "#would like to round these off to 2 sig figs again "
     ],
     "language": "python",
     "metadata": {},
     "outputs": [],
     "prompt_number": 33
    },
    {
     "cell_type": "code",
     "collapsed": false,
     "input": [
      "df[['average_mph', 'maximum_mph', 'MaximumSpeed']].head() #this looks wrong - are we sure about units for MaximumSpeed? "
     ],
     "language": "python",
     "metadata": {},
     "outputs": [
      {
       "html": [
        "<div style=\"max-height:1000px;max-width:1500px;overflow:auto;\">\n",
        "<table border=\"1\" class=\"dataframe\">\n",
        "  <thead>\n",
        "    <tr style=\"text-align: right;\">\n",
        "      <th></th>\n",
        "      <th>average_mph</th>\n",
        "      <th>maximum_mph</th>\n",
        "      <th>MaximumSpeed</th>\n",
        "    </tr>\n",
        "  </thead>\n",
        "  <tbody>\n",
        "    <tr>\n",
        "      <th>0</th>\n",
        "      <td> 19.076346</td>\n",
        "      <td>  8.321424</td>\n",
        "      <td> 11.16</td>\n",
        "    </tr>\n",
        "    <tr>\n",
        "      <th>1</th>\n",
        "      <td>  9.121596</td>\n",
        "      <td>  7.344626</td>\n",
        "      <td>  9.85</td>\n",
        "    </tr>\n",
        "    <tr>\n",
        "      <th>2</th>\n",
        "      <td> 16.084613</td>\n",
        "      <td>  8.999963</td>\n",
        "      <td> 12.07</td>\n",
        "    </tr>\n",
        "    <tr>\n",
        "      <th>3</th>\n",
        "      <td> 20.690046</td>\n",
        "      <td> 10.625474</td>\n",
        "      <td> 14.25</td>\n",
        "    </tr>\n",
        "    <tr>\n",
        "      <th>4</th>\n",
        "      <td> 17.537227</td>\n",
        "      <td>  8.194664</td>\n",
        "      <td> 10.99</td>\n",
        "    </tr>\n",
        "  </tbody>\n",
        "</table>\n",
        "</div>"
       ],
       "metadata": {},
       "output_type": "pyout",
       "prompt_number": 32,
       "text": [
        "   average_mph  maximum_mph  MaximumSpeed\n",
        "0    19.076346     8.321424         11.16\n",
        "1     9.121596     7.344626          9.85\n",
        "2    16.084613     8.999963         12.07\n",
        "3    20.690046    10.625474         14.25\n",
        "4    17.537227     8.194664         10.99"
       ]
      }
     ],
     "prompt_number": 32
    },
    {
     "cell_type": "code",
     "collapsed": false,
     "input": [
      "import matplotlib.pyplot as plt\n",
      "import numpy as np\n",
      "%matplotlib inline"
     ],
     "language": "python",
     "metadata": {},
     "outputs": [],
     "prompt_number": 4
    },
    {
     "cell_type": "code",
     "collapsed": false,
     "input": [
      "time = df['TotalTimeSeconds']"
     ],
     "language": "python",
     "metadata": {},
     "outputs": [],
     "prompt_number": 5
    },
    {
     "cell_type": "code",
     "collapsed": false,
     "input": [
      "plt.hist(time)\n",
      "plt.xlabel(\"Time (seconds)\")\n",
      "plt.ylabel(\"Frequency\")\n",
      "#note: outliers are probably times when device was left running on the train - can check this by comparing w/distance, speed"
     ],
     "language": "python",
     "metadata": {},
     "outputs": [
      {
       "metadata": {},
       "output_type": "pyout",
       "prompt_number": 6,
       "text": [
        "<matplotlib.text.Text at 0x1075e7710>"
       ]
      },
      {
       "metadata": {},
       "output_type": "display_data",
       "png": "[encoded data removed]",
       "text": [
        "<matplotlib.figure.Figure at 0x107525450>"
       ]
      }
     ],
     "prompt_number": 6
    },
    {
     "cell_type": "code",
     "collapsed": false,
     "input": [
      "dist = df['DistanceMeters']"
     ],
     "language": "python",
     "metadata": {},
     "outputs": [],
     "prompt_number": 7
    },
    {
     "cell_type": "code",
     "collapsed": false,
     "input": [
      "plt.hist(dist)\n",
      "plt.xlabel(\"Distance (meters)\")\n",
      "plt.ylabel('Frequency')\n",
      "#note that this is bimodal because the short leg is in the city, long leg is on the peninsula (plus outliers)"
     ],
     "language": "python",
     "metadata": {},
     "outputs": [
      {
       "metadata": {},
       "output_type": "pyout",
       "prompt_number": 8,
       "text": [
        "<matplotlib.text.Text at 0x1076feb90>"
       ]
      },
      {
       "metadata": {},
       "output_type": "display_data",
       "png": "[encoded data removed]",
       "text": [
        "<matplotlib.figure.Figure at 0x1076598d0>"
       ]
      }
     ],
     "prompt_number": 8
    },
    {
     "cell_type": "code",
     "collapsed": false,
     "input": [
      "maxspeed = df['MaximumSpeed']"
     ],
     "language": "python",
     "metadata": {},
     "outputs": [],
     "prompt_number": 9
    },
    {
     "cell_type": "code",
     "collapsed": false,
     "input": [
      "plt.hist(maxspeed)\n",
      "plt.xlabel(\"Maximum Speed (mph)\")\n",
      "plt.ylabel(\"Frequency\")\n",
      "#outliers here are not that far off, probably not from train trips"
     ],
     "language": "python",
     "metadata": {},
     "outputs": [
      {
       "metadata": {},
       "output_type": "pyout",
       "prompt_number": 10,
       "text": [
        "<matplotlib.text.Text at 0x1077ea390>"
       ]
      },
      {
       "metadata": {},
       "output_type": "display_data",
       "png": "[encoded data removed]",
       "text": [
        "<matplotlib.figure.Figure at 0x107831ad0>"
       ]
      }
     ],
     "prompt_number": 10
    },
    {
     "cell_type": "code",
     "collapsed": false,
     "input": [
      "avgspeed = df['AverageSpeed']"
     ],
     "language": "python",
     "metadata": {},
     "outputs": [],
     "prompt_number": 11
    },
    {
     "cell_type": "code",
     "collapsed": false,
     "input": [
      "plt.hist(avgspeed)\n",
      "plt.xlabel (\"Average Speed (meters per second)\")\n",
      "plt.ylabel(\"Frequency\")"
     ],
     "language": "python",
     "metadata": {},
     "outputs": [
      {
       "metadata": {},
       "output_type": "pyout",
       "prompt_number": 13,
       "text": [
        "<matplotlib.text.Text at 0x1079b1850>"
       ]
      },
      {
       "metadata": {},
       "output_type": "display_data",
       "png": "[encoded data removed]",
       "text": [
        "<matplotlib.figure.Figure at 0x107957510>"
       ]
      }
     ],
     "prompt_number": 13
    },
    {
     "cell_type": "code",
     "collapsed": false,
     "input": [
      "season_means = pandas.read_csv(\"quarterly.csv\", index_col=0)"
     ],
     "language": "python",
     "metadata": {},
     "outputs": [],
     "prompt_number": 38
    },
    {
     "cell_type": "code",
     "collapsed": false,
     "input": [
      "season_means"
     ],
     "language": "python",
     "metadata": {},
     "outputs": [
      {
       "html": [
        "<div style=\"max-height:1000px;max-width:1500px;overflow:auto;\">\n",
        "<table border=\"1\" class=\"dataframe\">\n",
        "  <thead>\n",
        "    <tr style=\"text-align: right;\">\n",
        "      <th></th>\n",
        "      <th>TotalTimeSeconds</th>\n",
        "      <th>DistanceMeters</th>\n",
        "      <th>MaximumSpeed</th>\n",
        "      <th>AverageSpeed</th>\n",
        "    </tr>\n",
        "    <tr>\n",
        "      <th>StartTime</th>\n",
        "      <th></th>\n",
        "      <th></th>\n",
        "      <th></th>\n",
        "      <th></th>\n",
        "    </tr>\n",
        "  </thead>\n",
        "  <tbody>\n",
        "    <tr>\n",
        "      <th>2013-03-31</th>\n",
        "      <td> 1844.80</td>\n",
        "      <td> 15227.59</td>\n",
        "      <td> 12.48</td>\n",
        "      <td> 8.31</td>\n",
        "    </tr>\n",
        "    <tr>\n",
        "      <th>2013-06-30</th>\n",
        "      <td> 1411.44</td>\n",
        "      <td> 11624.01</td>\n",
        "      <td> 12.30</td>\n",
        "      <td> 7.94</td>\n",
        "    </tr>\n",
        "    <tr>\n",
        "      <th>2013-09-30</th>\n",
        "      <td> 1283.19</td>\n",
        "      <td>  9875.91</td>\n",
        "      <td> 11.90</td>\n",
        "      <td> 7.45</td>\n",
        "    </tr>\n",
        "    <tr>\n",
        "      <th>2013-12-31</th>\n",
        "      <td> 1310.46</td>\n",
        "      <td>  9677.34</td>\n",
        "      <td> 11.41</td>\n",
        "      <td> 7.28</td>\n",
        "    </tr>\n",
        "  </tbody>\n",
        "</table>\n",
        "</div>"
       ],
       "metadata": {},
       "output_type": "pyout",
       "prompt_number": 42,
       "text": [
        "            TotalTimeSeconds  DistanceMeters  MaximumSpeed  AverageSpeed\n",
        "StartTime                                                               \n",
        "2013-03-31           1844.80        15227.59         12.48          8.31\n",
        "2013-06-30           1411.44        11624.01         12.30          7.94\n",
        "2013-09-30           1283.19         9875.91         11.90          7.45\n",
        "2013-12-31           1310.46         9677.34         11.41          7.28"
       ]
      }
     ],
     "prompt_number": 42
    },
    {
     "cell_type": "code",
     "collapsed": false,
     "input": [
      "season_means['MaximumSpeed'].plot(kind='bar')"
     ],
     "language": "python",
     "metadata": {},
     "outputs": [
      {
       "metadata": {},
       "output_type": "pyout",
       "prompt_number": 44,
       "text": [
        "<matplotlib.axes.AxesSubplot at 0x108039450>"
       ]
      },
      {
       "metadata": {},
       "output_type": "display_data",
       "png": "[encoded data removed]",
       "text": [
        "<matplotlib.figure.Figure at 0x1078b2a10>"
       ]
      }
     ],
     "prompt_number": 44
    },
    {
     "cell_type": "code",
     "collapsed": false,
     "input": [
      "season_means['AverageSpeed'].plot(kind='bar')"
     ],
     "language": "python",
     "metadata": {},
     "outputs": [
      {
       "metadata": {},
       "output_type": "pyout",
       "prompt_number": 45,
       "text": [
        "<matplotlib.axes.AxesSubplot at 0x10801a610>"
       ]
      },
      {
       "metadata": {},
       "output_type": "display_data",
       "png": "[encoded data removed]",
       "text": [
        "<matplotlib.figure.Figure at 0x107b724d0>"
       ]
      }
     ],
     "prompt_number": 45
    },
    {
     "cell_type": "code",
     "collapsed": false,
     "input": [
      "season_means['DistanceMeters'].plot(kind='bar')"
     ],
     "language": "python",
     "metadata": {},
     "outputs": [
      {
       "metadata": {},
       "output_type": "pyout",
       "prompt_number": 43,
       "text": [
        "<matplotlib.axes.AxesSubplot at 0x107d851d0>"
       ]
      },
      {
       "metadata": {},
       "output_type": "display_data",
       "png": "[encoded data removed]",
       "text": [
        "<matplotlib.figure.Figure at 0x1078c7dd0>"
       ]
      }
     ],
     "prompt_number": 43
    },
    {
     "cell_type": "code",
     "collapsed": false,
     "input": [
      "season_means['TotalTimeSeconds'].plot(kind='bar')"
     ],
     "language": "python",
     "metadata": {},
     "outputs": [
      {
       "metadata": {},
       "output_type": "pyout",
       "prompt_number": 41,
       "text": [
        "<matplotlib.axes.AxesSubplot at 0x107b67a10>"
       ]
      },
      {
       "metadata": {},
       "output_type": "display_data",
       "png": "[encoded data removed]",
       "text": [
        "<matplotlib.figure.Figure at 0x107674c90>"
       ]
      }
     ],
     "prompt_number": 41
    },
    {
     "cell_type": "code",
     "collapsed": true,
     "input": [],
     "language": "python",
     "metadata": {},
     "outputs": []
    },
    {
     "cell_type": "code",
     "collapsed": false,
     "input": [],
     "language": "python",
     "metadata": {},
     "outputs": []
    },
    {
     "cell_type": "code",
     "collapsed": false,
     "input": [
      "#might be interesting to compare with weather info to see how that correlates/influences times & speeds"
     ],
     "language": "python",
     "metadata": {},
     "outputs": []
    }
   ],
   "metadata": {}
  }
 ]
}