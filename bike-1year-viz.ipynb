{
 "metadata": {
  "name": "",
  "signature": "sha256:6a1528ce38624388a7d1cd0e25c95e8dc28d1349577ee535b4fc9ee90f3232be"
 },
 "nbformat": 3,
 "nbformat_minor": 0,
 "worksheets": [
  {
   "cells": [
    {
     "cell_type": "code",
     "collapsed": false,
     "input": [
      "import pandas\n",
      "import numpy"
     ],
     "language": "python",
     "metadata": {},
     "outputs": [],
     "prompt_number": 68
    },
    {
     "cell_type": "code",
     "collapsed": false,
     "input": [
      "df = pandas.read_csv(\"parsed_2013.csv\", index_col=0)"
     ],
     "language": "python",
     "metadata": {},
     "outputs": [],
     "prompt_number": 69
    },
    {
     "cell_type": "code",
     "collapsed": false,
     "input": [
      "df.head()"
     ],
     "language": "python",
     "metadata": {},
     "outputs": [
      {
       "html": [
        "<div style=\"max-height:1000px;max-width:1500px;overflow:auto;\">\n",
        "<table border=\"1\" class=\"dataframe\">\n",
        "  <thead>\n",
        "    <tr style=\"text-align: right;\">\n",
        "      <th></th>\n",
        "      <th>TotalTimeSeconds</th>\n",
        "      <th>DistanceMeters</th>\n",
        "      <th>MaximumSpeed</th>\n",
        "      <th>Calories</th>\n",
        "      <th>AverageSpeed</th>\n",
        "    </tr>\n",
        "    <tr>\n",
        "      <th>StartTime</th>\n",
        "      <th></th>\n",
        "      <th></th>\n",
        "      <th></th>\n",
        "      <th></th>\n",
        "      <th></th>\n",
        "    </tr>\n",
        "  </thead>\n",
        "  <tbody>\n",
        "    <tr>\n",
        "      <th>2013-01-02 15:51:51</th>\n",
        "      <td> 1690.76</td>\n",
        "      <td> 14632.39</td>\n",
        "      <td> 12.05</td>\n",
        "      <td> 572</td>\n",
        "      <td> 8.65</td>\n",
        "    </tr>\n",
        "    <tr>\n",
        "      <th>2013-01-03 00:20:26</th>\n",
        "      <td> 1928.39</td>\n",
        "      <td> 15305.22</td>\n",
        "      <td> 12.34</td>\n",
        "      <td> 702</td>\n",
        "      <td> 7.94</td>\n",
        "    </tr>\n",
        "    <tr>\n",
        "      <th>2013-01-04 15:46:52</th>\n",
        "      <td> 1680.40</td>\n",
        "      <td> 14651.60</td>\n",
        "      <td> 12.28</td>\n",
        "      <td> 572</td>\n",
        "      <td> 8.72</td>\n",
        "    </tr>\n",
        "    <tr>\n",
        "      <th>2013-01-04 23:59:27</th>\n",
        "      <td> 1962.15</td>\n",
        "      <td> 15237.36</td>\n",
        "      <td> 11.43</td>\n",
        "      <td> 691</td>\n",
        "      <td> 7.77</td>\n",
        "    </tr>\n",
        "    <tr>\n",
        "      <th>2013-01-07 15:56:14</th>\n",
        "      <td> 1657.51</td>\n",
        "      <td> 14625.53</td>\n",
        "      <td> 12.02</td>\n",
        "      <td> 609</td>\n",
        "      <td> 8.82</td>\n",
        "    </tr>\n",
        "  </tbody>\n",
        "</table>\n",
        "</div>"
       ],
       "metadata": {},
       "output_type": "pyout",
       "prompt_number": 70,
       "text": [
        "                     TotalTimeSeconds  DistanceMeters  MaximumSpeed  Calories  \\\n",
        "StartTime                                                                       \n",
        "2013-01-02 15:51:51           1690.76        14632.39         12.05       572   \n",
        "2013-01-03 00:20:26           1928.39        15305.22         12.34       702   \n",
        "2013-01-04 15:46:52           1680.40        14651.60         12.28       572   \n",
        "2013-01-04 23:59:27           1962.15        15237.36         11.43       691   \n",
        "2013-01-07 15:56:14           1657.51        14625.53         12.02       609   \n",
        "\n",
        "                     AverageSpeed  \n",
        "StartTime                          \n",
        "2013-01-02 15:51:51          8.65  \n",
        "2013-01-03 00:20:26          7.94  \n",
        "2013-01-04 15:46:52          8.72  \n",
        "2013-01-04 23:59:27          7.77  \n",
        "2013-01-07 15:56:14          8.82  "
       ]
      }
     ],
     "prompt_number": 70
    },
    {
     "cell_type": "code",
     "collapsed": false,
     "input": [
      "#calculate average speed from total distance/total time (meters per second) to confirm averages\n",
      "df['Meters/Seconds'] = df['DistanceMeters']/df['TotalTimeSeconds']"
     ],
     "language": "python",
     "metadata": {},
     "outputs": [],
     "prompt_number": 71
    },
    {
     "cell_type": "code",
     "collapsed": false,
     "input": [
      "#convert distances to miles \n",
      "df['Miles'] = df['DistanceMeters']/1609.34"
     ],
     "language": "python",
     "metadata": {},
     "outputs": [],
     "prompt_number": 72
    },
    {
     "cell_type": "code",
     "collapsed": false,
     "input": [
      "#convert times to minutes (better for comparisons) and hours (better for speed calculations)\n",
      "df['Minutes'] = df['TotalTimeSeconds']/60\n",
      "df['Hours'] = df['Minutes']/60"
     ],
     "language": "python",
     "metadata": {},
     "outputs": [],
     "prompt_number": 73
    },
    {
     "cell_type": "code",
     "collapsed": false,
     "input": [
      "#convert speeds to miles per hour\n",
      "df['average_mph'] = df['Miles']/df['Hours']\n",
      "df['maximum_mph'] = df['MaximumSpeed']*1200/1609.34\n",
      "\n",
      "#would like to round these off to 2 sig figs again "
     ],
     "language": "python",
     "metadata": {},
     "outputs": [],
     "prompt_number": 74
    },
    {
     "cell_type": "code",
     "collapsed": false,
     "input": [
      "df = np.round(df, 2)"
     ],
     "language": "python",
     "metadata": {},
     "outputs": [],
     "prompt_number": 75
    },
    {
     "cell_type": "code",
     "collapsed": false,
     "input": [
      "df.head()"
     ],
     "language": "python",
     "metadata": {},
     "outputs": [
      {
       "html": [
        "<div style=\"max-height:1000px;max-width:1500px;overflow:auto;\">\n",
        "<table border=\"1\" class=\"dataframe\">\n",
        "  <thead>\n",
        "    <tr style=\"text-align: right;\">\n",
        "      <th></th>\n",
        "      <th>TotalTimeSeconds</th>\n",
        "      <th>DistanceMeters</th>\n",
        "      <th>MaximumSpeed</th>\n",
        "      <th>Calories</th>\n",
        "      <th>AverageSpeed</th>\n",
        "      <th>Meters/Seconds</th>\n",
        "      <th>Miles</th>\n",
        "      <th>Minutes</th>\n",
        "      <th>Hours</th>\n",
        "      <th>average_mph</th>\n",
        "      <th>maximum_mph</th>\n",
        "    </tr>\n",
        "    <tr>\n",
        "      <th>StartTime</th>\n",
        "      <th></th>\n",
        "      <th></th>\n",
        "      <th></th>\n",
        "      <th></th>\n",
        "      <th></th>\n",
        "      <th></th>\n",
        "      <th></th>\n",
        "      <th></th>\n",
        "      <th></th>\n",
        "      <th></th>\n",
        "      <th></th>\n",
        "    </tr>\n",
        "  </thead>\n",
        "  <tbody>\n",
        "    <tr>\n",
        "      <th>2013-01-02 15:51:51</th>\n",
        "      <td> 1690.76</td>\n",
        "      <td> 14632.39</td>\n",
        "      <td> 12.05</td>\n",
        "      <td> 572</td>\n",
        "      <td> 8.65</td>\n",
        "      <td> 8.65</td>\n",
        "      <td> 9.09</td>\n",
        "      <td> 28.18</td>\n",
        "      <td> 0.47</td>\n",
        "      <td> 19.36</td>\n",
        "      <td> 8.99</td>\n",
        "    </tr>\n",
        "    <tr>\n",
        "      <th>2013-01-03 00:20:26</th>\n",
        "      <td> 1928.39</td>\n",
        "      <td> 15305.22</td>\n",
        "      <td> 12.34</td>\n",
        "      <td> 702</td>\n",
        "      <td> 7.94</td>\n",
        "      <td> 7.94</td>\n",
        "      <td> 9.51</td>\n",
        "      <td> 32.14</td>\n",
        "      <td> 0.54</td>\n",
        "      <td> 17.75</td>\n",
        "      <td> 9.20</td>\n",
        "    </tr>\n",
        "    <tr>\n",
        "      <th>2013-01-04 15:46:52</th>\n",
        "      <td> 1680.40</td>\n",
        "      <td> 14651.60</td>\n",
        "      <td> 12.28</td>\n",
        "      <td> 572</td>\n",
        "      <td> 8.72</td>\n",
        "      <td> 8.72</td>\n",
        "      <td> 9.10</td>\n",
        "      <td> 28.01</td>\n",
        "      <td> 0.47</td>\n",
        "      <td> 19.50</td>\n",
        "      <td> 9.16</td>\n",
        "    </tr>\n",
        "    <tr>\n",
        "      <th>2013-01-04 23:59:27</th>\n",
        "      <td> 1962.15</td>\n",
        "      <td> 15237.36</td>\n",
        "      <td> 11.43</td>\n",
        "      <td> 691</td>\n",
        "      <td> 7.77</td>\n",
        "      <td> 7.77</td>\n",
        "      <td> 9.47</td>\n",
        "      <td> 32.70</td>\n",
        "      <td> 0.55</td>\n",
        "      <td> 17.37</td>\n",
        "      <td> 8.52</td>\n",
        "    </tr>\n",
        "    <tr>\n",
        "      <th>2013-01-07 15:56:14</th>\n",
        "      <td> 1657.51</td>\n",
        "      <td> 14625.53</td>\n",
        "      <td> 12.02</td>\n",
        "      <td> 609</td>\n",
        "      <td> 8.82</td>\n",
        "      <td> 8.82</td>\n",
        "      <td> 9.09</td>\n",
        "      <td> 27.63</td>\n",
        "      <td> 0.46</td>\n",
        "      <td> 19.74</td>\n",
        "      <td> 8.96</td>\n",
        "    </tr>\n",
        "  </tbody>\n",
        "</table>\n",
        "</div>"
       ],
       "metadata": {},
       "output_type": "pyout",
       "prompt_number": 76,
       "text": [
        "                     TotalTimeSeconds  DistanceMeters  MaximumSpeed  Calories  \\\n",
        "StartTime                                                                       \n",
        "2013-01-02 15:51:51           1690.76        14632.39         12.05       572   \n",
        "2013-01-03 00:20:26           1928.39        15305.22         12.34       702   \n",
        "2013-01-04 15:46:52           1680.40        14651.60         12.28       572   \n",
        "2013-01-04 23:59:27           1962.15        15237.36         11.43       691   \n",
        "2013-01-07 15:56:14           1657.51        14625.53         12.02       609   \n",
        "\n",
        "                     AverageSpeed  Meters/Seconds  Miles  Minutes  Hours  \\\n",
        "StartTime                                                                  \n",
        "2013-01-02 15:51:51          8.65            8.65   9.09    28.18   0.47   \n",
        "2013-01-03 00:20:26          7.94            7.94   9.51    32.14   0.54   \n",
        "2013-01-04 15:46:52          8.72            8.72   9.10    28.01   0.47   \n",
        "2013-01-04 23:59:27          7.77            7.77   9.47    32.70   0.55   \n",
        "2013-01-07 15:56:14          8.82            8.82   9.09    27.63   0.46   \n",
        "\n",
        "                     average_mph  maximum_mph  \n",
        "StartTime                                      \n",
        "2013-01-02 15:51:51        19.36         8.99  \n",
        "2013-01-03 00:20:26        17.75         9.20  \n",
        "2013-01-04 15:46:52        19.50         9.16  \n",
        "2013-01-04 23:59:27        17.37         8.52  \n",
        "2013-01-07 15:56:14        19.74         8.96  "
       ]
      }
     ],
     "prompt_number": 76
    },
    {
     "cell_type": "code",
     "collapsed": false,
     "input": [
      "df[['average_mph', 'maximum_mph', 'MaximumSpeed']].head() #this looks wrong - are we sure about units for MaximumSpeed? "
     ],
     "language": "python",
     "metadata": {},
     "outputs": [
      {
       "html": [
        "<div style=\"max-height:1000px;max-width:1500px;overflow:auto;\">\n",
        "<table border=\"1\" class=\"dataframe\">\n",
        "  <thead>\n",
        "    <tr style=\"text-align: right;\">\n",
        "      <th></th>\n",
        "      <th>average_mph</th>\n",
        "      <th>maximum_mph</th>\n",
        "      <th>MaximumSpeed</th>\n",
        "    </tr>\n",
        "  </thead>\n",
        "  <tbody>\n",
        "    <tr>\n",
        "      <th>0</th>\n",
        "      <td> 19.076346</td>\n",
        "      <td>  8.321424</td>\n",
        "      <td> 11.16</td>\n",
        "    </tr>\n",
        "    <tr>\n",
        "      <th>1</th>\n",
        "      <td>  9.121596</td>\n",
        "      <td>  7.344626</td>\n",
        "      <td>  9.85</td>\n",
        "    </tr>\n",
        "    <tr>\n",
        "      <th>2</th>\n",
        "      <td> 16.084613</td>\n",
        "      <td>  8.999963</td>\n",
        "      <td> 12.07</td>\n",
        "    </tr>\n",
        "    <tr>\n",
        "      <th>3</th>\n",
        "      <td> 20.690046</td>\n",
        "      <td> 10.625474</td>\n",
        "      <td> 14.25</td>\n",
        "    </tr>\n",
        "    <tr>\n",
        "      <th>4</th>\n",
        "      <td> 17.537227</td>\n",
        "      <td>  8.194664</td>\n",
        "      <td> 10.99</td>\n",
        "    </tr>\n",
        "  </tbody>\n",
        "</table>\n",
        "</div>"
       ],
       "metadata": {},
       "output_type": "pyout",
       "prompt_number": 32,
       "text": [
        "   average_mph  maximum_mph  MaximumSpeed\n",
        "0    19.076346     8.321424         11.16\n",
        "1     9.121596     7.344626          9.85\n",
        "2    16.084613     8.999963         12.07\n",
        "3    20.690046    10.625474         14.25\n",
        "4    17.537227     8.194664         10.99"
       ]
      }
     ],
     "prompt_number": 32
    },
    {
     "cell_type": "code",
     "collapsed": false,
     "input": [
      "import matplotlib.pyplot as plt\n",
      "%matplotlib inline"
     ],
     "language": "python",
     "metadata": {},
     "outputs": [],
     "prompt_number": 77
    },
    {
     "cell_type": "code",
     "collapsed": false,
     "input": [
      "time = df['Minutes']"
     ],
     "language": "python",
     "metadata": {},
     "outputs": [],
     "prompt_number": 78
    },
    {
     "cell_type": "code",
     "collapsed": false,
     "input": [
      "plt.hist(time)\n",
      "plt.xlabel(\"Minutes\")\n",
      "plt.ylabel(\"Frequency\")\n",
      "#note: outliers are probably times when device was left running on the train - can check this by comparing w/distance, speed"
     ],
     "language": "python",
     "metadata": {},
     "outputs": [
      {
       "metadata": {},
       "output_type": "pyout",
       "prompt_number": 79,
       "text": [
        "<matplotlib.text.Text at 0x10936f8d0>"
       ]
      },
      {
       "metadata": {},
       "output_type": "display_data",
       "png": "[encoded data removed]",
       "text": [
        "<matplotlib.figure.Figure at 0x10923bfd0>"
       ]
      }
     ],
     "prompt_number": 79
    },
    {
     "cell_type": "code",
     "collapsed": false,
     "input": [
      "dist = df['Miles']"
     ],
     "language": "python",
     "metadata": {},
     "outputs": [],
     "prompt_number": 80
    },
    {
     "cell_type": "code",
     "collapsed": false,
     "input": [
      "plt.hist(dist)\n",
      "plt.xlabel(\"Miles\")\n",
      "plt.ylabel('Frequency')\n",
      "#note that this is bimodal because the short leg is in the city, long leg is on the peninsula (plus outliers)"
     ],
     "language": "python",
     "metadata": {},
     "outputs": [
      {
       "metadata": {},
       "output_type": "pyout",
       "prompt_number": 81,
       "text": [
        "<matplotlib.text.Text at 0x109415e50>"
       ]
      },
      {
       "metadata": {},
       "output_type": "display_data",
       "png": "[encoded data removed]",
       "text": [
        "<matplotlib.figure.Figure at 0x1093b0650>"
       ]
      }
     ],
     "prompt_number": 81
    },
    {
     "cell_type": "code",
     "collapsed": false,
     "input": [
      "maxspeed = df['MaximumSpeed']"
     ],
     "language": "python",
     "metadata": {},
     "outputs": [],
     "prompt_number": 82
    },
    {
     "cell_type": "code",
     "collapsed": false,
     "input": [
      "plt.hist(maxspeed)\n",
      "plt.xlabel(\"Maximum Speed (mph)\")\n",
      "plt.ylabel(\"Frequency\")\n",
      "#outliers here are not that far off, probably not from train trips"
     ],
     "language": "python",
     "metadata": {},
     "outputs": [
      {
       "metadata": {},
       "output_type": "pyout",
       "prompt_number": 83,
       "text": [
        "<matplotlib.text.Text at 0x109435210>"
       ]
      },
      {
       "metadata": {},
       "output_type": "display_data",
       "png": "[encoded data removed]",
       "text": [
        "<matplotlib.figure.Figure at 0x10947c990>"
       ]
      }
     ],
     "prompt_number": 83
    },
    {
     "cell_type": "code",
     "collapsed": false,
     "input": [
      "avgspeed = df['average_mph']"
     ],
     "language": "python",
     "metadata": {},
     "outputs": [],
     "prompt_number": 64
    },
    {
     "cell_type": "code",
     "collapsed": false,
     "input": [
      "plt.hist(avgspeed)\n",
      "plt.xlabel (\"average_mph\")\n",
      "plt.ylabel(\"Frequency\")"
     ],
     "language": "python",
     "metadata": {},
     "outputs": [
      {
       "metadata": {},
       "output_type": "pyout",
       "prompt_number": 84,
       "text": [
        "<matplotlib.text.Text at 0x109369750>"
       ]
      },
      {
       "metadata": {},
       "output_type": "display_data",
       "png": "[encoded data removed]",
       "text": [
        "<matplotlib.figure.Figure at 0x1097d3710>"
       ]
      }
     ],
     "prompt_number": 84
    },
    {
     "cell_type": "code",
     "collapsed": false,
     "input": [
      "season_means = pandas.read_csv(\"quarterly.csv\", index_col=0)"
     ],
     "language": "python",
     "metadata": {},
     "outputs": [],
     "prompt_number": 85
    },
    {
     "cell_type": "code",
     "collapsed": false,
     "input": [
      "season_means"
     ],
     "language": "python",
     "metadata": {},
     "outputs": [
      {
       "html": [
        "<div style=\"max-height:1000px;max-width:1500px;overflow:auto;\">\n",
        "<table border=\"1\" class=\"dataframe\">\n",
        "  <thead>\n",
        "    <tr style=\"text-align: right;\">\n",
        "      <th></th>\n",
        "      <th>TotalTimeSeconds</th>\n",
        "      <th>DistanceMeters</th>\n",
        "      <th>MaximumSpeed</th>\n",
        "      <th>AverageSpeed</th>\n",
        "    </tr>\n",
        "    <tr>\n",
        "      <th>StartTime</th>\n",
        "      <th></th>\n",
        "      <th></th>\n",
        "      <th></th>\n",
        "      <th></th>\n",
        "    </tr>\n",
        "  </thead>\n",
        "  <tbody>\n",
        "    <tr>\n",
        "      <th>2013-03-31</th>\n",
        "      <td> 1844.80</td>\n",
        "      <td> 15227.59</td>\n",
        "      <td> 12.48</td>\n",
        "      <td> 8.31</td>\n",
        "    </tr>\n",
        "    <tr>\n",
        "      <th>2013-06-30</th>\n",
        "      <td> 1411.44</td>\n",
        "      <td> 11624.01</td>\n",
        "      <td> 12.30</td>\n",
        "      <td> 7.94</td>\n",
        "    </tr>\n",
        "    <tr>\n",
        "      <th>2013-09-30</th>\n",
        "      <td> 1283.19</td>\n",
        "      <td>  9875.91</td>\n",
        "      <td> 11.90</td>\n",
        "      <td> 7.45</td>\n",
        "    </tr>\n",
        "    <tr>\n",
        "      <th>2013-12-31</th>\n",
        "      <td> 1310.46</td>\n",
        "      <td>  9677.34</td>\n",
        "      <td> 11.41</td>\n",
        "      <td> 7.28</td>\n",
        "    </tr>\n",
        "  </tbody>\n",
        "</table>\n",
        "</div>"
       ],
       "metadata": {},
       "output_type": "pyout",
       "prompt_number": 86,
       "text": [
        "            TotalTimeSeconds  DistanceMeters  MaximumSpeed  AverageSpeed\n",
        "StartTime                                                               \n",
        "2013-03-31           1844.80        15227.59         12.48          8.31\n",
        "2013-06-30           1411.44        11624.01         12.30          7.94\n",
        "2013-09-30           1283.19         9875.91         11.90          7.45\n",
        "2013-12-31           1310.46         9677.34         11.41          7.28"
       ]
      }
     ],
     "prompt_number": 86
    },
    {
     "cell_type": "code",
     "collapsed": false,
     "input": [
      "season_means['MaximumSpeed'].plot(kind='bar')"
     ],
     "language": "python",
     "metadata": {},
     "outputs": [
      {
       "metadata": {},
       "output_type": "pyout",
       "prompt_number": 87,
       "text": [
        "<matplotlib.axes.AxesSubplot at 0x109808650>"
       ]
      },
      {
       "metadata": {},
       "output_type": "display_data",
       "png": "[encoded data removed]",
       "text": [
        "<matplotlib.figure.Figure at 0x1098f70d0>"
       ]
      }
     ],
     "prompt_number": 87
    },
    {
     "cell_type": "code",
     "collapsed": false,
     "input": [
      "season_means['AverageSpeed'].plot(kind='bar')"
     ],
     "language": "python",
     "metadata": {},
     "outputs": [
      {
       "metadata": {},
       "output_type": "pyout",
       "prompt_number": 88,
       "text": [
        "<matplotlib.axes.AxesSubplot at 0x109b359d0>"
       ]
      },
      {
       "metadata": {},
       "output_type": "display_data",
       "png": "[encoded data removed]",
       "text": [
        "<matplotlib.figure.Figure at 0x10434f8d0>"
       ]
      }
     ],
     "prompt_number": 88
    },
    {
     "cell_type": "code",
     "collapsed": false,
     "input": [
      "season_means['DistanceMeters'].plot(kind='bar')"
     ],
     "language": "python",
     "metadata": {},
     "outputs": [
      {
       "metadata": {},
       "output_type": "pyout",
       "prompt_number": 89,
       "text": [
        "<matplotlib.axes.AxesSubplot at 0x109c6dd50>"
       ]
      },
      {
       "metadata": {},
       "output_type": "display_data",
       "png": "[encoded data removed]",
       "text": [
        "<matplotlib.figure.Figure at 0x109b58190>"
       ]
      }
     ],
     "prompt_number": 89
    },
    {
     "cell_type": "code",
     "collapsed": false,
     "input": [
      "season_means['TotalTimeSeconds'].plot(kind='bar')"
     ],
     "language": "python",
     "metadata": {},
     "outputs": [
      {
       "metadata": {},
       "output_type": "pyout",
       "prompt_number": 90,
       "text": [
        "<matplotlib.axes.AxesSubplot at 0x109dac990>"
       ]
      },
      {
       "metadata": {},
       "output_type": "display_data",
       "png": "[encoded data removed]",
       "text": [
        "<matplotlib.figure.Figure at 0x109dbe110>"
       ]
      }
     ],
     "prompt_number": 90
    },
    {
     "cell_type": "code",
     "collapsed": true,
     "input": [
      "#want to plot average_mph vs. StartTime \n",
      "from bokeh import * #see if this works better than just 'import bokeh'"
     ],
     "language": "python",
     "metadata": {},
     "outputs": [],
     "prompt_number": 101
    },
    {
     "cell_type": "code",
     "collapsed": false,
     "input": [
      "#x = df['StartTime'] #can't just do this because it's the index\n",
      "x = df.index #check this, not sure. \n",
      "y = avgspeed"
     ],
     "language": "python",
     "metadata": {},
     "outputs": [],
     "prompt_number": 102
    },
    {
     "cell_type": "code",
     "collapsed": false,
     "input": [
      "#output_notebook() #not sure why this isn't working, since it's in the example? maybe need to update bokeh in conda? "
     ],
     "language": "python",
     "metadata": {},
     "outputs": [
      {
       "ename": "NameError",
       "evalue": "name 'output_notebook' is not defined",
       "output_type": "pyerr",
       "traceback": [
        "\u001b[0;31m---------------------------------------------------------------------------\u001b[0m\n\u001b[0;31mNameError\u001b[0m                                 Traceback (most recent call last)",
        "\u001b[0;32m<ipython-input-103-f8e670818fa8>\u001b[0m in \u001b[0;36m<module>\u001b[0;34m()\u001b[0m\n\u001b[0;32m----> 1\u001b[0;31m \u001b[0moutput_notebook\u001b[0m\u001b[0;34m(\u001b[0m\u001b[0;34m)\u001b[0m \u001b[0;31m#not sure why this isn't working, since it's in the example? maybe need to update bokeh in conda?\u001b[0m\u001b[0;34m\u001b[0m\u001b[0m\n\u001b[0m",
        "\u001b[0;31mNameError\u001b[0m: name 'output_notebook' is not defined"
       ]
      }
     ],
     "prompt_number": 103
    },
    {
     "cell_type": "code",
     "collapsed": false,
     "input": [
      "#scatter(x,y, color=\"#FF00FF\", tools=\"pan,wheel_zoom,box_zoom,reset,resize\") #wtf did they change this?\n",
      "show()"
     ],
     "language": "python",
     "metadata": {},
     "outputs": [
      {
       "ename": "NameError",
       "evalue": "name 'scatter' is not defined",
       "output_type": "pyerr",
       "traceback": [
        "\u001b[0;31m---------------------------------------------------------------------------\u001b[0m\n\u001b[0;31mNameError\u001b[0m                                 Traceback (most recent call last)",
        "\u001b[0;32m<ipython-input-105-6a29f3151794>\u001b[0m in \u001b[0;36m<module>\u001b[0;34m()\u001b[0m\n\u001b[0;32m----> 1\u001b[0;31m \u001b[0mscatter\u001b[0m\u001b[0;34m(\u001b[0m\u001b[0mx\u001b[0m\u001b[0;34m,\u001b[0m\u001b[0my\u001b[0m\u001b[0;34m,\u001b[0m \u001b[0mcolor\u001b[0m\u001b[0;34m=\u001b[0m\u001b[0;34m\"#FF00FF\"\u001b[0m\u001b[0;34m,\u001b[0m \u001b[0mtools\u001b[0m\u001b[0;34m=\u001b[0m\u001b[0;34m\"pan,wheel_zoom,box_zoom,reset,resize\"\u001b[0m\u001b[0;34m)\u001b[0m\u001b[0;34m\u001b[0m\u001b[0m\n\u001b[0m\u001b[1;32m      2\u001b[0m \u001b[0mshow\u001b[0m\u001b[0;34m(\u001b[0m\u001b[0;34m)\u001b[0m\u001b[0;34m\u001b[0m\u001b[0m\n",
        "\u001b[0;31mNameError\u001b[0m: name 'scatter' is not defined"
       ]
      }
     ],
     "prompt_number": 105
    },
    {
     "cell_type": "code",
     "collapsed": false,
     "input": [
      "#try ggplot instead\n",
      "from ggplot import *"
     ],
     "language": "python",
     "metadata": {},
     "outputs": [],
     "prompt_number": 106
    },
    {
     "cell_type": "code",
     "collapsed": false,
     "input": [
      "x=points[df.index] #this is a weird error to be getting with both bokeh and ggplot? \n",
      "y=points['avgspeed']"
     ],
     "language": "python",
     "metadata": {},
     "outputs": [
      {
       "ename": "NameError",
       "evalue": "name 'points' is not defined",
       "output_type": "pyerr",
       "traceback": [
        "\u001b[0;31m---------------------------------------------------------------------------\u001b[0m\n\u001b[0;31mNameError\u001b[0m                                 Traceback (most recent call last)",
        "\u001b[0;32m<ipython-input-107-2359ec9d6bf6>\u001b[0m in \u001b[0;36m<module>\u001b[0;34m()\u001b[0m\n\u001b[0;32m----> 1\u001b[0;31m \u001b[0mx\u001b[0m\u001b[0;34m=\u001b[0m\u001b[0mpoints\u001b[0m\u001b[0;34m[\u001b[0m\u001b[0mdf\u001b[0m\u001b[0;34m.\u001b[0m\u001b[0mindex\u001b[0m\u001b[0;34m]\u001b[0m\u001b[0;34m\u001b[0m\u001b[0m\n\u001b[0m\u001b[1;32m      2\u001b[0m \u001b[0my\u001b[0m\u001b[0;34m=\u001b[0m\u001b[0mpoints\u001b[0m\u001b[0;34m[\u001b[0m\u001b[0;34m'avgspeed'\u001b[0m\u001b[0;34m]\u001b[0m\u001b[0;34m\u001b[0m\u001b[0m\n",
        "\u001b[0;31mNameError\u001b[0m: name 'points' is not defined"
       ]
      }
     ],
     "prompt_number": 107
    },
    {
     "cell_type": "code",
     "collapsed": false,
     "input": [
      "#might be interesting to compare with weather info to see how that correlates/influences times & speeds"
     ],
     "language": "python",
     "metadata": {},
     "outputs": []
    }
   ],
   "metadata": {}
  }
 ]
}