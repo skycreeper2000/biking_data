{
 "metadata": {
  "name": "",
  "signature": "sha256:633a8099ae292f2836190de69916e77c62b9db80fcc5e827914c068b69eba903"
 },
 "nbformat": 3,
 "nbformat_minor": 0,
 "worksheets": [
  {
   "cells": [
    {
     "cell_type": "code",
     "collapsed": false,
     "input": [
      "import pandas"
     ],
     "language": "python",
     "metadata": {},
     "outputs": [],
     "prompt_number": 1
    },
    {
     "cell_type": "code",
     "collapsed": false,
     "input": [
      "df = pandas.read_csv(\"parsed_2013.csv\", index_col=0)"
     ],
     "language": "python",
     "metadata": {},
     "outputs": [],
     "prompt_number": 2
    },
    {
     "cell_type": "code",
     "collapsed": false,
     "input": [
      "df.head()"
     ],
     "language": "python",
     "metadata": {},
     "outputs": [
      {
       "html": [
        "<div style=\"max-height:1000px;max-width:1500px;overflow:auto;\">\n",
        "<table border=\"1\" class=\"dataframe\">\n",
        "  <thead>\n",
        "    <tr style=\"text-align: right;\">\n",
        "      <th></th>\n",
        "      <th>StartTime</th>\n",
        "      <th>TotalTimeSeconds</th>\n",
        "      <th>DistanceMeters</th>\n",
        "      <th>MaximumSpeed</th>\n",
        "      <th>Calories</th>\n",
        "      <th>AverageSpeed</th>\n",
        "    </tr>\n",
        "  </thead>\n",
        "  <tbody>\n",
        "    <tr>\n",
        "      <th>0</th>\n",
        "      <td> 2013-06-11T23:18:21Z</td>\n",
        "      <td> 1669.75</td>\n",
        "      <td> 14122.15</td>\n",
        "      <td> 11.16</td>\n",
        "      <td> 575</td>\n",
        "      <td> 8.46</td>\n",
        "    </tr>\n",
        "    <tr>\n",
        "      <th>1</th>\n",
        "      <td> 2013-06-12T00:42:37Z</td>\n",
        "      <td>  283.55</td>\n",
        "      <td>  1174.38</td>\n",
        "      <td>  9.85</td>\n",
        "      <td> 145</td>\n",
        "      <td> 4.14</td>\n",
        "    </tr>\n",
        "    <tr>\n",
        "      <th>2</th>\n",
        "      <td> 2013-10-02T13:31:43Z</td>\n",
        "      <td>  654.85</td>\n",
        "      <td>  4659.41</td>\n",
        "      <td> 12.07</td>\n",
        "      <td> 178</td>\n",
        "      <td> 7.12</td>\n",
        "    </tr>\n",
        "    <tr>\n",
        "      <th>3</th>\n",
        "      <td> 2013-10-02T14:46:50Z</td>\n",
        "      <td> 1580.51</td>\n",
        "      <td> 14650.82</td>\n",
        "      <td> 14.25</td>\n",
        "      <td> 608</td>\n",
        "      <td> 9.27</td>\n",
        "    </tr>\n",
        "    <tr>\n",
        "      <th>4</th>\n",
        "      <td> 2013-05-03T22:59:16Z</td>\n",
        "      <td> 2209.53</td>\n",
        "      <td> 17216.25</td>\n",
        "      <td> 10.99</td>\n",
        "      <td> 678</td>\n",
        "      <td> 7.79</td>\n",
        "    </tr>\n",
        "  </tbody>\n",
        "</table>\n",
        "</div>"
       ],
       "metadata": {},
       "output_type": "pyout",
       "prompt_number": 3,
       "text": [
        "              StartTime  TotalTimeSeconds  DistanceMeters  MaximumSpeed  \\\n",
        "0  2013-06-11T23:18:21Z           1669.75        14122.15         11.16   \n",
        "1  2013-06-12T00:42:37Z            283.55         1174.38          9.85   \n",
        "2  2013-10-02T13:31:43Z            654.85         4659.41         12.07   \n",
        "3  2013-10-02T14:46:50Z           1580.51        14650.82         14.25   \n",
        "4  2013-05-03T22:59:16Z           2209.53        17216.25         10.99   \n",
        "\n",
        "   Calories  AverageSpeed  \n",
        "0       575          8.46  \n",
        "1       145          4.14  \n",
        "2       178          7.12  \n",
        "3       608          9.27  \n",
        "4       678          7.79  "
       ]
      }
     ],
     "prompt_number": 3
    },
    {
     "cell_type": "code",
     "collapsed": false,
     "input": [
      "#calculate average speed from total distance/total time (meters per second) to confirm averages\n",
      "df['Meters/Seconds'] = df['DistanceMeters']/df['TotalTimeSeconds']"
     ],
     "language": "python",
     "metadata": {},
     "outputs": [],
     "prompt_number": 7
    },
    {
     "cell_type": "code",
     "collapsed": false,
     "input": [
      "#convert distances to miles \n",
      "df['Miles'] = df['DistanceMeters']/1609.34"
     ],
     "language": "python",
     "metadata": {},
     "outputs": [],
     "prompt_number": 9
    },
    {
     "cell_type": "code",
     "collapsed": false,
     "input": [
      "#convert times to minutes (better for comparisons) and hours (better for speed calculations)\n",
      "df['Minutes'] = df['TotalTimeSeconds']/60\n",
      "df['Hours'] = df['Minutes']/60"
     ],
     "language": "python",
     "metadata": {},
     "outputs": [],
     "prompt_number": 13
    },
    {
     "cell_type": "code",
     "collapsed": false,
     "input": [
      "#convert speeds to miles per hour\n",
      "df['average_mph'] = df['Miles']/df['Hours']\n",
      "df['maximum_mph'] = df['MaximumSpeed']*1200/1609.34\n",
      "\n",
      "#would like to round these off to 2 sig figs again "
     ],
     "language": "python",
     "metadata": {},
     "outputs": [],
     "prompt_number": 33
    },
    {
     "cell_type": "code",
     "collapsed": false,
     "input": [
      "df[['average_mph', 'maximum_mph', 'MaximumSpeed']].head() #this looks wrong - are we sure about units for MaximumSpeed? "
     ],
     "language": "python",
     "metadata": {},
     "outputs": [
      {
       "html": [
        "<div style=\"max-height:1000px;max-width:1500px;overflow:auto;\">\n",
        "<table border=\"1\" class=\"dataframe\">\n",
        "  <thead>\n",
        "    <tr style=\"text-align: right;\">\n",
        "      <th></th>\n",
        "      <th>average_mph</th>\n",
        "      <th>maximum_mph</th>\n",
        "      <th>MaximumSpeed</th>\n",
        "    </tr>\n",
        "  </thead>\n",
        "  <tbody>\n",
        "    <tr>\n",
        "      <th>0</th>\n",
        "      <td> 19.076346</td>\n",
        "      <td>  8.321424</td>\n",
        "      <td> 11.16</td>\n",
        "    </tr>\n",
        "    <tr>\n",
        "      <th>1</th>\n",
        "      <td>  9.121596</td>\n",
        "      <td>  7.344626</td>\n",
        "      <td>  9.85</td>\n",
        "    </tr>\n",
        "    <tr>\n",
        "      <th>2</th>\n",
        "      <td> 16.084613</td>\n",
        "      <td>  8.999963</td>\n",
        "      <td> 12.07</td>\n",
        "    </tr>\n",
        "    <tr>\n",
        "      <th>3</th>\n",
        "      <td> 20.690046</td>\n",
        "      <td> 10.625474</td>\n",
        "      <td> 14.25</td>\n",
        "    </tr>\n",
        "    <tr>\n",
        "      <th>4</th>\n",
        "      <td> 17.537227</td>\n",
        "      <td>  8.194664</td>\n",
        "      <td> 10.99</td>\n",
        "    </tr>\n",
        "  </tbody>\n",
        "</table>\n",
        "</div>"
       ],
       "metadata": {},
       "output_type": "pyout",
       "prompt_number": 32,
       "text": [
        "   average_mph  maximum_mph  MaximumSpeed\n",
        "0    19.076346     8.321424         11.16\n",
        "1     9.121596     7.344626          9.85\n",
        "2    16.084613     8.999963         12.07\n",
        "3    20.690046    10.625474         14.25\n",
        "4    17.537227     8.194664         10.99"
       ]
      }
     ],
     "prompt_number": 32
    },
    {
     "cell_type": "code",
     "collapsed": false,
     "input": [],
     "language": "python",
     "metadata": {},
     "outputs": []
    },
    {
     "cell_type": "code",
     "collapsed": false,
     "input": [
      "#Danek would like to know if there are seasonal shifts\n"
     ],
     "language": "python",
     "metadata": {},
     "outputs": []
    },
    {
     "cell_type": "code",
     "collapsed": false,
     "input": [
      "import matplotlib.pyplot as plt\n",
      "import numpy as np\n",
      "%matplotlib inline"
     ],
     "language": "python",
     "metadata": {},
     "outputs": [],
     "prompt_number": 4
    },
    {
     "cell_type": "code",
     "collapsed": false,
     "input": [
      "time = df['TotalTimeSeconds']"
     ],
     "language": "python",
     "metadata": {},
     "outputs": [],
     "prompt_number": 5
    },
    {
     "cell_type": "code",
     "collapsed": false,
     "input": [
      "plt.hist(time)\n",
      "plt.xlabel(\"Time (seconds)\")\n",
      "plt.ylabel(\"Frequency\")\n",
      "#note: outliers are probably times when device was left running on the train - can check this by comparing w/distance, speed"
     ],
     "language": "python",
     "metadata": {},
     "outputs": [
      {
       "metadata": {},
       "output_type": "pyout",
       "prompt_number": 6,
       "text": [
        "<matplotlib.text.Text at 0x1075e7710>"
       ]
      },
      {
       "metadata": {},
       "output_type": "display_data",
       "png": "[encoded data removed]",
       "text": [
        "<matplotlib.figure.Figure at 0x107525450>"
       ]
      }
     ],
     "prompt_number": 6
    },
    {
     "cell_type": "code",
     "collapsed": false,
     "input": [
      "dist = df['DistanceMeters']"
     ],
     "language": "python",
     "metadata": {},
     "outputs": [],
     "prompt_number": 7
    },
    {
     "cell_type": "code",
     "collapsed": false,
     "input": [
      "plt.hist(dist)\n",
      "plt.xlabel(\"Distance (meters)\")\n",
      "plt.ylabel('Frequency')\n",
      "#note that this is bimodal because the short leg is in the city, long leg is on the peninsula (plus outliers)"
     ],
     "language": "python",
     "metadata": {},
     "outputs": [
      {
       "metadata": {},
       "output_type": "pyout",
       "prompt_number": 8,
       "text": [
        "<matplotlib.text.Text at 0x1076feb90>"
       ]
      },
      {
       "metadata": {},
       "output_type": "display_data",
       "png": "[encoded data removed]",
       "text": [
        "<matplotlib.figure.Figure at 0x1076598d0>"
       ]
      }
     ],
     "prompt_number": 8
    },
    {
     "cell_type": "code",
     "collapsed": false,
     "input": [
      "maxspeed = df['MaximumSpeed']"
     ],
     "language": "python",
     "metadata": {},
     "outputs": [],
     "prompt_number": 9
    },
    {
     "cell_type": "code",
     "collapsed": false,
     "input": [
      "plt.hist(maxspeed)\n",
      "plt.xlabel(\"Maximum Speed (mph)\")\n",
      "plt.ylabel(\"Frequency\")\n",
      "#outliers here are not that far off, probably not from train trips"
     ],
     "language": "python",
     "metadata": {},
     "outputs": [
      {
       "metadata": {},
       "output_type": "pyout",
       "prompt_number": 10,
       "text": [
        "<matplotlib.text.Text at 0x1077ea390>"
       ]
      },
      {
       "metadata": {},
       "output_type": "display_data",
       "png": "[encoded data removed]",
       "text": [
        "<matplotlib.figure.Figure at 0x107831ad0>"
       ]
      }
     ],
     "prompt_number": 10
    },
    {
     "cell_type": "code",
     "collapsed": false,
     "input": [
      "avgspeed = df['AverageSpeed']"
     ],
     "language": "python",
     "metadata": {},
     "outputs": [],
     "prompt_number": 11
    },
    {
     "cell_type": "code",
     "collapsed": false,
     "input": [
      "plt.hist(avgspeed)\n",
      "plt.xlabel (\"Average Speed (meters per second)\")\n",
      "plt.ylabel(\"Frequency\")"
     ],
     "language": "python",
     "metadata": {},
     "outputs": [
      {
       "metadata": {},
       "output_type": "pyout",
       "prompt_number": 13,
       "text": [
        "<matplotlib.text.Text at 0x1079b1850>"
       ]
      },
      {
       "metadata": {},
       "output_type": "display_data",
       "png": "[encoded data removed]",
       "text": [
        "<matplotlib.figure.Figure at 0x107957510>"
       ]
      }
     ],
     "prompt_number": 13
    },
    {
     "cell_type": "code",
     "collapsed": false,
     "input": [
      "#might be interesting to compare with weather info to see how that correlates/influences times & speeds"
     ],
     "language": "python",
     "metadata": {},
     "outputs": []
    }
   ],
   "metadata": {}
  }
 ]
}