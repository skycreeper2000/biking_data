{
 "metadata": {
  "name": ""
 },
 "nbformat": 3,
 "nbformat_minor": 0,
 "worksheets": [
  {
   "cells": [
    {
     "cell_type": "code",
     "collapsed": false,
     "input": [
      "import pandas"
     ],
     "language": "python",
     "metadata": {},
     "outputs": [],
     "prompt_number": 1
    },
    {
     "cell_type": "code",
     "collapsed": false,
     "input": [
      "tabbed = pandas.read_csv(\"AllTrainingCenterData_tabbed.txt\", sep='\\t', skiprows=1, header=1, chunksize=600)"
     ],
     "language": "python",
     "metadata": {},
     "outputs": [],
     "prompt_number": 2
    },
    {
     "cell_type": "code",
     "collapsed": false,
     "input": [
      "for chunk in tabbed:\n",
      "    print chunk.head()\n",
      "    break"
     ],
     "language": "python",
     "metadata": {},
     "outputs": [
      {
       "output_type": "stream",
       "stream": "stdout",
       "text": [
        "   RecID  MultiSportSessionRecID  NextSportRecID             StartTime  \\\n",
        "0      1                     NaN             NaN  2014-04-28T13:38:58Z   \n",
        "1      2                     NaN             NaN  2012-11-28T00:15:52Z   \n",
        "2      3                     NaN             NaN  2012-08-20T23:15:15Z   \n",
        "3      4                     NaN             NaN  2012-04-23T14:48:07Z   \n",
        "4      5                     NaN             NaN  2012-09-04T23:13:34Z   \n",
        "\n",
        "    Sport  TotalTimeSeconds  DistanceMeters  VirtualPartner  PlanName  \\\n",
        "0  Biking               NaN             NaN             NaN       NaN   \n",
        "1  Biking               NaN             NaN             NaN       NaN   \n",
        "2  Biking               NaN             NaN             NaN       NaN   \n",
        "3  Biking               NaN             NaN             NaN       NaN   \n",
        "4  Biking               NaN             NaN             NaN       NaN   \n",
        "\n",
        "   PlanType  IntervalWorkout  Notes  Creator  Unnamed: 13  \n",
        "0       NaN              NaN    NaN  EDGE305          NaN  \n",
        "1       NaN              NaN    NaN  EDGE305          NaN  \n",
        "2       NaN              NaN    NaN  EDGE305          NaN  \n",
        "3       NaN              NaN    NaN  EDGE305          NaN  \n",
        "4       NaN              NaN    NaN  EDGE305          NaN  \n",
        "\n",
        "[5 rows x 14 columns]\n"
       ]
      }
     ],
     "prompt_number": 3
    },
    {
     "cell_type": "code",
     "collapsed": false,
     "input": [],
     "language": "python",
     "metadata": {},
     "outputs": []
    }
   ],
   "metadata": {}
  }
 ]
}