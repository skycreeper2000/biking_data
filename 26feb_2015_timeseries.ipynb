{
 "cells": [
  {
   "cell_type": "code",
   "execution_count": 1,
   "metadata": {
    "collapsed": false
   },
   "outputs": [
    {
     "name": "stdout",
     "output_type": "stream",
     "text": [
      "Installed watermark.py. To use it, type:\n",
      "  %load_ext watermark\n"
     ]
    }
   ],
   "source": [
    "%install_ext https://raw.githubusercontent.com/szeitlin/watermark/master/watermark.py"
   ]
  },
  {
   "cell_type": "code",
   "execution_count": 2,
   "metadata": {
    "collapsed": false
   },
   "outputs": [],
   "source": [
    "%load_ext watermark"
   ]
  },
  {
   "cell_type": "code",
   "execution_count": 6,
   "metadata": {
    "collapsed": false
   },
   "outputs": [
    {
     "name": "stdout",
     "output_type": "stream",
     "text": [
      "Samantha Zeitlin \n",
      "Last updated: 03/07/2015 \n",
      "\n",
      "ipython 3.0.0\n",
      "python 2.7.9\n",
      "ipython 3.0.0\n",
      "pandas 0.15.2\n",
      "lxml 3.3.5\n",
      "seaborn 0.5.1\n",
      "pytz 2014.9\n"
     ]
    }
   ],
   "source": [
    "%watermark -a \"Samantha Zeitlin\" -d -u -p ipython,python,pandas,lxml,seaborn,pytz"
   ]
  },
  {
   "cell_type": "code",
   "execution_count": 7,
   "metadata": {
    "collapsed": false
   },
   "outputs": [],
   "source": [
    "from lxml import objectify\n",
    "import pandas\n",
    "import pytz\n",
    "from dateutil.parser import parse"
   ]
  },
  {
   "cell_type": "code",
   "execution_count": 8,
   "metadata": {
    "collapsed": false
   },
   "outputs": [],
   "source": [
    "def extract_nodes(root):\n",
    "\n",
    "    StartTime = []\n",
    "    TotalTimeSeconds = []\n",
    "    DistanceMeters = []\n",
    "    MaximumSpeed = []\n",
    "    Calories = []\n",
    "\n",
    "    AvgSpeedList = []\n",
    "\n",
    "    Pos_count, Alt_count = 0,0\n",
    "    posTime = []\n",
    "    Lat = []\n",
    "    Long = []\n",
    "    altTime = []\n",
    "    alt = [] #altitude\n",
    "    dist = [] #distancemeters\n",
    "\n",
    "    #idea to use altitude, position and distance meters to calculate more finely-grained speeds\n",
    "\n",
    "    for a,act in enumerate(root.Activities.Activity):\n",
    "\n",
    "        for lap in root.Activities.Activity[a].Lap:\n",
    "            StartTime.append(lap.values()[0])\n",
    "            TotalTimeSeconds.append(float(lap.TotalTimeSeconds.text))\n",
    "            DistanceMeters.append(float(lap.DistanceMeters.text))\n",
    "            MaximumSpeed.append(float(lap.MaximumSpeed.text))\n",
    "            Calories.append(float(lap.Calories.text))\n",
    "\n",
    "            kids= lap.Extensions.getchildren()\n",
    "            avgspeed = kids[1].AvgSpeed.pyval #have to do pyval to get rid of nested brackets from xml\n",
    "            AvgSpeedList.append(avgspeed)\n",
    "\n",
    "            try:\n",
    "                for j, lapnum in enumerate(lap):\n",
    "                    if lap[j].Track is not None:\n",
    "                        try:\n",
    "                            if lap[j].Track.Trackpoint is not None:\n",
    "\n",
    "                                for k, trackpt in enumerate(lap[j].Track.Trackpoint):\n",
    "                                    try:\n",
    "                                        if lap[j].Track.Trackpoint[k].Position is not None:\n",
    "                                            Pos_count+=1\n",
    "                                            posTime.append(lap[j].Track.Trackpoint[k].Time.pyval)\n",
    "                                            Lat.append(lap[j].Track.Trackpoint[k].Position.LatitudeDegrees.pyval)\n",
    "                                            Long.append(lap[j].Track.Trackpoint[k].Position.LongitudeDegrees.pyval)\n",
    "                                    except AttributeError:\n",
    "                                        continue\n",
    "                                    try:\n",
    "                                        if lap[j].Track.Trackpoint[k].AltitudeMeters.text is not None:\n",
    "                                            Alt_count+=1\n",
    "                                            altTime.append(lap[j].Track.Trackpoint[k].Time.pyval)\n",
    "                                            alt.append(lap[j].Track.Trackpoint[k].AltitudeMeters.text)\n",
    "                                            dist.append(lap[j].Track.Trackpoint[k].DistanceMeters.text)\n",
    "                                    except AttributeError:\n",
    "                                        continue\n",
    "                        except AttributeError:\n",
    "                            continue\n",
    "\n",
    "            except AttributeError:\n",
    "                continue\n",
    "\n",
    "    all_the_lists = [StartTime, TotalTimeSeconds, DistanceMeters, MaximumSpeed, Calories, AvgSpeedList, posTime, Lat, Long, altTime, alt,dist]\n",
    "\n",
    "    return all_the_lists"
   ]
  },
  {
   "cell_type": "code",
   "execution_count": 9,
   "metadata": {
    "collapsed": false
   },
   "outputs": [],
   "source": [
    "path = \"2014.tcx\"\n",
    "parsed = objectify.parse(open(path))\n",
    "root = parsed.getroot()\n",
    "all_the_lists = extract_nodes(root)"
   ]
  },
  {
   "cell_type": "code",
   "execution_count": 10,
   "metadata": {
    "collapsed": false
   },
   "outputs": [
    {
     "name": "stdout",
     "output_type": "stream",
     "text": [
      "[523, 523, 523, 523, 523, 523, 12287, 12287, 12287, 12287, 12287, 12287]\n"
     ]
    }
   ],
   "source": [
    "print map(len, all_the_lists)"
   ]
  },
  {
   "cell_type": "code",
   "execution_count": 11,
   "metadata": {
    "collapsed": false
   },
   "outputs": [],
   "source": [
    "seriously = map(pandas.Series, all_the_lists)"
   ]
  },
  {
   "cell_type": "code",
   "execution_count": 12,
   "metadata": {
    "collapsed": false
   },
   "outputs": [
    {
     "data": {
      "text/plain": [
       "[dtype('O'),\n",
       " dtype('float64'),\n",
       " dtype('float64'),\n",
       " dtype('float64'),\n",
       " dtype('float64'),\n",
       " dtype('float64'),\n",
       " dtype('O'),\n",
       " dtype('float64'),\n",
       " dtype('float64'),\n",
       " dtype('O'),\n",
       " dtype('O'),\n",
       " dtype('O')]"
      ]
     },
     "execution_count": 12,
     "metadata": {},
     "output_type": "execute_result"
    }
   ],
   "source": [
    "[item.dtypes for item in seriously]"
   ]
  },
  {
   "cell_type": "code",
   "execution_count": 13,
   "metadata": {
    "collapsed": false
   },
   "outputs": [],
   "source": [
    "nummier = [item.convert_objects(convert_numeric=True) for item in seriously]"
   ]
  },
  {
   "cell_type": "code",
   "execution_count": 14,
   "metadata": {
    "collapsed": false
   },
   "outputs": [],
   "source": [
    "sigfigs = [item.round(4) if item.dtype =='float64' else item for item in nummier ]"
   ]
  },
  {
   "cell_type": "code",
   "execution_count": 15,
   "metadata": {
    "collapsed": false
   },
   "outputs": [
    {
     "data": {
      "text/plain": [
       "[dtype('O'),\n",
       " dtype('float64'),\n",
       " dtype('float64'),\n",
       " dtype('float64'),\n",
       " dtype('float64'),\n",
       " dtype('float64'),\n",
       " dtype('O'),\n",
       " dtype('float64'),\n",
       " dtype('float64'),\n",
       " dtype('O'),\n",
       " dtype('float64'),\n",
       " dtype('float64')]"
      ]
     },
     "execution_count": 15,
     "metadata": {},
     "output_type": "execute_result"
    }
   ],
   "source": [
    "[item.dtypes for item in sigfigs]"
   ]
  },
  {
   "cell_type": "code",
   "execution_count": 16,
   "metadata": {
    "collapsed": false
   },
   "outputs": [],
   "source": [
    "df= pandas.concat(sigfigs, axis=1)"
   ]
  },
  {
   "cell_type": "code",
   "execution_count": 36,
   "metadata": {
    "collapsed": false
   },
   "outputs": [
    {
     "data": {
      "text/plain": [
       "(12287, 12)"
      ]
     },
     "execution_count": 36,
     "metadata": {},
     "output_type": "execute_result"
    }
   ],
   "source": [
    "df.shape"
   ]
  },
  {
   "cell_type": "code",
   "execution_count": 17,
   "metadata": {
    "collapsed": false
   },
   "outputs": [
    {
     "data": {
      "text/html": [
       "<div style=\"max-height:1000px;max-width:1500px;overflow:auto;\">\n",
       "<table border=\"1\" class=\"dataframe\">\n",
       "  <thead>\n",
       "    <tr style=\"text-align: right;\">\n",
       "      <th></th>\n",
       "      <th>0</th>\n",
       "      <th>1</th>\n",
       "      <th>2</th>\n",
       "      <th>3</th>\n",
       "      <th>4</th>\n",
       "      <th>5</th>\n",
       "      <th>6</th>\n",
       "      <th>7</th>\n",
       "      <th>8</th>\n",
       "      <th>9</th>\n",
       "      <th>10</th>\n",
       "      <th>11</th>\n",
       "    </tr>\n",
       "  </thead>\n",
       "  <tbody>\n",
       "    <tr>\n",
       "      <th>0</th>\n",
       "      <td> 2014-02-07T14:41:03Z</td>\n",
       "      <td>  614.76</td>\n",
       "      <td>  4822.5229</td>\n",
       "      <td> 12.425</td>\n",
       "      <td> 275</td>\n",
       "      <td> 7.8446</td>\n",
       "      <td> 2014-10-16T14:48:11Z</td>\n",
       "      <td> 37.3943</td>\n",
       "      <td>-122.0769</td>\n",
       "      <td> 2014-10-16T14:48:11Z</td>\n",
       "      <td> 19.3638</td>\n",
       "      <td> 4780.8071</td>\n",
       "    </tr>\n",
       "    <tr>\n",
       "      <th>1</th>\n",
       "      <td> 2014-02-07T15:47:50Z</td>\n",
       "      <td> 1751.72</td>\n",
       "      <td> 14645.6211</td>\n",
       "      <td> 12.125</td>\n",
       "      <td> 569</td>\n",
       "      <td> 8.3607</td>\n",
       "      <td> 2014-10-16T14:48:12Z</td>\n",
       "      <td> 37.3943</td>\n",
       "      <td>-122.0771</td>\n",
       "      <td> 2014-10-16T14:48:12Z</td>\n",
       "      <td> 19.3638</td>\n",
       "      <td> 4791.6362</td>\n",
       "    </tr>\n",
       "    <tr>\n",
       "      <th>2</th>\n",
       "      <td> 2014-10-16T13:37:12Z</td>\n",
       "      <td>  629.12</td>\n",
       "      <td>  4780.8071</td>\n",
       "      <td> 12.490</td>\n",
       "      <td> 261</td>\n",
       "      <td> 7.5992</td>\n",
       "      <td> 2014-10-16T14:48:17Z</td>\n",
       "      <td> 37.3944</td>\n",
       "      <td>-122.0774</td>\n",
       "      <td> 2014-10-16T14:48:17Z</td>\n",
       "      <td> 19.8444</td>\n",
       "      <td> 4826.5288</td>\n",
       "    </tr>\n",
       "    <tr>\n",
       "      <th>3</th>\n",
       "      <td> 2014-10-16T14:48:11Z</td>\n",
       "      <td> 1594.29</td>\n",
       "      <td> 14645.1543</td>\n",
       "      <td> 14.130</td>\n",
       "      <td> 595</td>\n",
       "      <td> 9.1860</td>\n",
       "      <td> 2014-10-16T14:48:26Z</td>\n",
       "      <td> 37.3947</td>\n",
       "      <td>-122.0781</td>\n",
       "      <td> 2014-10-16T14:48:26Z</td>\n",
       "      <td> 19.8444</td>\n",
       "      <td> 4895.5474</td>\n",
       "    </tr>\n",
       "    <tr>\n",
       "      <th>4</th>\n",
       "      <td> 2014-09-16T23:23:18Z</td>\n",
       "      <td> 1629.11</td>\n",
       "      <td> 14082.7471</td>\n",
       "      <td> 12.798</td>\n",
       "      <td> 573</td>\n",
       "      <td> 8.6444</td>\n",
       "      <td> 2014-10-16T14:48:29Z</td>\n",
       "      <td> 37.3948</td>\n",
       "      <td>-122.0782</td>\n",
       "      <td> 2014-10-16T14:48:29Z</td>\n",
       "      <td> 19.8444</td>\n",
       "      <td> 4916.4795</td>\n",
       "    </tr>\n",
       "  </tbody>\n",
       "</table>\n",
       "</div>"
      ],
      "text/plain": [
       "                     0        1           2       3    4       5   \\\n",
       "0  2014-02-07T14:41:03Z   614.76   4822.5229  12.425  275  7.8446   \n",
       "1  2014-02-07T15:47:50Z  1751.72  14645.6211  12.125  569  8.3607   \n",
       "2  2014-10-16T13:37:12Z   629.12   4780.8071  12.490  261  7.5992   \n",
       "3  2014-10-16T14:48:11Z  1594.29  14645.1543  14.130  595  9.1860   \n",
       "4  2014-09-16T23:23:18Z  1629.11  14082.7471  12.798  573  8.6444   \n",
       "\n",
       "                     6        7         8                     9        10  \\\n",
       "0  2014-10-16T14:48:11Z  37.3943 -122.0769  2014-10-16T14:48:11Z  19.3638   \n",
       "1  2014-10-16T14:48:12Z  37.3943 -122.0771  2014-10-16T14:48:12Z  19.3638   \n",
       "2  2014-10-16T14:48:17Z  37.3944 -122.0774  2014-10-16T14:48:17Z  19.8444   \n",
       "3  2014-10-16T14:48:26Z  37.3947 -122.0781  2014-10-16T14:48:26Z  19.8444   \n",
       "4  2014-10-16T14:48:29Z  37.3948 -122.0782  2014-10-16T14:48:29Z  19.8444   \n",
       "\n",
       "          11  \n",
       "0  4780.8071  \n",
       "1  4791.6362  \n",
       "2  4826.5288  \n",
       "3  4895.5474  \n",
       "4  4916.4795  "
      ]
     },
     "execution_count": 17,
     "metadata": {},
     "output_type": "execute_result"
    }
   ],
   "source": [
    "df.head()"
   ]
  },
  {
   "cell_type": "code",
   "execution_count": 18,
   "metadata": {
    "collapsed": false
   },
   "outputs": [],
   "source": [
    "df.columns = ['StartTime', 'TotalTimeSeconds', 'TotalDistanceMeters', 'MaximumSpeed', 'Calories', 'AvgSpeed', 'posTime', 'Lat', 'Long', 'altTime', 'Altitude','DistanceMeters']"
   ]
  },
  {
   "cell_type": "code",
   "execution_count": 19,
   "metadata": {
    "collapsed": false
   },
   "outputs": [
    {
     "data": {
      "text/html": [
       "<div style=\"max-height:1000px;max-width:1500px;overflow:auto;\">\n",
       "<table border=\"1\" class=\"dataframe\">\n",
       "  <thead>\n",
       "    <tr style=\"text-align: right;\">\n",
       "      <th></th>\n",
       "      <th>StartTime</th>\n",
       "      <th>TotalTimeSeconds</th>\n",
       "      <th>TotalDistanceMeters</th>\n",
       "      <th>MaximumSpeed</th>\n",
       "      <th>Calories</th>\n",
       "      <th>AvgSpeed</th>\n",
       "      <th>posTime</th>\n",
       "      <th>Lat</th>\n",
       "      <th>Long</th>\n",
       "      <th>altTime</th>\n",
       "      <th>Altitude</th>\n",
       "      <th>DistanceMeters</th>\n",
       "    </tr>\n",
       "  </thead>\n",
       "  <tbody>\n",
       "    <tr>\n",
       "      <th>0</th>\n",
       "      <td> 2014-02-07T14:41:03Z</td>\n",
       "      <td>  614.76</td>\n",
       "      <td>  4822.5229</td>\n",
       "      <td> 12.425</td>\n",
       "      <td> 275</td>\n",
       "      <td> 7.8446</td>\n",
       "      <td> 2014-10-16T14:48:11Z</td>\n",
       "      <td> 37.3943</td>\n",
       "      <td>-122.0769</td>\n",
       "      <td> 2014-10-16T14:48:11Z</td>\n",
       "      <td> 19.3638</td>\n",
       "      <td> 4780.8071</td>\n",
       "    </tr>\n",
       "    <tr>\n",
       "      <th>1</th>\n",
       "      <td> 2014-02-07T15:47:50Z</td>\n",
       "      <td> 1751.72</td>\n",
       "      <td> 14645.6211</td>\n",
       "      <td> 12.125</td>\n",
       "      <td> 569</td>\n",
       "      <td> 8.3607</td>\n",
       "      <td> 2014-10-16T14:48:12Z</td>\n",
       "      <td> 37.3943</td>\n",
       "      <td>-122.0771</td>\n",
       "      <td> 2014-10-16T14:48:12Z</td>\n",
       "      <td> 19.3638</td>\n",
       "      <td> 4791.6362</td>\n",
       "    </tr>\n",
       "    <tr>\n",
       "      <th>2</th>\n",
       "      <td> 2014-10-16T13:37:12Z</td>\n",
       "      <td>  629.12</td>\n",
       "      <td>  4780.8071</td>\n",
       "      <td> 12.490</td>\n",
       "      <td> 261</td>\n",
       "      <td> 7.5992</td>\n",
       "      <td> 2014-10-16T14:48:17Z</td>\n",
       "      <td> 37.3944</td>\n",
       "      <td>-122.0774</td>\n",
       "      <td> 2014-10-16T14:48:17Z</td>\n",
       "      <td> 19.8444</td>\n",
       "      <td> 4826.5288</td>\n",
       "    </tr>\n",
       "    <tr>\n",
       "      <th>3</th>\n",
       "      <td> 2014-10-16T14:48:11Z</td>\n",
       "      <td> 1594.29</td>\n",
       "      <td> 14645.1543</td>\n",
       "      <td> 14.130</td>\n",
       "      <td> 595</td>\n",
       "      <td> 9.1860</td>\n",
       "      <td> 2014-10-16T14:48:26Z</td>\n",
       "      <td> 37.3947</td>\n",
       "      <td>-122.0781</td>\n",
       "      <td> 2014-10-16T14:48:26Z</td>\n",
       "      <td> 19.8444</td>\n",
       "      <td> 4895.5474</td>\n",
       "    </tr>\n",
       "    <tr>\n",
       "      <th>4</th>\n",
       "      <td> 2014-09-16T23:23:18Z</td>\n",
       "      <td> 1629.11</td>\n",
       "      <td> 14082.7471</td>\n",
       "      <td> 12.798</td>\n",
       "      <td> 573</td>\n",
       "      <td> 8.6444</td>\n",
       "      <td> 2014-10-16T14:48:29Z</td>\n",
       "      <td> 37.3948</td>\n",
       "      <td>-122.0782</td>\n",
       "      <td> 2014-10-16T14:48:29Z</td>\n",
       "      <td> 19.8444</td>\n",
       "      <td> 4916.4795</td>\n",
       "    </tr>\n",
       "  </tbody>\n",
       "</table>\n",
       "</div>"
      ],
      "text/plain": [
       "              StartTime  TotalTimeSeconds  TotalDistanceMeters  MaximumSpeed  \\\n",
       "0  2014-02-07T14:41:03Z            614.76            4822.5229        12.425   \n",
       "1  2014-02-07T15:47:50Z           1751.72           14645.6211        12.125   \n",
       "2  2014-10-16T13:37:12Z            629.12            4780.8071        12.490   \n",
       "3  2014-10-16T14:48:11Z           1594.29           14645.1543        14.130   \n",
       "4  2014-09-16T23:23:18Z           1629.11           14082.7471        12.798   \n",
       "\n",
       "   Calories  AvgSpeed               posTime      Lat      Long  \\\n",
       "0       275    7.8446  2014-10-16T14:48:11Z  37.3943 -122.0769   \n",
       "1       569    8.3607  2014-10-16T14:48:12Z  37.3943 -122.0771   \n",
       "2       261    7.5992  2014-10-16T14:48:17Z  37.3944 -122.0774   \n",
       "3       595    9.1860  2014-10-16T14:48:26Z  37.3947 -122.0781   \n",
       "4       573    8.6444  2014-10-16T14:48:29Z  37.3948 -122.0782   \n",
       "\n",
       "                altTime  Altitude  DistanceMeters  \n",
       "0  2014-10-16T14:48:11Z   19.3638       4780.8071  \n",
       "1  2014-10-16T14:48:12Z   19.3638       4791.6362  \n",
       "2  2014-10-16T14:48:17Z   19.8444       4826.5288  \n",
       "3  2014-10-16T14:48:26Z   19.8444       4895.5474  \n",
       "4  2014-10-16T14:48:29Z   19.8444       4916.4795  "
      ]
     },
     "execution_count": 19,
     "metadata": {},
     "output_type": "execute_result"
    }
   ],
   "source": [
    "df.head()"
   ]
  },
  {
   "cell_type": "code",
   "execution_count": 20,
   "metadata": {
    "collapsed": false
   },
   "outputs": [],
   "source": [
    "#will have to match up StartTime with posTime and altTime, sort and filter accordingly.\n",
    "#actually makes more sense to make them separate, check to make sure totals match, and then join back together later. \n",
    "#want to split without just making a view"
   ]
  },
  {
   "cell_type": "code",
   "execution_count": 38,
   "metadata": {
    "collapsed": false
   },
   "outputs": [],
   "source": [
    "df.to_csv(\"2014_df_unsorted.csv\",index_col=0)"
   ]
  },
  {
   "cell_type": "code",
   "execution_count": 21,
   "metadata": {
    "collapsed": false
   },
   "outputs": [],
   "source": [
    "ts = df.loc[:,['posTime','Lat', 'Long','altTime', 'Altitude', 'DistanceMeters']]"
   ]
  },
  {
   "cell_type": "code",
   "execution_count": 22,
   "metadata": {
    "collapsed": false
   },
   "outputs": [
    {
     "data": {
      "text/html": [
       "<div style=\"max-height:1000px;max-width:1500px;overflow:auto;\">\n",
       "<table border=\"1\" class=\"dataframe\">\n",
       "  <thead>\n",
       "    <tr style=\"text-align: right;\">\n",
       "      <th></th>\n",
       "      <th>posTime</th>\n",
       "      <th>Lat</th>\n",
       "      <th>Long</th>\n",
       "      <th>altTime</th>\n",
       "      <th>Altitude</th>\n",
       "      <th>DistanceMeters</th>\n",
       "    </tr>\n",
       "  </thead>\n",
       "  <tbody>\n",
       "    <tr>\n",
       "      <th>0</th>\n",
       "      <td> 2014-10-16T14:48:11Z</td>\n",
       "      <td> 37.3943</td>\n",
       "      <td>-122.0769</td>\n",
       "      <td> 2014-10-16T14:48:11Z</td>\n",
       "      <td> 19.3638</td>\n",
       "      <td> 4780.8071</td>\n",
       "    </tr>\n",
       "    <tr>\n",
       "      <th>1</th>\n",
       "      <td> 2014-10-16T14:48:12Z</td>\n",
       "      <td> 37.3943</td>\n",
       "      <td>-122.0771</td>\n",
       "      <td> 2014-10-16T14:48:12Z</td>\n",
       "      <td> 19.3638</td>\n",
       "      <td> 4791.6362</td>\n",
       "    </tr>\n",
       "    <tr>\n",
       "      <th>2</th>\n",
       "      <td> 2014-10-16T14:48:17Z</td>\n",
       "      <td> 37.3944</td>\n",
       "      <td>-122.0774</td>\n",
       "      <td> 2014-10-16T14:48:17Z</td>\n",
       "      <td> 19.8444</td>\n",
       "      <td> 4826.5288</td>\n",
       "    </tr>\n",
       "    <tr>\n",
       "      <th>3</th>\n",
       "      <td> 2014-10-16T14:48:26Z</td>\n",
       "      <td> 37.3947</td>\n",
       "      <td>-122.0781</td>\n",
       "      <td> 2014-10-16T14:48:26Z</td>\n",
       "      <td> 19.8444</td>\n",
       "      <td> 4895.5474</td>\n",
       "    </tr>\n",
       "    <tr>\n",
       "      <th>4</th>\n",
       "      <td> 2014-10-16T14:48:29Z</td>\n",
       "      <td> 37.3948</td>\n",
       "      <td>-122.0782</td>\n",
       "      <td> 2014-10-16T14:48:29Z</td>\n",
       "      <td> 19.8444</td>\n",
       "      <td> 4916.4795</td>\n",
       "    </tr>\n",
       "  </tbody>\n",
       "</table>\n",
       "</div>"
      ],
      "text/plain": [
       "                posTime      Lat      Long               altTime  Altitude  \\\n",
       "0  2014-10-16T14:48:11Z  37.3943 -122.0769  2014-10-16T14:48:11Z   19.3638   \n",
       "1  2014-10-16T14:48:12Z  37.3943 -122.0771  2014-10-16T14:48:12Z   19.3638   \n",
       "2  2014-10-16T14:48:17Z  37.3944 -122.0774  2014-10-16T14:48:17Z   19.8444   \n",
       "3  2014-10-16T14:48:26Z  37.3947 -122.0781  2014-10-16T14:48:26Z   19.8444   \n",
       "4  2014-10-16T14:48:29Z  37.3948 -122.0782  2014-10-16T14:48:29Z   19.8444   \n",
       "\n",
       "   DistanceMeters  \n",
       "0       4780.8071  \n",
       "1       4791.6362  \n",
       "2       4826.5288  \n",
       "3       4895.5474  \n",
       "4       4916.4795  "
      ]
     },
     "execution_count": 22,
     "metadata": {},
     "output_type": "execute_result"
    }
   ],
   "source": [
    "ts.head()"
   ]
  },
  {
   "cell_type": "code",
   "execution_count": 23,
   "metadata": {
    "collapsed": false
   },
   "outputs": [],
   "source": [
    "#have to convert datetimes to the right timezone - maybe make this a reusable utility ! "
   ]
  },
  {
   "cell_type": "code",
   "execution_count": 24,
   "metadata": {
    "collapsed": false
   },
   "outputs": [],
   "source": [
    "ts['posTime']=[parse(x) for x in ts['posTime']]"
   ]
  },
  {
   "cell_type": "code",
   "execution_count": 25,
   "metadata": {
    "collapsed": false
   },
   "outputs": [],
   "source": [
    "ts['altTime']=[parse(x) for x in ts['altTime']]"
   ]
  },
  {
   "cell_type": "code",
   "execution_count": 26,
   "metadata": {
    "collapsed": false
   },
   "outputs": [],
   "source": [
    "ts['posTime']=[x.astimezone(pytz.timezone('US/Pacific')) for x in ts['posTime']]"
   ]
  },
  {
   "cell_type": "code",
   "execution_count": 27,
   "metadata": {
    "collapsed": false
   },
   "outputs": [],
   "source": [
    "ts['altTime']=[x.astimezone(pytz.timezone('US/Pacific')) for x in ts['altTime']]"
   ]
  },
  {
   "cell_type": "code",
   "execution_count": 71,
   "metadata": {
    "collapsed": false
   },
   "outputs": [],
   "source": [
    "#would be nice to have a way to do that to 2 columns at a time...!"
   ]
  },
  {
   "cell_type": "code",
   "execution_count": 28,
   "metadata": {
    "collapsed": false
   },
   "outputs": [
    {
     "data": {
      "text/html": [
       "<div style=\"max-height:1000px;max-width:1500px;overflow:auto;\">\n",
       "<table border=\"1\" class=\"dataframe\">\n",
       "  <thead>\n",
       "    <tr style=\"text-align: right;\">\n",
       "      <th></th>\n",
       "      <th>posTime</th>\n",
       "      <th>Lat</th>\n",
       "      <th>Long</th>\n",
       "      <th>altTime</th>\n",
       "      <th>Altitude</th>\n",
       "      <th>DistanceMeters</th>\n",
       "    </tr>\n",
       "  </thead>\n",
       "  <tbody>\n",
       "    <tr>\n",
       "      <th>0</th>\n",
       "      <td> 2014-10-16 07:48:11-07:00</td>\n",
       "      <td> 37.3943</td>\n",
       "      <td>-122.0769</td>\n",
       "      <td> 2014-10-16 07:48:11-07:00</td>\n",
       "      <td> 19.3638</td>\n",
       "      <td> 4780.8071</td>\n",
       "    </tr>\n",
       "    <tr>\n",
       "      <th>1</th>\n",
       "      <td> 2014-10-16 07:48:12-07:00</td>\n",
       "      <td> 37.3943</td>\n",
       "      <td>-122.0771</td>\n",
       "      <td> 2014-10-16 07:48:12-07:00</td>\n",
       "      <td> 19.3638</td>\n",
       "      <td> 4791.6362</td>\n",
       "    </tr>\n",
       "    <tr>\n",
       "      <th>2</th>\n",
       "      <td> 2014-10-16 07:48:17-07:00</td>\n",
       "      <td> 37.3944</td>\n",
       "      <td>-122.0774</td>\n",
       "      <td> 2014-10-16 07:48:17-07:00</td>\n",
       "      <td> 19.8444</td>\n",
       "      <td> 4826.5288</td>\n",
       "    </tr>\n",
       "    <tr>\n",
       "      <th>3</th>\n",
       "      <td> 2014-10-16 07:48:26-07:00</td>\n",
       "      <td> 37.3947</td>\n",
       "      <td>-122.0781</td>\n",
       "      <td> 2014-10-16 07:48:26-07:00</td>\n",
       "      <td> 19.8444</td>\n",
       "      <td> 4895.5474</td>\n",
       "    </tr>\n",
       "    <tr>\n",
       "      <th>4</th>\n",
       "      <td> 2014-10-16 07:48:29-07:00</td>\n",
       "      <td> 37.3948</td>\n",
       "      <td>-122.0782</td>\n",
       "      <td> 2014-10-16 07:48:29-07:00</td>\n",
       "      <td> 19.8444</td>\n",
       "      <td> 4916.4795</td>\n",
       "    </tr>\n",
       "  </tbody>\n",
       "</table>\n",
       "</div>"
      ],
      "text/plain": [
       "                     posTime      Lat      Long                    altTime  \\\n",
       "0  2014-10-16 07:48:11-07:00  37.3943 -122.0769  2014-10-16 07:48:11-07:00   \n",
       "1  2014-10-16 07:48:12-07:00  37.3943 -122.0771  2014-10-16 07:48:12-07:00   \n",
       "2  2014-10-16 07:48:17-07:00  37.3944 -122.0774  2014-10-16 07:48:17-07:00   \n",
       "3  2014-10-16 07:48:26-07:00  37.3947 -122.0781  2014-10-16 07:48:26-07:00   \n",
       "4  2014-10-16 07:48:29-07:00  37.3948 -122.0782  2014-10-16 07:48:29-07:00   \n",
       "\n",
       "   Altitude  DistanceMeters  \n",
       "0   19.3638       4780.8071  \n",
       "1   19.3638       4791.6362  \n",
       "2   19.8444       4826.5288  \n",
       "3   19.8444       4895.5474  \n",
       "4   19.8444       4916.4795  "
      ]
     },
     "execution_count": 28,
     "metadata": {},
     "output_type": "execute_result"
    }
   ],
   "source": [
    "ts.head()"
   ]
  },
  {
   "cell_type": "code",
   "execution_count": 29,
   "metadata": {
    "collapsed": false
   },
   "outputs": [],
   "source": [
    "#want to group by day, maybe? "
   ]
  },
  {
   "cell_type": "code",
   "execution_count": 30,
   "metadata": {
    "collapsed": false
   },
   "outputs": [],
   "source": [
    "#test whether posTime and altTime are identical\n",
    "ident = ts['posTime']==ts['altTime']"
   ]
  },
  {
   "cell_type": "code",
   "execution_count": 31,
   "metadata": {
    "collapsed": false
   },
   "outputs": [
    {
     "data": {
      "text/plain": [
       "[]"
      ]
     },
     "execution_count": 31,
     "metadata": {},
     "output_type": "execute_result"
    }
   ],
   "source": [
    "[\"no\" for item in ident if item==False]"
   ]
  },
  {
   "cell_type": "code",
   "execution_count": 81,
   "metadata": {
    "collapsed": false
   },
   "outputs": [],
   "source": [
    "#['Yes' for item in ident if item==True] #just a test to confirm line above gives the right result"
   ]
  },
  {
   "cell_type": "code",
   "execution_count": 32,
   "metadata": {
    "collapsed": false
   },
   "outputs": [],
   "source": [
    "ts['weekday']=[item.weekday() for item in ts.posTime]"
   ]
  },
  {
   "cell_type": "code",
   "execution_count": 39,
   "metadata": {
    "collapsed": false
   },
   "outputs": [
    {
     "data": {
      "text/html": [
       "<div style=\"max-height:1000px;max-width:1500px;overflow:auto;\">\n",
       "<table border=\"1\" class=\"dataframe\">\n",
       "  <thead>\n",
       "    <tr style=\"text-align: right;\">\n",
       "      <th></th>\n",
       "      <th>posTime</th>\n",
       "      <th>Lat</th>\n",
       "      <th>Long</th>\n",
       "      <th>altTime</th>\n",
       "      <th>Altitude</th>\n",
       "      <th>DistanceMeters</th>\n",
       "      <th>weekday</th>\n",
       "    </tr>\n",
       "  </thead>\n",
       "  <tbody>\n",
       "    <tr>\n",
       "      <th>0</th>\n",
       "      <td> 2014-10-16 07:48:11-07:00</td>\n",
       "      <td> 37.3943</td>\n",
       "      <td>-122.0769</td>\n",
       "      <td> 2014-10-16 07:48:11-07:00</td>\n",
       "      <td> 19.3638</td>\n",
       "      <td> 4780.8071</td>\n",
       "      <td> 3</td>\n",
       "    </tr>\n",
       "    <tr>\n",
       "      <th>1</th>\n",
       "      <td> 2014-10-16 07:48:12-07:00</td>\n",
       "      <td> 37.3943</td>\n",
       "      <td>-122.0771</td>\n",
       "      <td> 2014-10-16 07:48:12-07:00</td>\n",
       "      <td> 19.3638</td>\n",
       "      <td> 4791.6362</td>\n",
       "      <td> 3</td>\n",
       "    </tr>\n",
       "    <tr>\n",
       "      <th>2</th>\n",
       "      <td> 2014-10-16 07:48:17-07:00</td>\n",
       "      <td> 37.3944</td>\n",
       "      <td>-122.0774</td>\n",
       "      <td> 2014-10-16 07:48:17-07:00</td>\n",
       "      <td> 19.8444</td>\n",
       "      <td> 4826.5288</td>\n",
       "      <td> 3</td>\n",
       "    </tr>\n",
       "    <tr>\n",
       "      <th>3</th>\n",
       "      <td> 2014-10-16 07:48:26-07:00</td>\n",
       "      <td> 37.3947</td>\n",
       "      <td>-122.0781</td>\n",
       "      <td> 2014-10-16 07:48:26-07:00</td>\n",
       "      <td> 19.8444</td>\n",
       "      <td> 4895.5474</td>\n",
       "      <td> 3</td>\n",
       "    </tr>\n",
       "    <tr>\n",
       "      <th>4</th>\n",
       "      <td> 2014-10-16 07:48:29-07:00</td>\n",
       "      <td> 37.3948</td>\n",
       "      <td>-122.0782</td>\n",
       "      <td> 2014-10-16 07:48:29-07:00</td>\n",
       "      <td> 19.8444</td>\n",
       "      <td> 4916.4795</td>\n",
       "      <td> 3</td>\n",
       "    </tr>\n",
       "  </tbody>\n",
       "</table>\n",
       "</div>"
      ],
      "text/plain": [
       "                     posTime      Lat      Long                    altTime  \\\n",
       "0  2014-10-16 07:48:11-07:00  37.3943 -122.0769  2014-10-16 07:48:11-07:00   \n",
       "1  2014-10-16 07:48:12-07:00  37.3943 -122.0771  2014-10-16 07:48:12-07:00   \n",
       "2  2014-10-16 07:48:17-07:00  37.3944 -122.0774  2014-10-16 07:48:17-07:00   \n",
       "3  2014-10-16 07:48:26-07:00  37.3947 -122.0781  2014-10-16 07:48:26-07:00   \n",
       "4  2014-10-16 07:48:29-07:00  37.3948 -122.0782  2014-10-16 07:48:29-07:00   \n",
       "\n",
       "   Altitude  DistanceMeters  weekday  \n",
       "0   19.3638       4780.8071        3  \n",
       "1   19.3638       4791.6362        3  \n",
       "2   19.8444       4826.5288        3  \n",
       "3   19.8444       4895.5474        3  \n",
       "4   19.8444       4916.4795        3  "
      ]
     },
     "execution_count": 39,
     "metadata": {},
     "output_type": "execute_result"
    }
   ],
   "source": [
    "ts.head()"
   ]
  },
  {
   "cell_type": "code",
   "execution_count": 40,
   "metadata": {
    "collapsed": true
   },
   "outputs": [],
   "source": [
    "ts.to_csv(\"2014_ts.csv\",index_col=0)"
   ]
  },
  {
   "cell_type": "code",
   "execution_count": 33,
   "metadata": {
    "collapsed": false
   },
   "outputs": [],
   "source": [
    "daily = ts.groupby('weekday')"
   ]
  },
  {
   "cell_type": "code",
   "execution_count": 34,
   "metadata": {
    "collapsed": false
   },
   "outputs": [
    {
     "data": {
      "text/html": [
       "<div style=\"max-height:1000px;max-width:1500px;overflow:auto;\">\n",
       "<table border=\"1\" class=\"dataframe\">\n",
       "  <thead>\n",
       "    <tr style=\"text-align: right;\">\n",
       "      <th></th>\n",
       "      <th></th>\n",
       "      <th>Altitude</th>\n",
       "      <th>DistanceMeters</th>\n",
       "      <th>Lat</th>\n",
       "      <th>Long</th>\n",
       "    </tr>\n",
       "    <tr>\n",
       "      <th>weekday</th>\n",
       "      <th></th>\n",
       "      <th></th>\n",
       "      <th></th>\n",
       "      <th></th>\n",
       "      <th></th>\n",
       "    </tr>\n",
       "  </thead>\n",
       "  <tbody>\n",
       "    <tr>\n",
       "      <th rowspan=\"8\" valign=\"top\">0</th>\n",
       "      <th>count</th>\n",
       "      <td> 2119.000000</td>\n",
       "      <td>  2119.000000</td>\n",
       "      <td> 2119.000000</td>\n",
       "      <td> 2119.000000</td>\n",
       "    </tr>\n",
       "    <tr>\n",
       "      <th>mean</th>\n",
       "      <td>   21.973189</td>\n",
       "      <td>  7228.883185</td>\n",
       "      <td>   37.513257</td>\n",
       "      <td> -122.148099</td>\n",
       "    </tr>\n",
       "    <tr>\n",
       "      <th>std</th>\n",
       "      <td>   16.485939</td>\n",
       "      <td>  5127.249537</td>\n",
       "      <td>    0.178643</td>\n",
       "      <td>    0.186464</td>\n",
       "    </tr>\n",
       "    <tr>\n",
       "      <th>min</th>\n",
       "      <td>  -15.243700</td>\n",
       "      <td>     0.000000</td>\n",
       "      <td>   37.374600</td>\n",
       "      <td> -122.433100</td>\n",
       "    </tr>\n",
       "    <tr>\n",
       "      <th>25%</th>\n",
       "      <td>   10.711800</td>\n",
       "      <td>  1998.694000</td>\n",
       "      <td>   37.385650</td>\n",
       "      <td> -122.391700</td>\n",
       "    </tr>\n",
       "    <tr>\n",
       "      <th>50%</th>\n",
       "      <td>   19.844400</td>\n",
       "      <td>  6547.623000</td>\n",
       "      <td>   37.394400</td>\n",
       "      <td> -122.060500</td>\n",
       "    </tr>\n",
       "    <tr>\n",
       "      <th>75%</th>\n",
       "      <td>   30.899500</td>\n",
       "      <td> 11840.889650</td>\n",
       "      <td>   37.760900</td>\n",
       "      <td> -122.003500</td>\n",
       "    </tr>\n",
       "    <tr>\n",
       "      <th>max</th>\n",
       "      <td>   54.451800</td>\n",
       "      <td> 16621.033200</td>\n",
       "      <td>   37.778700</td>\n",
       "      <td> -121.950400</td>\n",
       "    </tr>\n",
       "    <tr>\n",
       "      <th rowspan=\"8\" valign=\"top\">1</th>\n",
       "      <th>count</th>\n",
       "      <td> 3142.000000</td>\n",
       "      <td>  3142.000000</td>\n",
       "      <td> 3142.000000</td>\n",
       "      <td> 3142.000000</td>\n",
       "    </tr>\n",
       "    <tr>\n",
       "      <th>mean</th>\n",
       "      <td>   19.836098</td>\n",
       "      <td>  6810.421778</td>\n",
       "      <td>   37.494161</td>\n",
       "      <td> -122.130365</td>\n",
       "    </tr>\n",
       "    <tr>\n",
       "      <th>std</th>\n",
       "      <td>    9.074371</td>\n",
       "      <td>  4698.481629</td>\n",
       "      <td>    0.171915</td>\n",
       "      <td>    0.179832</td>\n",
       "    </tr>\n",
       "    <tr>\n",
       "      <th>min</th>\n",
       "      <td>   -5.149900</td>\n",
       "      <td>     0.000000</td>\n",
       "      <td>   37.374600</td>\n",
       "      <td> -122.433400</td>\n",
       "    </tr>\n",
       "    <tr>\n",
       "      <th>25%</th>\n",
       "      <td>   13.115100</td>\n",
       "      <td>  2058.318975</td>\n",
       "      <td>   37.382825</td>\n",
       "      <td> -122.391500</td>\n",
       "    </tr>\n",
       "    <tr>\n",
       "      <th>50%</th>\n",
       "      <td>   18.883100</td>\n",
       "      <td>  6352.022000</td>\n",
       "      <td>   37.391500</td>\n",
       "      <td> -122.050100</td>\n",
       "    </tr>\n",
       "    <tr>\n",
       "      <th>75%</th>\n",
       "      <td>   26.092900</td>\n",
       "      <td> 10634.279050</td>\n",
       "      <td>   37.758875</td>\n",
       "      <td> -122.001525</td>\n",
       "    </tr>\n",
       "    <tr>\n",
       "      <th>max</th>\n",
       "      <td>   50.126000</td>\n",
       "      <td> 15592.120100</td>\n",
       "      <td>   37.778600</td>\n",
       "      <td> -121.950600</td>\n",
       "    </tr>\n",
       "    <tr>\n",
       "      <th rowspan=\"8\" valign=\"top\">2</th>\n",
       "      <th>count</th>\n",
       "      <td> 2261.000000</td>\n",
       "      <td>  2261.000000</td>\n",
       "      <td> 2261.000000</td>\n",
       "      <td> 2261.000000</td>\n",
       "    </tr>\n",
       "    <tr>\n",
       "      <th>mean</th>\n",
       "      <td>   21.753181</td>\n",
       "      <td>  7840.630873</td>\n",
       "      <td>   37.469225</td>\n",
       "      <td> -122.098310</td>\n",
       "    </tr>\n",
       "    <tr>\n",
       "      <th>std</th>\n",
       "      <td>   16.440591</td>\n",
       "      <td>  5139.973861</td>\n",
       "      <td>    0.156795</td>\n",
       "      <td>    0.165662</td>\n",
       "    </tr>\n",
       "    <tr>\n",
       "      <th>min</th>\n",
       "      <td>  -11.879200</td>\n",
       "      <td>     0.000000</td>\n",
       "      <td>   37.373400</td>\n",
       "      <td> -122.433400</td>\n",
       "    </tr>\n",
       "    <tr>\n",
       "      <th>25%</th>\n",
       "      <td>   10.231200</td>\n",
       "      <td>  3383.466600</td>\n",
       "      <td>   37.382900</td>\n",
       "      <td> -122.077600</td>\n",
       "    </tr>\n",
       "    <tr>\n",
       "      <th>50%</th>\n",
       "      <td>   20.805700</td>\n",
       "      <td>  7187.048300</td>\n",
       "      <td>   37.390100</td>\n",
       "      <td> -122.044000</td>\n",
       "    </tr>\n",
       "    <tr>\n",
       "      <th>75%</th>\n",
       "      <td>   29.457500</td>\n",
       "      <td> 12662.295900</td>\n",
       "      <td>   37.395900</td>\n",
       "      <td> -121.969700</td>\n",
       "    </tr>\n",
       "    <tr>\n",
       "      <th>max</th>\n",
       "      <td>   53.490500</td>\n",
       "      <td> 17944.203100</td>\n",
       "      <td>   37.778600</td>\n",
       "      <td> -121.950300</td>\n",
       "    </tr>\n",
       "    <tr>\n",
       "      <th rowspan=\"8\" valign=\"top\">3</th>\n",
       "      <th>count</th>\n",
       "      <td> 2630.000000</td>\n",
       "      <td>  2630.000000</td>\n",
       "      <td> 2630.000000</td>\n",
       "      <td> 2630.000000</td>\n",
       "    </tr>\n",
       "    <tr>\n",
       "      <th>mean</th>\n",
       "      <td>   16.356567</td>\n",
       "      <td> 10363.626709</td>\n",
       "      <td>   37.426075</td>\n",
       "      <td> -122.044358</td>\n",
       "    </tr>\n",
       "    <tr>\n",
       "      <th>std</th>\n",
       "      <td>    8.884694</td>\n",
       "      <td>  5429.846219</td>\n",
       "      <td>    0.119263</td>\n",
       "      <td>    0.130741</td>\n",
       "    </tr>\n",
       "    <tr>\n",
       "      <th>min</th>\n",
       "      <td>    2.060100</td>\n",
       "      <td>   129.355900</td>\n",
       "      <td>   37.373400</td>\n",
       "      <td> -122.428500</td>\n",
       "    </tr>\n",
       "    <tr>\n",
       "      <th>25%</th>\n",
       "      <td>   10.711800</td>\n",
       "      <td>  6041.589375</td>\n",
       "      <td>   37.377700</td>\n",
       "      <td> -122.049500</td>\n",
       "    </tr>\n",
       "    <tr>\n",
       "      <th>50%</th>\n",
       "      <td>   14.557000</td>\n",
       "      <td> 10658.839800</td>\n",
       "      <td>   37.385800</td>\n",
       "      <td> -121.999800</td>\n",
       "    </tr>\n",
       "    <tr>\n",
       "      <th>75%</th>\n",
       "      <td>   21.286400</td>\n",
       "      <td> 14965.998250</td>\n",
       "      <td>   37.394300</td>\n",
       "      <td> -121.968800</td>\n",
       "    </tr>\n",
       "    <tr>\n",
       "      <th>max</th>\n",
       "      <td>   51.567900</td>\n",
       "      <td> 19425.960900</td>\n",
       "      <td>   37.778900</td>\n",
       "      <td> -121.950400</td>\n",
       "    </tr>\n",
       "    <tr>\n",
       "      <th rowspan=\"8\" valign=\"top\">4</th>\n",
       "      <th>count</th>\n",
       "      <td> 2135.000000</td>\n",
       "      <td>  2135.000000</td>\n",
       "      <td> 2135.000000</td>\n",
       "      <td> 2135.000000</td>\n",
       "    </tr>\n",
       "    <tr>\n",
       "      <th>mean</th>\n",
       "      <td>   14.367773</td>\n",
       "      <td>  9924.902202</td>\n",
       "      <td>   37.468817</td>\n",
       "      <td> -122.097581</td>\n",
       "    </tr>\n",
       "    <tr>\n",
       "      <th>std</th>\n",
       "      <td>    9.039924</td>\n",
       "      <td>  6618.133557</td>\n",
       "      <td>    0.156138</td>\n",
       "      <td>    0.165199</td>\n",
       "    </tr>\n",
       "    <tr>\n",
       "      <th>min</th>\n",
       "      <td>   -8.514600</td>\n",
       "      <td>   230.290200</td>\n",
       "      <td>   37.373400</td>\n",
       "      <td> -122.430600</td>\n",
       "    </tr>\n",
       "    <tr>\n",
       "      <th>25%</th>\n",
       "      <td>    7.827900</td>\n",
       "      <td>  5047.648900</td>\n",
       "      <td>   37.382000</td>\n",
       "      <td> -122.077700</td>\n",
       "    </tr>\n",
       "    <tr>\n",
       "      <th>50%</th>\n",
       "      <td>   15.037700</td>\n",
       "      <td>  9054.567400</td>\n",
       "      <td>   37.390200</td>\n",
       "      <td> -122.039400</td>\n",
       "    </tr>\n",
       "    <tr>\n",
       "      <th>75%</th>\n",
       "      <td>   21.767000</td>\n",
       "      <td> 14484.263700</td>\n",
       "      <td>   37.396000</td>\n",
       "      <td> -121.976100</td>\n",
       "    </tr>\n",
       "    <tr>\n",
       "      <th>max</th>\n",
       "      <td>   31.860700</td>\n",
       "      <td> 28266.460900</td>\n",
       "      <td>   37.776600</td>\n",
       "      <td> -121.950500</td>\n",
       "    </tr>\n",
       "  </tbody>\n",
       "</table>\n",
       "</div>"
      ],
      "text/plain": [
       "                  Altitude  DistanceMeters          Lat         Long\n",
       "weekday                                                             \n",
       "0       count  2119.000000     2119.000000  2119.000000  2119.000000\n",
       "        mean     21.973189     7228.883185    37.513257  -122.148099\n",
       "        std      16.485939     5127.249537     0.178643     0.186464\n",
       "        min     -15.243700        0.000000    37.374600  -122.433100\n",
       "        25%      10.711800     1998.694000    37.385650  -122.391700\n",
       "        50%      19.844400     6547.623000    37.394400  -122.060500\n",
       "        75%      30.899500    11840.889650    37.760900  -122.003500\n",
       "        max      54.451800    16621.033200    37.778700  -121.950400\n",
       "1       count  3142.000000     3142.000000  3142.000000  3142.000000\n",
       "        mean     19.836098     6810.421778    37.494161  -122.130365\n",
       "        std       9.074371     4698.481629     0.171915     0.179832\n",
       "        min      -5.149900        0.000000    37.374600  -122.433400\n",
       "        25%      13.115100     2058.318975    37.382825  -122.391500\n",
       "        50%      18.883100     6352.022000    37.391500  -122.050100\n",
       "        75%      26.092900    10634.279050    37.758875  -122.001525\n",
       "        max      50.126000    15592.120100    37.778600  -121.950600\n",
       "2       count  2261.000000     2261.000000  2261.000000  2261.000000\n",
       "        mean     21.753181     7840.630873    37.469225  -122.098310\n",
       "        std      16.440591     5139.973861     0.156795     0.165662\n",
       "        min     -11.879200        0.000000    37.373400  -122.433400\n",
       "        25%      10.231200     3383.466600    37.382900  -122.077600\n",
       "        50%      20.805700     7187.048300    37.390100  -122.044000\n",
       "        75%      29.457500    12662.295900    37.395900  -121.969700\n",
       "        max      53.490500    17944.203100    37.778600  -121.950300\n",
       "3       count  2630.000000     2630.000000  2630.000000  2630.000000\n",
       "        mean     16.356567    10363.626709    37.426075  -122.044358\n",
       "        std       8.884694     5429.846219     0.119263     0.130741\n",
       "        min       2.060100      129.355900    37.373400  -122.428500\n",
       "        25%      10.711800     6041.589375    37.377700  -122.049500\n",
       "        50%      14.557000    10658.839800    37.385800  -121.999800\n",
       "        75%      21.286400    14965.998250    37.394300  -121.968800\n",
       "        max      51.567900    19425.960900    37.778900  -121.950400\n",
       "4       count  2135.000000     2135.000000  2135.000000  2135.000000\n",
       "        mean     14.367773     9924.902202    37.468817  -122.097581\n",
       "        std       9.039924     6618.133557     0.156138     0.165199\n",
       "        min      -8.514600      230.290200    37.373400  -122.430600\n",
       "        25%       7.827900     5047.648900    37.382000  -122.077700\n",
       "        50%      15.037700     9054.567400    37.390200  -122.039400\n",
       "        75%      21.767000    14484.263700    37.396000  -121.976100\n",
       "        max      31.860700    28266.460900    37.776600  -121.950500"
      ]
     },
     "execution_count": 34,
     "metadata": {},
     "output_type": "execute_result"
    }
   ],
   "source": [
    "daily.describe()"
   ]
  },
  {
   "cell_type": "code",
   "execution_count": 88,
   "metadata": {
    "collapsed": false
   },
   "outputs": [],
   "source": [
    "#to do: max and mean altitude change per day, calculate speeds, map routes?\n",
    "#would be great to be able to mouse over the route and show speed, altitude"
   ]
  },
  {
   "cell_type": "code",
   "execution_count": 89,
   "metadata": {
    "collapsed": false
   },
   "outputs": [],
   "source": [
    "#would be nice to be able to do \"for group in groupby\""
   ]
  },
  {
   "cell_type": "code",
   "execution_count": 90,
   "metadata": {
    "collapsed": false
   },
   "outputs": [],
   "source": [
    "#also would be nice to not lose the actual dates on these"
   ]
  },
  {
   "cell_type": "code",
   "execution_count": 92,
   "metadata": {
    "collapsed": false
   },
   "outputs": [
    {
     "data": {
      "text/html": [
       "<div style=\"max-height:1000px;max-width:1500px;overflow:auto;\">\n",
       "<table border=\"1\" class=\"dataframe\">\n",
       "  <thead>\n",
       "    <tr style=\"text-align: right;\">\n",
       "      <th></th>\n",
       "      <th>posTime</th>\n",
       "      <th>Lat</th>\n",
       "      <th>Long</th>\n",
       "      <th>altTime</th>\n",
       "      <th>Altitude</th>\n",
       "      <th>DistanceMeters</th>\n",
       "      <th>day</th>\n",
       "    </tr>\n",
       "  </thead>\n",
       "  <tbody>\n",
       "    <tr>\n",
       "      <th>0</th>\n",
       "      <td> 2014-10-16 07:48:11-07:00</td>\n",
       "      <td> 37.3943</td>\n",
       "      <td>-122.0769</td>\n",
       "      <td> 2014-10-16 07:48:11-07:00</td>\n",
       "      <td> 19.3638</td>\n",
       "      <td> 4780.8071</td>\n",
       "      <td> 16</td>\n",
       "    </tr>\n",
       "    <tr>\n",
       "      <th>1</th>\n",
       "      <td> 2014-10-16 07:48:12-07:00</td>\n",
       "      <td> 37.3943</td>\n",
       "      <td>-122.0771</td>\n",
       "      <td> 2014-10-16 07:48:12-07:00</td>\n",
       "      <td> 19.3638</td>\n",
       "      <td> 4791.6362</td>\n",
       "      <td> 16</td>\n",
       "    </tr>\n",
       "    <tr>\n",
       "      <th>2</th>\n",
       "      <td> 2014-10-16 07:48:17-07:00</td>\n",
       "      <td> 37.3944</td>\n",
       "      <td>-122.0774</td>\n",
       "      <td> 2014-10-16 07:48:17-07:00</td>\n",
       "      <td> 19.8444</td>\n",
       "      <td> 4826.5288</td>\n",
       "      <td> 16</td>\n",
       "    </tr>\n",
       "    <tr>\n",
       "      <th>3</th>\n",
       "      <td> 2014-10-16 07:48:26-07:00</td>\n",
       "      <td> 37.3947</td>\n",
       "      <td>-122.0781</td>\n",
       "      <td> 2014-10-16 07:48:26-07:00</td>\n",
       "      <td> 19.8444</td>\n",
       "      <td> 4895.5474</td>\n",
       "      <td> 16</td>\n",
       "    </tr>\n",
       "    <tr>\n",
       "      <th>4</th>\n",
       "      <td> 2014-10-16 07:48:29-07:00</td>\n",
       "      <td> 37.3948</td>\n",
       "      <td>-122.0782</td>\n",
       "      <td> 2014-10-16 07:48:29-07:00</td>\n",
       "      <td> 19.8444</td>\n",
       "      <td> 4916.4795</td>\n",
       "      <td> 16</td>\n",
       "    </tr>\n",
       "  </tbody>\n",
       "</table>\n",
       "</div>"
      ],
      "text/plain": [
       "                     posTime      Lat      Long                    altTime  \\\n",
       "0  2014-10-16 07:48:11-07:00  37.3943 -122.0769  2014-10-16 07:48:11-07:00   \n",
       "1  2014-10-16 07:48:12-07:00  37.3943 -122.0771  2014-10-16 07:48:12-07:00   \n",
       "2  2014-10-16 07:48:17-07:00  37.3944 -122.0774  2014-10-16 07:48:17-07:00   \n",
       "3  2014-10-16 07:48:26-07:00  37.3947 -122.0781  2014-10-16 07:48:26-07:00   \n",
       "4  2014-10-16 07:48:29-07:00  37.3948 -122.0782  2014-10-16 07:48:29-07:00   \n",
       "\n",
       "   Altitude  DistanceMeters  day  \n",
       "0   19.3638       4780.8071   16  \n",
       "1   19.3638       4791.6362   16  \n",
       "2   19.8444       4826.5288   16  \n",
       "3   19.8444       4895.5474   16  \n",
       "4   19.8444       4916.4795   16  "
      ]
     },
     "execution_count": 92,
     "metadata": {},
     "output_type": "execute_result"
    }
   ],
   "source": [
    "ts.head()"
   ]
  },
  {
   "cell_type": "code",
   "execution_count": null,
   "metadata": {
    "collapsed": false
   },
   "outputs": [],
   "source": []
  }
 ],
 "metadata": {
  "kernelspec": {
   "display_name": "Python 2",
   "language": "python",
   "name": "python2"
  },
  "language_info": {
   "codemirror_mode": {
    "name": "ipython",
    "version": 2
   },
   "file_extension": ".py",
   "mimetype": "text/x-python",
   "name": "python",
   "nbconvert_exporter": "python",
   "pygments_lexer": "ipython2",
   "version": "2.7.9"
  }
 },
 "nbformat": 4,
 "nbformat_minor": 0
}
