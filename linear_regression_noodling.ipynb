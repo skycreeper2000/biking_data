{
 "cells": [
  {
   "cell_type": "code",
   "execution_count": null,
   "metadata": {
    "collapsed": true
   },
   "outputs": [],
   "source": [
    "def linear_fit_maker(dist_df):\n",
    "    \"\"\"\n",
    "    Generator to create linear regression model for each data frame. \n",
    "    \"\"\"\n",
    "    dist_cf = df_maker(df, 'zoned')\n",
    "    \n",
    "    while dist_cf:\n",
    "        try:\n",
    "            one = next(dist_cf)\n",
    "            res = ols(y=one['altitude'],x=one['distance'])\n",
    "            fit = res.summary_as_matrix\n",
    "            print fit\n",
    "        except StopIteration:\n",
    "            break "
   ]
  },
  {
   "cell_type": "code",
   "execution_count": null,
   "metadata": {
    "collapsed": true
   },
   "outputs": [],
   "source": [
    "from sklearn import linear_model\n",
    "\n",
    "dist_cf = df_maker(df, 'zoned')\n",
    "one = next(dist_cf)\n",
    "data = np.asarray(one)\n",
    "\n",
    "clf = linear_model.LinearRegression()\n",
    "X,y = data[:,1:],data[:,0]\n",
    "clf.fit(X,y)"
   ]
  },
  {
   "cell_type": "code",
   "execution_count": null,
   "metadata": {
    "collapsed": true
   },
   "outputs": [],
   "source": [
    "from pandas.stats.api import ols\n",
    "\n",
    "res = ols(y=one['altitude'],x=one['distance'])\n",
    "print res.summary_as_matrix\n",
    "#print dir(res),"
   ]
  }
 ],
 "metadata": {
  "kernelspec": {
   "display_name": "Python 2",
   "language": "python",
   "name": "python2"
  },
  "language_info": {
   "codemirror_mode": {
    "name": "ipython",
    "version": 2
   },
   "file_extension": ".py",
   "mimetype": "text/x-python",
   "name": "python",
   "nbconvert_exporter": "python",
   "pygments_lexer": "ipython2",
   "version": "2.7.9"
  }
 },
 "nbformat": 4,
 "nbformat_minor": 0
}
