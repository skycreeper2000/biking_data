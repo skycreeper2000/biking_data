{
 "metadata": {
  "name": "",
  "signature": "sha256:806356d4a2d6c189680a5964ae6ca6c7d338aac572c80b0d1c871859cfe5bd92"
 },
 "nbformat": 3,
 "nbformat_minor": 0,
 "worksheets": [
  {
   "cells": [
    {
     "cell_type": "code",
     "collapsed": false,
     "input": [
      "import collections \n",
      "import pandas\n",
      "from lxml import etree as ET #this was missing from 'python for data analysis' example\n",
      "from lxml import objectify"
     ],
     "language": "python",
     "metadata": {},
     "outputs": [],
     "prompt_number": 2
    },
    {
     "cell_type": "code",
     "collapsed": false,
     "input": [
      "pandas.__version__"
     ],
     "language": "python",
     "metadata": {},
     "outputs": [
      {
       "metadata": {},
       "output_type": "pyout",
       "prompt_number": 3,
       "text": [
        "'0.14.1'"
       ]
      }
     ],
     "prompt_number": 3
    },
    {
     "cell_type": "code",
     "collapsed": false,
     "input": [
      "path = \"2013_xml.tcx\"\n",
      "parsed = objectify.parse(open(path))\n",
      "root = parsed.getroot()"
     ],
     "language": "python",
     "metadata": {},
     "outputs": [],
     "prompt_number": 4
    },
    {
     "cell_type": "code",
     "collapsed": false,
     "input": [
      "#xml_new = ET.tostring(root, pretty_print=True) # a way to view the file, if you couldn't do it from 'more' or 'vim' "
     ],
     "language": "python",
     "metadata": {},
     "outputs": [],
     "prompt_number": 71
    },
    {
     "cell_type": "code",
     "collapsed": false,
     "input": [
      "kids = root.Activities.Activity.Lap.Extensions.getchildren()"
     ],
     "language": "python",
     "metadata": {},
     "outputs": [],
     "prompt_number": 5
    },
    {
     "cell_type": "code",
     "collapsed": false,
     "input": [
      "root.Activities.Activity.Lap.descendantpaths()"
     ],
     "language": "python",
     "metadata": {},
     "outputs": [
      {
       "metadata": {},
       "output_type": "pyout",
       "prompt_number": 6,
       "text": [
        "[u'{http://www.garmin.com/xmlschemas/TrainingCenterDatabase/v2}Lap',\n",
        " u'{http://www.garmin.com/xmlschemas/TrainingCenterDatabase/v2}Lap.TotalTimeSeconds',\n",
        " u'{http://www.garmin.com/xmlschemas/TrainingCenterDatabase/v2}Lap.DistanceMeters',\n",
        " u'{http://www.garmin.com/xmlschemas/TrainingCenterDatabase/v2}Lap.MaximumSpeed',\n",
        " u'{http://www.garmin.com/xmlschemas/TrainingCenterDatabase/v2}Lap.Calories',\n",
        " u'{http://www.garmin.com/xmlschemas/TrainingCenterDatabase/v2}Lap.Intensity',\n",
        " u'{http://www.garmin.com/xmlschemas/TrainingCenterDatabase/v2}Lap.Cadence',\n",
        " u'{http://www.garmin.com/xmlschemas/TrainingCenterDatabase/v2}Lap.TriggerMethod',\n",
        " u'{http://www.garmin.com/xmlschemas/TrainingCenterDatabase/v2}Lap.Extensions',\n",
        " u'{http://www.garmin.com/xmlschemas/TrainingCenterDatabase/v2}Lap.Extensions.{http://www.garmin.com/xmlschemas/FatCalories/v1}FatCalories',\n",
        " u'{http://www.garmin.com/xmlschemas/TrainingCenterDatabase/v2}Lap.Extensions.{http://www.garmin.com/xmlschemas/FatCalories/v1}FatCalories.Value',\n",
        " u'{http://www.garmin.com/xmlschemas/TrainingCenterDatabase/v2}Lap.Extensions.{http://www.garmin.com/xmlschemas/ActivityExtension/v2}LX',\n",
        " u'{http://www.garmin.com/xmlschemas/TrainingCenterDatabase/v2}Lap.Extensions.{http://www.garmin.com/xmlschemas/ActivityExtension/v2}LX.AvgSpeed']"
       ]
      }
     ],
     "prompt_number": 6
    },
    {
     "cell_type": "code",
     "collapsed": false,
     "input": [
      "#upper_field = ['Id','Lap']\n",
      "#middle_field = ['TotalTimeSeconds', 'DistanceMeters', 'MaximumSpeed', 'Calories']\n",
      "\n",
      "#maybe add this back later if this works\n",
      "\n",
      "#extensions = ['AvgSpeed']\n",
      "\n",
      "timestamps = []\n",
      "\n",
      "count = 0 #count laps\n",
      "TotalTimeSeconds = [] \n",
      "DistanceMeters = []\n",
      "MaximumSpeed = []\n",
      "Calories = []\n",
      "\n",
      "AvgSpeedList = []\n",
      "\n",
      "for activity in root.Activities.Activity:\n",
      "    timestamps.append(activity.Id) #this comes out to fewer - not one per lap (?) \n",
      "    for lap in activity.Lap:\n",
      "        #print dir(lap)    #to get all the elements\n",
      "        #print lap.getchildren()\n",
      "        #print lap.Extensions\n",
      "        #print child.tag\n",
      "        #print timestamps\n",
      "        count +=1                \n",
      "        TotalTimeSeconds.append(lap.TotalTimeSeconds.text)\n",
      "        DistanceMeters.append(lap.DistanceMeters.text)\n",
      "        MaximumSpeed.append(lap.MaximumSpeed.text)\n",
      "        Calories.append(lap.Calories.text)\n",
      "        \n",
      "        kids= lap.Extensions.getchildren()\n",
      "        avgspeed = kids[1].AvgSpeed.pyval\n",
      "        #print avgspeed\n",
      "        AvgSpeedList.append(avgspeed)\n",
      "\n",
      "            \n",
      "        \n",
      "print count\n",
      "\n",
      "\n",
      "\n",
      "    "
     ],
     "language": "python",
     "metadata": {},
     "outputs": [
      {
       "output_type": "stream",
       "stream": "stdout",
       "text": [
        "414\n"
       ]
      }
     ],
     "prompt_number": 15
    },
    {
     "cell_type": "code",
     "collapsed": false,
     "input": [
      "#maybe look up how to use the elementree (?)"
     ],
     "language": "python",
     "metadata": {},
     "outputs": [
      {
       "output_type": "stream",
       "stream": "stdout",
       "text": [
        "None\n"
       ]
      }
     ],
     "prompt_number": 56
    },
    {
     "cell_type": "code",
     "collapsed": false,
     "input": [
      "type(AvgSpeedList), type (MaximumSpeed)"
     ],
     "language": "python",
     "metadata": {},
     "outputs": [
      {
       "metadata": {},
       "output_type": "pyout",
       "prompt_number": 16,
       "text": [
        "(list, list)"
       ]
      }
     ],
     "prompt_number": 16
    },
    {
     "cell_type": "code",
     "collapsed": false,
     "input": [
      "print type(AvgSpeedList[0])"
     ],
     "language": "python",
     "metadata": {},
     "outputs": [
      {
       "output_type": "stream",
       "stream": "stdout",
       "text": [
        "<type 'float'>\n"
       ]
      }
     ],
     "prompt_number": 17
    },
    {
     "cell_type": "code",
     "collapsed": false,
     "input": [
      "print len(timestamps), len(TotalTimeSeconds), len(DistanceMeters), len(MaximumSpeed), len(Calories), len(AvgSpeedList)"
     ],
     "language": "python",
     "metadata": {},
     "outputs": [
      {
       "output_type": "stream",
       "stream": "stdout",
       "text": [
        "262 414 414 414 414 414\n"
       ]
      }
     ],
     "prompt_number": 18
    },
    {
     "cell_type": "code",
     "collapsed": false,
     "input": [
      "TotalTimeSeconds = pandas.Series(TotalTimeSeconds)\n",
      "DistanceMeters = pandas.Series(DistanceMeters)\n",
      "MaximumSpeed = pandas.Series(MaximumSpeed)\n",
      "Calories = pandas.Series(Calories)\n",
      "AverageSpeed = pandas.Series(AvgSpeedList)"
     ],
     "language": "python",
     "metadata": {},
     "outputs": [],
     "prompt_number": 19
    },
    {
     "cell_type": "code",
     "collapsed": false,
     "input": [
      "print AverageSpeed"
     ],
     "language": "python",
     "metadata": {},
     "outputs": [
      {
       "output_type": "stream",
       "stream": "stdout",
       "text": [
        "0     8.457642\n",
        "1     4.141699\n",
        "2     7.115240\n",
        "3     9.269679\n",
        "4     7.791817\n",
        "5     7.208971\n",
        "6     8.507177\n",
        "7     9.554803\n",
        "8     8.823193\n",
        "9     6.418389\n",
        "10    8.568080\n",
        "11    5.745431\n",
        "12    8.568797\n",
        "13    8.817614\n",
        "14    8.331395\n",
        "...\n",
        "399    8.817196\n",
        "400    8.593436\n",
        "401    5.308875\n",
        "402    9.579116\n",
        "403    7.458903\n",
        "404    7.448250\n",
        "405    8.796494\n",
        "406    8.017609\n",
        "407    8.988591\n",
        "408    9.243548\n",
        "409    8.275070\n",
        "410    8.512440\n",
        "411    5.396047\n",
        "412    7.847762\n",
        "413    8.455452\n",
        "Length: 414, dtype: float64\n"
       ]
      }
     ],
     "prompt_number": 20
    },
    {
     "cell_type": "code",
     "collapsed": false,
     "input": [
      "df = pandas.concat([TotalTimeSeconds, DistanceMeters, MaximumSpeed, Calories, AverageSpeed], axis=1)"
     ],
     "language": "python",
     "metadata": {},
     "outputs": [],
     "prompt_number": 21
    },
    {
     "cell_type": "code",
     "collapsed": false,
     "input": [
      "df.head()"
     ],
     "language": "python",
     "metadata": {},
     "outputs": [
      {
       "html": [
        "<div style=\"max-height:1000px;max-width:1500px;overflow:auto;\">\n",
        "<table border=\"1\" class=\"dataframe\">\n",
        "  <thead>\n",
        "    <tr style=\"text-align: right;\">\n",
        "      <th></th>\n",
        "      <th>0</th>\n",
        "      <th>1</th>\n",
        "      <th>2</th>\n",
        "      <th>3</th>\n",
        "      <th>4</th>\n",
        "    </tr>\n",
        "  </thead>\n",
        "  <tbody>\n",
        "    <tr>\n",
        "      <th>0</th>\n",
        "      <td> 1669.7500000</td>\n",
        "      <td> 14122.1464844</td>\n",
        "      <td> 11.1599998</td>\n",
        "      <td> 575</td>\n",
        "      <td> 8.457642</td>\n",
        "    </tr>\n",
        "    <tr>\n",
        "      <th>1</th>\n",
        "      <td>  283.5500000</td>\n",
        "      <td>  1174.3789062</td>\n",
        "      <td>  9.8500004</td>\n",
        "      <td> 145</td>\n",
        "      <td> 4.141699</td>\n",
        "    </tr>\n",
        "    <tr>\n",
        "      <th>2</th>\n",
        "      <td>  654.8500000</td>\n",
        "      <td>  4659.4145508</td>\n",
        "      <td> 12.0650005</td>\n",
        "      <td> 178</td>\n",
        "      <td> 7.115240</td>\n",
        "    </tr>\n",
        "    <tr>\n",
        "      <th>3</th>\n",
        "      <td> 1580.5100000</td>\n",
        "      <td> 14650.8203125</td>\n",
        "      <td> 14.2500000</td>\n",
        "      <td> 608</td>\n",
        "      <td> 9.269679</td>\n",
        "    </tr>\n",
        "    <tr>\n",
        "      <th>4</th>\n",
        "      <td> 2209.5300000</td>\n",
        "      <td> 17216.2539062</td>\n",
        "      <td> 10.9899998</td>\n",
        "      <td> 678</td>\n",
        "      <td> 7.791817</td>\n",
        "    </tr>\n",
        "  </tbody>\n",
        "</table>\n",
        "</div>"
       ],
       "metadata": {},
       "output_type": "pyout",
       "prompt_number": 22,
       "text": [
        "              0              1           2    3         4\n",
        "0  1669.7500000  14122.1464844  11.1599998  575  8.457642\n",
        "1   283.5500000   1174.3789062   9.8500004  145  4.141699\n",
        "2   654.8500000   4659.4145508  12.0650005  178  7.115240\n",
        "3  1580.5100000  14650.8203125  14.2500000  608  9.269679\n",
        "4  2209.5300000  17216.2539062  10.9899998  678  7.791817"
       ]
      }
     ],
     "prompt_number": 22
    },
    {
     "cell_type": "code",
     "collapsed": false,
     "input": [
      "df.shape"
     ],
     "language": "python",
     "metadata": {},
     "outputs": [
      {
       "metadata": {},
       "output_type": "pyout",
       "prompt_number": 23,
       "text": [
        "(414, 5)"
       ]
      }
     ],
     "prompt_number": 23
    },
    {
     "cell_type": "code",
     "collapsed": false,
     "input": [
      "df.columns = ['TotalTimeSeconds', 'DistanceMeters', 'MaximumSpeed', 'Calories', 'AverageSpeed']"
     ],
     "language": "python",
     "metadata": {},
     "outputs": [],
     "prompt_number": 24
    },
    {
     "cell_type": "code",
     "collapsed": false,
     "input": [
      "df.head()"
     ],
     "language": "python",
     "metadata": {},
     "outputs": [
      {
       "html": [
        "<div style=\"max-height:1000px;max-width:1500px;overflow:auto;\">\n",
        "<table border=\"1\" class=\"dataframe\">\n",
        "  <thead>\n",
        "    <tr style=\"text-align: right;\">\n",
        "      <th></th>\n",
        "      <th>TotalTimeSeconds</th>\n",
        "      <th>DistanceMeters</th>\n",
        "      <th>MaximumSpeed</th>\n",
        "      <th>Calories</th>\n",
        "      <th>AverageSpeed</th>\n",
        "    </tr>\n",
        "  </thead>\n",
        "  <tbody>\n",
        "    <tr>\n",
        "      <th>0</th>\n",
        "      <td> 1669.7500000</td>\n",
        "      <td> 14122.1464844</td>\n",
        "      <td> 11.1599998</td>\n",
        "      <td> 575</td>\n",
        "      <td> 8.457642</td>\n",
        "    </tr>\n",
        "    <tr>\n",
        "      <th>1</th>\n",
        "      <td>  283.5500000</td>\n",
        "      <td>  1174.3789062</td>\n",
        "      <td>  9.8500004</td>\n",
        "      <td> 145</td>\n",
        "      <td> 4.141699</td>\n",
        "    </tr>\n",
        "    <tr>\n",
        "      <th>2</th>\n",
        "      <td>  654.8500000</td>\n",
        "      <td>  4659.4145508</td>\n",
        "      <td> 12.0650005</td>\n",
        "      <td> 178</td>\n",
        "      <td> 7.115240</td>\n",
        "    </tr>\n",
        "    <tr>\n",
        "      <th>3</th>\n",
        "      <td> 1580.5100000</td>\n",
        "      <td> 14650.8203125</td>\n",
        "      <td> 14.2500000</td>\n",
        "      <td> 608</td>\n",
        "      <td> 9.269679</td>\n",
        "    </tr>\n",
        "    <tr>\n",
        "      <th>4</th>\n",
        "      <td> 2209.5300000</td>\n",
        "      <td> 17216.2539062</td>\n",
        "      <td> 10.9899998</td>\n",
        "      <td> 678</td>\n",
        "      <td> 7.791817</td>\n",
        "    </tr>\n",
        "  </tbody>\n",
        "</table>\n",
        "</div>"
       ],
       "metadata": {},
       "output_type": "pyout",
       "prompt_number": 25,
       "text": [
        "  TotalTimeSeconds DistanceMeters MaximumSpeed Calories  AverageSpeed\n",
        "0     1669.7500000  14122.1464844   11.1599998      575      8.457642\n",
        "1      283.5500000   1174.3789062    9.8500004      145      4.141699\n",
        "2      654.8500000   4659.4145508   12.0650005      178      7.115240\n",
        "3     1580.5100000  14650.8203125   14.2500000      608      9.269679\n",
        "4     2209.5300000  17216.2539062   10.9899998      678      7.791817"
       ]
      }
     ],
     "prompt_number": 25
    },
    {
     "cell_type": "code",
     "collapsed": false,
     "input": [
      "df.describe()"
     ],
     "language": "python",
     "metadata": {},
     "outputs": [
      {
       "html": [
        "<div style=\"max-height:1000px;max-width:1500px;overflow:auto;\">\n",
        "<table border=\"1\" class=\"dataframe\">\n",
        "  <thead>\n",
        "    <tr style=\"text-align: right;\">\n",
        "      <th></th>\n",
        "      <th>AverageSpeed</th>\n",
        "    </tr>\n",
        "  </thead>\n",
        "  <tbody>\n",
        "    <tr>\n",
        "      <th>count</th>\n",
        "      <td> 414.000000</td>\n",
        "    </tr>\n",
        "    <tr>\n",
        "      <th>mean</th>\n",
        "      <td>   7.647697</td>\n",
        "    </tr>\n",
        "    <tr>\n",
        "      <th>std</th>\n",
        "      <td>   1.442275</td>\n",
        "    </tr>\n",
        "    <tr>\n",
        "      <th>min</th>\n",
        "      <td>   0.000000</td>\n",
        "    </tr>\n",
        "    <tr>\n",
        "      <th>25%</th>\n",
        "      <td>   7.095133</td>\n",
        "    </tr>\n",
        "    <tr>\n",
        "      <th>50%</th>\n",
        "      <td>   8.026817</td>\n",
        "    </tr>\n",
        "    <tr>\n",
        "      <th>75%</th>\n",
        "      <td>   8.669377</td>\n",
        "    </tr>\n",
        "    <tr>\n",
        "      <th>max</th>\n",
        "      <td>   9.701441</td>\n",
        "    </tr>\n",
        "  </tbody>\n",
        "</table>\n",
        "</div>"
       ],
       "metadata": {},
       "output_type": "pyout",
       "prompt_number": 26,
       "text": [
        "       AverageSpeed\n",
        "count    414.000000\n",
        "mean       7.647697\n",
        "std        1.442275\n",
        "min        0.000000\n",
        "25%        7.095133\n",
        "50%        8.026817\n",
        "75%        8.669377\n",
        "max        9.701441"
       ]
      }
     ],
     "prompt_number": 26
    },
    {
     "cell_type": "code",
     "collapsed": false,
     "input": [
      "#get rid of extra decimal places\n"
     ],
     "language": "python",
     "metadata": {},
     "outputs": []
    },
    {
     "cell_type": "code",
     "collapsed": false,
     "input": [
      "df.to_csv(\"parsed_2013.csv\")"
     ],
     "language": "python",
     "metadata": {},
     "outputs": [],
     "prompt_number": 27
    },
    {
     "cell_type": "code",
     "collapsed": false,
     "input": [],
     "language": "python",
     "metadata": {},
     "outputs": []
    }
   ],
   "metadata": {}
  }
 ]
}