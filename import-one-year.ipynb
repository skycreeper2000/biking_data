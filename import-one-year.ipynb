{
 "metadata": {
  "name": ""
 },
 "nbformat": 3,
 "nbformat_minor": 0,
 "worksheets": [
  {
   "cells": [
    {
     "cell_type": "code",
     "collapsed": false,
     "input": [
      "pandas.__version__"
     ],
     "language": "python",
     "metadata": {},
     "outputs": [
      {
       "metadata": {},
       "output_type": "pyout",
       "prompt_number": 43,
       "text": [
        "'0.13.1'"
       ]
      }
     ],
     "prompt_number": 43
    },
    {
     "cell_type": "code",
     "collapsed": false,
     "input": [
      "import collections \n",
      "import pandas\n",
      "from lxml import etree as ET #this was missing from 'python for data analysis' example\n",
      "from lxml import objectify"
     ],
     "language": "python",
     "metadata": {},
     "outputs": [],
     "prompt_number": 1
    },
    {
     "cell_type": "code",
     "collapsed": false,
     "input": [
      "path = \"2013_xml.tcx\"\n",
      "parsed = objectify.parse(open(path))\n",
      "root = parsed.getroot()"
     ],
     "language": "python",
     "metadata": {},
     "outputs": [],
     "prompt_number": 2
    },
    {
     "cell_type": "code",
     "collapsed": false,
     "input": [
      "#xml_new = ET.tostring(root, pretty_print=True) # a way to view the file, if you couldn't do it from 'more' or 'vim' "
     ],
     "language": "python",
     "metadata": {},
     "outputs": [],
     "prompt_number": 71
    },
    {
     "cell_type": "code",
     "collapsed": false,
     "input": [
      "#upper_field = ['Id','Lap']\n",
      "#middle_field = ['TotalTimeSeconds', 'DistanceMeters', 'MaximumSpeed', 'Calories']\n",
      "\n",
      "#maybe add this back later if this works\n",
      "\n",
      "#extensions = ['AvgSpeed']\n",
      "\n",
      "timestamps = []\n",
      "\n",
      "count = 0 #count laps\n",
      "TotalTimeSeconds = [] \n",
      "DistanceMeters = []\n",
      "MaximumSpeed = []\n",
      "Calories = []\n",
      "\n",
      "AvgSpeed = []\n",
      "\n",
      "for activity in root.Activities.Activity:\n",
      "    timestamps.append(activity.Id) #this comes out to fewer - not one per lap (?) \n",
      "    for lap in activity.Lap:\n",
      "        print dir(lap)    #to get all the elements\n",
      "        print lap.getchildren()\n",
      "        print lap.Extensions\n",
      "        #print child.tag\n",
      "        #print timestamps\n",
      "        count +=1                \n",
      "        TotalTimeSeconds.append(lap.TotalTimeSeconds.text)\n",
      "        DistanceMeters.append(lap.DistanceMeters.text)\n",
      "        MaximumSpeed.append(lap.MaximumSpeed.text)\n",
      "        Calories.append(lap.Calories.text)\n",
      "        \n",
      "            \n",
      "        \n",
      "print count\n",
      "#print upper_data \n",
      "#print AvgSpeed\n",
      "\n",
      "\n",
      "    "
     ],
     "language": "python",
     "metadata": {},
     "outputs": [
      {
       "ename": "AttributeError",
       "evalue": "no such child: {http://www.garmin.com/xmlschemas/TrainingCenterDatabase/v2}lap",
       "output_type": "pyerr",
       "traceback": [
        "\u001b[0;31m---------------------------------------------------------------------------\u001b[0m\n\u001b[0;31mAttributeError\u001b[0m                            Traceback (most recent call last)",
        "\u001b[0;32m<ipython-input-26-c77a9ad950a6>\u001b[0m in \u001b[0;36m<module>\u001b[0;34m()\u001b[0m\n\u001b[1;32m     30\u001b[0m         \u001b[0mCalories\u001b[0m\u001b[0;34m.\u001b[0m\u001b[0mappend\u001b[0m\u001b[0;34m(\u001b[0m\u001b[0mlap\u001b[0m\u001b[0;34m.\u001b[0m\u001b[0mCalories\u001b[0m\u001b[0;34m.\u001b[0m\u001b[0mtext\u001b[0m\u001b[0;34m)\u001b[0m\u001b[0;34m\u001b[0m\u001b[0m\n\u001b[1;32m     31\u001b[0m         \u001b[0;32mfor\u001b[0m \u001b[0mcalculated\u001b[0m \u001b[0;32min\u001b[0m \u001b[0mlap\u001b[0m\u001b[0;34m.\u001b[0m\u001b[0mExtensions\u001b[0m\u001b[0;34m:\u001b[0m\u001b[0;34m\u001b[0m\u001b[0m\n\u001b[0;32m---> 32\u001b[0;31m             \u001b[0mAvgSpeed\u001b[0m\u001b[0;34m.\u001b[0m\u001b[0mappend\u001b[0m\u001b[0;34m(\u001b[0m\u001b[0mcalculated\u001b[0m\u001b[0;34m.\u001b[0m\u001b[0mlap\u001b[0m\u001b[0;34m.\u001b[0m\u001b[0mAvgSpeed\u001b[0m\u001b[0;34m.\u001b[0m\u001b[0mtext\u001b[0m\u001b[0;34m)\u001b[0m\u001b[0;34m\u001b[0m\u001b[0m\n\u001b[0m\u001b[1;32m     33\u001b[0m \u001b[0;34m\u001b[0m\u001b[0m\n\u001b[1;32m     34\u001b[0m \u001b[0;32mprint\u001b[0m \u001b[0mcount\u001b[0m\u001b[0;34m\u001b[0m\u001b[0m\n",
        "\u001b[0;32m/Users/szeitlin/Envs/Scraping/lib/python2.7/site-packages/lxml/objectify.so\u001b[0m in \u001b[0;36mlxml.objectify.ObjectifiedElement.__getattr__ (src/lxml/lxml.objectify.c:3563)\u001b[0;34m()\u001b[0m\n",
        "\u001b[0;32m/Users/szeitlin/Envs/Scraping/lib/python2.7/site-packages/lxml/objectify.so\u001b[0m in \u001b[0;36mlxml.objectify._lookupChildOrRaise (src/lxml/lxml.objectify.c:5873)\u001b[0;34m()\u001b[0m\n",
        "\u001b[0;31mAttributeError\u001b[0m: no such child: {http://www.garmin.com/xmlschemas/TrainingCenterDatabase/v2}lap"
       ]
      },
      {
       "output_type": "stream",
       "stream": "stdout",
       "text": [
        "['Cadence', 'Calories', 'DistanceMeters', 'Extensions', 'Intensity', 'MaximumSpeed', 'TotalTimeSeconds', 'TriggerMethod', '__class__', '__contains__', '__copy__', '__deepcopy__', '__delattr__', '__delitem__', '__dict__', '__doc__', '__format__', '__getattr__', '__getattribute__', '__getitem__', '__hash__', '__init__', '__iter__', '__len__', '__new__', '__nonzero__', '__reduce__', '__reduce_ex__', '__repr__', '__reversed__', '__setattr__', '__setitem__', '__sizeof__', '__str__', '__subclasshook__', '_init', 'addattr', 'addnext', 'addprevious', 'append', 'attrib', 'base', 'clear', 'countchildren', 'descendantpaths', 'extend', 'find', 'findall', 'findtext', 'get', 'getchildren', 'getiterator', 'getnext', 'getparent', 'getprevious', 'getroottree', 'index', 'insert', 'items', 'iter', 'iterancestors', 'iterchildren', 'iterdescendants', 'iterfind', 'itersiblings', 'itertext', 'keys', 'makeelement', 'nsmap', 'prefix', 'remove', 'replace', 'set', 'sourceline', 'tag', 'tail', 'text', 'values', 'xpath']\n",
        "[1669.75, 14122.1464844, 11.1599998, 575, 'Active', 0, 'Manual', <Element {http://www.garmin.com/xmlschemas/TrainingCenterDatabase/v2}Extensions at 0x10edd6c20>]\n",
        "\n"
       ]
      }
     ],
     "prompt_number": 26
    },
    {
     "cell_type": "code",
     "collapsed": false,
     "input": [
      "root.Activities.Activity.Lap.descendantpaths()"
     ],
     "language": "python",
     "metadata": {},
     "outputs": [
      {
       "metadata": {},
       "output_type": "pyout",
       "prompt_number": 48,
       "text": [
        "[u'{http://www.garmin.com/xmlschemas/TrainingCenterDatabase/v2}Lap',\n",
        " u'{http://www.garmin.com/xmlschemas/TrainingCenterDatabase/v2}Lap.TotalTimeSeconds',\n",
        " u'{http://www.garmin.com/xmlschemas/TrainingCenterDatabase/v2}Lap.DistanceMeters',\n",
        " u'{http://www.garmin.com/xmlschemas/TrainingCenterDatabase/v2}Lap.MaximumSpeed',\n",
        " u'{http://www.garmin.com/xmlschemas/TrainingCenterDatabase/v2}Lap.Calories',\n",
        " u'{http://www.garmin.com/xmlschemas/TrainingCenterDatabase/v2}Lap.Intensity',\n",
        " u'{http://www.garmin.com/xmlschemas/TrainingCenterDatabase/v2}Lap.Cadence',\n",
        " u'{http://www.garmin.com/xmlschemas/TrainingCenterDatabase/v2}Lap.TriggerMethod',\n",
        " u'{http://www.garmin.com/xmlschemas/TrainingCenterDatabase/v2}Lap.Extensions',\n",
        " u'{http://www.garmin.com/xmlschemas/TrainingCenterDatabase/v2}Lap.Extensions.{http://www.garmin.com/xmlschemas/FatCalories/v1}FatCalories',\n",
        " u'{http://www.garmin.com/xmlschemas/TrainingCenterDatabase/v2}Lap.Extensions.{http://www.garmin.com/xmlschemas/FatCalories/v1}FatCalories.Value',\n",
        " u'{http://www.garmin.com/xmlschemas/TrainingCenterDatabase/v2}Lap.Extensions.{http://www.garmin.com/xmlschemas/ActivityExtension/v2}LX',\n",
        " u'{http://www.garmin.com/xmlschemas/TrainingCenterDatabase/v2}Lap.Extensions.{http://www.garmin.com/xmlschemas/ActivityExtension/v2}LX.AvgSpeed']"
       ]
      }
     ],
     "prompt_number": 48
    },
    {
     "cell_type": "code",
     "collapsed": false,
     "input": [
      "#maybe look up how to use the elementree (?)"
     ],
     "language": "python",
     "metadata": {},
     "outputs": [
      {
       "output_type": "stream",
       "stream": "stdout",
       "text": [
        "None\n"
       ]
      }
     ],
     "prompt_number": 56
    },
    {
     "cell_type": "code",
     "collapsed": false,
     "input": [
      "root.xpath('//Activities/Activity/Lap') #I don't understand how this is supposed to work "
     ],
     "language": "python",
     "metadata": {},
     "outputs": [
      {
       "metadata": {},
       "output_type": "pyout",
       "prompt_number": 65,
       "text": [
        "[]"
       ]
      }
     ],
     "prompt_number": 65
    },
    {
     "cell_type": "code",
     "collapsed": false,
     "input": [
      "if False: \n",
      "for ext in root.xpath('//Lap/Extensions'):\n",
      "    ## Iterate over attributes of Lap\n",
      "    for attrib in ext.attrib:\n",
      "        print attrib\n",
      "    ## \n",
      "    subfields = ext.getchildren()\n",
      "    for subfield in subfields:\n",
      "        print subfield.text"
     ],
     "language": "python",
     "metadata": {},
     "outputs": [],
     "prompt_number": 58
    },
    {
     "cell_type": "code",
     "collapsed": false,
     "input": [
      "if False:\n",
      "upper_data = collections.defaultdict(list) #this goes before the activity loop\n",
      "   \n",
      "upper_data['TotalTimeSeconds'].append(lap.TotalTimeSeconds.text)\n",
      "        upper_data['DistanceMeters'].append(lap.DistanceMeters.text)\n",
      "        upper_data['MaximumSpeed'].append(lap.DistanceMeters.text)\n",
      "        upper_data['Calories'].append(lap.Calories.text)"
     ],
     "language": "python",
     "metadata": {},
     "outputs": [
      {
       "ename": "IndentationError",
       "evalue": "expected an indented block (<ipython-input-11-b20875c89fda>, line 2)",
       "output_type": "pyerr",
       "traceback": [
        "\u001b[0;36m  File \u001b[0;32m\"<ipython-input-11-b20875c89fda>\"\u001b[0;36m, line \u001b[0;32m2\u001b[0m\n\u001b[0;31m    upper_data = collections.defaultdict(list) #this goes before the activity loop\u001b[0m\n\u001b[0m             ^\u001b[0m\n\u001b[0;31mIndentationError\u001b[0m\u001b[0;31m:\u001b[0m expected an indented block\n"
       ]
      }
     ],
     "prompt_number": 11
    },
    {
     "cell_type": "code",
     "collapsed": false,
     "input": [
      "if False:\n",
      "upper_data = {} #this goes before the activity loop\n",
      "\n",
      "    upper_data['TotalTimeSeconds'] = lap.TotalTimeSeconds.text\n",
      "    upper_data['DistanceMeters'] = lap.DistanceMeters.text\n",
      "    upper_data['MaximumSpeed'] = lap.MaximumSpeed.text\n",
      "    upper_data['Calories'] = lap.Calories.text\n"
     ],
     "language": "python",
     "metadata": {},
     "outputs": []
    },
    {
     "cell_type": "code",
     "collapsed": false,
     "input": [
      "print len(timestamps), len(TotalTimeSeconds), len(DistanceMeters), len(MaximumSpeed), len(Calories)"
     ],
     "language": "python",
     "metadata": {},
     "outputs": [
      {
       "output_type": "stream",
       "stream": "stdout",
       "text": [
        "262 414 414 414 414\n"
       ]
      }
     ],
     "prompt_number": 13
    },
    {
     "cell_type": "code",
     "collapsed": false,
     "input": [
      "TotalTimeSeconds = pandas.Series(TotalTimeSeconds)\n",
      "DistanceMeters = pandas.Series(DistanceMeters)\n",
      "MaximumSpeed = pandas.Series(MaximumSpeed)\n",
      "Calories = pandas.Series(Calories)"
     ],
     "language": "python",
     "metadata": {},
     "outputs": [],
     "prompt_number": 14
    },
    {
     "cell_type": "code",
     "collapsed": false,
     "input": [
      "df = pandas.concat([TotalTimeSeconds, DistanceMeters, MaximumSpeed, Calories], axis=1)"
     ],
     "language": "python",
     "metadata": {},
     "outputs": [],
     "prompt_number": 16
    },
    {
     "cell_type": "code",
     "collapsed": false,
     "input": [
      "df.head()"
     ],
     "language": "python",
     "metadata": {},
     "outputs": [
      {
       "html": [
        "<div style=\"max-height:1000px;max-width:1500px;overflow:auto;\">\n",
        "<table border=\"1\" class=\"dataframe\">\n",
        "  <thead>\n",
        "    <tr style=\"text-align: right;\">\n",
        "      <th></th>\n",
        "      <th>0</th>\n",
        "      <th>1</th>\n",
        "      <th>2</th>\n",
        "      <th>3</th>\n",
        "    </tr>\n",
        "  </thead>\n",
        "  <tbody>\n",
        "    <tr>\n",
        "      <th>0</th>\n",
        "      <td> 1669.7500000</td>\n",
        "      <td> 14122.1464844</td>\n",
        "      <td> 11.1599998</td>\n",
        "      <td> 575</td>\n",
        "    </tr>\n",
        "    <tr>\n",
        "      <th>1</th>\n",
        "      <td>  283.5500000</td>\n",
        "      <td>  1174.3789062</td>\n",
        "      <td>  9.8500004</td>\n",
        "      <td> 145</td>\n",
        "    </tr>\n",
        "    <tr>\n",
        "      <th>2</th>\n",
        "      <td>  654.8500000</td>\n",
        "      <td>  4659.4145508</td>\n",
        "      <td> 12.0650005</td>\n",
        "      <td> 178</td>\n",
        "    </tr>\n",
        "    <tr>\n",
        "      <th>3</th>\n",
        "      <td> 1580.5100000</td>\n",
        "      <td> 14650.8203125</td>\n",
        "      <td> 14.2500000</td>\n",
        "      <td> 608</td>\n",
        "    </tr>\n",
        "    <tr>\n",
        "      <th>4</th>\n",
        "      <td> 2209.5300000</td>\n",
        "      <td> 17216.2539062</td>\n",
        "      <td> 10.9899998</td>\n",
        "      <td> 678</td>\n",
        "    </tr>\n",
        "  </tbody>\n",
        "</table>\n",
        "<p>5 rows \u00d7 4 columns</p>\n",
        "</div>"
       ],
       "metadata": {},
       "output_type": "pyout",
       "prompt_number": 17,
       "text": [
        "              0              1           2    3\n",
        "0  1669.7500000  14122.1464844  11.1599998  575\n",
        "1   283.5500000   1174.3789062   9.8500004  145\n",
        "2   654.8500000   4659.4145508  12.0650005  178\n",
        "3  1580.5100000  14650.8203125  14.2500000  608\n",
        "4  2209.5300000  17216.2539062  10.9899998  678\n",
        "\n",
        "[5 rows x 4 columns]"
       ]
      }
     ],
     "prompt_number": 17
    },
    {
     "cell_type": "code",
     "collapsed": false,
     "input": [
      "df.shape"
     ],
     "language": "python",
     "metadata": {},
     "outputs": [
      {
       "metadata": {},
       "output_type": "pyout",
       "prompt_number": 48,
       "text": [
        "(414, 4)"
       ]
      }
     ],
     "prompt_number": 48
    },
    {
     "cell_type": "code",
     "collapsed": false,
     "input": [
      "df.columns = ['TotalTimeSeconds', 'DistanceMeters', 'MaximumSpeed', 'Calories']"
     ],
     "language": "python",
     "metadata": {},
     "outputs": [],
     "prompt_number": 18
    },
    {
     "cell_type": "code",
     "collapsed": false,
     "input": [
      "df.head()"
     ],
     "language": "python",
     "metadata": {},
     "outputs": [
      {
       "html": [
        "<div style=\"max-height:1000px;max-width:1500px;overflow:auto;\">\n",
        "<table border=\"1\" class=\"dataframe\">\n",
        "  <thead>\n",
        "    <tr style=\"text-align: right;\">\n",
        "      <th></th>\n",
        "      <th>TotalTimeSeconds</th>\n",
        "      <th>DistanceMeters</th>\n",
        "      <th>MaximumSpeed</th>\n",
        "      <th>Calories</th>\n",
        "    </tr>\n",
        "  </thead>\n",
        "  <tbody>\n",
        "    <tr>\n",
        "      <th>0</th>\n",
        "      <td> 1669.7500000</td>\n",
        "      <td> 14122.1464844</td>\n",
        "      <td> 11.1599998</td>\n",
        "      <td> 575</td>\n",
        "    </tr>\n",
        "    <tr>\n",
        "      <th>1</th>\n",
        "      <td>  283.5500000</td>\n",
        "      <td>  1174.3789062</td>\n",
        "      <td>  9.8500004</td>\n",
        "      <td> 145</td>\n",
        "    </tr>\n",
        "    <tr>\n",
        "      <th>2</th>\n",
        "      <td>  654.8500000</td>\n",
        "      <td>  4659.4145508</td>\n",
        "      <td> 12.0650005</td>\n",
        "      <td> 178</td>\n",
        "    </tr>\n",
        "    <tr>\n",
        "      <th>3</th>\n",
        "      <td> 1580.5100000</td>\n",
        "      <td> 14650.8203125</td>\n",
        "      <td> 14.2500000</td>\n",
        "      <td> 608</td>\n",
        "    </tr>\n",
        "    <tr>\n",
        "      <th>4</th>\n",
        "      <td> 2209.5300000</td>\n",
        "      <td> 17216.2539062</td>\n",
        "      <td> 10.9899998</td>\n",
        "      <td> 678</td>\n",
        "    </tr>\n",
        "  </tbody>\n",
        "</table>\n",
        "<p>5 rows \u00d7 4 columns</p>\n",
        "</div>"
       ],
       "metadata": {},
       "output_type": "pyout",
       "prompt_number": 19,
       "text": [
        "  TotalTimeSeconds DistanceMeters MaximumSpeed Calories\n",
        "0     1669.7500000  14122.1464844   11.1599998      575\n",
        "1      283.5500000   1174.3789062    9.8500004      145\n",
        "2      654.8500000   4659.4145508   12.0650005      178\n",
        "3     1580.5100000  14650.8203125   14.2500000      608\n",
        "4     2209.5300000  17216.2539062   10.9899998      678\n",
        "\n",
        "[5 rows x 4 columns]"
       ]
      }
     ],
     "prompt_number": 19
    },
    {
     "cell_type": "code",
     "collapsed": false,
     "input": [
      "df.describe()"
     ],
     "language": "python",
     "metadata": {},
     "outputs": [
      {
       "html": [
        "<div style=\"max-height:1000px;max-width:1500px;overflow:auto;\">\n",
        "<table border=\"1\" class=\"dataframe\">\n",
        "  <thead>\n",
        "    <tr style=\"text-align: right;\">\n",
        "      <th></th>\n",
        "      <th>TotalTimeSeconds</th>\n",
        "      <th>DistanceMeters</th>\n",
        "      <th>MaximumSpeed</th>\n",
        "      <th>Calories</th>\n",
        "    </tr>\n",
        "  </thead>\n",
        "  <tbody>\n",
        "    <tr>\n",
        "      <th>count</th>\n",
        "      <td>          414</td>\n",
        "      <td>           414</td>\n",
        "      <td>        414</td>\n",
        "      <td> 414</td>\n",
        "    </tr>\n",
        "    <tr>\n",
        "      <th>unique</th>\n",
        "      <td>          412</td>\n",
        "      <td>           414</td>\n",
        "      <td>        359</td>\n",
        "      <td> 252</td>\n",
        "    </tr>\n",
        "    <tr>\n",
        "      <th>top</th>\n",
        "      <td> 1594.5900000</td>\n",
        "      <td> 14661.3007812</td>\n",
        "      <td> 11.9650002</td>\n",
        "      <td> 596</td>\n",
        "    </tr>\n",
        "    <tr>\n",
        "      <th>freq</th>\n",
        "      <td>            2</td>\n",
        "      <td>             1</td>\n",
        "      <td>          4</td>\n",
        "      <td>   7</td>\n",
        "    </tr>\n",
        "  </tbody>\n",
        "</table>\n",
        "<p>4 rows \u00d7 4 columns</p>\n",
        "</div>"
       ],
       "metadata": {},
       "output_type": "pyout",
       "prompt_number": 20,
       "text": [
        "       TotalTimeSeconds DistanceMeters MaximumSpeed Calories\n",
        "count               414            414          414      414\n",
        "unique              412            414          359      252\n",
        "top        1594.5900000  14661.3007812   11.9650002      596\n",
        "freq                  2              1            4        7\n",
        "\n",
        "[4 rows x 4 columns]"
       ]
      }
     ],
     "prompt_number": 20
    },
    {
     "cell_type": "code",
     "collapsed": false,
     "input": [
      "df.to_csv(\"parsed_2013.csv\")"
     ],
     "language": "python",
     "metadata": {},
     "outputs": [],
     "prompt_number": 57
    },
    {
     "cell_type": "code",
     "collapsed": false,
     "input": [],
     "language": "python",
     "metadata": {},
     "outputs": []
    }
   ],
   "metadata": {}
  }
 ]
}