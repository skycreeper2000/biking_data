{
 "metadata": {
  "name": ""
 },
 "nbformat": 3,
 "nbformat_minor": 0,
 "worksheets": [
  {
   "cells": [
    {
     "cell_type": "code",
     "collapsed": false,
     "input": [
      "import collections \n",
      "import pandas\n",
      "from lxml import etree as ET #this was missing from 'python for data analysis' example\n",
      "from lxml import objectify"
     ],
     "language": "python",
     "metadata": {},
     "outputs": [],
     "prompt_number": 22
    },
    {
     "cell_type": "code",
     "collapsed": false,
     "input": [
      "path = \"2013_xml.tcx\"\n",
      "parsed = objectify.parse(open(path))\n",
      "root = parsed.getroot()"
     ],
     "language": "python",
     "metadata": {},
     "outputs": [],
     "prompt_number": 23
    },
    {
     "cell_type": "code",
     "collapsed": false,
     "input": [
      "data = []\n",
      "\n",
      "upper_field = ['Id','Lap']\n",
      "middle_field = ['TotalTimeSeconds', 'DistanceMeters', 'MaximumSpeed', 'Calories']\n",
      "extensions = ['AvgSpeed']\n",
      "\n",
      "#if False:\n",
      "    \n",
      "for activity in root.Activities.Activity:\n",
      "    upper_data = collections.defaultdict(list)\n",
      "    id = activity.Id\n",
      "    for lap in activity.Lap:\n",
      "        #print dir(child)    #to get all the elements\n",
      "        #print child.tag\n",
      "        for metric in middle_field:\n",
      "            upper_data[metric] = lap.TotalTimeSeconds.text, lap.DistanceMeters.text, lap.MaximumSpeed.text, lap.Calories.text)\n",
      "        \n",
      "        #for title in item.getchildren():\n",
      "               #need a way to parse out the part after the prepended namespace\n",
      "         #   if title.tag in upper_field:\n",
      "          #      upper_data[title.tag]=title.text\n",
      "                #print title.text\n",
      "\n",
      "\n",
      "    "
     ],
     "language": "python",
     "metadata": {},
     "outputs": [
      {
       "ename": "XMLSyntaxError",
       "evalue": "Start tag expected, '<' not found, line 1, column 1",
       "output_type": "pyerr",
       "traceback": [
        "\u001b[0;36m  File \u001b[0;32m\"<string>\"\u001b[0;36m, line \u001b[0;32munknown\u001b[0m\n\u001b[0;31mXMLSyntaxError\u001b[0m\u001b[0;31m:\u001b[0m Start tag expected, '<' not found, line 1, column 1\n"
       ]
      }
     ],
     "prompt_number": 24
    },
    {
     "cell_type": "code",
     "collapsed": false,
     "input": [
      "df = pandas.DataFrame(data)"
     ],
     "language": "python",
     "metadata": {},
     "outputs": [],
     "prompt_number": 25
    },
    {
     "cell_type": "code",
     "collapsed": false,
     "input": [
      "df.head()"
     ],
     "language": "python",
     "metadata": {},
     "outputs": [
      {
       "html": [
        "<div style=\"max-height:1000px;max-width:1500px;overflow:auto;\">\n",
        "<table border=\"1\" class=\"dataframe\">\n",
        "  <tbody>\n",
        "    <tr>\n",
        "      <td>Int64Index([0], dtype='int64')</td>\n",
        "      <td>Empty DataFrame</td>\n",
        "    </tr>\n",
        "  </tbody>\n",
        "</table>\n",
        "<p>1 rows \u00d7 0 columns</p>\n",
        "</div>"
       ],
       "metadata": {},
       "output_type": "pyout",
       "prompt_number": 26,
       "text": [
        "Empty DataFrame\n",
        "Columns: []\n",
        "Index: [0]\n",
        "\n",
        "[1 rows x 0 columns]"
       ]
      }
     ],
     "prompt_number": 26
    },
    {
     "cell_type": "code",
     "collapsed": false,
     "input": [],
     "language": "python",
     "metadata": {},
     "outputs": []
    }
   ],
   "metadata": {}
  }
 ]
}