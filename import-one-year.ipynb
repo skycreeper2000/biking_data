{
 "metadata": {
  "name": "",
  "signature": "sha256:d6279f1cbd08ef30c91e769a0fb5f44ef7ad992677420bc0d8227bd77ad54e39"
 },
 "nbformat": 3,
 "nbformat_minor": 0,
 "worksheets": [
  {
   "cells": [
    {
     "cell_type": "code",
     "collapsed": false,
     "input": [
      "import collections \n",
      "import pandas\n",
      "from lxml import etree as ET #this was missing from 'python for data analysis' example\n",
      "from lxml import objectify\n",
      "import numpy as np"
     ],
     "language": "python",
     "metadata": {},
     "outputs": [],
     "prompt_number": 1
    },
    {
     "cell_type": "code",
     "collapsed": false,
     "input": [
      "pandas.__version__"
     ],
     "language": "python",
     "metadata": {},
     "outputs": [
      {
       "metadata": {},
       "output_type": "pyout",
       "prompt_number": 2,
       "text": [
        "'0.14.1'"
       ]
      }
     ],
     "prompt_number": 2
    },
    {
     "cell_type": "code",
     "collapsed": false,
     "input": [
      "path = \"2013_xml.tcx\"\n",
      "parsed = objectify.parse(open(path))\n",
      "root = parsed.getroot()"
     ],
     "language": "python",
     "metadata": {},
     "outputs": [],
     "prompt_number": 2
    },
    {
     "cell_type": "code",
     "collapsed": false,
     "input": [
      "#xml_new = ET.tostring(root, pretty_print=True) # a way to view the file, if you couldn't do it from 'more' or 'vim' "
     ],
     "language": "python",
     "metadata": {},
     "outputs": [],
     "prompt_number": 71
    },
    {
     "cell_type": "code",
     "collapsed": false,
     "input": [
      "#links in the file are wrong, current url is: http://developer.garmin.com/schemas/tcx/v2/"
     ],
     "language": "python",
     "metadata": {},
     "outputs": []
    },
    {
     "cell_type": "code",
     "collapsed": false,
     "input": [
      "kids = root.Activities.Activity.Lap.Extensions.getchildren()"
     ],
     "language": "python",
     "metadata": {},
     "outputs": [],
     "prompt_number": 3
    },
    {
     "cell_type": "code",
     "collapsed": false,
     "input": [
      "root.Activities.Activity.Lap.descendantpaths()"
     ],
     "language": "python",
     "metadata": {},
     "outputs": [
      {
       "metadata": {},
       "output_type": "pyout",
       "prompt_number": 4,
       "text": [
        "[u'{http://www.garmin.com/xmlschemas/TrainingCenterDatabase/v2}Lap',\n",
        " u'{http://www.garmin.com/xmlschemas/TrainingCenterDatabase/v2}Lap.TotalTimeSeconds',\n",
        " u'{http://www.garmin.com/xmlschemas/TrainingCenterDatabase/v2}Lap.DistanceMeters',\n",
        " u'{http://www.garmin.com/xmlschemas/TrainingCenterDatabase/v2}Lap.MaximumSpeed',\n",
        " u'{http://www.garmin.com/xmlschemas/TrainingCenterDatabase/v2}Lap.Calories',\n",
        " u'{http://www.garmin.com/xmlschemas/TrainingCenterDatabase/v2}Lap.Intensity',\n",
        " u'{http://www.garmin.com/xmlschemas/TrainingCenterDatabase/v2}Lap.Cadence',\n",
        " u'{http://www.garmin.com/xmlschemas/TrainingCenterDatabase/v2}Lap.TriggerMethod',\n",
        " u'{http://www.garmin.com/xmlschemas/TrainingCenterDatabase/v2}Lap.Extensions',\n",
        " u'{http://www.garmin.com/xmlschemas/TrainingCenterDatabase/v2}Lap.Extensions.{http://www.garmin.com/xmlschemas/FatCalories/v1}FatCalories',\n",
        " u'{http://www.garmin.com/xmlschemas/TrainingCenterDatabase/v2}Lap.Extensions.{http://www.garmin.com/xmlschemas/FatCalories/v1}FatCalories.Value',\n",
        " u'{http://www.garmin.com/xmlschemas/TrainingCenterDatabase/v2}Lap.Extensions.{http://www.garmin.com/xmlschemas/ActivityExtension/v2}LX',\n",
        " u'{http://www.garmin.com/xmlschemas/TrainingCenterDatabase/v2}Lap.Extensions.{http://www.garmin.com/xmlschemas/ActivityExtension/v2}LX.AvgSpeed']"
       ]
      }
     ],
     "prompt_number": 4
    },
    {
     "cell_type": "code",
     "collapsed": false,
     "input": [
      "#upper_field = ['Id','Lap']\n",
      "#middle_field = ['TotalTimeSeconds', 'DistanceMeters', 'MaximumSpeed', 'Calories']\n",
      "\n",
      "#extensions = ['AvgSpeed']\n",
      "\n",
      "timestamps = []\n",
      "\n",
      "count = 0 #count laps\n",
      "StartTime = []\n",
      "TotalTimeSeconds = [] \n",
      "DistanceMeters = []\n",
      "MaximumSpeed = []\n",
      "Calories = []\n",
      "\n",
      "AvgSpeedList = []\n",
      "\n",
      "for activity in root.Activities.Activity:\n",
      "   # timestamps.append(activity.Id) #this comes out to fewer - not one per lap (?) \n",
      "    for lap in activity.Lap:\n",
      "        #print dir(lap)    #to get all the elements\n",
      "        #print lap.getchildren()\n",
      "        #print lap.Extensions\n",
      "        #print child.tag\n",
      "        #print timestamps\n",
      "        count +=1\n",
      "        StartTime.append(lap.values()[0]) \n",
      "        TotalTimeSeconds.append(float(lap.TotalTimeSeconds.text))\n",
      "        DistanceMeters.append(float(lap.DistanceMeters.text))\n",
      "        MaximumSpeed.append(float(lap.MaximumSpeed.text))\n",
      "        Calories.append(lap.Calories.text)\n",
      "        \n",
      "        kids= lap.Extensions.getchildren()\n",
      "        avgspeed = kids[1].AvgSpeed.pyval #have to do pyval to get rid of nested brackets from xml\n",
      "        AvgSpeedList.append(avgspeed)\n",
      "\n",
      "            \n",
      "        \n",
      "print count\n",
      "\n",
      "\n",
      "\n",
      "    "
     ],
     "language": "python",
     "metadata": {},
     "outputs": [
      {
       "output_type": "stream",
       "stream": "stdout",
       "text": [
        "414\n"
       ]
      }
     ],
     "prompt_number": 17
    },
    {
     "cell_type": "code",
     "collapsed": false,
     "input": [
      "root.Activities.Activity.Lap[1].values()"
     ],
     "language": "python",
     "metadata": {},
     "outputs": [
      {
       "metadata": {},
       "output_type": "pyout",
       "prompt_number": 6,
       "text": [
        "['2013-06-12T00:42:37Z']"
       ]
      }
     ],
     "prompt_number": 6
    },
    {
     "cell_type": "code",
     "collapsed": false,
     "input": [
      "#maybe look up how to use the elementree (?)"
     ],
     "language": "python",
     "metadata": {},
     "outputs": [
      {
       "output_type": "stream",
       "stream": "stdout",
       "text": [
        "None\n"
       ]
      }
     ],
     "prompt_number": 56
    },
    {
     "cell_type": "code",
     "collapsed": false,
     "input": [
      "#check that desired lists are all the same length, prior to joining them \n",
      "print len(StartTime), len(TotalTimeSeconds), len(DistanceMeters), len(MaximumSpeed), len(Calories), len(AvgSpeedList)"
     ],
     "language": "python",
     "metadata": {},
     "outputs": [
      {
       "output_type": "stream",
       "stream": "stdout",
       "text": [
        "414 414 414 414 414 414\n"
       ]
      }
     ],
     "prompt_number": 38
    },
    {
     "cell_type": "code",
     "collapsed": false,
     "input": [
      "#convert lists to pandas Series and round off to reasonable significant figures\n",
      "StartTime = pandas.Series(StartTime)\n",
      "TotalTimeSeconds = pandas.Series(TotalTimeSeconds)\n",
      "DistanceMeters = pandas.Series(DistanceMeters)\n",
      "MaximumSpeed = pandas.Series(MaximumSpeed)\n",
      "Calories = pandas.Series(Calories)\n",
      "AverageSpeed = pandas.Series(AvgSpeedList)\n",
      "\n",
      "#get rid of extra decimal places\n",
      "DistanceMeters = DistanceMeters.round(2)\n",
      "MaximumSpeed = MaximumSpeed.round(2)\n",
      "AverageSpeed = AverageSpeed.round(2)"
     ],
     "language": "python",
     "metadata": {},
     "outputs": [],
     "prompt_number": 39
    },
    {
     "cell_type": "code",
     "collapsed": false,
     "input": [
      "#write a short script to generate the list of months\n",
      "months = pandas.PeriodIndex([pandas.Period('2013-01'), pandas.Period('2013-02'), pandas.Period('2013-03'), pandas.Period('2013-04'), pandas.Period('2013-05'), pandas.Period('2013-06'),\\\n",
      "pandas.Period('2013-07'), pandas.Period('2013-08'), pandas.Period('2013-09'), pandas.Period('2013-10'), pandas.Period('2013-11'), pandas.Period('2013-12')])\n",
      "\n",
      "ts = pandas.Series(months)\n",
      "\n",
      "type(ts.index)\n",
      "#pandas.tseries.period.PeriodIndex <-- this is wrong (?). all that, and it didn't even work. :( \n",
      "#would also be nice to know if it's possible to join these together to do seasons"
     ],
     "language": "python",
     "metadata": {},
     "outputs": [
      {
       "metadata": {},
       "output_type": "pyout",
       "prompt_number": 51,
       "text": [
        "pandas.core.index.Int64Index"
       ]
      }
     ],
     "prompt_number": 51
    },
    {
     "cell_type": "code",
     "collapsed": false,
     "input": [
      "#join Series as columns in a new dataframe\n",
      "df = pandas.concat([StartTime, TotalTimeSeconds, DistanceMeters, MaximumSpeed, Calories, AverageSpeed], axis=1)"
     ],
     "language": "python",
     "metadata": {},
     "outputs": [],
     "prompt_number": 43
    },
    {
     "cell_type": "code",
     "collapsed": false,
     "input": [
      "#check the dimensions of the resulting dataframe\n",
      "df.shape"
     ],
     "language": "python",
     "metadata": {},
     "outputs": [
      {
       "metadata": {},
       "output_type": "pyout",
       "prompt_number": 45,
       "text": [
        "(414, 6)"
       ]
      }
     ],
     "prompt_number": 45
    },
    {
     "cell_type": "code",
     "collapsed": false,
     "input": [
      "#rename the columns to something useful\n",
      "df.columns = ['StartTime','TotalTimeSeconds', 'DistanceMeters', 'MaximumSpeed', 'Calories', 'AverageSpeed']"
     ],
     "language": "python",
     "metadata": {},
     "outputs": [],
     "prompt_number": 46
    },
    {
     "cell_type": "code",
     "collapsed": false,
     "input": [
      "#check how it looks\n",
      "df.head()"
     ],
     "language": "python",
     "metadata": {},
     "outputs": [
      {
       "html": [
        "<div style=\"max-height:1000px;max-width:1500px;overflow:auto;\">\n",
        "<table border=\"1\" class=\"dataframe\">\n",
        "  <thead>\n",
        "    <tr style=\"text-align: right;\">\n",
        "      <th></th>\n",
        "      <th>StartTime</th>\n",
        "      <th>TotalTimeSeconds</th>\n",
        "      <th>DistanceMeters</th>\n",
        "      <th>MaximumSpeed</th>\n",
        "      <th>Calories</th>\n",
        "      <th>AverageSpeed</th>\n",
        "    </tr>\n",
        "  </thead>\n",
        "  <tbody>\n",
        "    <tr>\n",
        "      <th>0</th>\n",
        "      <td> 2013-06-11T23:18:21Z</td>\n",
        "      <td> 1669.75</td>\n",
        "      <td> 14122.15</td>\n",
        "      <td> 11.16</td>\n",
        "      <td> 575</td>\n",
        "      <td> 8.46</td>\n",
        "    </tr>\n",
        "    <tr>\n",
        "      <th>1</th>\n",
        "      <td> 2013-06-12T00:42:37Z</td>\n",
        "      <td>  283.55</td>\n",
        "      <td>  1174.38</td>\n",
        "      <td>  9.85</td>\n",
        "      <td> 145</td>\n",
        "      <td> 4.14</td>\n",
        "    </tr>\n",
        "    <tr>\n",
        "      <th>2</th>\n",
        "      <td> 2013-10-02T13:31:43Z</td>\n",
        "      <td>  654.85</td>\n",
        "      <td>  4659.41</td>\n",
        "      <td> 12.07</td>\n",
        "      <td> 178</td>\n",
        "      <td> 7.12</td>\n",
        "    </tr>\n",
        "    <tr>\n",
        "      <th>3</th>\n",
        "      <td> 2013-10-02T14:46:50Z</td>\n",
        "      <td> 1580.51</td>\n",
        "      <td> 14650.82</td>\n",
        "      <td> 14.25</td>\n",
        "      <td> 608</td>\n",
        "      <td> 9.27</td>\n",
        "    </tr>\n",
        "    <tr>\n",
        "      <th>4</th>\n",
        "      <td> 2013-05-03T22:59:16Z</td>\n",
        "      <td> 2209.53</td>\n",
        "      <td> 17216.25</td>\n",
        "      <td> 10.99</td>\n",
        "      <td> 678</td>\n",
        "      <td> 7.79</td>\n",
        "    </tr>\n",
        "  </tbody>\n",
        "</table>\n",
        "</div>"
       ],
       "metadata": {},
       "output_type": "pyout",
       "prompt_number": 33,
       "text": [
        "              StartTime  TotalTimeSeconds  DistanceMeters  MaximumSpeed  \\\n",
        "0  2013-06-11T23:18:21Z           1669.75        14122.15         11.16   \n",
        "1  2013-06-12T00:42:37Z            283.55         1174.38          9.85   \n",
        "2  2013-10-02T13:31:43Z            654.85         4659.41         12.07   \n",
        "3  2013-10-02T14:46:50Z           1580.51        14650.82         14.25   \n",
        "4  2013-05-03T22:59:16Z           2209.53        17216.25         10.99   \n",
        "\n",
        "  Calories  AverageSpeed  \n",
        "0      575          8.46  \n",
        "1      145          4.14  \n",
        "2      178          7.12  \n",
        "3      608          9.27  \n",
        "4      678          7.79  "
       ]
      }
     ],
     "prompt_number": 33
    },
    {
     "cell_type": "code",
     "collapsed": false,
     "input": [
      "df.describe()"
     ],
     "language": "python",
     "metadata": {},
     "outputs": [
      {
       "html": [
        "<div style=\"max-height:1000px;max-width:1500px;overflow:auto;\">\n",
        "<table border=\"1\" class=\"dataframe\">\n",
        "  <thead>\n",
        "    <tr style=\"text-align: right;\">\n",
        "      <th></th>\n",
        "      <th>TotalTimeSeconds</th>\n",
        "      <th>DistanceMeters</th>\n",
        "      <th>MaximumSpeed</th>\n",
        "      <th>AverageSpeed</th>\n",
        "    </tr>\n",
        "  </thead>\n",
        "  <tbody>\n",
        "    <tr>\n",
        "      <th>count</th>\n",
        "      <td>  414.000000</td>\n",
        "      <td>   414.000000</td>\n",
        "      <td> 414.000000</td>\n",
        "      <td> 414.000000</td>\n",
        "    </tr>\n",
        "    <tr>\n",
        "      <th>mean</th>\n",
        "      <td> 1411.298913</td>\n",
        "      <td> 11073.165266</td>\n",
        "      <td>  11.929469</td>\n",
        "      <td>   7.647729</td>\n",
        "    </tr>\n",
        "    <tr>\n",
        "      <th>std</th>\n",
        "      <td>  773.299535</td>\n",
        "      <td>  5782.578160</td>\n",
        "      <td>   2.289204</td>\n",
        "      <td>   1.442454</td>\n",
        "    </tr>\n",
        "    <tr>\n",
        "      <th>min</th>\n",
        "      <td>    0.970000</td>\n",
        "      <td>     0.000000</td>\n",
        "      <td>   0.120000</td>\n",
        "      <td>   0.000000</td>\n",
        "    </tr>\n",
        "    <tr>\n",
        "      <th>25%</th>\n",
        "      <td>  774.560000</td>\n",
        "      <td>  4760.497500</td>\n",
        "      <td>  11.042500</td>\n",
        "      <td>   7.097500</td>\n",
        "    </tr>\n",
        "    <tr>\n",
        "      <th>50%</th>\n",
        "      <td> 1625.950000</td>\n",
        "      <td> 14130.310000</td>\n",
        "      <td>  11.985000</td>\n",
        "      <td>   8.025000</td>\n",
        "    </tr>\n",
        "    <tr>\n",
        "      <th>75%</th>\n",
        "      <td> 1726.295000</td>\n",
        "      <td> 14650.507500</td>\n",
        "      <td>  12.857500</td>\n",
        "      <td>   8.670000</td>\n",
        "    </tr>\n",
        "    <tr>\n",
        "      <th>max</th>\n",
        "      <td> 6862.640000</td>\n",
        "      <td> 40173.620000</td>\n",
        "      <td>  32.270000</td>\n",
        "      <td>   9.700000</td>\n",
        "    </tr>\n",
        "  </tbody>\n",
        "</table>\n",
        "</div>"
       ],
       "metadata": {},
       "output_type": "pyout",
       "prompt_number": 36,
       "text": [
        "       TotalTimeSeconds  DistanceMeters  MaximumSpeed  AverageSpeed\n",
        "count        414.000000      414.000000    414.000000    414.000000\n",
        "mean        1411.298913    11073.165266     11.929469      7.647729\n",
        "std          773.299535     5782.578160      2.289204      1.442454\n",
        "min            0.970000        0.000000      0.120000      0.000000\n",
        "25%          774.560000     4760.497500     11.042500      7.097500\n",
        "50%         1625.950000    14130.310000     11.985000      8.025000\n",
        "75%         1726.295000    14650.507500     12.857500      8.670000\n",
        "max         6862.640000    40173.620000     32.270000      9.700000"
       ]
      }
     ],
     "prompt_number": 36
    },
    {
     "cell_type": "code",
     "collapsed": false,
     "input": [
      "df.to_csv(\"parsed_2013.csv\")"
     ],
     "language": "python",
     "metadata": {},
     "outputs": [],
     "prompt_number": 37
    },
    {
     "cell_type": "code",
     "collapsed": false,
     "input": [],
     "language": "python",
     "metadata": {},
     "outputs": []
    }
   ],
   "metadata": {}
  }
 ]
}