{
 "metadata": {
  "name": ""
 },
 "nbformat": 3,
 "nbformat_minor": 0,
 "worksheets": [
  {
   "cells": [
    {
     "cell_type": "code",
     "collapsed": false,
     "input": [
      "pandas.__version__"
     ],
     "language": "python",
     "metadata": {},
     "outputs": [
      {
       "metadata": {},
       "output_type": "pyout",
       "prompt_number": 43,
       "text": [
        "'0.13.1'"
       ]
      }
     ],
     "prompt_number": 43
    },
    {
     "cell_type": "code",
     "collapsed": false,
     "input": [
      "import collections \n",
      "import pandas\n",
      "from lxml import etree as ET #this was missing from 'python for data analysis' example\n",
      "from lxml import objectify"
     ],
     "language": "python",
     "metadata": {},
     "outputs": [],
     "prompt_number": 1
    },
    {
     "cell_type": "code",
     "collapsed": false,
     "input": [
      "path = \"2013_xml.tcx\"\n",
      "parsed = objectify.parse(open(path))\n",
      "root = parsed.getroot()"
     ],
     "language": "python",
     "metadata": {},
     "outputs": [],
     "prompt_number": 2
    },
    {
     "cell_type": "code",
     "collapsed": false,
     "input": [
      "#xml_new = ET.tostring(root, pretty_print=True) # a way to view the file, if you couldn't do it from 'more' or 'vim' "
     ],
     "language": "python",
     "metadata": {},
     "outputs": [],
     "prompt_number": 71
    },
    {
     "cell_type": "code",
     "collapsed": false,
     "input": [
      "kids = root.Activities.Activity.Lap.Extensions.getchildren()"
     ],
     "language": "python",
     "metadata": {},
     "outputs": [],
     "prompt_number": 87
    },
    {
     "cell_type": "code",
     "collapsed": false,
     "input": [
      "root.Activities.Activity.Lap.descendantpaths()"
     ],
     "language": "python",
     "metadata": {},
     "outputs": [
      {
       "metadata": {},
       "output_type": "pyout",
       "prompt_number": 48,
       "text": [
        "[u'{http://www.garmin.com/xmlschemas/TrainingCenterDatabase/v2}Lap',\n",
        " u'{http://www.garmin.com/xmlschemas/TrainingCenterDatabase/v2}Lap.TotalTimeSeconds',\n",
        " u'{http://www.garmin.com/xmlschemas/TrainingCenterDatabase/v2}Lap.DistanceMeters',\n",
        " u'{http://www.garmin.com/xmlschemas/TrainingCenterDatabase/v2}Lap.MaximumSpeed',\n",
        " u'{http://www.garmin.com/xmlschemas/TrainingCenterDatabase/v2}Lap.Calories',\n",
        " u'{http://www.garmin.com/xmlschemas/TrainingCenterDatabase/v2}Lap.Intensity',\n",
        " u'{http://www.garmin.com/xmlschemas/TrainingCenterDatabase/v2}Lap.Cadence',\n",
        " u'{http://www.garmin.com/xmlschemas/TrainingCenterDatabase/v2}Lap.TriggerMethod',\n",
        " u'{http://www.garmin.com/xmlschemas/TrainingCenterDatabase/v2}Lap.Extensions',\n",
        " u'{http://www.garmin.com/xmlschemas/TrainingCenterDatabase/v2}Lap.Extensions.{http://www.garmin.com/xmlschemas/FatCalories/v1}FatCalories',\n",
        " u'{http://www.garmin.com/xmlschemas/TrainingCenterDatabase/v2}Lap.Extensions.{http://www.garmin.com/xmlschemas/FatCalories/v1}FatCalories.Value',\n",
        " u'{http://www.garmin.com/xmlschemas/TrainingCenterDatabase/v2}Lap.Extensions.{http://www.garmin.com/xmlschemas/ActivityExtension/v2}LX',\n",
        " u'{http://www.garmin.com/xmlschemas/TrainingCenterDatabase/v2}Lap.Extensions.{http://www.garmin.com/xmlschemas/ActivityExtension/v2}LX.AvgSpeed']"
       ]
      }
     ],
     "prompt_number": 48
    },
    {
     "cell_type": "code",
     "collapsed": false,
     "input": [
      "#upper_field = ['Id','Lap']\n",
      "#middle_field = ['TotalTimeSeconds', 'DistanceMeters', 'MaximumSpeed', 'Calories']\n",
      "\n",
      "#maybe add this back later if this works\n",
      "\n",
      "#extensions = ['AvgSpeed']\n",
      "\n",
      "timestamps = []\n",
      "\n",
      "count = 0 #count laps\n",
      "TotalTimeSeconds = [] \n",
      "DistanceMeters = []\n",
      "MaximumSpeed = []\n",
      "Calories = []\n",
      "\n",
      "AvgSpeedList = []\n",
      "\n",
      "for activity in root.Activities.Activity:\n",
      "    timestamps.append(activity.Id) #this comes out to fewer - not one per lap (?) \n",
      "    for lap in activity.Lap:\n",
      "        #print dir(lap)    #to get all the elements\n",
      "        #print lap.getchildren()\n",
      "        #print lap.Extensions\n",
      "        #print child.tag\n",
      "        #print timestamps\n",
      "        count +=1                \n",
      "        TotalTimeSeconds.append(lap.TotalTimeSeconds.text)\n",
      "        DistanceMeters.append(lap.DistanceMeters.text)\n",
      "        MaximumSpeed.append(lap.MaximumSpeed.text)\n",
      "        Calories.append(lap.Calories.text)\n",
      "        \n",
      "        kids= lap.Extensions.getchildren()\n",
      "        avgspeed = kids[1].AvgSpeed\n",
      "        #print avgspeed\n",
      "        AvgSpeedList.append(avgspeed)\n",
      "\n",
      "            \n",
      "        \n",
      "print count\n",
      "\n",
      "\n",
      "\n",
      "    "
     ],
     "language": "python",
     "metadata": {},
     "outputs": [
      {
       "output_type": "stream",
       "stream": "stdout",
       "text": [
        "414\n"
       ]
      }
     ],
     "prompt_number": 3
    },
    {
     "cell_type": "code",
     "collapsed": false,
     "input": [
      "#maybe look up how to use the elementree (?)"
     ],
     "language": "python",
     "metadata": {},
     "outputs": [
      {
       "output_type": "stream",
       "stream": "stdout",
       "text": [
        "None\n"
       ]
      }
     ],
     "prompt_number": 56
    },
    {
     "cell_type": "code",
     "collapsed": false,
     "input": [
      "type(AvgSpeedList), type (MaximumSpeed)"
     ],
     "language": "python",
     "metadata": {},
     "outputs": [
      {
       "metadata": {},
       "output_type": "pyout",
       "prompt_number": 4,
       "text": [
        "(list, list)"
       ]
      }
     ],
     "prompt_number": 4
    },
    {
     "cell_type": "code",
     "collapsed": false,
     "input": [
      "print len(timestamps), len(TotalTimeSeconds), len(DistanceMeters), len(MaximumSpeed), len(Calories), len(AvgSpeedList)"
     ],
     "language": "python",
     "metadata": {},
     "outputs": [
      {
       "output_type": "stream",
       "stream": "stdout",
       "text": [
        "262 414 414 414 414 414\n"
       ]
      }
     ],
     "prompt_number": 5
    },
    {
     "cell_type": "code",
     "collapsed": false,
     "input": [
      "TotalTimeSeconds = pandas.Series(TotalTimeSeconds)\n",
      "DistanceMeters = pandas.Series(DistanceMeters)\n",
      "MaximumSpeed = pandas.Series(MaximumSpeed)\n",
      "Calories = pandas.Series(Calories)\n",
      "AverageSpeed = pandas.Series(AvgSpeedList)"
     ],
     "language": "python",
     "metadata": {},
     "outputs": [],
     "prompt_number": 6
    },
    {
     "cell_type": "code",
     "collapsed": false,
     "input": [
      "print AverageSpeed"
     ],
     "language": "python",
     "metadata": {},
     "outputs": [
      {
       "output_type": "stream",
       "stream": "stdout",
       "text": [
        "0     [[[8.4576416]]]\n",
        "1     [[[4.1416993]]]\n",
        "2     [[[7.1152396]]]\n",
        "3     [[[9.2696791]]]\n",
        "4     [[[7.7918172]]]\n",
        "5     [[[7.2089705]]]\n",
        "6     [[[8.5071774]]]\n",
        "7     [[[9.5548029]]]\n",
        "8     [[[8.8231926]]]\n",
        "9     [[[6.4183893]]]\n",
        "10    [[[8.5680799]]]\n",
        "11    [[[5.7454314]]]\n",
        "12    [[[8.5687971]]]\n",
        "13    [[[8.8176136]]]\n",
        "14    [[[8.3313951]]]\n",
        "...\n",
        "399    [[[8.8171959]]]\n",
        "400    [[[8.5934362]]]\n",
        "401    [[[5.3088751]]]\n",
        "402    [[[9.5791159]]]\n",
        "403    [[[7.4589033]]]\n",
        "404    [[[7.4482498]]]\n",
        "405    [[[8.7964935]]]\n",
        "406    [[[8.0176086]]]\n",
        "407    [[[8.9885912]]]\n",
        "408    [[[9.2435484]]]\n",
        "409    [[[8.2750702]]]\n",
        "410    [[[8.5124397]]]\n",
        "411    [[[5.3960466]]]\n",
        "412    [[[7.8477621]]]\n",
        "413     [[[8.455452]]]\n",
        "Length: 414, dtype: object\n"
       ]
      }
     ],
     "prompt_number": 7
    },
    {
     "cell_type": "code",
     "collapsed": false,
     "input": [
      "df = pandas.concat([TotalTimeSeconds, DistanceMeters, MaximumSpeed, Calories, AverageSpeed], axis=1)"
     ],
     "language": "python",
     "metadata": {},
     "outputs": [],
     "prompt_number": 8
    },
    {
     "cell_type": "code",
     "collapsed": false,
     "input": [
      "df.head()"
     ],
     "language": "python",
     "metadata": {},
     "outputs": [
      {
       "html": [
        "<div style=\"max-height:1000px;max-width:1500px;overflow:auto;\">\n",
        "<table border=\"1\" class=\"dataframe\">\n",
        "  <thead>\n",
        "    <tr style=\"text-align: right;\">\n",
        "      <th></th>\n",
        "      <th>0</th>\n",
        "      <th>1</th>\n",
        "      <th>2</th>\n",
        "      <th>3</th>\n",
        "      <th>4</th>\n",
        "    </tr>\n",
        "  </thead>\n",
        "  <tbody>\n",
        "    <tr>\n",
        "      <th>0</th>\n",
        "      <td> 1669.7500000</td>\n",
        "      <td> 14122.1464844</td>\n",
        "      <td> 11.1599998</td>\n",
        "      <td> 575</td>\n",
        "      <td> [[[8.4576416]]]</td>\n",
        "    </tr>\n",
        "    <tr>\n",
        "      <th>1</th>\n",
        "      <td>  283.5500000</td>\n",
        "      <td>  1174.3789062</td>\n",
        "      <td>  9.8500004</td>\n",
        "      <td> 145</td>\n",
        "      <td> [[[4.1416993]]]</td>\n",
        "    </tr>\n",
        "    <tr>\n",
        "      <th>2</th>\n",
        "      <td>  654.8500000</td>\n",
        "      <td>  4659.4145508</td>\n",
        "      <td> 12.0650005</td>\n",
        "      <td> 178</td>\n",
        "      <td> [[[7.1152396]]]</td>\n",
        "    </tr>\n",
        "    <tr>\n",
        "      <th>3</th>\n",
        "      <td> 1580.5100000</td>\n",
        "      <td> 14650.8203125</td>\n",
        "      <td> 14.2500000</td>\n",
        "      <td> 608</td>\n",
        "      <td> [[[9.2696791]]]</td>\n",
        "    </tr>\n",
        "    <tr>\n",
        "      <th>4</th>\n",
        "      <td> 2209.5300000</td>\n",
        "      <td> 17216.2539062</td>\n",
        "      <td> 10.9899998</td>\n",
        "      <td> 678</td>\n",
        "      <td> [[[7.7918172]]]</td>\n",
        "    </tr>\n",
        "  </tbody>\n",
        "</table>\n",
        "<p>5 rows \u00d7 5 columns</p>\n",
        "</div>"
       ],
       "metadata": {},
       "output_type": "pyout",
       "prompt_number": 9,
       "text": [
        "              0              1           2    3                4\n",
        "0  1669.7500000  14122.1464844  11.1599998  575  [[[8.4576416]]]\n",
        "1   283.5500000   1174.3789062   9.8500004  145  [[[4.1416993]]]\n",
        "2   654.8500000   4659.4145508  12.0650005  178  [[[7.1152396]]]\n",
        "3  1580.5100000  14650.8203125  14.2500000  608  [[[9.2696791]]]\n",
        "4  2209.5300000  17216.2539062  10.9899998  678  [[[7.7918172]]]\n",
        "\n",
        "[5 rows x 5 columns]"
       ]
      }
     ],
     "prompt_number": 9
    },
    {
     "cell_type": "code",
     "collapsed": false,
     "input": [
      "df.shape"
     ],
     "language": "python",
     "metadata": {},
     "outputs": [
      {
       "metadata": {},
       "output_type": "pyout",
       "prompt_number": 114,
       "text": [
        "(414, 5)"
       ]
      }
     ],
     "prompt_number": 114
    },
    {
     "cell_type": "code",
     "collapsed": false,
     "input": [
      "df.columns = ['TotalTimeSeconds', 'DistanceMeters', 'MaximumSpeed', 'Calories', 'AverageSpeed']"
     ],
     "language": "python",
     "metadata": {},
     "outputs": [],
     "prompt_number": 115
    },
    {
     "cell_type": "code",
     "collapsed": false,
     "input": [
      "df.head()"
     ],
     "language": "python",
     "metadata": {},
     "outputs": [
      {
       "html": [
        "<div style=\"max-height:1000px;max-width:1500px;overflow:auto;\">\n",
        "<table border=\"1\" class=\"dataframe\">\n",
        "  <thead>\n",
        "    <tr style=\"text-align: right;\">\n",
        "      <th></th>\n",
        "      <th>TotalTimeSeconds</th>\n",
        "      <th>DistanceMeters</th>\n",
        "      <th>MaximumSpeed</th>\n",
        "      <th>Calories</th>\n",
        "      <th>AverageSpeed</th>\n",
        "    </tr>\n",
        "  </thead>\n",
        "  <tbody>\n",
        "    <tr>\n",
        "      <th>0</th>\n",
        "      <td> 1669.7500000</td>\n",
        "      <td> 14122.1464844</td>\n",
        "      <td> 11.1599998</td>\n",
        "      <td> 575</td>\n",
        "      <td> [[[8.4576416]]]</td>\n",
        "    </tr>\n",
        "    <tr>\n",
        "      <th>1</th>\n",
        "      <td>  283.5500000</td>\n",
        "      <td>  1174.3789062</td>\n",
        "      <td>  9.8500004</td>\n",
        "      <td> 145</td>\n",
        "      <td> [[[4.1416993]]]</td>\n",
        "    </tr>\n",
        "    <tr>\n",
        "      <th>2</th>\n",
        "      <td>  654.8500000</td>\n",
        "      <td>  4659.4145508</td>\n",
        "      <td> 12.0650005</td>\n",
        "      <td> 178</td>\n",
        "      <td> [[[7.1152396]]]</td>\n",
        "    </tr>\n",
        "    <tr>\n",
        "      <th>3</th>\n",
        "      <td> 1580.5100000</td>\n",
        "      <td> 14650.8203125</td>\n",
        "      <td> 14.2500000</td>\n",
        "      <td> 608</td>\n",
        "      <td> [[[9.2696791]]]</td>\n",
        "    </tr>\n",
        "    <tr>\n",
        "      <th>4</th>\n",
        "      <td> 2209.5300000</td>\n",
        "      <td> 17216.2539062</td>\n",
        "      <td> 10.9899998</td>\n",
        "      <td> 678</td>\n",
        "      <td> [[[7.7918172]]]</td>\n",
        "    </tr>\n",
        "  </tbody>\n",
        "</table>\n",
        "<p>5 rows \u00d7 5 columns</p>\n",
        "</div>"
       ],
       "metadata": {},
       "output_type": "pyout",
       "prompt_number": 116,
       "text": [
        "  TotalTimeSeconds DistanceMeters MaximumSpeed Calories     AverageSpeed\n",
        "0     1669.7500000  14122.1464844   11.1599998      575  [[[8.4576416]]]\n",
        "1      283.5500000   1174.3789062    9.8500004      145  [[[4.1416993]]]\n",
        "2      654.8500000   4659.4145508   12.0650005      178  [[[7.1152396]]]\n",
        "3     1580.5100000  14650.8203125   14.2500000      608  [[[9.2696791]]]\n",
        "4     2209.5300000  17216.2539062   10.9899998      678  [[[7.7918172]]]\n",
        "\n",
        "[5 rows x 5 columns]"
       ]
      }
     ],
     "prompt_number": 116
    },
    {
     "cell_type": "code",
     "collapsed": false,
     "input": [
      "df.describe()"
     ],
     "language": "python",
     "metadata": {},
     "outputs": [
      {
       "html": [
        "<div style=\"max-height:1000px;max-width:1500px;overflow:auto;\">\n",
        "<table border=\"1\" class=\"dataframe\">\n",
        "  <thead>\n",
        "    <tr style=\"text-align: right;\">\n",
        "      <th></th>\n",
        "      <th>TotalTimeSeconds</th>\n",
        "      <th>DistanceMeters</th>\n",
        "      <th>MaximumSpeed</th>\n",
        "      <th>Calories</th>\n",
        "      <th>AverageSpeed</th>\n",
        "    </tr>\n",
        "  </thead>\n",
        "  <tbody>\n",
        "    <tr>\n",
        "      <th>count</th>\n",
        "      <td>          414</td>\n",
        "      <td>           414</td>\n",
        "      <td>        414</td>\n",
        "      <td> 414</td>\n",
        "      <td>             414</td>\n",
        "    </tr>\n",
        "    <tr>\n",
        "      <th>unique</th>\n",
        "      <td>          412</td>\n",
        "      <td>           414</td>\n",
        "      <td>        359</td>\n",
        "      <td> 252</td>\n",
        "      <td>             414</td>\n",
        "    </tr>\n",
        "    <tr>\n",
        "      <th>top</th>\n",
        "      <td> 1594.5900000</td>\n",
        "      <td> 14661.3007812</td>\n",
        "      <td> 11.9650002</td>\n",
        "      <td> 596</td>\n",
        "      <td> [[[8.8231926]]]</td>\n",
        "    </tr>\n",
        "    <tr>\n",
        "      <th>freq</th>\n",
        "      <td>            2</td>\n",
        "      <td>             1</td>\n",
        "      <td>          4</td>\n",
        "      <td>   7</td>\n",
        "      <td>               1</td>\n",
        "    </tr>\n",
        "  </tbody>\n",
        "</table>\n",
        "<p>4 rows \u00d7 5 columns</p>\n",
        "</div>"
       ],
       "metadata": {},
       "output_type": "pyout",
       "prompt_number": 117,
       "text": [
        "       TotalTimeSeconds DistanceMeters MaximumSpeed Calories     AverageSpeed\n",
        "count               414            414          414      414              414\n",
        "unique              412            414          359      252              414\n",
        "top        1594.5900000  14661.3007812   11.9650002      596  [[[8.8231926]]]\n",
        "freq                  2              1            4        7                1\n",
        "\n",
        "[4 rows x 5 columns]"
       ]
      }
     ],
     "prompt_number": 117
    },
    {
     "cell_type": "code",
     "collapsed": false,
     "input": [
      "#get rid of those extra brackets in AverageSpeed column - don't quite understand where they're coming from (?)\n",
      "\n"
     ],
     "language": "python",
     "metadata": {},
     "outputs": []
    },
    {
     "cell_type": "code",
     "collapsed": false,
     "input": [
      "#get rid of extra decimal places\n"
     ],
     "language": "python",
     "metadata": {},
     "outputs": []
    },
    {
     "cell_type": "code",
     "collapsed": false,
     "input": [
      "df.to_csv(\"parsed_2013.csv\")"
     ],
     "language": "python",
     "metadata": {},
     "outputs": [],
     "prompt_number": 57
    },
    {
     "cell_type": "code",
     "collapsed": false,
     "input": [],
     "language": "python",
     "metadata": {},
     "outputs": []
    }
   ],
   "metadata": {}
  }
 ]
}